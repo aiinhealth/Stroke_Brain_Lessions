{
 "cells": [
  {
   "cell_type": "code",
   "execution_count": 2,
   "metadata": {
    "colab": {
     "base_uri": "https://localhost:8080/"
    },
    "executionInfo": {
     "elapsed": 36322,
     "status": "ok",
     "timestamp": 1684617559554,
     "user": {
      "displayName": "Roberto Alejandro Mena Ramirez",
      "userId": "17762559014980159599"
     },
     "user_tz": 300
    },
    "id": "Bdm-G9y_1Wrw",
    "outputId": "a7326027-fe6c-4c44-9943-ebf562e3424d"
   },
   "outputs": [],
   "source": [
    "! pip install SimpleITK\n",
    "! pip install antspyx\n",
    "! pip install tensorflow keras"
   ]
  },
  {
   "cell_type": "markdown",
   "metadata": {
    "id": "9nUkyINb3zCR"
   },
   "source": [
    "## Preprocessing steps functions"
   ]
  },
  {
   "cell_type": "code",
   "execution_count": null,
   "metadata": {
    "colab": {
     "base_uri": "https://localhost:8080/"
    },
    "executionInfo": {
     "elapsed": 4712,
     "status": "ok",
     "timestamp": 1684617606998,
     "user": {
      "displayName": "Roberto Alejandro Mena Ramirez",
      "userId": "17762559014980159599"
     },
     "user_tz": 300
    },
    "id": "0rHZzByP5XeA",
    "outputId": "01058e50-e5ce-4036-d881-e56a418cbe43"
   },
   "outputs": [],
   "source": [
    "%matplotlib inline\n",
    "import os\n",
    "import ants\n",
    "import SimpleITK as sitk\n",
    "import tensorflow as tf\n",
    "from clci_net import CLCI_Net\n",
    "from keras.optimizers import Adam\n",
    "import keras.backend as K\n",
    "\n",
    "print(f'AntsPy version = {ants.__version__}')\n",
    "print(f'SimpleITK version = {sitk.__version__}')"
   ]
  },
  {
   "cell_type": "code",
   "execution_count": 2,
   "metadata": {},
   "outputs": [],
   "source": [
    "\n",
    "def dice_coef(y_true, y_pred):\n",
    "    \"\"\"\n",
    "    This function calculates the Dice coefficient, which is a metric commonly used in image segmentation tasks\n",
    "    to evaluate the similarity between the predicted segmentation and the ground truth.\n",
    "\n",
    "    Args:\n",
    "        y_true (tf.Tensor): The ground truth segmentation mask.\n",
    "        y_pred (tf.Tensor): The predicted segmentation mask.\n",
    "\n",
    "    Returns:\n",
    "        tf.Tensor: The Dice coefficient.\n",
    "\n",
    "    \"\"\"\n",
    "    y_true_f = K.flatten(y_true)\n",
    "    y_pred_f = K.flatten(y_pred)\n",
    "    intersection = K.sum(y_true_f * y_pred_f)\n",
    "    return (2. * intersection + 1) / (K.sum(y_true_f * y_true_f) + K.sum(y_pred_f * y_pred_f) + 1)\n",
    "\n",
    "def dice_coef_loss(y_true, y_pred):\n",
    "    \"\"\"\n",
    "    Dice Coefficient Loss Function.\n",
    "\n",
    "    Args:\n",
    "        y_true (tf.Tensor): The ground truth segmentation mask.\n",
    "        y_pred (tf.Tensor): The predicted segmentation mask.\n",
    "\n",
    "    Returns:\n",
    "        tf.Tensor: The Dice coefficient loss.\n",
    "\n",
    "    \"\"\"\n",
    "    return 1. - dice_coef(y_true, y_pred)\n"
   ]
  },
  {
   "cell_type": "markdown",
   "metadata": {},
   "source": [
    "## Paths (change accordingly)"
   ]
  },
  {
   "cell_type": "code",
   "execution_count": 3,
   "metadata": {},
   "outputs": [],
   "source": [
    "base_path = '/your/root/path'\n",
    "datasets_path = f'{base_path}/datasets/paper lesions extended'\n",
    "models_path = f'{base_path}/modelos/paper lesions extended'\n",
    "mni_T1_path = TEMPLATE_PATH = f'{base_path}/datasets/templates/mni_icbm152_t1_tal_nlin_sym_09a.nii'"
   ]
  },
  {
   "cell_type": "code",
   "execution_count": 6,
   "metadata": {
    "id": "id8_NUqU4iHV"
   },
   "outputs": [],
   "source": [
    "def load_template_ants() -> ants.ANTsImage:\n",
    "    \"\"\"\n",
    "    Loads the template image using the ANTs library.\n",
    "\n",
    "    Returns:\n",
    "        ants.ANTsImage: The loaded template image as an ANTsImage object.\n",
    "    \"\"\"\n",
    "    template_img_ants = ants.image_read(TEMPLATE_PATH)\n",
    "    return template_img_ants\n",
    "\n",
    "def load_img_ants(path: str) -> ants.ANTsImage:\n",
    "    \"\"\"\n",
    "    Loads an image from the specified file path using the ANTs library.\n",
    "\n",
    "    Args:\n",
    "        path (str): The file path of the image to be loaded.\n",
    "\n",
    "    Returns:\n",
    "        ants.ANTsImage: The loaded image as an ANTsImage object.\n",
    "    \"\"\"\n",
    "    raw_img_ants = ants.image_read(path)\n",
    "    return raw_img_ants\n",
    "\n",
    "def register_to_mni(img: ants.ANTsImage, mask: ants.ANTsImage) -> ants.ANTsImage:\n",
    "    \"\"\"\n",
    "    Registers an MRI image and its associated mask to the MNI space using ANTs library.\n",
    "\n",
    "    Args:\n",
    "        img (ants.ANTsImage): The MRI image to be registered.\n",
    "        mask (ants.ANTsImage): The mask associated with the MRI image.\n",
    "\n",
    "    Returns:\n",
    "        ants.ANTsImage: The registered MRI image in MNI space.\n",
    "        ants.ANTsImage: The registered mask in MNI space.\n",
    "    \"\"\"\n",
    "    template_img = load_template_ants()\n",
    "    transformation = ants.registration(fixed=template_img, moving=img, type_of_transform='SyN')\n",
    "\n",
    "    img_registered = transformation['warpedmovout']\n",
    "  \n",
    "    mask_registered = ants.apply_transforms(fixed=template_img,moving=mask,transformlist=transformation['fwdtransforms'])\n",
    "    return img_registered, mask_registered"
   ]
  },
  {
   "cell_type": "markdown",
   "metadata": {
    "id": "jrrVAd_tdnYB"
   },
   "source": [
    "## Load train set"
   ]
  },
  {
   "cell_type": "code",
   "execution_count": 7,
   "metadata": {
    "id": "SkMS-YnjdpD2"
   },
   "outputs": [],
   "source": [
    "from numpy import load\n",
    "X_input_path = f'{datasets_path}/dataset_clinet_input_processed_ALL_DOUBLED_X.npy'\n",
    "Y_input_path = f'{datasets_path}/dataset_clinet_input_processed_ALL_DOUBLED_Y.npy'\n",
    "\n",
    "X = load(X_input_path)\n",
    "Y = load(Y_input_path)"
   ]
  },
  {
   "cell_type": "code",
   "execution_count": 8,
   "metadata": {
    "colab": {
     "base_uri": "https://localhost:8080/"
    },
    "executionInfo": {
     "elapsed": 602,
     "status": "ok",
     "timestamp": 1685914674622,
     "user": {
      "displayName": "Alejandro M",
      "userId": "11111187776730726759"
     },
     "user_tz": 300
    },
    "id": "iMQcUwCQd6mi",
    "outputId": "43235ca7-9450-4936-8e8e-328ee1ac7107"
   },
   "outputs": [
    {
     "name": "stdout",
     "output_type": "stream",
     "text": [
      "(75920, 224, 176, 1) (75920, 224, 176, 1)\n"
     ]
    }
   ],
   "source": [
    "print(X.shape, Y.shape)"
   ]
  },
  {
   "cell_type": "code",
   "execution_count": 9,
   "metadata": {
    "colab": {
     "base_uri": "https://localhost:8080/"
    },
    "executionInfo": {
     "elapsed": 404,
     "status": "ok",
     "timestamp": 1685860178404,
     "user": {
      "displayName": "Alejandro M",
      "userId": "11111187776730726759"
     },
     "user_tz": 300
    },
    "id": "e-MJemBBFWj4",
    "outputId": "1ce09f64-4b12-4a95-cdfd-d47596bebfcc"
   },
   "outputs": [
    {
     "data": {
      "text/plain": [
       "584"
      ]
     },
     "execution_count": 9,
     "metadata": {},
     "output_type": "execute_result"
    }
   ],
   "source": [
    "292*2"
   ]
  },
  {
   "cell_type": "code",
   "execution_count": 10,
   "metadata": {
    "colab": {
     "base_uri": "https://localhost:8080/"
    },
    "executionInfo": {
     "elapsed": 425,
     "status": "ok",
     "timestamp": 1685860181791,
     "user": {
      "displayName": "Alejandro M",
      "userId": "11111187776730726759"
     },
     "user_tz": 300
    },
    "id": "zU-FBPeYFPAC",
    "outputId": "08324e1a-55ef-4554-9927-774fd9e13ded"
   },
   "outputs": [
    {
     "data": {
      "text/plain": [
       "(408.79999999999995, 116.80000000000001, 58.400000000000006)"
      ]
     },
     "execution_count": 10,
     "metadata": {},
     "output_type": "execute_result"
    }
   ],
   "source": [
    "584 * 0.7, 584*0.2, 584*0.1"
   ]
  },
  {
   "cell_type": "code",
   "execution_count": 11,
   "metadata": {
    "colab": {
     "base_uri": "https://localhost:8080/"
    },
    "executionInfo": {
     "elapsed": 12,
     "status": "ok",
     "timestamp": 1686063796492,
     "user": {
      "displayName": "Alejandro M",
      "userId": "11111187776730726759"
     },
     "user_tz": 300
    },
    "id": "MnKBVGkFF5nQ",
    "outputId": "19c30bb2-23d6-415a-f523-077c8287ca69"
   },
   "outputs": [
    {
     "data": {
      "text/plain": [
       "(53040, 15210, 7540)"
      ]
     },
     "execution_count": 11,
     "metadata": {},
     "output_type": "execute_result"
    }
   ],
   "source": [
    "train_samples = 408 * 130 # imgs * 130 slices of each image\n",
    "val_samples = 117 * 130 #  imgs * 130 slices of each image\n",
    "test_samples = 58 * 130 # imgs * 130 slices of each image\n",
    "\n",
    "train_samples, val_samples, test_samples"
   ]
  },
  {
   "cell_type": "code",
   "execution_count": 12,
   "metadata": {
    "colab": {
     "base_uri": "https://localhost:8080/"
    },
    "executionInfo": {
     "elapsed": 474,
     "status": "ok",
     "timestamp": 1686063800575,
     "user": {
      "displayName": "Alejandro M",
      "userId": "11111187776730726759"
     },
     "user_tz": 300
    },
    "id": "lxzd1TLUGCxO",
    "outputId": "29a5d5bf-b18d-482e-878c-64639933e7a1"
   },
   "outputs": [
    {
     "data": {
      "text/plain": [
       "((0, 53040), (53040, 68250), (68250, 75790))"
      ]
     },
     "execution_count": 12,
     "metadata": {},
     "output_type": "execute_result"
    }
   ],
   "source": [
    "#indexes start and end train\n",
    "IDX_TRAIN_START = 0\n",
    "IDX_TRAIN_END = train_samples\n",
    "\n",
    "#indexes start and end val\n",
    "IDX_VAL_START = IDX_TRAIN_END\n",
    "IDX_VAL_END = IDX_TRAIN_END + val_samples\n",
    "\n",
    "#indexes start and end test\n",
    "IDX_TEST_START = IDX_VAL_END\n",
    "IDX_TEST_END = IDX_VAL_END + test_samples\n",
    "\n",
    "\n",
    "(IDX_TRAIN_START,IDX_TRAIN_END),(IDX_VAL_START,IDX_VAL_END),(IDX_TEST_START, IDX_TEST_END)"
   ]
  },
  {
   "cell_type": "code",
   "execution_count": 13,
   "metadata": {
    "id": "JsuK7D9eIUPM"
   },
   "outputs": [],
   "source": [
    "import random\n",
    "# shufle samples !\n",
    "SEED = 1337\n",
    "random.Random(SEED).shuffle(X)\n",
    "random.Random(SEED).shuffle(Y)"
   ]
  },
  {
   "cell_type": "code",
   "execution_count": 14,
   "metadata": {
    "colab": {
     "base_uri": "https://localhost:8080/"
    },
    "executionInfo": {
     "elapsed": 7,
     "status": "ok",
     "timestamp": 1686063817008,
     "user": {
      "displayName": "Alejandro M",
      "userId": "11111187776730726759"
     },
     "user_tz": 300
    },
    "id": "Pm9VVNI4Gtmv",
    "outputId": "af65b198-c087-447d-84ca-816352bf8f84"
   },
   "outputs": [
    {
     "name": "stdout",
     "output_type": "stream",
     "text": [
      "xtrain shape (53040, 224, 176, 1)\n",
      "ytrain shape (53040, 224, 176, 1)\n",
      "xval shape (15210, 224, 176, 1)\n",
      "yval shape (15210, 224, 176, 1)\n",
      "xtest shape (7540, 224, 176, 1)\n",
      "ytest shape (7540, 224, 176, 1)\n"
     ]
    },
    {
     "data": {
      "text/plain": [
       "160"
      ]
     },
     "execution_count": 14,
     "metadata": {},
     "output_type": "execute_result"
    }
   ],
   "source": [
    "print(\"xtrain shape\", X[IDX_TRAIN_START:IDX_TRAIN_END].shape)\n",
    "print(\"ytrain shape\", Y[IDX_TRAIN_START:IDX_TRAIN_END].shape)\n",
    "\n",
    "print(\"xval shape\", X[IDX_VAL_START:IDX_VAL_END].shape)\n",
    "print(\"yval shape\", Y[IDX_VAL_START:IDX_VAL_END].shape)\n",
    "\n",
    "print(\"xtest shape\", X[IDX_TEST_START:IDX_TEST_END].shape)\n",
    "print(\"ytest shape\", Y[IDX_TEST_START:IDX_TEST_END].shape)\n",
    "\n",
    "X[IDX_TRAIN_START:IDX_TRAIN_END].__sizeof__()\n",
    "Y[IDX_TRAIN_START:IDX_TRAIN_END].__sizeof__()"
   ]
  },
  {
   "cell_type": "code",
   "execution_count": 15,
   "metadata": {
    "id": "WKfbkQmJJfp5"
   },
   "outputs": [],
   "source": [
    "# from numpy import load, save\n",
    "# X_test_path = f'{datasets_path}/dataset_clinet_input_processed_ALL_DOUBLED_SHUFFLED_TEST_X.npy'\n",
    "# Y_test_path = f'{datasets_path}/dataset_clinet_input_processed_ALL_DOUBLED_SHUFFLED_TEST_Y.npy'\n",
    "\n",
    "# save(X_test_path,X[IDX_TEST_START:IDX_TEST_END])\n",
    "# save(Y_test_path,Y[IDX_TEST_START:IDX_TEST_END])"
   ]
  },
  {
   "cell_type": "markdown",
   "metadata": {
    "id": "uxHOyn9MfWnk"
   },
   "source": [
    "## Training 60 epochs [1]clci_net"
   ]
  },
  {
   "cell_type": "code",
   "execution_count": null,
   "metadata": {
    "colab": {
     "base_uri": "https://localhost:8080/"
    },
    "executionInfo": {
     "elapsed": 6193,
     "status": "ok",
     "timestamp": 1685914714139,
     "user": {
      "displayName": "Alejandro M",
      "userId": "11111187776730726759"
     },
     "user_tz": 300
    },
    "id": "2Z3BHZMLfYDM",
    "outputId": "7587858f-bce0-4671-b3f7-159741de284b"
   },
   "outputs": [],
   "source": [
    "from keras.metrics import  Recall, Precision\n",
    "# Create a MirroredStrategy.\n",
    "# strategy = tf.distribute.MirroredStrategy()\n",
    "print('Number of devices: {}'.format(strategy.num_replicas_in_sync))\n",
    "# https://stats.stackexchange.com/questions/323154/precision-vs-recall-acceptable-limits\n",
    "# https://www.kdnuggets.com/2016/12/4-reasons-machine-learning-model-wrong.html#:~:text=Precision%20is%20a%20measure%20of,positive%20class%20are%20actually%20true.&text=Hence%2C%20a%20situation%20of%20Low,positive%20values%20are%20never%20predicted.\n",
    "# Pre and Post processing # https://github.com/nikhilroxtomar/UNet-Segmentation-in-Keras-TensorFlow/blob/master/unet-segmentation.ipynb\n",
    "epochs = 250\n",
    "batch_size = 16\n",
    "\n",
    "# with strategy.scope():\n",
    "#     model = CLCI_Net()\n",
    "#     #model.summary()\n",
    "#     model.compile(optimizer=Adam(learning_rate=2e-4), loss=dice_coef_loss, metrics=[dice_coef,'acc'])"
   ]
  },
  {
   "cell_type": "code",
   "execution_count": null,
   "metadata": {
    "id": "07RINufyfPjc"
   },
   "outputs": [],
   "source": [
    "from keras.callbacks import ModelCheckpoint, ReduceLROnPlateau\n",
    "# Define the file path for saving the model checkpoint\n",
    "checkpoint_filepath = f'{models_path}/clcinet-native-ALL-DOUBLED-v7.h5'\n",
    "\n",
    "# Create a ModelCheckpoint callback to save the best model weights during training\n",
    "model_checkpoint_callback = ModelCheckpoint(\n",
    "    filepath=checkpoint_filepath,\n",
    "    save_weights_only=True,\n",
    "    monitor='val_dice_coef', # Metric to monitor for saving the best model ('val_dice_coef')\n",
    "    mode='max', # 'max' mode means higher values of the monitored metric are better\n",
    "    save_best_only=True) # Save only the best model based on the monitored metric\n",
    "\n",
    "# Create a ReduceLROnPlateau callback to adjust the learning rate during training\n",
    "reduce_lr = ReduceLROnPlateau(monitor='val_dice_coef', factor=0.2, patience=2, min_lr=2e-6)\n",
    "# Create a list of callbacks to be used during training\n",
    "callbacks = [\n",
    "    model_checkpoint_callback,\n",
    "    reduce_lr\n",
    "]"
   ]
  },
  {
   "cell_type": "code",
   "execution_count": null,
   "metadata": {
    "colab": {
     "base_uri": "https://localhost:8080/"
    },
    "executionInfo": {
     "elapsed": 44881242,
     "status": "ok",
     "timestamp": 1685906268494,
     "user": {
      "displayName": "Alejandro M",
      "userId": "11111187776730726759"
     },
     "user_tz": 300
    },
    "id": "MyoJ7LoYf32M",
    "outputId": "e556d39e-92b7-4b74-9eee-e3a3d403de0d"
   },
   "outputs": [],
   "source": [
    "# history = model.fit(\n",
    "#       X[IDX_TRAIN_START:IDX_TRAIN_END], Y[IDX_TRAIN_START:IDX_TRAIN_END],\n",
    "#       batch_size=batch_size,\n",
    "#       epochs=epochs,\n",
    "#       verbose=1,\n",
    "#       callbacks=callbacks,\n",
    "#       validation_data=( X[IDX_VAL_START:IDX_VAL_END], Y[IDX_VAL_START:IDX_VAL_END]))"
   ]
  },
  {
   "cell_type": "code",
   "execution_count": null,
   "metadata": {
    "id": "OJ09edeXHPdG"
   },
   "outputs": [],
   "source": [
    "# import numpy as np\n",
    "# path = f'{models_path}/history1_training_doubled.npy'\n",
    "\n",
    "# history = np.load(path, allow_pickle=True)\n",
    "# # np.save(path,history.history\n",
    "# history = dict(enumerate(history.flatten(), 1))[1]"
   ]
  },
  {
   "cell_type": "code",
   "execution_count": null,
   "metadata": {
    "colab": {
     "base_uri": "https://localhost:8080/",
     "height": 927
    },
    "executionInfo": {
     "elapsed": 721,
     "status": "ok",
     "timestamp": 1685907430019,
     "user": {
      "displayName": "Alejandro M",
      "userId": "11111187776730726759"
     },
     "user_tz": 300
    },
    "id": "NX-IP-Hy6VXM",
    "outputId": "df358833-0b9f-4006-ef9c-f40e93b7be26"
   },
   "outputs": [],
   "source": [
    "# import matplotlib.pyplot as plt\n",
    "\n",
    "# plt.plot(history['acc'])\n",
    "# plt.plot(history['val_acc'])\n",
    "# plt.title('model accuracy')\n",
    "# plt.ylabel('accuracy')\n",
    "# plt.xlabel('epoch')\n",
    "# plt.legend(['train', 'test'], loc='upper left')\n",
    "# plt.show()\n",
    "# # summarize history for loss\n",
    "# plt.plot(history['loss'])\n",
    "# plt.plot(history['val_loss'])\n",
    "# plt.title('model loss')\n",
    "# plt.ylabel('loss')\n",
    "# plt.xlabel('epoch')\n",
    "# plt.legend(['train', 'test'], loc='upper left')\n",
    "# plt.show()"
   ]
  },
  {
   "cell_type": "markdown",
   "metadata": {
    "id": "KCAq89Sy7NlX"
   },
   "source": [
    "## Evaluate after 60 epochs"
   ]
  },
  {
   "cell_type": "code",
   "execution_count": 5,
   "metadata": {
    "id": "EICuJ8wiKhQq"
   },
   "outputs": [],
   "source": [
    "## running this after have trained and saved the model...\n",
    "from helpers import *"
   ]
  },
  {
   "cell_type": "code",
   "execution_count": 4,
   "metadata": {
    "id": "OHH_4QU3J8ku"
   },
   "outputs": [],
   "source": [
    "from numpy import load, save\n",
    "X_test_path = f'{datasets_path}/dataset_clinet_input_processed_ALL_DOUBLED_SHUFFLED_TEST_X.npy'\n",
    "Y_test_path = f'{datasets_path}/dataset_clinet_input_processed_ALL_DOUBLED_SHUFFLED_TEST_Y.npy'\n",
    "\n",
    "X_test = load(X_test_path)\n",
    "Y_test = load(Y_test_path)"
   ]
  },
  {
   "cell_type": "code",
   "execution_count": 12,
   "metadata": {},
   "outputs": [],
   "source": [
    "np_img = np.squeeze(X_test[:130])"
   ]
  },
  {
   "cell_type": "code",
   "execution_count": null,
   "metadata": {},
   "outputs": [],
   "source": [
    "xtemplate = sitk.ReadImage(TEMPLATE_PATH, sitk.sitkFloat32)\n",
    "x3d = sitk.GetArrayFromImage(xtemplate)\n",
    "x3d = x3d[30:160,4:228,14:190] # crop to size -> (130, 224, 176)\n",
    "x3d = x3d / 255.0\n",
    "x3d = sitk.GetImageFromArray(x3d)\n",
    "# ximg = ximg.CopyInformation(xtemplate)\n",
    "print(x3d)"
   ]
  },
  {
   "cell_type": "code",
   "execution_count": 143,
   "metadata": {
    "id": "JYjKOX-AKSC0"
   },
   "outputs": [],
   "source": [
    "# make sure to have run the code that defines the model class\n",
    "\n",
    "model = CLCI_Net()\n",
    "#model.summary()\n",
    "model.compile(\n",
    "    optimizer=Adam(learning_rate=1e-4), loss=dice_coef_loss,\n",
    "    metrics=[\n",
    "        dice_coef,\n",
    "        'acc',\n",
    "        tf.keras.metrics.Recall(),\n",
    "        tf.keras.metrics.Precision(),\n",
    "        tf.keras.metrics.MeanIoU(num_classes=2),\n",
    "        tf.keras.metrics.BinaryIoU(target_class_ids=[0]),\n",
    "        tf.keras.metrics.BinaryIoU(target_class_ids=[1]),\n",
    "        tf.keras.metrics.FalsePositives(),\n",
    "        tf.keras.metrics.FalseNegatives(),\n",
    "        tf.keras.metrics.TruePositives(),\n",
    "        tf.keras.metrics.FalsePositives(),\n",
    "    ]\n",
    ")"
   ]
  },
  {
   "cell_type": "code",
   "execution_count": 144,
   "metadata": {
    "id": "44o53VHILS8R"
   },
   "outputs": [],
   "source": [
    "# model_path = f\"{models_path}/clcinet-native-ALL-DOUBLED-v6.h5\"\n",
    "model_path = f\"{models_path}/clcinet-native-ALL-DOUBLED-v1-fifth-training-045-0.892773-0.800735.h5\"\n",
    "model.load_weights(model_path)"
   ]
  },
  {
   "cell_type": "code",
   "execution_count": 145,
   "metadata": {},
   "outputs": [
    {
     "data": {
      "text/plain": [
       "((7540, 224, 176, 1), (7540, 224, 176, 1))"
      ]
     },
     "execution_count": 145,
     "metadata": {},
     "output_type": "execute_result"
    }
   ],
   "source": [
    "X_test.shape, Y_test.shape"
   ]
  },
  {
   "cell_type": "code",
   "execution_count": 146,
   "metadata": {},
   "outputs": [],
   "source": [
    "X_train = X[IDX_TRAIN_START:IDX_TRAIN_END]\n",
    "Y_train =  Y[IDX_TRAIN_START:IDX_TRAIN_END]\n",
    "X_val = X[IDX_VAL_START:IDX_VAL_END]\n",
    "Y_val =  Y[IDX_VAL_START:IDX_VAL_END]"
   ]
  },
  {
   "cell_type": "code",
   "execution_count": 147,
   "metadata": {
    "colab": {
     "base_uri": "https://localhost:8080/"
    },
    "executionInfo": {
     "elapsed": 39858,
     "status": "ok",
     "timestamp": 1686027174348,
     "user": {
      "displayName": "Alejandro M",
      "userId": "11111187776730726759"
     },
     "user_tz": 300
    },
    "id": "Cj-KGXRv7YyK",
    "outputId": "cd7e5277-7d85-4619-9e44-7c1d7d5642cb"
   },
   "outputs": [
    {
     "name": "stdout",
     "output_type": "stream",
     "text": [
      "7540/7540 [==============================] - 122s 16ms/step - loss: 0.1366 - dice_coef: 0.8634 - acc: 0.9967 - recall_1: 0.6637 - precision_1: 0.9211 - mean_io_u_1: 0.5315 - binary_io_u_2: 0.9982 - binary_io_u_3: 0.6604 - false_positives_2: 107731.0000 - false_negatives_1: 637013.0000 - true_positives_1: 1257167.0000 - false_positives_3: 107731.0000\n"
     ]
    }
   ],
   "source": [
    "score = model.evaluate(\n",
    "  X_test, Y_test,\n",
    "  batch_size=1,\n",
    "  verbose=1\n",
    ")"
   ]
  },
  {
   "cell_type": "code",
   "execution_count": 148,
   "metadata": {},
   "outputs": [
    {
     "name": "stdout",
     "output_type": "stream",
     "text": [
      "236/236 [==============================] - 25s 99ms/step\n"
     ]
    }
   ],
   "source": [
    "Y_pred = model.predict(X_test)"
   ]
  },
  {
   "cell_type": "code",
   "execution_count": 149,
   "metadata": {},
   "outputs": [
    {
     "data": {
      "text/plain": [
       "(7540, 224, 176, 1)"
      ]
     },
     "execution_count": 149,
     "metadata": {},
     "output_type": "execute_result"
    }
   ],
   "source": [
    "Y_pred.shape"
   ]
  },
  {
   "cell_type": "code",
   "execution_count": 150,
   "metadata": {},
   "outputs": [],
   "source": [
    "import numpy as np"
   ]
  },
  {
   "cell_type": "code",
   "execution_count": 151,
   "metadata": {},
   "outputs": [
    {
     "data": {
      "text/plain": [
       "(7540, 224, 176, 1)"
      ]
     },
     "execution_count": 151,
     "metadata": {},
     "output_type": "execute_result"
    }
   ],
   "source": [
    "ground_truth_masks = np.where(Y_test > 0, 1, 0)\n",
    "ground_truth_masks.shape"
   ]
  },
  {
   "cell_type": "code",
   "execution_count": 152,
   "metadata": {},
   "outputs": [],
   "source": [
    "# len(np.unique(Y_val))"
   ]
  },
  {
   "cell_type": "code",
   "execution_count": 153,
   "metadata": {},
   "outputs": [
    {
     "data": {
      "text/plain": [
       "(7540, 224, 176, 1)"
      ]
     },
     "execution_count": 153,
     "metadata": {},
     "output_type": "execute_result"
    }
   ],
   "source": [
    "Y_pred.shape"
   ]
  },
  {
   "cell_type": "code",
   "execution_count": 154,
   "metadata": {},
   "outputs": [
    {
     "data": {
      "text/plain": [
       "(7540, 224, 176, 1)"
      ]
     },
     "execution_count": 154,
     "metadata": {},
     "output_type": "execute_result"
    }
   ],
   "source": [
    "predictions =  np.where(Y_pred > 0.5, 1, 0)\n",
    "predictions.shape"
   ]
  },
  {
   "cell_type": "code",
   "execution_count": 155,
   "metadata": {},
   "outputs": [],
   "source": [
    "# np.unique(predictions)"
   ]
  },
  {
   "cell_type": "code",
   "execution_count": 156,
   "metadata": {},
   "outputs": [],
   "source": [
    "from helpers import *\n",
    "i = 2"
   ]
  },
  {
   "cell_type": "code",
   "execution_count": 157,
   "metadata": {},
   "outputs": [],
   "source": [
    "# explore_3D_array(X_test[130*i:130*(i+1)])"
   ]
  },
  {
   "cell_type": "code",
   "execution_count": 158,
   "metadata": {},
   "outputs": [
    {
     "data": {
      "image/png": "[encoded data removed]",
      "text/plain": [
       "<Figure size 504x504 with 1 Axes>"
      ]
     },
     "metadata": {},
     "output_type": "display_data"
    },
    {
     "data": {
      "text/plain": [
       "True"
      ]
     },
     "execution_count": 158,
     "metadata": {},
     "output_type": "execute_result"
    }
   ],
   "source": [
    "explore_3D_array(ground_truth_masks[130*i:130*(i+1)])\n",
    "np.any(Y_test[130*i:130*(i+1)])"
   ]
  },
  {
   "cell_type": "code",
   "execution_count": 159,
   "metadata": {},
   "outputs": [
    {
     "data": {
      "image/png": "[encoded data removed]",
      "text/plain": [
       "<Figure size 504x504 with 1 Axes>"
      ]
     },
     "metadata": {},
     "output_type": "display_data"
    },
    {
     "data": {
      "text/plain": [
       "True"
      ]
     },
     "execution_count": 159,
     "metadata": {},
     "output_type": "execute_result"
    }
   ],
   "source": [
    "explore_3D_array(predictions[130*i:130*(i+1)])\n",
    "np.any(Y_pred[130*i:130*(i+1)])"
   ]
  },
  {
   "cell_type": "code",
   "execution_count": 160,
   "metadata": {},
   "outputs": [],
   "source": [
    "# np.unique(predictions[130*i:130*(i+1)])"
   ]
  },
  {
   "cell_type": "code",
   "execution_count": 161,
   "metadata": {},
   "outputs": [
    {
     "name": "stdout",
     "output_type": "stream",
     "text": [
      "Pixel Accuracy: 0.9974946120689655\n"
     ]
    }
   ],
   "source": [
    "predictions_flat = predictions.flatten()\n",
    "ground_truth_flat = ground_truth_masks.flatten()\n",
    "\n",
    "# Calculate pixel accuracy\n",
    "pixel_accuracy = np.sum(predictions_flat == ground_truth_flat) / len(predictions_flat)\n",
    "print(\"Pixel Accuracy:\", pixel_accuracy)"
   ]
  },
  {
   "cell_type": "code",
   "execution_count": 167,
   "metadata": {},
   "outputs": [
    {
     "data": {
      "text/plain": [
       "(array([0, 1]), array([295362780,   1894180]))"
      ]
     },
     "execution_count": 167,
     "metadata": {},
     "output_type": "execute_result"
    }
   ],
   "source": [
    "np.unique(ground_truth_flat, return_counts=True)"
   ]
  },
  {
   "cell_type": "code",
   "execution_count": 168,
   "metadata": {},
   "outputs": [
    {
     "data": {
      "text/plain": [
       "(array([0, 1]), array([295892044,   1364916]))"
      ]
     },
     "execution_count": 168,
     "metadata": {},
     "output_type": "execute_result"
    }
   ],
   "source": [
    "np.unique(predictions_flat, return_counts=True)"
   ]
  },
  {
   "cell_type": "code",
   "execution_count": 170,
   "metadata": {},
   "outputs": [
    {
     "name": "stdout",
     "output_type": "stream",
     "text": [
      "Confusion Matrix:\n",
      " [[295255040    107740]\n",
      " [   637004   1257176]]\n"
     ]
    }
   ],
   "source": [
    "from sklearn.metrics import confusion_matrix\n",
    "confusion_mat = confusion_matrix(ground_truth_flat, predictions_flat)\n",
    "print(\"Confusion Matrix:\\n\", confusion_mat)"
   ]
  },
  {
   "cell_type": "code",
   "execution_count": 181,
   "metadata": {},
   "outputs": [
    {
     "data": {
      "image/png": "[encoded data removed]",
      "text/plain": [
       "<Figure size 432x432 with 2 Axes>"
      ]
     },
     "metadata": {},
     "output_type": "display_data"
    }
   ],
   "source": [
    "import seaborn as sns\n",
    "import numpy as np\n",
    "import matplotlib.pyplot as plt\n",
    "\n",
    "plt.figure(figsize = (6,6))\n",
    "# confusion_mat = confusion_mat.astype('float')*100 / confusion_mat.sum(axis=1)[:, np.newaxis]\n",
    "sns.heatmap(confusion_mat, cmap=\"Reds\", annot=True, fmt = '.0f', linewidth=2., vmin=0)\n",
    "plt.xlabel(\"predictions\")\n",
    "plt.ylabel(\"real values\")\n",
    "plt.savefig(f'{datasets_path}/results/clci_net/confmat_pixel_acc_.jpg')\n",
    "plt.show()"
   ]
  },
  {
   "cell_type": "code",
   "execution_count": 172,
   "metadata": {},
   "outputs": [
    {
     "data": {
      "image/png": "[encoded data removed]",
      "text/plain": [
       "<Figure size 432x432 with 2 Axes>"
      ]
     },
     "metadata": {},
     "output_type": "display_data"
    }
   ],
   "source": [
    "plt.figure(figsize = (6,6))\n",
    "confusion_mat_norm = confusion_mat.astype('float')*100 / confusion_mat.sum(axis=1)[:, np.newaxis]\n",
    "sns.heatmap(confusion_mat_norm, cmap=\"Reds\", annot=True, fmt = '.2f', linewidth=2., vmin=0, vmax=100.0)\n",
    "plt.xlabel(\"predictions\")\n",
    "plt.ylabel(\"real values\")\n",
    "plt.savefig(f'{datasets_path}/results/clci_net/confmat_pixel_acc_normalized.jpg')\n",
    "plt.show()"
   ]
  },
  {
   "cell_type": "code",
   "execution_count": null,
   "metadata": {},
   "outputs": [],
   "source": [
    "\n",
    "\n",
    "# # FP = len(np.where(Y_pred - Y_val  == 1)[0])\n",
    "# # FN = len(np.where(Y_pred - Y_val  == -1)[0])\n",
    "# # TP = len(np.where(Y_pred + Y_val == 2)[0])\n",
    "# # TN = len(np.where(Y_pred + Y_val == 0)[0])\n",
    "# FP = 107738\n",
    "# FN = 637011\n",
    "# TP = 1257169\n",
    "# TN = 107738\n",
    "# cmat = [[TP, FN], [FP, TN]]\n",
    "\n",
    "# # print(cmat)\n",
    "\n",
    "# plt.figure(figsize = (6,6))\n",
    "# sns.heatmap(cmat/np.sum(cmat), cmap=\"Reds\", annot=True, fmt = '.2%', square=1,   linewidth=2.)\n",
    "# plt.xlabel(\"predictions\")\n",
    "# plt.ylabel(\"real values\")\n",
    "# plt.show()"
   ]
  },
  {
   "cell_type": "code",
   "execution_count": null,
   "metadata": {},
   "outputs": [],
   "source": [
    "for i,m in enumerate(\n",
    "    [\"loss     \",\n",
    "     \"dice_coef\",\n",
    "     \"acc      \",\n",
    "     \"recall   \",\n",
    "     \"precision\",\n",
    "     \"meaniou  \",\n",
    "     \"b-iou-0  \",\n",
    "     \"b-iou-1  \",\n",
    "    \"false_negatives\",\n",
    "    \"false_positives\",\n",
    "     \"true_positives\",\n",
    "     \"true_negatives\"\n",
    "    ]):\n",
    "    print(m, \"= \",score[i])"
   ]
  },
  {
   "cell_type": "code",
   "execution_count": null,
   "metadata": {
    "colab": {
     "base_uri": "https://localhost:8080/"
    },
    "executionInfo": {
     "elapsed": 279,
     "status": "ok",
     "timestamp": 1686027188390,
     "user": {
      "displayName": "Alejandro M",
      "userId": "11111187776730726759"
     },
     "user_tz": 300
    },
    "id": "2IMY_VD671PI",
    "outputId": "52c5b376-7989-414e-8a8a-44de15702232"
   },
   "outputs": [],
   "source": [
    "for i,m in enumerate(\n",
    "    [\"loss     \",\n",
    "     \"dice_coef\",\n",
    "     \"acc      \",\n",
    "     \"recall   \",\n",
    "     \"precision\",\n",
    "     \"meaniou  \",\n",
    "     \"b-iou-0  \",\n",
    "     \"b-iou-1  \"]):\n",
    "    print(m, \"= \",score[i])"
   ]
  },
  {
   "cell_type": "markdown",
   "metadata": {
    "id": "Wu1Rzw1CUb7X"
   },
   "source": [
    "## Train + 60 more epochs [2]"
   ]
  },
  {
   "cell_type": "code",
   "execution_count": null,
   "metadata": {
    "colab": {
     "base_uri": "https://localhost:8080/"
    },
    "executionInfo": {
     "elapsed": 6372,
     "status": "ok",
     "timestamp": 1685917539433,
     "user": {
      "displayName": "Alejandro M",
      "userId": "11111187776730726759"
     },
     "user_tz": 300
    },
    "id": "DV26f7L8Wetq",
    "outputId": "32da1e25-f786-4e8f-9232-4957c460fed6"
   },
   "outputs": [],
   "source": [
    "with strategy.scope():\n",
    "    model = CLCI_Net()\n",
    "    #model.summary()\n",
    "    model.compile(optimizer=Adam(learning_rate=2e-6), loss=dice_coef_loss, metrics=[dice_coef,'acc'])"
   ]
  },
  {
   "cell_type": "code",
   "execution_count": null,
   "metadata": {},
   "outputs": [],
   "source": [
    "model_path = f\"{models_path}/clcinet-native-ALL-DOUBLED-v5.h5\"\n",
    "model.load_weights(model_path)"
   ]
  },
  {
   "cell_type": "code",
   "execution_count": null,
   "metadata": {},
   "outputs": [],
   "source": [
    "epochs = 55"
   ]
  },
  {
   "cell_type": "code",
   "execution_count": null,
   "metadata": {
    "colab": {
     "base_uri": "https://localhost:8080/"
    },
    "id": "WCrCCcHnUfUi",
    "outputId": "2d98ed5a-e587-444f-cbe2-8a97ed8f9cff"
   },
   "outputs": [],
   "source": [
    "# 245 + 50 + 250\n",
    "history2 = model.fit(\n",
    "      X[IDX_TRAIN_START:IDX_TRAIN_END], Y[IDX_TRAIN_START:IDX_TRAIN_END],\n",
    "      batch_size=batch_size,\n",
    "      epochs=epochs,\n",
    "      verbose=1,\n",
    "      callbacks=callbacks,\n",
    "      validation_data=( X[IDX_VAL_START:IDX_VAL_END], Y[IDX_VAL_START:IDX_VAL_END])\n",
    ")"
   ]
  },
  {
   "cell_type": "code",
   "execution_count": null,
   "metadata": {
    "colab": {
     "base_uri": "https://localhost:8080/",
     "height": 217
    },
    "executionInfo": {
     "elapsed": 104,
     "status": "error",
     "timestamp": 1685946320876,
     "user": {
      "displayName": "Alejandro M",
      "userId": "11111187776730726759"
     },
     "user_tz": 300
    },
    "id": "yKRpas8laHSn",
    "outputId": "a1768842-1f3b-4010-b530-31e6aa89cd1a"
   },
   "outputs": [],
   "source": [
    "import numpy as np\n",
    "path = f'{models_path}/history4_training_doubled.npy'\n",
    "\n",
    "np.save(path,history2.history)"
   ]
  },
  {
   "cell_type": "code",
   "execution_count": null,
   "metadata": {},
   "outputs": [],
   "source": []
  }
 ],
 "metadata": {
  "accelerator": "GPU",
  "colab": {
   "collapsed_sections": [
    "ppzbluM7fFF7"
   ],
   "gpuType": "A100",
   "machine_shape": "hm",
   "provenance": []
  },
  "kernelspec": {
   "display_name": "Python 3 (ipykernel)",
   "language": "python",
   "name": "python3"
  },
  "language_info": {
   "codemirror_mode": {
    "name": "ipython",
    "version": 3
   },
   "file_extension": ".py",
   "mimetype": "text/x-python",
   "name": "python",
   "nbconvert_exporter": "python",
   "pygments_lexer": "ipython3",
   "version": "3.10.6"
  }
 },
 "nbformat": 4,
 "nbformat_minor": 4
}
