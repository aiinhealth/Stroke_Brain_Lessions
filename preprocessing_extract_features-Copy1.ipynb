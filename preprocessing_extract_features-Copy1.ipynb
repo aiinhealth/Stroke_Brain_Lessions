{
 "cells": [
  {
   "cell_type": "markdown",
   "metadata": {
    "id": "3GRNVcQGsNxQ"
   },
   "source": [
    "## Apply functions to masked images"
   ]
  },
  {
   "cell_type": "markdown",
   "metadata": {
    "id": "i74w1rx6uWUA"
   },
   "source": [
    "### Functions to get features of images"
   ]
  },
  {
   "cell_type": "code",
   "execution_count": 21,
   "metadata": {},
   "outputs": [
    {
     "name": "stderr",
     "output_type": "stream",
     "text": [
      "2023-06-27 13:25:08.373947: I tensorflow/core/platform/cpu_feature_guard.cc:193] This TensorFlow binary is optimized with oneAPI Deep Neural Network Library (oneDNN) to use the following CPU instructions in performance-critical operations:  AVX2 FMA\n",
      "To enable them in other operations, rebuild TensorFlow with the appropriate compiler flags.\n",
      "2023-06-27 13:25:08.521404: E tensorflow/stream_executor/cuda/cuda_blas.cc:2981] Unable to register cuBLAS factory: Attempting to register factory for plugin cuBLAS when one has already been registered\n",
      "2023-06-27 13:25:17.023535: W tensorflow/stream_executor/platform/default/dso_loader.cc:64] Could not load dynamic library 'libnvinfer.so.7'; dlerror: libnvinfer.so.7: cannot open shared object file: No such file or directory; LD_LIBRARY_PATH: /home/carlos.jimenez/.local/lib/python3.8/site-packages/cv2/../../lib64:/usr/local/cuda/extras/CUPTI/lib64:/usr/local/cuda/compat/lib:/usr/local/nvidia/lib:/usr/local/nvidia/lib64:/.singularity.d/libs\n",
      "2023-06-27 13:25:17.023756: W tensorflow/stream_executor/platform/default/dso_loader.cc:64] Could not load dynamic library 'libnvinfer_plugin.so.7'; dlerror: libnvinfer_plugin.so.7: cannot open shared object file: No such file or directory; LD_LIBRARY_PATH: /home/carlos.jimenez/.local/lib/python3.8/site-packages/cv2/../../lib64:/usr/local/cuda/extras/CUPTI/lib64:/usr/local/cuda/compat/lib:/usr/local/nvidia/lib:/usr/local/nvidia/lib64:/.singularity.d/libs\n",
      "2023-06-27 13:25:17.023763: W tensorflow/compiler/tf2tensorrt/utils/py_utils.cc:38] TF-TRT Warning: Cannot dlopen some TensorRT libraries. If you would like to use Nvidia GPU with TensorRT, please make sure the missing libraries mentioned above are installed properly.\n"
     ]
    }
   ],
   "source": [
    "import numpy as np\n",
    "from helpers import *"
   ]
  },
  {
   "cell_type": "code",
   "execution_count": 34,
   "metadata": {
    "id": "T9GKX9-0rww2"
   },
   "outputs": [],
   "source": [
    "import SimpleITK as sitk\n",
    "import scipy\n",
    "def volume(img: sitk.Image):\n",
    "    array = sitk.GetArrayFromImage(img)\n",
    "    array = np.where(array > 0, 1, 0)\n",
    "    pixel_volume = img.GetSpacing()[0] * img.GetSpacing()[1] * img.GetSpacing()[2]\n",
    "    return (array > 0).sum() * pixel_volume\n",
    "\n",
    "def mean(img: sitk.Image):\n",
    "  f = sitk.StatisticsImageFilter()\n",
    "  f.Execute(img)\n",
    "  return f.GetMean()\n",
    "\n",
    "def max(img: sitk.Image):\n",
    "  f = sitk.StatisticsImageFilter()\n",
    "  f.Execute(img)\n",
    "  return f.GetMaximum()\n",
    "\n",
    "def median(img: sitk.Image):\n",
    "  f = sitk.StatisticsImageFilter()\n",
    "  f.Execute(img)\n",
    "  return f.GetMean()\n",
    "\n",
    "def min(img: sitk.Image):\n",
    "  f = sitk.StatisticsImageFilter()\n",
    "  f.Execute(img)\n",
    "  return f.GetMinimum()\n",
    "\n",
    "def sum(img: sitk.Image):\n",
    "  f = sitk.StatisticsImageFilter()\n",
    "  f.Execute(img)\n",
    "  return f.GetSum()\n",
    "\n",
    "def variance(img: sitk.Image):\n",
    "  f = sitk.StatisticsImageFilter()\n",
    "  f.Execute(img)\n",
    "  return f.GetVariance()\n",
    "\n",
    "def RegionalMaxima_(img: sitk.Image):\n",
    "  transformed = sitk.RegionalMaxima(img)\n",
    "\n",
    "  f = sitk.StatisticsImageFilter()\n",
    "  f.Execute(transformed)\n",
    "  return f.GetSum()\n",
    "\n",
    "def ZeroCrossing_(img: sitk.Image):\n",
    "  transformed = sitk.ZeroCrossing(img)\n",
    "  \n",
    "  f = sitk.StatisticsImageFilter()\n",
    "  f.Execute(transformed)\n",
    "  return f.GetSum()\n",
    "\n",
    "def Derivative_(img: sitk.Image):\n",
    "  transformed = sitk.Derivative(img)\n",
    "  array = sitk.GetArrayFromImage(transformed)\n",
    "\n",
    "  f = sitk.StatisticsImageFilter()\n",
    "  f.Execute(transformed)\n",
    "  return f.GetSum()\n",
    "\n",
    "\n",
    "def GradientMagnitudeRecursiveGaussian_(img: sitk.Image):\n",
    "  transformed = sitk.GradientMagnitudeRecursiveGaussian(img)\n",
    "  array = sitk.GetArrayFromImage(transformed)\n",
    "\n",
    "  f = sitk.StatisticsImageFilter()\n",
    "  f.Execute(transformed)\n",
    "  return f.GetSum()\n",
    "\n",
    "def MorphologicalWatershed_(img: sitk.Image):\n",
    "  transformed = sitk.MorphologicalWatershed(img)\n",
    "  array = sitk.GetArrayFromImage(transformed)\n",
    "\n",
    "  f = sitk.StatisticsImageFilter()\n",
    "  f.Execute(transformed)\n",
    "  return f.GetSum()\n",
    "\n",
    "\n",
    "def ObjectnessMeasure_(img: sitk.Image):\n",
    "  transformed = sitk.ObjectnessMeasure(img)\n",
    "  array = sitk.GetArrayFromImage(transformed)\n",
    "\n",
    "  f = sitk.StatisticsImageFilter()\n",
    "  f.Execute(transformed)\n",
    "  return f.GetSum()\n",
    "\n",
    "\n",
    "def Toboggan_(img: sitk.Image):\n",
    "  transformed = sitk.Toboggan(img)\n",
    "  array = sitk.GetArrayFromImage(transformed)\n",
    "\n",
    "  f = sitk.StatisticsImageFilter()\n",
    "  f.Execute(transformed)\n",
    "  return f.GetSum()\n",
    "\n",
    "def ZeroCrossingBasedEdgeDetection_(img: sitk.Image):\n",
    "  transformed = sitk.ZeroCrossingBasedEdgeDetection(img)\n",
    "  array = sitk.GetArrayFromImage(transformed)\n",
    "\n",
    "  f = sitk.StatisticsImageFilter()\n",
    "  f.Execute(transformed)\n",
    "  return f.GetSum()\n",
    "\n",
    "def Z_(img: sitk.Image):\n",
    "  array = sitk.GetArrayFromImage(img)\n",
    "  coords = scipy.ndimage.measurements.center_of_mass(array)\n",
    "  return coords[0]\n",
    "\n",
    "def X_(img: sitk.Image):\n",
    "  array = sitk.GetArrayFromImage(img)\n",
    "  coords = scipy.ndimage.measurements.center_of_mass(array)\n",
    "  return coords[1]\n",
    "\n",
    "def Y_(img: sitk.Image):\n",
    "  array = sitk.GetArrayFromImage(img)\n",
    "  coords = scipy.ndimage.measurements.center_of_mass(array)\n",
    "  return coords[2]\n",
    "\n",
    "fn = [volume,\n",
    "      max,\n",
    "      median,  #HC\n",
    "      #min,  #por mascara minimo saldra 0 \n",
    "      sum, # HC \n",
    "      variance,\n",
    "      RegionalMaxima_, #HC\n",
    "      ZeroCrossing_,  #HC\n",
    "      mean, # HC\n",
    "      #Derivative_, # constant value\n",
    "      GradientMagnitudeRecursiveGaussian_,#HC\n",
    "      MorphologicalWatershed_,\n",
    "      ObjectnessMeasure_,  #HC\n",
    "      Toboggan_,  #HC\n",
    "      ZeroCrossingBasedEdgeDetection_ , #HC,\n",
    "      Z_,\n",
    "      X_,\n",
    "      Y_\n",
    "]\n",
    "\n",
    "\n",
    "def get_feature_header():\n",
    "  return [f.__name__ for f in fn]\n",
    "\n",
    "def get_feature_vector(img : sitk.Image):\n",
    "  return [f(img) for f in fn]\n"
   ]
  },
  {
   "cell_type": "markdown",
   "metadata": {
    "id": "LCkABF9ifBvQ"
   },
   "source": [
    "## Feature extraction Lacunar and MCA examples"
   ]
  },
  {
   "cell_type": "markdown",
   "metadata": {
    "id": "HUl2-9ii0hDp"
   },
   "source": [
    "### lacunar and MCA Ids"
   ]
  },
  {
   "cell_type": "code",
   "execution_count": 35,
   "metadata": {
    "id": "hWaDNWLOv-xj",
    "jupyter": {
     "source_hidden": true
    }
   },
   "outputs": [],
   "source": [
    "LACUNAR_IDS = [\n",
    "  'c0001s0004t01',\n",
    "  'c0001s0005t01',\n",
    "  'c0002s0001t01',\n",
    "  'c0002s0002t01',\n",
    "  'c0002s0003t01',\n",
    "  'c0002s0004t01',\n",
    "  'c0002s0005t01',\n",
    "  'c0002s0008t01',\n",
    "  'c0002s0014t01',\n",
    "  'c0002s0022t01',\n",
    "  'c0002s0024t01',#\n",
    "  'c0003s0001t01',\n",
    "  'c0003s0002t01',\n",
    "  'c0003s0003t01',\n",
    "  'c0003s0004t01',\n",
    "  'c0003s0005t01',\n",
    "  'c0003s0006t01',\n",
    "  'c0003s0007t01',\n",
    "  'c0003s0008t01',\n",
    "  'c0003s0009t01',\n",
    "  'c0003s0010t01',\n",
    "  'c0003s0011t01',\n",
    "  'c0003s0012t01',\n",
    "  'c0003s0013t01',\n",
    "  'c0003s0014t01',\n",
    "  'c0003s0015t01',\n",
    "  'c0003s0016t01',\n",
    "  'c0003s0017t01',\n",
    "  'c0003s0018t01',\n",
    "  'c0003s0019t01',\n",
    "  'c0003s0020t01',\n",
    "  'c0003s0021t01',\n",
    "  'c0003s0022t01',\n",
    "  'c0003s0023t01',\n",
    "  'c0003s0024t01',\n",
    "  'c0003s0025t01',\n",
    "  'c0003s0026t01',\n",
    "  'c0003s0027t01',\n",
    "  'c0003s0028t01',\n",
    "  'c0003s0029t01',\n",
    "  'c0003s0031t01',\n",
    "  'c0003s0032t01',\n",
    "  'c0003s0033t01',\n",
    "  'c0003s0034t01',\n",
    "  'c0003s0035t01',\n",
    "  'c0003s0036t01',\n",
    "  'c0003s0037t01',\n",
    "  'c0003s0038t01',\n",
    "  'c0003s0039t01',\n",
    "  'c0003s0040t01',\n",
    "  'c0003s0041t01',\n",
    "  'c0003s0042t01',\n",
    "  'c0003s0043t01',\n",
    "  'c0003s0044t01',\n",
    "  'c0003s0045t01',\n",
    "  'c0003s0048t01',\n",
    "  'c0003s0049t01',\n",
    "  'c0003s0050t01',\n",
    "  'c0003s0051t01',\n",
    "  'c0003s0052t01',\n",
    "  'c0003s0053t01',\n",
    "  'c0003s0054t01',\n",
    "  'c0003s0055t01',\n",
    "  'c0003s0056t01',\n",
    "  'c0004s0003t01',\n",
    "  'c0004s0005t01',\n",
    "  'c0004s0007t01',\n",
    "  'c0004s0012t01',\n",
    "  'c0004s0014t01',\n",
    "  'c0004s0015t01',\n",
    "  'c0004s0016t01',\n",
    "  'c0004s0018t01',\n",
    "  'c0004s0021t01',\n",
    "  'c0004s0022t01',\n",
    "  'c0004s0024t01',\n",
    "  'c0004s0025t01',\n",
    "  'c0004s0026t01',\n",
    "  'c0004s0027t01',\n",
    "  'c0004s0029t01',\n",
    "  'c0004s0030t01',\n",
    "  'c0004s0032t01',\n",
    "  'c0004s0034t01',\n",
    "  'c0005s0006t01',\n",
    "  'c0005s0008t01',\n",
    "  'c0005s0010t01',\n",
    "  'c0005s0014t01',\n",
    "  'c0005s0018t01',\n",
    "  'c0005s0026t01',\n",
    "  'c0005s0027t01',\n",
    "  'c0005s0029t01',\n",
    "  'c0005s0035t01',\n",
    "  'c0005s0042t01',\n",
    "  'c0005s0043t01',\n",
    "  'c0005s0044t01',\n",
    "  'c0005s0049t01',\n",
    "  'c0006s0001t01',\n",
    "  'c0006s0004t01',\n",
    "  'c0006s0005t01',\n",
    "  'c0006s0010t01',\n",
    "  'c0006s0014t01',\n",
    "  'c0006s0019t01',\n",
    "  'c0006s0020t01',\n",
    "  'c0007s0004t01',\n",
    "  'c0007s0008t01',\n",
    "  'c0007s0010t01',\n",
    "  'c0007s0012t01',\n",
    "  'c0007s0013t01',\n",
    "  'c0007s0014t01',\n",
    "  'c0007s0015t01',\n",
    "  'c0007s0016t01',\n",
    "  'c0007s0017t01',\n",
    "  'c0007s0020t01',\n",
    "  'c0007s0024t01',\n",
    "  'c0007s0025t01',\n",
    "  'c0007s0026t01',\n",
    "  'c0007s0028t01',\n",
    "  'c0007s0030t01',\n",
    "  'c0007s0031t01',\n",
    "  'c0007s0035t01',\n",
    "  'c0007s0036t01',\n",
    "  'c0008s0002t01',\n",
    "  'c0008s0013t01',\n",
    "  'c0008s0032t01',\n",
    "  'c0009s0001t01',\n",
    "  'c0009s0003t01',\n",
    "  'c0009s0004t01',\n",
    "  'c0010s0002t01',\n",
    "  'c0010s0002t02',\n",
    "  'c0010s0003t01',\n",
    "  'c0010s0003t02',\n",
    "  'c0010s0006t01',\n",
    "  'c0010s0008t01',\n",
    "  'c0010s0013t01',\n",
    "  'c0010s0013t02',\n",
    "  'c0010s0014t01',\n",
    "  'c0010s0025t01',\n",
    "  'c0010s0025t02',\n",
    "  'c0010s0029t01',\n",
    "  'c0010s0031t01',\n",
    "  'c0010s0034t01',\n",
    "  'c0010s0044t01',\n",
    "  'c0010s0044t02',\n",
    "  'c0010s0046t01',\n",
    "  'c0011s0002t01',\n",
    "  'c0011s0006t01',\n",
    "  'c0011s0007t01',\n",
    "  'c0011s0011t01',\n",
    "  'c0011s0014t01',\n",
    "  'c0011s0015t01',\n",
    "]\n",
    "MCA_IDS = [\n",
    "  'c0001s0006t01',\n",
    "  'c0001s0007t01',\n",
    "  'c0001s0008t01',\n",
    "  'c0002s0007t01',\n",
    "  'c0002s0009t01',\n",
    "  'c0002s0011t01',  \n",
    "  'c0002s0012t01',\n",
    "  'c0002s0013t01',\n",
    "  'c0002s0015t01',\n",
    "  'c0002s0018t01',\n",
    "  'c0002s0019t01',\n",
    "  'c0002s0020t01',\n",
    "  'c0002s0021t01',\n",
    "  'c0002s0025t01',  \n",
    "  'c0003s0030t01',#\n",
    "  'c0004s0001t01',\n",
    "  'c0004s0002t01',\n",
    "  'c0004s0009t01',\n",
    "  'c0004s0010t01',\n",
    "  'c0004s0011t01',\n",
    "  'c0004s0013t01',\n",
    "  'c0004s0019t01',\n",
    "  'c0004s0020t01',\n",
    "  'c0004s0031t01',\n",
    "  'c0004s0033t01',\n",
    "  'c0005s0003t01',\n",
    "  'c0005s0007t01',\n",
    "  'c0005s0009t01',\n",
    "  'c0005s0013t01',\n",
    "  'c0005s0017t01',\n",
    "  'c0005s0021t01',\n",
    "  'c0005s0024t01',\n",
    "  'c0005s0030t01',\n",
    "  'c0005s0036t01',\n",
    "  'c0006s0007t01',\n",
    "  'c0006s0008t01',\n",
    "  'c0007s0001t01',\n",
    "  'c0007s0002t01',\n",
    "  'c0007s0003t01',\n",
    "  'c0007s0005t01',\n",
    "  'c0007s0006t01',\n",
    "  'c0007s0007t01',\n",
    "  'c0007s0018t01',\n",
    "  'c0007s0019t01',\n",
    "  'c0007s0021t01',\n",
    "  'c0007s0023t01',\n",
    "  'c0007s0027t01',\n",
    "  'c0007s0029t01',\n",
    "  'c0007s0032t01',\n",
    "  'c0007s0033t01',\n",
    "  'c0007s0034t01',\n",
    "  'c0008s0001t01',\n",
    "  'c0008s0003t01',\n",
    "  'c0008s0006t01',\n",
    "  'c0008s0007t01',\n",
    "  'c0008s0008t01',\n",
    "  'c0008s0009t01',\n",
    "  'c0008s0010t01',\n",
    "  'c0008s0011t01',\n",
    "  'c0008s0012t01',\n",
    "  'c0008s0014t01',\n",
    "  'c0008s0015t01',\n",
    "  'c0008s0016t01',\n",
    "  'c0008s0017t01',\n",
    "  'c0008s0018t01',\n",
    "  'c0008s0019t01',\n",
    "  'c0008s0020t01',\n",
    "  'c0008s0021t01',\n",
    "  'c0008s0022t01',\n",
    "  'c0008s0023t01',\n",
    "  'c0008s0024t01',\n",
    "  'c0008s0025t01',\n",
    "  'c0008s0026t01',\n",
    "  'c0008s0027t01',\n",
    "  'c0008s0028t01',\n",
    "  'c0008s0029t01',\n",
    "  'c0008s0030t01',\n",
    "  'c0008s0031t01',\n",
    "  'c0008s0033t01',\n",
    "  'c0009s0002t01',\n",
    "  'c0009s0005t01',\n",
    "  'c0009s0006t01',\n",
    "  'c0009s0007t01',\n",
    "  'c0009s0008t01',\n",
    "  'c0009s0009t01',\n",
    "  'c0009s0010t01',\n",
    "  'c0009s0011t01',\n",
    "  'c0009s0012t01',\n",
    "  'c0010s0001t01',\n",
    "  'c0010s0004t01',\n",
    "  'c0010s0005t01',\n",
    "  'c0010s0005t02',\n",
    "  'c0010s0007t01',\n",
    "  'c0010s0018t01',\n",
    "  'c0010s0020t01',\n",
    "  'c0010s0020t02',\n",
    "  'c0010s0021t01',\n",
    "  'c0010s0024t01',\n",
    "  'c0010s0032t01',\n",
    "  'c0010s0037t01',\n",
    "  'c0011s0001t01',\n",
    "  'c0011s0003t01',\n",
    "  'c0011s0004t01',\n",
    "  'c0011s0005t01',\n",
    "  'c0011s0008t01',\n",
    "  'c0011s0009t01',\n",
    "  'c0011s0012t01',\n",
    "  'c0011s0013t01'\n",
    "]"
   ]
  },
  {
   "cell_type": "markdown",
   "metadata": {
    "id": "I6tayyrfumSI"
   },
   "source": [
    "### Build csv"
   ]
  },
  {
   "cell_type": "code",
   "execution_count": 36,
   "metadata": {
    "id": "t_BUkVnefwzC"
   },
   "outputs": [],
   "source": [
    "def id_from_path(path:str) -> str:\n",
    "  #may need to be updated if data location change\n",
    "  return path.split('/')[-1].split('_')[0]"
   ]
  },
  {
   "cell_type": "code",
   "execution_count": 37,
   "metadata": {},
   "outputs": [],
   "source": [
    "def id_from_mask_path(path:str) -> str:\n",
    "  #may need to be updated if data location change\n",
    "  return path.split('/')[-1].split('_')[0]"
   ]
  },
  {
   "cell_type": "code",
   "execution_count": 38,
   "metadata": {},
   "outputs": [],
   "source": [
    "base_path = '/home/carlos.jimenez/ai-in-health/Stroke-Brain-Lesions'\n",
    "datasets_path = f'{base_path}/datasets/paper lesions extended'\n",
    "models_path = f'{base_path}/modelos/paper lesions extended'\n",
    "mni_T1_path = TEMPLATE_PATH = f'{base_path}/datasets/templates/mni_icbm152_t1_tal_nlin_sym_09a.nii'\n",
    "\n",
    "# strategy = tf.distribute.MirroredStrategy()"
   ]
  },
  {
   "cell_type": "code",
   "execution_count": 174,
   "metadata": {
    "colab": {
     "base_uri": "https://localhost:8080/"
    },
    "executionInfo": {
     "elapsed": 3731,
     "status": "ok",
     "timestamp": 1684872011810,
     "user": {
      "displayName": "Alejandro M",
      "userId": "11111187776730726759"
     },
     "user_tz": 300
    },
    "id": "ugIZOVU9fFaL",
    "outputId": "f2ce5904-f2c3-4565-a202-38b9d9e3cdc9"
   },
   "outputs": [
    {
     "name": "stdout",
     "output_type": "stream",
     "text": [
      "388\n",
      "299\n"
     ]
    },
    {
     "data": {
      "text/plain": [
       "['/home/carlos.jimenez/ai-in-health/Stroke-Brain-Lesions/datasets/paper lesions extended/native_processed_masked_best/c0001s0004t01.nii.gz_processed_masked.nii.gz',\n",
       " '/home/carlos.jimenez/ai-in-health/Stroke-Brain-Lesions/datasets/paper lesions extended/native_processed_masked_best/c0001s0004t01_processed_masked.nii.gz',\n",
       " '/home/carlos.jimenez/ai-in-health/Stroke-Brain-Lesions/datasets/paper lesions extended/native_processed_masked_best/c0001s0005t01.nii.gz_processed_masked.nii.gz',\n",
       " '/home/carlos.jimenez/ai-in-health/Stroke-Brain-Lesions/datasets/paper lesions extended/native_processed_masked_best/c0001s0005t01_processed_masked.nii.gz',\n",
       " '/home/carlos.jimenez/ai-in-health/Stroke-Brain-Lesions/datasets/paper lesions extended/native_processed_masked_best/c0001s0006t01.nii.gz_processed_masked.nii.gz',\n",
       " '/home/carlos.jimenez/ai-in-health/Stroke-Brain-Lesions/datasets/paper lesions extended/native_processed_masked_best/c0001s0006t01_processed_masked.nii.gz',\n",
       " '/home/carlos.jimenez/ai-in-health/Stroke-Brain-Lesions/datasets/paper lesions extended/native_processed_masked_best/c0001s0007t01.nii.gz_processed_masked.nii.gz',\n",
       " '/home/carlos.jimenez/ai-in-health/Stroke-Brain-Lesions/datasets/paper lesions extended/native_processed_masked_best/c0001s0007t01_processed_masked.nii.gz',\n",
       " '/home/carlos.jimenez/ai-in-health/Stroke-Brain-Lesions/datasets/paper lesions extended/native_processed_masked_best/c0001s0008t01.nii.gz_processed_masked.nii.gz',\n",
       " '/home/carlos.jimenez/ai-in-health/Stroke-Brain-Lesions/datasets/paper lesions extended/native_processed_masked_best/c0001s0008t01_processed_masked.nii.gz']"
      ]
     },
     "execution_count": 174,
     "metadata": {},
     "output_type": "execute_result"
    }
   ],
   "source": [
    "from glob import glob\n",
    "from pprint import pprint\n",
    "path_proccesed_masked = f\"{datasets_path}/native_processed_masked_best\"\n",
    "\n",
    "folders =  sorted(glob(f'{path_proccesed_masked}/*'))\n",
    "ground_truth_masks = sorted(glob(f\"{base_path}/datasets/native_registered/*LesionSmooth*\"))\n",
    "\n",
    "print(len(folders))\n",
    "print(len(ground_truth_masks))\n",
    "# folders\n",
    "\n",
    "# f = [id_from_path(x) for x in folders]\n",
    "# m = [id_from_mask_path(x) for x in ground_truth_masks]\n",
    "\n",
    "# set(f) - set(m)\n",
    "folders[:10]"
   ]
  },
  {
   "cell_type": "code",
   "execution_count": 104,
   "metadata": {},
   "outputs": [],
   "source": [
    "f0 = sitk.ReadImage(folders[0], sitk.sitkFloat32)\n",
    "m0 = sitk.ReadImage(ground_truth_masks[0], sitk.sitkFloat32)"
   ]
  },
  {
   "cell_type": "code",
   "execution_count": 121,
   "metadata": {},
   "outputs": [
    {
     "data": {
      "text/plain": [
       "1022"
      ]
     },
     "execution_count": 121,
     "metadata": {},
     "output_type": "execute_result"
    }
   ],
   "source": [
    "arr = sitk.GetArrayFromImage(f0)\n",
    "arr = np.where(arr > 0, 1, 0)\n",
    "# print(arr.max())\n",
    "arr.sum()"
   ]
  },
  {
   "cell_type": "code",
   "execution_count": 122,
   "metadata": {},
   "outputs": [
    {
     "data": {
      "text/plain": [
       "1706"
      ]
     },
     "execution_count": 122,
     "metadata": {},
     "output_type": "execute_result"
    }
   ],
   "source": [
    "arr = sitk.GetArrayFromImage(m0)\n",
    "arr = np.where(arr > 0, 1, 0)\n",
    "# print(arr.max())\n",
    "arr.sum()"
   ]
  },
  {
   "cell_type": "code",
   "execution_count": 106,
   "metadata": {},
   "outputs": [],
   "source": [
    "def normalize_img(preprocessed_image):\n",
    "    preprocessed_image = (preprocessed_image - preprocessed_image.min())/(preprocessed_image.max() - preprocessed_image.min())\n",
    "    return preprocessed_image"
   ]
  },
  {
   "cell_type": "code",
   "execution_count": 125,
   "metadata": {},
   "outputs": [
    {
     "data": {
      "text/plain": [
       "(189, 233, 197)"
      ]
     },
     "execution_count": 125,
     "metadata": {},
     "output_type": "execute_result"
    }
   ],
   "source": [
    "normalize_img(sitk.GetArrayFromImage(f0)).shape"
   ]
  },
  {
   "cell_type": "code",
   "execution_count": 126,
   "metadata": {},
   "outputs": [
    {
     "data": {
      "text/plain": [
       "(189, 233, 197)"
      ]
     },
     "execution_count": 126,
     "metadata": {},
     "output_type": "execute_result"
    }
   ],
   "source": [
    "normalize_img(sitk.GetArrayFromImage(m0)).shape"
   ]
  },
  {
   "cell_type": "code",
   "execution_count": 41,
   "metadata": {},
   "outputs": [
    {
     "data": {
      "image/png": "[encoded data removed]",
      "text/plain": [
       "<Figure size 504x504 with 1 Axes>"
      ]
     },
     "metadata": {},
     "output_type": "display_data"
    }
   ],
   "source": [
    "\n",
    "norm_f0 = np.where(sitk.GetArrayFromImage(f0)>0,1,0)\n",
    "explore_3D_array(norm_f0)"
   ]
  },
  {
   "cell_type": "code",
   "execution_count": 42,
   "metadata": {},
   "outputs": [
    {
     "data": {
      "image/png": "[encoded data removed]",
      "text/plain": [
       "<Figure size 504x504 with 1 Axes>"
      ]
     },
     "metadata": {},
     "output_type": "display_data"
    }
   ],
   "source": [
    "norm_m0 = np.where(sitk.GetArrayFromImage(m0)>0,1,0)\n",
    "explore_3D_array(norm_m0)"
   ]
  },
  {
   "cell_type": "code",
   "execution_count": 43,
   "metadata": {
    "id": "7BoHilH71WPq"
   },
   "outputs": [],
   "source": [
    "# def id_from_path(path:str) -> str:\n",
    "#   #may need to be updated if data location change\n",
    "#   return path.split('/')[-1][:-24]"
   ]
  },
  {
   "cell_type": "code",
   "execution_count": 44,
   "metadata": {},
   "outputs": [],
   "source": [
    "# ground_truth_masks[:10]"
   ]
  },
  {
   "cell_type": "code",
   "execution_count": 45,
   "metadata": {
    "colab": {
     "base_uri": "https://localhost:8080/"
    },
    "executionInfo": {
     "elapsed": 18,
     "status": "ok",
     "timestamp": 1684872011811,
     "user": {
      "displayName": "Alejandro M",
      "userId": "11111187776730726759"
     },
     "user_tz": 300
    },
    "id": "-29M11ks6y7H",
    "outputId": "be134d96-e496-434c-e437-896c1ea0cf56"
   },
   "outputs": [
    {
     "name": "stdout",
     "output_type": "stream",
     "text": [
      "257\n"
     ]
    },
    {
     "data": {
      "text/plain": [
       "257"
      ]
     },
     "execution_count": 45,
     "metadata": {},
     "output_type": "execute_result"
    }
   ],
   "source": [
    "#just MCA and lacunar\n",
    "whole = MCA_IDS + LACUNAR_IDS\n",
    "folders_filtered = [ f \n",
    "                    for f in folders \n",
    "                    if id_from_path(f) in whole]\n",
    "\n",
    "gt_masks_filtered = [ f \n",
    "                    for f in ground_truth_masks \n",
    "                    if id_from_mask_path(f) in whole]\n",
    "print(len(folders_filtered))\n",
    "len(gt_masks_filtered)"
   ]
  },
  {
   "cell_type": "code",
   "execution_count": 46,
   "metadata": {},
   "outputs": [],
   "source": [
    "# 'c0001s0004t01' in whole"
   ]
  },
  {
   "cell_type": "code",
   "execution_count": 47,
   "metadata": {
    "colab": {
     "base_uri": "https://localhost:8080/"
    },
    "executionInfo": {
     "elapsed": 9,
     "status": "ok",
     "timestamp": 1684874196210,
     "user": {
      "displayName": "Alejandro M",
      "userId": "11111187776730726759"
     },
     "user_tz": 300
    },
    "id": "ILRCaFnIACF0",
    "outputId": "5d390f0b-a052-4e62-9fc9-c1fdaff05b87"
   },
   "outputs": [
    {
     "name": "stdout",
     "output_type": "stream",
     "text": [
      "['_id',\n",
      " 'volume',\n",
      " 'max',\n",
      " 'median',\n",
      " 'sum',\n",
      " 'variance',\n",
      " 'RegionalMaxima_',\n",
      " 'ZeroCrossing_',\n",
      " 'mean',\n",
      " 'GradientMagnitudeRecursiveGaussian_',\n",
      " 'MorphologicalWatershed_',\n",
      " 'ObjectnessMeasure_',\n",
      " 'Toboggan_',\n",
      " 'ZeroCrossingBasedEdgeDetection_',\n",
      " 'Z_',\n",
      " 'X_',\n",
      " 'Y_',\n",
      " 'territory']\n"
     ]
    }
   ],
   "source": [
    "from pprint import pprint\n",
    "\n",
    "header = [\"_id\"]\n",
    "header += get_feature_header()\n",
    "header += [\"territory\"]\n",
    "pprint(header)"
   ]
  },
  {
   "cell_type": "code",
   "execution_count": 48,
   "metadata": {
    "id": "7tEwLaJR3ZS7"
   },
   "outputs": [
    {
     "data": {
      "text/plain": [
       "False"
      ]
     },
     "execution_count": 48,
     "metadata": {},
     "output_type": "execute_result"
    }
   ],
   "source": [
    "import warnings\n",
    "warnings.filterwarnings(\"ignore\", category=DeprecationWarning) \n",
    "'c0001s0004t01' in MCA_IDS"
   ]
  },
  {
   "cell_type": "code",
   "execution_count": 50,
   "metadata": {
    "colab": {
     "base_uri": "https://localhost:8080/"
    },
    "executionInfo": {
     "elapsed": 3149231,
     "status": "ok",
     "timestamp": 1684877581221,
     "user": {
      "displayName": "Alejandro M",
      "userId": "11111187776730726759"
     },
     "user_tz": 300
    },
    "id": "OAnCnbh21xBg",
    "outputId": "abeb798f-cd8b-450c-d5b6-9a13a2fa27b4"
   },
   "outputs": [
    {
     "name": "stdout",
     "output_type": "stream",
     "text": [
      "Done!\n"
     ]
    }
   ],
   "source": [
    "import pandas as pd\n",
    "\n",
    "features_pred = pd.DataFrame(columns=['_id', 'volume', 'territory'])\n",
    "\n",
    "for i, f in enumerate(gt_masks_filtered):\n",
    "    xpath = f\n",
    "    ximg = sitk.ReadImage(xpath, sitk.sitkFloat32)\n",
    "\n",
    "    id = id_from_path(f)\n",
    "    feature_row = [id, volume(ximg)]\n",
    "#     feature_row += volume(ximg)\n",
    "\n",
    "    if id in LACUNAR_IDS:\n",
    "        feature_row.append(0)\n",
    "    elif id in MCA_IDS:\n",
    "        feature_row.append(1)\n",
    "    else:\n",
    "        print(i, xpath)\n",
    "        raise ValueError\n",
    "    \n",
    "    features_pred.loc[i] = feature_row\n",
    "#     print(i, feature_row)\n",
    "#     explore_3D_array(sitk.GetArrayFromImage(ximg))\n",
    "#     print(ximg)\n",
    "#     if i == 0 : break\n",
    "print('Done!')\n"
   ]
  },
  {
   "cell_type": "code",
   "execution_count": 51,
   "metadata": {},
   "outputs": [],
   "source": [
    "out_path = f\"{datasets_path}/volumes_pred.csv\"\n",
    "features_pred.astype({\"territory\": int}).to_csv(out_path,sep=',',index=False)"
   ]
  },
  {
   "cell_type": "code",
   "execution_count": 54,
   "metadata": {},
   "outputs": [
    {
     "name": "stdout",
     "output_type": "stream",
     "text": [
      "Done!\n"
     ]
    }
   ],
   "source": [
    "import pandas as pd\n",
    "\n",
    "features = pd.DataFrame(columns=['_id', 'volume', 'territory'])\n",
    "\n",
    "for i, f in enumerate(gt_masks_filtered):\n",
    "    xpath = f\n",
    "    ximg = sitk.ReadImage(xpath, sitk.sitkFloat32)\n",
    "\n",
    "    id = id_from_path(f)\n",
    "    feature_row = [id, volume(ximg)]\n",
    "#     feature_row += volume(ximg)\n",
    "\n",
    "    if id in LACUNAR_IDS:\n",
    "        feature_row.append(0)\n",
    "    elif id in MCA_IDS:\n",
    "        feature_row.append(1)\n",
    "    else:\n",
    "        print(i, xpath)\n",
    "        raise ValueError\n",
    "    \n",
    "    features.loc[i] = feature_row\n",
    "#     print(i, feature_row)\n",
    "#     explore_3D_array(sitk.GetArrayFromImage(ximg))\n",
    "#     print(ximg)\n",
    "#     if i == 0 : break\n",
    "print('Done!')\n"
   ]
  },
  {
   "cell_type": "code",
   "execution_count": 55,
   "metadata": {},
   "outputs": [],
   "source": [
    "out_path = f\"{datasets_path}/volumes_ground_truth.csv\"\n",
    "features.astype({\"territory\": int}).to_csv(out_path,sep=',',index=False)"
   ]
  },
  {
   "cell_type": "code",
   "execution_count": 52,
   "metadata": {},
   "outputs": [],
   "source": [
    "# features"
   ]
  },
  {
   "cell_type": "code",
   "execution_count": 53,
   "metadata": {
    "colab": {
     "base_uri": "https://localhost:8080/"
    },
    "executionInfo": {
     "elapsed": 204,
     "status": "ok",
     "timestamp": 1684879136682,
     "user": {
      "displayName": "Alejandro M",
      "userId": "11111187776730726759"
     },
     "user_tz": 300
    },
    "id": "TuusWfKo6jHP",
    "outputId": "a5ed9afa-5ef5-4969-d5b3-a6d7e6073a42"
   },
   "outputs": [],
   "source": [
    "# features.shape"
   ]
  },
  {
   "cell_type": "code",
   "execution_count": 105,
   "metadata": {
    "colab": {
     "base_uri": "https://localhost:8080/"
    },
    "executionInfo": {
     "elapsed": 205,
     "status": "ok",
     "timestamp": 1684879140049,
     "user": {
      "displayName": "Alejandro M",
      "userId": "11111187776730726759"
     },
     "user_tz": 300
    },
    "id": "sG3_X8CU6l7a",
    "outputId": "67c8bf3a-de5f-40fd-b376-95ec92996dcf"
   },
   "outputs": [
    {
     "data": {
      "text/plain": [
       "(257, 18)"
      ]
     },
     "execution_count": 105,
     "metadata": {},
     "output_type": "execute_result"
    }
   ],
   "source": [
    "features[features.volume != 0].shape"
   ]
  },
  {
   "cell_type": "code",
   "execution_count": null,
   "metadata": {
    "id": "Z4APePqA7TEb"
   },
   "outputs": [],
   "source": [
    "#features = features[features.volume != 0]"
   ]
  },
  {
   "cell_type": "code",
   "execution_count": 106,
   "metadata": {
    "id": "uLqHk73LOI5x"
   },
   "outputs": [],
   "source": [
    "out_path = f\"{datasets_path}/all_features_ground_truth.csv\"\n",
    "features.astype({\"territory\": int}).to_csv(out_path,sep=',',index=False)"
   ]
  },
  {
   "cell_type": "code",
   "execution_count": 199,
   "metadata": {},
   "outputs": [
    {
     "data": {
      "text/plain": [
       "257"
      ]
     },
     "execution_count": 199,
     "metadata": {},
     "output_type": "execute_result"
    }
   ],
   "source": [
    "ground_truth_vols =  dict(zip(features._id, features.volume))\n",
    "len(ground_truth_vols)"
   ]
  },
  {
   "cell_type": "markdown",
   "metadata": {
    "id": "SF4v1_bmO-hn"
   },
   "source": [
    "## Correlation Analysis"
   ]
  },
  {
   "cell_type": "code",
   "execution_count": 56,
   "metadata": {
    "id": "cVAPT_5apJGu"
   },
   "outputs": [],
   "source": [
    "import pandas as pd\n",
    "features_pred = pd.read_csv(f\"{datasets_path}/volumes_pred.csv\")"
   ]
  },
  {
   "cell_type": "code",
   "execution_count": 57,
   "metadata": {},
   "outputs": [
    {
     "data": {
      "text/plain": [
       "257"
      ]
     },
     "execution_count": 57,
     "metadata": {},
     "output_type": "execute_result"
    }
   ],
   "source": [
    "preds_vols =  dict(zip(features_pred._id, features_pred.volume))\n",
    "len(preds_vols)"
   ]
  },
  {
   "cell_type": "code",
   "execution_count": 58,
   "metadata": {},
   "outputs": [
    {
     "data": {
      "text/plain": [
       "257"
      ]
     },
     "execution_count": 58,
     "metadata": {},
     "output_type": "execute_result"
    }
   ],
   "source": [
    "features = pd.read_csv(f\"{datasets_path}/volumes_ground_truth.csv\")\n",
    "ground_truth_vols =  dict(zip(features._id, features.volume))\n",
    "len(ground_truth_vols)"
   ]
  },
  {
   "cell_type": "code",
   "execution_count": 60,
   "metadata": {},
   "outputs": [
    {
     "data": {
      "text/plain": [
       "[1706.0,\n",
       " 27688.0,\n",
       " 6706.0,\n",
       " 157937.0,\n",
       " 113707.0,\n",
       " 27372.0,\n",
       " 9512.0,\n",
       " 26950.0,\n",
       " 4076.0,\n",
       " 12297.0]"
      ]
     },
     "execution_count": 60,
     "metadata": {},
     "output_type": "execute_result"
    }
   ],
   "source": [
    "list(ground_truth_vols.values())[:10]"
   ]
  },
  {
   "cell_type": "code",
   "execution_count": 213,
   "metadata": {},
   "outputs": [],
   "source": [
    "# np.array(list(preds_vols.values()))"
   ]
  },
  {
   "cell_type": "code",
   "execution_count": 59,
   "metadata": {},
   "outputs": [],
   "source": [
    "def maximum(a, b):\n",
    "    if a >= b:\n",
    "        return 0\n",
    "    else:\n",
    "        return 1"
   ]
  },
  {
   "cell_type": "code",
   "execution_count": null,
   "metadata": {},
   "outputs": [],
   "source": []
  },
  {
   "cell_type": "code",
   "execution_count": 87,
   "metadata": {},
   "outputs": [
    {
     "data": {
      "text/html": [
       "<div>\n",
       "<style scoped>\n",
       "    .dataframe tbody tr th:only-of-type {\n",
       "        vertical-align: middle;\n",
       "    }\n",
       "\n",
       "    .dataframe tbody tr th {\n",
       "        vertical-align: top;\n",
       "    }\n",
       "\n",
       "    .dataframe thead th {\n",
       "        text-align: right;\n",
       "    }\n",
       "</style>\n",
       "<table border=\"1\" class=\"dataframe\">\n",
       "  <thead>\n",
       "    <tr style=\"text-align: right;\">\n",
       "      <th></th>\n",
       "      <th>_id</th>\n",
       "      <th>volume</th>\n",
       "      <th>volume_pred</th>\n",
       "      <th>ratio</th>\n",
       "      <th>territory</th>\n",
       "    </tr>\n",
       "  </thead>\n",
       "  <tbody>\n",
       "    <tr>\n",
       "      <th>0</th>\n",
       "      <td>c0001s0004t01</td>\n",
       "      <td>1706.0</td>\n",
       "      <td>1022.0</td>\n",
       "      <td>0.250733</td>\n",
       "      <td>0</td>\n",
       "    </tr>\n",
       "    <tr>\n",
       "      <th>1</th>\n",
       "      <td>c0001s0005t01</td>\n",
       "      <td>27688.0</td>\n",
       "      <td>18906.0</td>\n",
       "      <td>0.188479</td>\n",
       "      <td>0</td>\n",
       "    </tr>\n",
       "    <tr>\n",
       "      <th>2</th>\n",
       "      <td>c0001s0006t01</td>\n",
       "      <td>6706.0</td>\n",
       "      <td>2577.0</td>\n",
       "      <td>0.444792</td>\n",
       "      <td>1</td>\n",
       "    </tr>\n",
       "    <tr>\n",
       "      <th>3</th>\n",
       "      <td>c0001s0007t01</td>\n",
       "      <td>157937.0</td>\n",
       "      <td>86976.0</td>\n",
       "      <td>0.289740</td>\n",
       "      <td>1</td>\n",
       "    </tr>\n",
       "    <tr>\n",
       "      <th>4</th>\n",
       "      <td>c0001s0008t01</td>\n",
       "      <td>113707.0</td>\n",
       "      <td>84513.0</td>\n",
       "      <td>0.147281</td>\n",
       "      <td>1</td>\n",
       "    </tr>\n",
       "    <tr>\n",
       "      <th>5</th>\n",
       "      <td>c0002s0001t01</td>\n",
       "      <td>27372.0</td>\n",
       "      <td>17923.0</td>\n",
       "      <td>0.208610</td>\n",
       "      <td>0</td>\n",
       "    </tr>\n",
       "    <tr>\n",
       "      <th>6</th>\n",
       "      <td>c0002s0002t01</td>\n",
       "      <td>9512.0</td>\n",
       "      <td>5674.0</td>\n",
       "      <td>0.252733</td>\n",
       "      <td>0</td>\n",
       "    </tr>\n",
       "    <tr>\n",
       "      <th>7</th>\n",
       "      <td>c0002s0003t01</td>\n",
       "      <td>26950.0</td>\n",
       "      <td>17002.0</td>\n",
       "      <td>0.226338</td>\n",
       "      <td>0</td>\n",
       "    </tr>\n",
       "    <tr>\n",
       "      <th>8</th>\n",
       "      <td>c0002s0004t01</td>\n",
       "      <td>4076.0</td>\n",
       "      <td>2562.0</td>\n",
       "      <td>0.228081</td>\n",
       "      <td>0</td>\n",
       "    </tr>\n",
       "    <tr>\n",
       "      <th>9</th>\n",
       "      <td>c0002s0005t01</td>\n",
       "      <td>12297.0</td>\n",
       "      <td>7225.0</td>\n",
       "      <td>0.259809</td>\n",
       "      <td>0</td>\n",
       "    </tr>\n",
       "    <tr>\n",
       "      <th>10</th>\n",
       "      <td>c0002s0007t01</td>\n",
       "      <td>115851.0</td>\n",
       "      <td>83093.0</td>\n",
       "      <td>0.164659</td>\n",
       "      <td>1</td>\n",
       "    </tr>\n",
       "    <tr>\n",
       "      <th>11</th>\n",
       "      <td>c0002s0008t01</td>\n",
       "      <td>27699.0</td>\n",
       "      <td>18703.0</td>\n",
       "      <td>0.193871</td>\n",
       "      <td>0</td>\n",
       "    </tr>\n",
       "    <tr>\n",
       "      <th>12</th>\n",
       "      <td>c0002s0009t01</td>\n",
       "      <td>37180.0</td>\n",
       "      <td>28318.0</td>\n",
       "      <td>0.135302</td>\n",
       "      <td>1</td>\n",
       "    </tr>\n",
       "    <tr>\n",
       "      <th>13</th>\n",
       "      <td>c0002s0011t01</td>\n",
       "      <td>84851.0</td>\n",
       "      <td>86764.0</td>\n",
       "      <td>-0.011147</td>\n",
       "      <td>1</td>\n",
       "    </tr>\n",
       "    <tr>\n",
       "      <th>14</th>\n",
       "      <td>c0002s0012t01</td>\n",
       "      <td>98006.0</td>\n",
       "      <td>84643.0</td>\n",
       "      <td>0.073162</td>\n",
       "      <td>1</td>\n",
       "    </tr>\n",
       "    <tr>\n",
       "      <th>15</th>\n",
       "      <td>c0002s0013t01</td>\n",
       "      <td>69724.0</td>\n",
       "      <td>41692.0</td>\n",
       "      <td>0.251598</td>\n",
       "      <td>1</td>\n",
       "    </tr>\n",
       "    <tr>\n",
       "      <th>16</th>\n",
       "      <td>c0002s0014t01</td>\n",
       "      <td>206.0</td>\n",
       "      <td>48.0</td>\n",
       "      <td>0.622047</td>\n",
       "      <td>0</td>\n",
       "    </tr>\n",
       "    <tr>\n",
       "      <th>17</th>\n",
       "      <td>c0002s0015t01</td>\n",
       "      <td>77600.0</td>\n",
       "      <td>48869.0</td>\n",
       "      <td>0.227178</td>\n",
       "      <td>1</td>\n",
       "    </tr>\n",
       "    <tr>\n",
       "      <th>18</th>\n",
       "      <td>c0002s0018t01</td>\n",
       "      <td>12460.0</td>\n",
       "      <td>8157.0</td>\n",
       "      <td>0.208711</td>\n",
       "      <td>1</td>\n",
       "    </tr>\n",
       "    <tr>\n",
       "      <th>19</th>\n",
       "      <td>c0002s0019t01</td>\n",
       "      <td>116159.0</td>\n",
       "      <td>89671.0</td>\n",
       "      <td>0.128689</td>\n",
       "      <td>1</td>\n",
       "    </tr>\n",
       "  </tbody>\n",
       "</table>\n",
       "</div>"
      ],
      "text/plain": [
       "              _id    volume  volume_pred     ratio  territory\n",
       "0   c0001s0004t01    1706.0       1022.0  0.250733          0\n",
       "1   c0001s0005t01   27688.0      18906.0  0.188479          0\n",
       "2   c0001s0006t01    6706.0       2577.0  0.444792          1\n",
       "3   c0001s0007t01  157937.0      86976.0  0.289740          1\n",
       "4   c0001s0008t01  113707.0      84513.0  0.147281          1\n",
       "5   c0002s0001t01   27372.0      17923.0  0.208610          0\n",
       "6   c0002s0002t01    9512.0       5674.0  0.252733          0\n",
       "7   c0002s0003t01   26950.0      17002.0  0.226338          0\n",
       "8   c0002s0004t01    4076.0       2562.0  0.228081          0\n",
       "9   c0002s0005t01   12297.0       7225.0  0.259809          0\n",
       "10  c0002s0007t01  115851.0      83093.0  0.164659          1\n",
       "11  c0002s0008t01   27699.0      18703.0  0.193871          0\n",
       "12  c0002s0009t01   37180.0      28318.0  0.135302          1\n",
       "13  c0002s0011t01   84851.0      86764.0 -0.011147          1\n",
       "14  c0002s0012t01   98006.0      84643.0  0.073162          1\n",
       "15  c0002s0013t01   69724.0      41692.0  0.251598          1\n",
       "16  c0002s0014t01     206.0         48.0  0.622047          0\n",
       "17  c0002s0015t01   77600.0      48869.0  0.227178          1\n",
       "18  c0002s0018t01   12460.0       8157.0  0.208711          1\n",
       "19  c0002s0019t01  116159.0      89671.0  0.128689          1"
      ]
     },
     "execution_count": 87,
     "metadata": {},
     "output_type": "execute_result"
    }
   ],
   "source": [
    "features['volume_pred'] = features_pred.volume\n",
    "features['ratio'] = ratios\n",
    "features['territory'] = features.pop('territory')\n",
    "features.head(n=20)"
   ]
  },
  {
   "cell_type": "code",
   "execution_count": 137,
   "metadata": {},
   "outputs": [
    {
     "name": "stderr",
     "output_type": "stream",
     "text": [
      "/tmp/ipykernel_2710512/4182815044.py:1: UserWarning: Boolean Series key will be reindexed to match DataFrame index.\n",
      "  TN = len(features[features.ratio <= .30][features.territory == 0])\n",
      "/tmp/ipykernel_2710512/4182815044.py:2: UserWarning: Boolean Series key will be reindexed to match DataFrame index.\n",
      "  TP = len(features[features.ratio <= .30][features.territory == 1])\n"
     ]
    },
    {
     "data": {
      "text/plain": [
       "(89, 93)"
      ]
     },
     "execution_count": 137,
     "metadata": {},
     "output_type": "execute_result"
    }
   ],
   "source": [
    "TN = len(features[features.ratio <= .30][features.territory == 0])\n",
    "TP = len(features[features.ratio <= .30][features.territory == 1])\n",
    "TN, TP"
   ]
  },
  {
   "cell_type": "code",
   "execution_count": 138,
   "metadata": {},
   "outputs": [
    {
     "data": {
      "text/plain": [
       "(60, 15)"
      ]
     },
     "execution_count": 138,
     "metadata": {},
     "output_type": "execute_result"
    }
   ],
   "source": [
    "FN = len(features[features.territory == 0]) - TN\n",
    "FP = len(features[features.territory == 1]) - TP\n",
    "FN, FP"
   ]
  },
  {
   "cell_type": "code",
   "execution_count": 162,
   "metadata": {},
   "outputs": [
    {
     "data": {
      "text/plain": [
       "array([[0.86, 0.14],\n",
       "       [0.39, 0.61]])"
      ]
     },
     "execution_count": 162,
     "metadata": {},
     "output_type": "execute_result"
    }
   ],
   "source": [
    "confmat = np.array([[TN, FP], [FN, TP]])\n",
    "confmat_norm = confmat/confmat.sum(axis=1)[:, np.newaxis]\n",
    "confmat_norm"
   ]
  },
  {
   "cell_type": "code",
   "execution_count": null,
   "metadata": {},
   "outputs": [],
   "source": []
  },
  {
   "cell_type": "code",
   "execution_count": 156,
   "metadata": {},
   "outputs": [],
   "source": [
    "classes = [\"Lacunar\", \"MCA\"]"
   ]
  },
  {
   "cell_type": "code",
   "execution_count": 172,
   "metadata": {},
   "outputs": [
    {
     "data": {
      "image/png": "[encoded data removed]",
      "text/plain": [
       "<Figure size 432x288 with 2 Axes>"
      ]
     },
     "metadata": {},
     "output_type": "display_data"
    }
   ],
   "source": [
    "sns.heatmap(confmat, annot=True, fmt='d', cmap='Blues')\n",
    "tick_marks = np.arange(len(classes))\n",
    "plt.xticks([0.5, 1.5], classes, rotation=45)\n",
    "plt.yticks([0.5, 1.5], classes)\n",
    "plt.savefig(f'{datasets_path}/results/confmat_volumes.jpg',  bbox_inches='tight')"
   ]
  },
  {
   "cell_type": "code",
   "execution_count": 134,
   "metadata": {},
   "outputs": [
    {
     "name": "stderr",
     "output_type": "stream",
     "text": [
      "/tmp/ipykernel_2710512/1662083511.py:1: UserWarning: Boolean Series key will be reindexed to match DataFrame index.\n",
      "  features[features.ratio <= .20][features.territory == 1]\n"
     ]
    },
    {
     "data": {
      "text/html": [
       "<div>\n",
       "<style scoped>\n",
       "    .dataframe tbody tr th:only-of-type {\n",
       "        vertical-align: middle;\n",
       "    }\n",
       "\n",
       "    .dataframe tbody tr th {\n",
       "        vertical-align: top;\n",
       "    }\n",
       "\n",
       "    .dataframe thead th {\n",
       "        text-align: right;\n",
       "    }\n",
       "</style>\n",
       "<table border=\"1\" class=\"dataframe\">\n",
       "  <thead>\n",
       "    <tr style=\"text-align: right;\">\n",
       "      <th></th>\n",
       "      <th>_id</th>\n",
       "      <th>volume</th>\n",
       "      <th>volume_pred</th>\n",
       "      <th>ratio</th>\n",
       "      <th>territory</th>\n",
       "    </tr>\n",
       "  </thead>\n",
       "  <tbody>\n",
       "    <tr>\n",
       "      <th>4</th>\n",
       "      <td>c0001s0008t01</td>\n",
       "      <td>113707.0</td>\n",
       "      <td>84513.0</td>\n",
       "      <td>0.147281</td>\n",
       "      <td>1</td>\n",
       "    </tr>\n",
       "    <tr>\n",
       "      <th>10</th>\n",
       "      <td>c0002s0007t01</td>\n",
       "      <td>115851.0</td>\n",
       "      <td>83093.0</td>\n",
       "      <td>0.164659</td>\n",
       "      <td>1</td>\n",
       "    </tr>\n",
       "    <tr>\n",
       "      <th>12</th>\n",
       "      <td>c0002s0009t01</td>\n",
       "      <td>37180.0</td>\n",
       "      <td>28318.0</td>\n",
       "      <td>0.135302</td>\n",
       "      <td>1</td>\n",
       "    </tr>\n",
       "    <tr>\n",
       "      <th>13</th>\n",
       "      <td>c0002s0011t01</td>\n",
       "      <td>84851.0</td>\n",
       "      <td>86764.0</td>\n",
       "      <td>-0.011147</td>\n",
       "      <td>1</td>\n",
       "    </tr>\n",
       "    <tr>\n",
       "      <th>14</th>\n",
       "      <td>c0002s0012t01</td>\n",
       "      <td>98006.0</td>\n",
       "      <td>84643.0</td>\n",
       "      <td>0.073162</td>\n",
       "      <td>1</td>\n",
       "    </tr>\n",
       "    <tr>\n",
       "      <th>...</th>\n",
       "      <td>...</td>\n",
       "      <td>...</td>\n",
       "      <td>...</td>\n",
       "      <td>...</td>\n",
       "      <td>...</td>\n",
       "    </tr>\n",
       "    <tr>\n",
       "      <th>245</th>\n",
       "      <td>c0011s0003t01</td>\n",
       "      <td>191222.0</td>\n",
       "      <td>160847.0</td>\n",
       "      <td>0.086276</td>\n",
       "      <td>1</td>\n",
       "    </tr>\n",
       "    <tr>\n",
       "      <th>246</th>\n",
       "      <td>c0011s0004t01</td>\n",
       "      <td>162817.0</td>\n",
       "      <td>123992.0</td>\n",
       "      <td>0.135369</td>\n",
       "      <td>1</td>\n",
       "    </tr>\n",
       "    <tr>\n",
       "      <th>247</th>\n",
       "      <td>c0011s0005t01</td>\n",
       "      <td>272621.0</td>\n",
       "      <td>233871.0</td>\n",
       "      <td>0.076507</td>\n",
       "      <td>1</td>\n",
       "    </tr>\n",
       "    <tr>\n",
       "      <th>250</th>\n",
       "      <td>c0011s0008t01</td>\n",
       "      <td>172070.0</td>\n",
       "      <td>142995.0</td>\n",
       "      <td>0.092283</td>\n",
       "      <td>1</td>\n",
       "    </tr>\n",
       "    <tr>\n",
       "      <th>254</th>\n",
       "      <td>c0011s0013t01</td>\n",
       "      <td>8109.0</td>\n",
       "      <td>5833.0</td>\n",
       "      <td>0.163248</td>\n",
       "      <td>1</td>\n",
       "    </tr>\n",
       "  </tbody>\n",
       "</table>\n",
       "<p>71 rows × 5 columns</p>\n",
       "</div>"
      ],
      "text/plain": [
       "               _id    volume  volume_pred     ratio  territory\n",
       "4    c0001s0008t01  113707.0      84513.0  0.147281          1\n",
       "10   c0002s0007t01  115851.0      83093.0  0.164659          1\n",
       "12   c0002s0009t01   37180.0      28318.0  0.135302          1\n",
       "13   c0002s0011t01   84851.0      86764.0 -0.011147          1\n",
       "14   c0002s0012t01   98006.0      84643.0  0.073162          1\n",
       "..             ...       ...          ...       ...        ...\n",
       "245  c0011s0003t01  191222.0     160847.0  0.086276          1\n",
       "246  c0011s0004t01  162817.0     123992.0  0.135369          1\n",
       "247  c0011s0005t01  272621.0     233871.0  0.076507          1\n",
       "250  c0011s0008t01  172070.0     142995.0  0.092283          1\n",
       "254  c0011s0013t01    8109.0       5833.0  0.163248          1\n",
       "\n",
       "[71 rows x 5 columns]"
      ]
     },
     "execution_count": 134,
     "metadata": {},
     "output_type": "execute_result"
    }
   ],
   "source": [
    "features[features.ratio <= .20][features.territory == 1]"
   ]
  },
  {
   "cell_type": "code",
   "execution_count": 127,
   "metadata": {},
   "outputs": [
    {
     "data": {
      "text/plain": [
       "70.82"
      ]
     },
     "execution_count": 127,
     "metadata": {},
     "output_type": "execute_result"
    }
   ],
   "source": [
    "round(182*100/257, 2)"
   ]
  },
  {
   "cell_type": "code",
   "execution_count": 68,
   "metadata": {},
   "outputs": [
    {
     "data": {
      "text/html": [
       "<div>\n",
       "<style scoped>\n",
       "    .dataframe tbody tr th:only-of-type {\n",
       "        vertical-align: middle;\n",
       "    }\n",
       "\n",
       "    .dataframe tbody tr th {\n",
       "        vertical-align: top;\n",
       "    }\n",
       "\n",
       "    .dataframe thead th {\n",
       "        text-align: right;\n",
       "    }\n",
       "</style>\n",
       "<table border=\"1\" class=\"dataframe\">\n",
       "  <thead>\n",
       "    <tr style=\"text-align: right;\">\n",
       "      <th></th>\n",
       "      <th>_id</th>\n",
       "      <th>volume</th>\n",
       "      <th>territory</th>\n",
       "    </tr>\n",
       "  </thead>\n",
       "  <tbody>\n",
       "    <tr>\n",
       "      <th>0</th>\n",
       "      <td>c0001s0004t01</td>\n",
       "      <td>1022.0</td>\n",
       "      <td>0</td>\n",
       "    </tr>\n",
       "    <tr>\n",
       "      <th>1</th>\n",
       "      <td>c0001s0005t01</td>\n",
       "      <td>18906.0</td>\n",
       "      <td>0</td>\n",
       "    </tr>\n",
       "    <tr>\n",
       "      <th>2</th>\n",
       "      <td>c0001s0006t01</td>\n",
       "      <td>2577.0</td>\n",
       "      <td>1</td>\n",
       "    </tr>\n",
       "    <tr>\n",
       "      <th>3</th>\n",
       "      <td>c0001s0007t01</td>\n",
       "      <td>86976.0</td>\n",
       "      <td>1</td>\n",
       "    </tr>\n",
       "    <tr>\n",
       "      <th>4</th>\n",
       "      <td>c0001s0008t01</td>\n",
       "      <td>84513.0</td>\n",
       "      <td>1</td>\n",
       "    </tr>\n",
       "    <tr>\n",
       "      <th>...</th>\n",
       "      <td>...</td>\n",
       "      <td>...</td>\n",
       "      <td>...</td>\n",
       "    </tr>\n",
       "    <tr>\n",
       "      <th>252</th>\n",
       "      <td>c0011s0011t01</td>\n",
       "      <td>11379.0</td>\n",
       "      <td>0</td>\n",
       "    </tr>\n",
       "    <tr>\n",
       "      <th>253</th>\n",
       "      <td>c0011s0012t01</td>\n",
       "      <td>20059.0</td>\n",
       "      <td>1</td>\n",
       "    </tr>\n",
       "    <tr>\n",
       "      <th>254</th>\n",
       "      <td>c0011s0013t01</td>\n",
       "      <td>5833.0</td>\n",
       "      <td>1</td>\n",
       "    </tr>\n",
       "    <tr>\n",
       "      <th>255</th>\n",
       "      <td>c0011s0014t01</td>\n",
       "      <td>22518.0</td>\n",
       "      <td>0</td>\n",
       "    </tr>\n",
       "    <tr>\n",
       "      <th>256</th>\n",
       "      <td>c0011s0015t01</td>\n",
       "      <td>6540.0</td>\n",
       "      <td>0</td>\n",
       "    </tr>\n",
       "  </tbody>\n",
       "</table>\n",
       "<p>257 rows × 3 columns</p>\n",
       "</div>"
      ],
      "text/plain": [
       "               _id   volume  territory\n",
       "0    c0001s0004t01   1022.0          0\n",
       "1    c0001s0005t01  18906.0          0\n",
       "2    c0001s0006t01   2577.0          1\n",
       "3    c0001s0007t01  86976.0          1\n",
       "4    c0001s0008t01  84513.0          1\n",
       "..             ...      ...        ...\n",
       "252  c0011s0011t01  11379.0          0\n",
       "253  c0011s0012t01  20059.0          1\n",
       "254  c0011s0013t01   5833.0          1\n",
       "255  c0011s0014t01  22518.0          0\n",
       "256  c0011s0015t01   6540.0          0\n",
       "\n",
       "[257 rows x 3 columns]"
      ]
     },
     "execution_count": 68,
     "metadata": {},
     "output_type": "execute_result"
    }
   ],
   "source": [
    "features_pred"
   ]
  },
  {
   "cell_type": "code",
   "execution_count": 73,
   "metadata": {},
   "outputs": [
    {
     "data": {
      "text/plain": [
       "0      0\n",
       "1      0\n",
       "2      1\n",
       "3      1\n",
       "4      1\n",
       "      ..\n",
       "252    0\n",
       "253    1\n",
       "254    1\n",
       "255    0\n",
       "256    0\n",
       "Name: territory, Length: 257, dtype: int64"
      ]
     },
     "execution_count": 73,
     "metadata": {},
     "output_type": "execute_result"
    }
   ],
   "source": [
    "# ratios\n",
    "# classes"
   ]
  },
  {
   "cell_type": "code",
   "execution_count": 81,
   "metadata": {},
   "outputs": [],
   "source": [
    "ratios = []\n",
    "ground_truth = []\n",
    "y_pred = []\n",
    "threshold = .1\n",
    "classes = features.territory\n",
    "for g, p in zip(ground_truth_vols.values(), preds_vols.values()):\n",
    "    idx = maximum(g, p)\n",
    "    percentage = (g-p)/(g+p)\n",
    "    ratios.append(percentage)\n",
    "    if percentage >= 0:\n",
    "        ground_truth.append(1)\n",
    "        if percentage <= threshold:\n",
    "            y_pred.append(1)\n",
    "        else:\n",
    "            y_pred.append(0)\n",
    "    elif percentage <= 0:\n",
    "        ground_truth.append(0)\n",
    "        if abs(percentage) <= threshold:\n",
    "            y_pred.append(0)\n",
    "        else:\n",
    "            y_pred.append(1)"
   ]
  },
  {
   "cell_type": "code",
   "execution_count": 82,
   "metadata": {},
   "outputs": [
    {
     "data": {
      "text/plain": [
       "array([[  2,   4],\n",
       "       [231,  20]])"
      ]
     },
     "execution_count": 82,
     "metadata": {},
     "output_type": "execute_result"
    }
   ],
   "source": [
    "confmat = confusion_matrix(ground_truth, y_pred)\n",
    "confmat"
   ]
  },
  {
   "cell_type": "code",
   "execution_count": 21,
   "metadata": {
    "colab": {
     "base_uri": "https://localhost:8080/"
    },
    "executionInfo": {
     "elapsed": 5,
     "status": "ok",
     "timestamp": 1684879976798,
     "user": {
      "displayName": "Alejandro M",
      "userId": "11111187776730726759"
     },
     "user_tz": 300
    },
    "id": "7TjA49DMpxam",
    "outputId": "12cab83d-e24d-4426-f77e-4d5198b924f7"
   },
   "outputs": [
    {
     "data": {
      "text/plain": [
       "(256, 16)"
      ]
     },
     "execution_count": 21,
     "metadata": {},
     "output_type": "execute_result"
    }
   ],
   "source": [
    "features = features[features.volume != 0]\n",
    "features = features.drop(columns=['_id','territory'])\n",
    "features.shape"
   ]
  },
  {
   "cell_type": "code",
   "execution_count": 22,
   "metadata": {
    "colab": {
     "base_uri": "https://localhost:8080/",
     "height": 615
    },
    "executionInfo": {
     "elapsed": 183,
     "status": "ok",
     "timestamp": 1684879983545,
     "user": {
      "displayName": "Alejandro M",
      "userId": "11111187776730726759"
     },
     "user_tz": 300
    },
    "id": "BSrokvyjQJE8",
    "outputId": "8ab8e396-e743-475e-f2a7-62541442dd93"
   },
   "outputs": [
    {
     "data": {
      "text/html": [
       "<div>\n",
       "<style scoped>\n",
       "    .dataframe tbody tr th:only-of-type {\n",
       "        vertical-align: middle;\n",
       "    }\n",
       "\n",
       "    .dataframe tbody tr th {\n",
       "        vertical-align: top;\n",
       "    }\n",
       "\n",
       "    .dataframe thead th {\n",
       "        text-align: right;\n",
       "    }\n",
       "</style>\n",
       "<table border=\"1\" class=\"dataframe\">\n",
       "  <thead>\n",
       "    <tr style=\"text-align: right;\">\n",
       "      <th></th>\n",
       "      <th>volume</th>\n",
       "      <th>max</th>\n",
       "      <th>median</th>\n",
       "      <th>sum</th>\n",
       "      <th>variance</th>\n",
       "      <th>RegionalMaxima_</th>\n",
       "      <th>ZeroCrossing_</th>\n",
       "      <th>mean</th>\n",
       "      <th>GradientMagnitudeRecursiveGaussian_</th>\n",
       "      <th>MorphologicalWatershed_</th>\n",
       "      <th>ObjectnessMeasure_</th>\n",
       "      <th>Toboggan_</th>\n",
       "      <th>ZeroCrossingBasedEdgeDetection_</th>\n",
       "      <th>Z_</th>\n",
       "      <th>X_</th>\n",
       "      <th>Y_</th>\n",
       "    </tr>\n",
       "  </thead>\n",
       "  <tbody>\n",
       "    <tr>\n",
       "      <th>volume</th>\n",
       "      <td>1.000000</td>\n",
       "      <td>0.472594</td>\n",
       "      <td>0.978095</td>\n",
       "      <td>0.978095</td>\n",
       "      <td>0.929193</td>\n",
       "      <td>0.973879</td>\n",
       "      <td>0.910593</td>\n",
       "      <td>0.978095</td>\n",
       "      <td>0.937267</td>\n",
       "      <td>0.825059</td>\n",
       "      <td>0.913883</td>\n",
       "      <td>0.817831</td>\n",
       "      <td>0.974656</td>\n",
       "      <td>0.134608</td>\n",
       "      <td>0.045342</td>\n",
       "      <td>0.159484</td>\n",
       "    </tr>\n",
       "    <tr>\n",
       "      <th>max</th>\n",
       "      <td>0.472594</td>\n",
       "      <td>1.000000</td>\n",
       "      <td>0.531179</td>\n",
       "      <td>0.531179</td>\n",
       "      <td>0.565779</td>\n",
       "      <td>0.495602</td>\n",
       "      <td>0.542352</td>\n",
       "      <td>0.531179</td>\n",
       "      <td>0.535619</td>\n",
       "      <td>0.245726</td>\n",
       "      <td>0.539260</td>\n",
       "      <td>0.240697</td>\n",
       "      <td>0.515309</td>\n",
       "      <td>-0.058386</td>\n",
       "      <td>0.091782</td>\n",
       "      <td>0.214279</td>\n",
       "    </tr>\n",
       "    <tr>\n",
       "      <th>median</th>\n",
       "      <td>0.978095</td>\n",
       "      <td>0.531179</td>\n",
       "      <td>1.000000</td>\n",
       "      <td>1.000000</td>\n",
       "      <td>0.984578</td>\n",
       "      <td>0.965488</td>\n",
       "      <td>0.935615</td>\n",
       "      <td>1.000000</td>\n",
       "      <td>0.966509</td>\n",
       "      <td>0.730691</td>\n",
       "      <td>0.943095</td>\n",
       "      <td>0.721335</td>\n",
       "      <td>0.972097</td>\n",
       "      <td>0.180220</td>\n",
       "      <td>0.033716</td>\n",
       "      <td>0.185253</td>\n",
       "    </tr>\n",
       "    <tr>\n",
       "      <th>sum</th>\n",
       "      <td>0.978095</td>\n",
       "      <td>0.531179</td>\n",
       "      <td>1.000000</td>\n",
       "      <td>1.000000</td>\n",
       "      <td>0.984578</td>\n",
       "      <td>0.965488</td>\n",
       "      <td>0.935615</td>\n",
       "      <td>1.000000</td>\n",
       "      <td>0.966509</td>\n",
       "      <td>0.730691</td>\n",
       "      <td>0.943095</td>\n",
       "      <td>0.721335</td>\n",
       "      <td>0.972097</td>\n",
       "      <td>0.180220</td>\n",
       "      <td>0.033716</td>\n",
       "      <td>0.185253</td>\n",
       "    </tr>\n",
       "    <tr>\n",
       "      <th>variance</th>\n",
       "      <td>0.929193</td>\n",
       "      <td>0.565779</td>\n",
       "      <td>0.984578</td>\n",
       "      <td>0.984578</td>\n",
       "      <td>1.000000</td>\n",
       "      <td>0.933329</td>\n",
       "      <td>0.934270</td>\n",
       "      <td>0.984578</td>\n",
       "      <td>0.968971</td>\n",
       "      <td>0.620471</td>\n",
       "      <td>0.948216</td>\n",
       "      <td>0.610208</td>\n",
       "      <td>0.942883</td>\n",
       "      <td>0.218568</td>\n",
       "      <td>0.018505</td>\n",
       "      <td>0.198524</td>\n",
       "    </tr>\n",
       "    <tr>\n",
       "      <th>RegionalMaxima_</th>\n",
       "      <td>0.973879</td>\n",
       "      <td>0.495602</td>\n",
       "      <td>0.965488</td>\n",
       "      <td>0.965488</td>\n",
       "      <td>0.933329</td>\n",
       "      <td>1.000000</td>\n",
       "      <td>0.964349</td>\n",
       "      <td>0.965488</td>\n",
       "      <td>0.974529</td>\n",
       "      <td>0.734657</td>\n",
       "      <td>0.969754</td>\n",
       "      <td>0.728226</td>\n",
       "      <td>0.991627</td>\n",
       "      <td>0.136625</td>\n",
       "      <td>0.040194</td>\n",
       "      <td>0.206983</td>\n",
       "    </tr>\n",
       "    <tr>\n",
       "      <th>ZeroCrossing_</th>\n",
       "      <td>0.910593</td>\n",
       "      <td>0.542352</td>\n",
       "      <td>0.935615</td>\n",
       "      <td>0.935615</td>\n",
       "      <td>0.934270</td>\n",
       "      <td>0.964349</td>\n",
       "      <td>1.000000</td>\n",
       "      <td>0.935615</td>\n",
       "      <td>0.981818</td>\n",
       "      <td>0.584998</td>\n",
       "      <td>0.990797</td>\n",
       "      <td>0.577119</td>\n",
       "      <td>0.975280</td>\n",
       "      <td>0.186073</td>\n",
       "      <td>0.005609</td>\n",
       "      <td>0.247966</td>\n",
       "    </tr>\n",
       "    <tr>\n",
       "      <th>mean</th>\n",
       "      <td>0.978095</td>\n",
       "      <td>0.531179</td>\n",
       "      <td>1.000000</td>\n",
       "      <td>1.000000</td>\n",
       "      <td>0.984578</td>\n",
       "      <td>0.965488</td>\n",
       "      <td>0.935615</td>\n",
       "      <td>1.000000</td>\n",
       "      <td>0.966509</td>\n",
       "      <td>0.730691</td>\n",
       "      <td>0.943095</td>\n",
       "      <td>0.721335</td>\n",
       "      <td>0.972097</td>\n",
       "      <td>0.180220</td>\n",
       "      <td>0.033716</td>\n",
       "      <td>0.185253</td>\n",
       "    </tr>\n",
       "    <tr>\n",
       "      <th>GradientMagnitudeRecursiveGaussian_</th>\n",
       "      <td>0.937267</td>\n",
       "      <td>0.535619</td>\n",
       "      <td>0.966509</td>\n",
       "      <td>0.966509</td>\n",
       "      <td>0.968971</td>\n",
       "      <td>0.974529</td>\n",
       "      <td>0.981818</td>\n",
       "      <td>0.966509</td>\n",
       "      <td>1.000000</td>\n",
       "      <td>0.615772</td>\n",
       "      <td>0.993527</td>\n",
       "      <td>0.607367</td>\n",
       "      <td>0.977150</td>\n",
       "      <td>0.200113</td>\n",
       "      <td>0.027326</td>\n",
       "      <td>0.226463</td>\n",
       "    </tr>\n",
       "    <tr>\n",
       "      <th>MorphologicalWatershed_</th>\n",
       "      <td>0.825059</td>\n",
       "      <td>0.245726</td>\n",
       "      <td>0.730691</td>\n",
       "      <td>0.730691</td>\n",
       "      <td>0.620471</td>\n",
       "      <td>0.734657</td>\n",
       "      <td>0.584998</td>\n",
       "      <td>0.730691</td>\n",
       "      <td>0.615772</td>\n",
       "      <td>1.000000</td>\n",
       "      <td>0.581121</td>\n",
       "      <td>0.999734</td>\n",
       "      <td>0.728565</td>\n",
       "      <td>0.035619</td>\n",
       "      <td>-0.002612</td>\n",
       "      <td>0.016684</td>\n",
       "    </tr>\n",
       "    <tr>\n",
       "      <th>ObjectnessMeasure_</th>\n",
       "      <td>0.913883</td>\n",
       "      <td>0.539260</td>\n",
       "      <td>0.943095</td>\n",
       "      <td>0.943095</td>\n",
       "      <td>0.948216</td>\n",
       "      <td>0.969754</td>\n",
       "      <td>0.990797</td>\n",
       "      <td>0.943095</td>\n",
       "      <td>0.993527</td>\n",
       "      <td>0.581121</td>\n",
       "      <td>1.000000</td>\n",
       "      <td>0.573551</td>\n",
       "      <td>0.969956</td>\n",
       "      <td>0.192927</td>\n",
       "      <td>0.012839</td>\n",
       "      <td>0.242208</td>\n",
       "    </tr>\n",
       "    <tr>\n",
       "      <th>Toboggan_</th>\n",
       "      <td>0.817831</td>\n",
       "      <td>0.240697</td>\n",
       "      <td>0.721335</td>\n",
       "      <td>0.721335</td>\n",
       "      <td>0.610208</td>\n",
       "      <td>0.728226</td>\n",
       "      <td>0.577119</td>\n",
       "      <td>0.721335</td>\n",
       "      <td>0.607367</td>\n",
       "      <td>0.999734</td>\n",
       "      <td>0.573551</td>\n",
       "      <td>1.000000</td>\n",
       "      <td>0.721276</td>\n",
       "      <td>0.032735</td>\n",
       "      <td>-0.003817</td>\n",
       "      <td>0.014331</td>\n",
       "    </tr>\n",
       "    <tr>\n",
       "      <th>ZeroCrossingBasedEdgeDetection_</th>\n",
       "      <td>0.974656</td>\n",
       "      <td>0.515309</td>\n",
       "      <td>0.972097</td>\n",
       "      <td>0.972097</td>\n",
       "      <td>0.942883</td>\n",
       "      <td>0.991627</td>\n",
       "      <td>0.975280</td>\n",
       "      <td>0.972097</td>\n",
       "      <td>0.977150</td>\n",
       "      <td>0.728565</td>\n",
       "      <td>0.969956</td>\n",
       "      <td>0.721276</td>\n",
       "      <td>1.000000</td>\n",
       "      <td>0.157234</td>\n",
       "      <td>0.026283</td>\n",
       "      <td>0.204621</td>\n",
       "    </tr>\n",
       "    <tr>\n",
       "      <th>Z_</th>\n",
       "      <td>0.134608</td>\n",
       "      <td>-0.058386</td>\n",
       "      <td>0.180220</td>\n",
       "      <td>0.180220</td>\n",
       "      <td>0.218568</td>\n",
       "      <td>0.136625</td>\n",
       "      <td>0.186073</td>\n",
       "      <td>0.180220</td>\n",
       "      <td>0.200113</td>\n",
       "      <td>0.035619</td>\n",
       "      <td>0.192927</td>\n",
       "      <td>0.032735</td>\n",
       "      <td>0.157234</td>\n",
       "      <td>1.000000</td>\n",
       "      <td>-0.356873</td>\n",
       "      <td>-0.064697</td>\n",
       "    </tr>\n",
       "    <tr>\n",
       "      <th>X_</th>\n",
       "      <td>0.045342</td>\n",
       "      <td>0.091782</td>\n",
       "      <td>0.033716</td>\n",
       "      <td>0.033716</td>\n",
       "      <td>0.018505</td>\n",
       "      <td>0.040194</td>\n",
       "      <td>0.005609</td>\n",
       "      <td>0.033716</td>\n",
       "      <td>0.027326</td>\n",
       "      <td>-0.002612</td>\n",
       "      <td>0.012839</td>\n",
       "      <td>-0.003817</td>\n",
       "      <td>0.026283</td>\n",
       "      <td>-0.356873</td>\n",
       "      <td>1.000000</td>\n",
       "      <td>0.090637</td>\n",
       "    </tr>\n",
       "    <tr>\n",
       "      <th>Y_</th>\n",
       "      <td>0.159484</td>\n",
       "      <td>0.214279</td>\n",
       "      <td>0.185253</td>\n",
       "      <td>0.185253</td>\n",
       "      <td>0.198524</td>\n",
       "      <td>0.206983</td>\n",
       "      <td>0.247966</td>\n",
       "      <td>0.185253</td>\n",
       "      <td>0.226463</td>\n",
       "      <td>0.016684</td>\n",
       "      <td>0.242208</td>\n",
       "      <td>0.014331</td>\n",
       "      <td>0.204621</td>\n",
       "      <td>-0.064697</td>\n",
       "      <td>0.090637</td>\n",
       "      <td>1.000000</td>\n",
       "    </tr>\n",
       "  </tbody>\n",
       "</table>\n",
       "</div>"
      ],
      "text/plain": [
       "                                       volume       max    median       sum  \\\n",
       "volume                               1.000000  0.472594  0.978095  0.978095   \n",
       "max                                  0.472594  1.000000  0.531179  0.531179   \n",
       "median                               0.978095  0.531179  1.000000  1.000000   \n",
       "sum                                  0.978095  0.531179  1.000000  1.000000   \n",
       "variance                             0.929193  0.565779  0.984578  0.984578   \n",
       "RegionalMaxima_                      0.973879  0.495602  0.965488  0.965488   \n",
       "ZeroCrossing_                        0.910593  0.542352  0.935615  0.935615   \n",
       "mean                                 0.978095  0.531179  1.000000  1.000000   \n",
       "GradientMagnitudeRecursiveGaussian_  0.937267  0.535619  0.966509  0.966509   \n",
       "MorphologicalWatershed_              0.825059  0.245726  0.730691  0.730691   \n",
       "ObjectnessMeasure_                   0.913883  0.539260  0.943095  0.943095   \n",
       "Toboggan_                            0.817831  0.240697  0.721335  0.721335   \n",
       "ZeroCrossingBasedEdgeDetection_      0.974656  0.515309  0.972097  0.972097   \n",
       "Z_                                   0.134608 -0.058386  0.180220  0.180220   \n",
       "X_                                   0.045342  0.091782  0.033716  0.033716   \n",
       "Y_                                   0.159484  0.214279  0.185253  0.185253   \n",
       "\n",
       "                                     variance  RegionalMaxima_  ZeroCrossing_  \\\n",
       "volume                               0.929193         0.973879       0.910593   \n",
       "max                                  0.565779         0.495602       0.542352   \n",
       "median                               0.984578         0.965488       0.935615   \n",
       "sum                                  0.984578         0.965488       0.935615   \n",
       "variance                             1.000000         0.933329       0.934270   \n",
       "RegionalMaxima_                      0.933329         1.000000       0.964349   \n",
       "ZeroCrossing_                        0.934270         0.964349       1.000000   \n",
       "mean                                 0.984578         0.965488       0.935615   \n",
       "GradientMagnitudeRecursiveGaussian_  0.968971         0.974529       0.981818   \n",
       "MorphologicalWatershed_              0.620471         0.734657       0.584998   \n",
       "ObjectnessMeasure_                   0.948216         0.969754       0.990797   \n",
       "Toboggan_                            0.610208         0.728226       0.577119   \n",
       "ZeroCrossingBasedEdgeDetection_      0.942883         0.991627       0.975280   \n",
       "Z_                                   0.218568         0.136625       0.186073   \n",
       "X_                                   0.018505         0.040194       0.005609   \n",
       "Y_                                   0.198524         0.206983       0.247966   \n",
       "\n",
       "                                         mean  \\\n",
       "volume                               0.978095   \n",
       "max                                  0.531179   \n",
       "median                               1.000000   \n",
       "sum                                  1.000000   \n",
       "variance                             0.984578   \n",
       "RegionalMaxima_                      0.965488   \n",
       "ZeroCrossing_                        0.935615   \n",
       "mean                                 1.000000   \n",
       "GradientMagnitudeRecursiveGaussian_  0.966509   \n",
       "MorphologicalWatershed_              0.730691   \n",
       "ObjectnessMeasure_                   0.943095   \n",
       "Toboggan_                            0.721335   \n",
       "ZeroCrossingBasedEdgeDetection_      0.972097   \n",
       "Z_                                   0.180220   \n",
       "X_                                   0.033716   \n",
       "Y_                                   0.185253   \n",
       "\n",
       "                                     GradientMagnitudeRecursiveGaussian_  \\\n",
       "volume                                                          0.937267   \n",
       "max                                                             0.535619   \n",
       "median                                                          0.966509   \n",
       "sum                                                             0.966509   \n",
       "variance                                                        0.968971   \n",
       "RegionalMaxima_                                                 0.974529   \n",
       "ZeroCrossing_                                                   0.981818   \n",
       "mean                                                            0.966509   \n",
       "GradientMagnitudeRecursiveGaussian_                             1.000000   \n",
       "MorphologicalWatershed_                                         0.615772   \n",
       "ObjectnessMeasure_                                              0.993527   \n",
       "Toboggan_                                                       0.607367   \n",
       "ZeroCrossingBasedEdgeDetection_                                 0.977150   \n",
       "Z_                                                              0.200113   \n",
       "X_                                                              0.027326   \n",
       "Y_                                                              0.226463   \n",
       "\n",
       "                                     MorphologicalWatershed_  \\\n",
       "volume                                              0.825059   \n",
       "max                                                 0.245726   \n",
       "median                                              0.730691   \n",
       "sum                                                 0.730691   \n",
       "variance                                            0.620471   \n",
       "RegionalMaxima_                                     0.734657   \n",
       "ZeroCrossing_                                       0.584998   \n",
       "mean                                                0.730691   \n",
       "GradientMagnitudeRecursiveGaussian_                 0.615772   \n",
       "MorphologicalWatershed_                             1.000000   \n",
       "ObjectnessMeasure_                                  0.581121   \n",
       "Toboggan_                                           0.999734   \n",
       "ZeroCrossingBasedEdgeDetection_                     0.728565   \n",
       "Z_                                                  0.035619   \n",
       "X_                                                 -0.002612   \n",
       "Y_                                                  0.016684   \n",
       "\n",
       "                                     ObjectnessMeasure_  Toboggan_  \\\n",
       "volume                                         0.913883   0.817831   \n",
       "max                                            0.539260   0.240697   \n",
       "median                                         0.943095   0.721335   \n",
       "sum                                            0.943095   0.721335   \n",
       "variance                                       0.948216   0.610208   \n",
       "RegionalMaxima_                                0.969754   0.728226   \n",
       "ZeroCrossing_                                  0.990797   0.577119   \n",
       "mean                                           0.943095   0.721335   \n",
       "GradientMagnitudeRecursiveGaussian_            0.993527   0.607367   \n",
       "MorphologicalWatershed_                        0.581121   0.999734   \n",
       "ObjectnessMeasure_                             1.000000   0.573551   \n",
       "Toboggan_                                      0.573551   1.000000   \n",
       "ZeroCrossingBasedEdgeDetection_                0.969956   0.721276   \n",
       "Z_                                             0.192927   0.032735   \n",
       "X_                                             0.012839  -0.003817   \n",
       "Y_                                             0.242208   0.014331   \n",
       "\n",
       "                                     ZeroCrossingBasedEdgeDetection_  \\\n",
       "volume                                                      0.974656   \n",
       "max                                                         0.515309   \n",
       "median                                                      0.972097   \n",
       "sum                                                         0.972097   \n",
       "variance                                                    0.942883   \n",
       "RegionalMaxima_                                             0.991627   \n",
       "ZeroCrossing_                                               0.975280   \n",
       "mean                                                        0.972097   \n",
       "GradientMagnitudeRecursiveGaussian_                         0.977150   \n",
       "MorphologicalWatershed_                                     0.728565   \n",
       "ObjectnessMeasure_                                          0.969956   \n",
       "Toboggan_                                                   0.721276   \n",
       "ZeroCrossingBasedEdgeDetection_                             1.000000   \n",
       "Z_                                                          0.157234   \n",
       "X_                                                          0.026283   \n",
       "Y_                                                          0.204621   \n",
       "\n",
       "                                           Z_        X_        Y_  \n",
       "volume                               0.134608  0.045342  0.159484  \n",
       "max                                 -0.058386  0.091782  0.214279  \n",
       "median                               0.180220  0.033716  0.185253  \n",
       "sum                                  0.180220  0.033716  0.185253  \n",
       "variance                             0.218568  0.018505  0.198524  \n",
       "RegionalMaxima_                      0.136625  0.040194  0.206983  \n",
       "ZeroCrossing_                        0.186073  0.005609  0.247966  \n",
       "mean                                 0.180220  0.033716  0.185253  \n",
       "GradientMagnitudeRecursiveGaussian_  0.200113  0.027326  0.226463  \n",
       "MorphologicalWatershed_              0.035619 -0.002612  0.016684  \n",
       "ObjectnessMeasure_                   0.192927  0.012839  0.242208  \n",
       "Toboggan_                            0.032735 -0.003817  0.014331  \n",
       "ZeroCrossingBasedEdgeDetection_      0.157234  0.026283  0.204621  \n",
       "Z_                                   1.000000 -0.356873 -0.064697  \n",
       "X_                                  -0.356873  1.000000  0.090637  \n",
       "Y_                                  -0.064697  0.090637  1.000000  "
      ]
     },
     "execution_count": 22,
     "metadata": {},
     "output_type": "execute_result"
    }
   ],
   "source": [
    "corrmat = features.corr() \n",
    "corrmat"
   ]
  },
  {
   "cell_type": "code",
   "execution_count": 23,
   "metadata": {
    "colab": {
     "base_uri": "https://localhost:8080/",
     "height": 978
    },
    "executionInfo": {
     "elapsed": 1180,
     "status": "ok",
     "timestamp": 1684880316313,
     "user": {
      "displayName": "Alejandro M",
      "userId": "11111187776730726759"
     },
     "user_tz": 300
    },
    "id": "JmXEwUpkg1zT",
    "outputId": "bc092724-a8b1-44ea-9411-29f58c483d0c"
   },
   "outputs": [
    {
     "data": {
      "text/plain": [
       "<seaborn.matrix.ClusterGrid at 0x7f19d41f72b0>"
      ]
     },
     "execution_count": 23,
     "metadata": {},
     "output_type": "execute_result"
    },
    {
     "data": {
      "image/png": "[encoded data removed]",
      "text/plain": [
       "<Figure size 720x720 with 4 Axes>"
      ]
     },
     "metadata": {
      "needs_background": "light"
     },
     "output_type": "display_data"
    }
   ],
   "source": [
    "# https://stackabuse.com/applying-filter-methods-in-python-for-feature-selection/#:~:text=To%20remove%20the%20correlated%20features,the%20columns%20of%20the%20dataframe.\n",
    "# https://h1ros.github.io/posts/drop-highly-correlated-features/\n",
    "# https://www.geeksforgeeks.org/exploring-correlation-in-python/\n",
    "\n",
    "import seaborn as sns \n",
    "import matplotlib.pyplot as plt\n",
    "\n",
    "#f, ax = plt.subplots(figsize =(9, 8)) \n",
    "#sns.heatmap(corrmat, ax = ax, cmap =\"YlGnBu\", linewidths = 0.1) \n",
    "\n",
    "cg = sns.clustermap(corrmat, cmap =\"YlGnBu\", linewidths = 0.1); \n",
    "plt.setp(cg.ax_heatmap.yaxis.get_majorticklabels(), rotation = 0) \n",
    "cg "
   ]
  },
  {
   "cell_type": "code",
   "execution_count": 24,
   "metadata": {
    "colab": {
     "base_uri": "https://localhost:8080/"
    },
    "executionInfo": {
     "elapsed": 202,
     "status": "ok",
     "timestamp": 1684880376863,
     "user": {
      "displayName": "Alejandro M",
      "userId": "11111187776730726759"
     },
     "user_tz": 300
    },
    "id": "CgEqUyxcrfQA",
    "outputId": "180ae872-1c98-44f5-f970-2b25e1d1395b"
   },
   "outputs": [
    {
     "data": {
      "text/plain": [
       "Index(['volume', 'max', 'MorphologicalWatershed_', 'Z_', 'X_', 'Y_'], dtype='object')"
      ]
     },
     "execution_count": 24,
     "metadata": {},
     "output_type": "execute_result"
    }
   ],
   "source": [
    "# Index(['volume', 'max', 'median', 'MorphologicalWatershed_', 'Z_', 'X_', 'Y_'], dtype='object')\n",
    "\n",
    "import numpy as np\n",
    "#https://h1ros.github.io/posts/drop-highly-correlated-features/\n",
    "threshold = 0.95\n",
    "\n",
    "df_corr = corrmat\n",
    "columns = np.full((df_corr.shape[0],), True, dtype=bool)\n",
    "for i in range(df_corr.shape[0]):\n",
    "    for j in range(i+1, df_corr.shape[0]):\n",
    "        if df_corr.iloc[i,j] >= threshold:\n",
    "            if columns[j]:\n",
    "                columns[j] = False\n",
    "\n",
    "selected_columns = features.columns[columns]\n",
    "selected_columns"
   ]
  },
  {
   "cell_type": "code",
   "execution_count": 25,
   "metadata": {
    "colab": {
     "base_uri": "https://localhost:8080/"
    },
    "executionInfo": {
     "elapsed": 453,
     "status": "ok",
     "timestamp": 1616883024754,
     "user": {
      "displayName": "Roberto Alejandro Mena Ramirez",
      "photoUrl": "",
      "userId": "17762559014980159599"
     },
     "user_tz": 300
    },
    "id": "zHkeM_9OqwM2",
    "outputId": "ace8a555-75f9-404a-8040-653bc6dd4521"
   },
   "outputs": [
    {
     "data": {
      "text/plain": [
       "Index(['volume', 'max', 'MorphologicalWatershed_', 'Z_', 'X_', 'Y_'], dtype='object')"
      ]
     },
     "execution_count": 25,
     "metadata": {},
     "output_type": "execute_result"
    }
   ],
   "source": [
    "#https://h1ros.github.io/posts/drop-highly-correlated-features/\n",
    "threshold = 0.96\n",
    "\n",
    "df_corr = corrmat\n",
    "columns = np.full((df_corr.shape[0],), True, dtype=bool)\n",
    "for i in range(df_corr.shape[0]):\n",
    "    for j in range(i+1, df_corr.shape[0]):\n",
    "        if df_corr.iloc[i,j] >= threshold:\n",
    "            if columns[j]:\n",
    "                columns[j] = False\n",
    "\n",
    "selected_columns = features.columns[columns]\n",
    "selected_columns"
   ]
  },
  {
   "cell_type": "code",
   "execution_count": 26,
   "metadata": {
    "colab": {
     "base_uri": "https://localhost:8080/",
     "height": 978
    },
    "executionInfo": {
     "elapsed": 1189,
     "status": "ok",
     "timestamp": 1684880439601,
     "user": {
      "displayName": "Alejandro M",
      "userId": "11111187776730726759"
     },
     "user_tz": 300
    },
    "id": "slFVygsmTsT1",
    "outputId": "8fb19d42-1d65-474b-8f42-b08fdd3e178a"
   },
   "outputs": [
    {
     "data": {
      "text/plain": [
       "<seaborn.matrix.ClusterGrid at 0x7f18c5d88070>"
      ]
     },
     "execution_count": 26,
     "metadata": {},
     "output_type": "execute_result"
    },
    {
     "data": {
      "image/png": "[encoded data removed]",
      "text/plain": [
       "<Figure size 720x720 with 4 Axes>"
      ]
     },
     "metadata": {
      "needs_background": "light"
     },
     "output_type": "display_data"
    }
   ],
   "source": [
    "corrmat2 = features[selected_columns].corr() \n",
    "\n",
    "cg2 = sns.clustermap(corrmat2, cmap =\"YlGnBu\", linewidths = 0.1); \n",
    "plt.setp(cg2.ax_heatmap.yaxis.get_majorticklabels(), rotation = 0) \n",
    "cg2 "
   ]
  },
  {
   "cell_type": "markdown",
   "metadata": {
    "id": "9ZG4Qsqgs_WK"
   },
   "source": [
    "constant check"
   ]
  },
  {
   "cell_type": "code",
   "execution_count": 27,
   "metadata": {
    "colab": {
     "base_uri": "https://localhost:8080/",
     "height": 75
    },
    "executionInfo": {
     "elapsed": 2334,
     "status": "ok",
     "timestamp": 1684880454745,
     "user": {
      "displayName": "Alejandro M",
      "userId": "11111187776730726759"
     },
     "user_tz": 300
    },
    "id": "UQmm-uJiW9v8",
    "outputId": "eb92075b-ab63-469e-f75f-f5e5f42d919f"
   },
   "outputs": [
    {
     "data": {
      "text/plain": [
       "VarianceThreshold(threshold=0.01)"
      ]
     },
     "execution_count": 27,
     "metadata": {},
     "output_type": "execute_result"
    }
   ],
   "source": [
    "from sklearn.feature_selection import VarianceThreshold\n",
    "qconstant_filter = VarianceThreshold(threshold=0.01)\n",
    "train_features = features\n",
    "qconstant_filter.fit(train_features)\n"
   ]
  },
  {
   "cell_type": "code",
   "execution_count": 28,
   "metadata": {
    "colab": {
     "base_uri": "https://localhost:8080/"
    },
    "executionInfo": {
     "elapsed": 5,
     "status": "ok",
     "timestamp": 1684880462381,
     "user": {
      "displayName": "Alejandro M",
      "userId": "11111187776730726759"
     },
     "user_tz": 300
    },
    "id": "U7WgS0LYXS44",
    "outputId": "d368acea-3787-4c2f-a314-cd762f161b31"
   },
   "outputs": [
    {
     "data": {
      "text/plain": [
       "16"
      ]
     },
     "execution_count": 28,
     "metadata": {},
     "output_type": "execute_result"
    }
   ],
   "source": [
    "len(train_features.columns[qconstant_filter.get_support()])"
   ]
  },
  {
   "cell_type": "code",
   "execution_count": 29,
   "metadata": {
    "colab": {
     "base_uri": "https://localhost:8080/"
    },
    "executionInfo": {
     "elapsed": 188,
     "status": "ok",
     "timestamp": 1684880476584,
     "user": {
      "displayName": "Alejandro M",
      "userId": "11111187776730726759"
     },
     "user_tz": 300
    },
    "id": "1_L3ZNDNXmrI",
    "outputId": "4545d35a-4e12-4693-b03d-2a31fe0a00b6"
   },
   "outputs": [
    {
     "name": "stdout",
     "output_type": "stream",
     "text": [
      "0\n"
     ]
    }
   ],
   "source": [
    "qconstant_columns = [column for column in train_features.columns\n",
    "                    if column not in train_features.columns[qconstant_filter.get_support()]]\n",
    "\n",
    "print(len(qconstant_columns))\n"
   ]
  },
  {
   "cell_type": "code",
   "execution_count": 30,
   "metadata": {
    "id": "keLCZQDIYPBB"
   },
   "outputs": [],
   "source": [
    "for column in qconstant_columns:\n",
    "    print(column)"
   ]
  },
  {
   "cell_type": "markdown",
   "metadata": {
    "id": "_3HpfmyDtTnt"
   },
   "source": [
    "## Save csvs after correlation"
   ]
  },
  {
   "cell_type": "markdown",
   "metadata": {
    "id": "_0kpL2mPug4Z"
   },
   "source": [
    "### Save dataset with all feats"
   ]
  },
  {
   "cell_type": "code",
   "execution_count": 31,
   "metadata": {
    "id": "Kce_l2EJtW1k"
   },
   "outputs": [],
   "source": [
    "import pandas as pd\n",
    "features = pd.read_csv(out_path)"
   ]
  },
  {
   "cell_type": "code",
   "execution_count": 32,
   "metadata": {
    "colab": {
     "base_uri": "https://localhost:8080/"
    },
    "executionInfo": {
     "elapsed": 219,
     "status": "ok",
     "timestamp": 1684880849691,
     "user": {
      "displayName": "Alejandro M",
      "userId": "11111187776730726759"
     },
     "user_tz": 300
    },
    "id": "mh9b6I4wtbEQ",
    "outputId": "f16e9476-8ece-41d5-dc04-8b854577f076"
   },
   "outputs": [
    {
     "data": {
      "text/plain": [
       "(256, 17)"
      ]
     },
     "execution_count": 32,
     "metadata": {},
     "output_type": "execute_result"
    }
   ],
   "source": [
    "features = features[features.volume != 0]\n",
    "features = features.drop(columns=['_id'])\n",
    "features.shape"
   ]
  },
  {
   "cell_type": "code",
   "execution_count": 33,
   "metadata": {
    "id": "BBwawi3Vtg2k"
   },
   "outputs": [],
   "source": [
    "out_path = f\"{datasets_path}/20230620_all_features_without_0_vals.csv\"\n",
    "features.astype({\"territory\": int}).to_csv(out_path,sep=',',index=False)"
   ]
  },
  {
   "cell_type": "markdown",
   "metadata": {
    "id": "9Jh7kNLQumP5"
   },
   "source": [
    "### Save dataset with only main features"
   ]
  },
  {
   "cell_type": "code",
   "execution_count": 34,
   "metadata": {
    "id": "XB6beFOWuqI2"
   },
   "outputs": [],
   "source": [
    "import pandas as pd\n",
    "features = pd.read_csv(out_path)"
   ]
  },
  {
   "cell_type": "code",
   "execution_count": 35,
   "metadata": {
    "colab": {
     "base_uri": "https://localhost:8080/"
    },
    "executionInfo": {
     "elapsed": 193,
     "status": "ok",
     "timestamp": 1684881040711,
     "user": {
      "displayName": "Alejandro M",
      "userId": "11111187776730726759"
     },
     "user_tz": 300
    },
    "id": "GRpIeJJcuyI7",
    "outputId": "703a1678-0f32-4cf8-b30d-5083baf71d4a"
   },
   "outputs": [
    {
     "data": {
      "text/plain": [
       "(256, 7)"
      ]
     },
     "execution_count": 35,
     "metadata": {},
     "output_type": "execute_result"
    }
   ],
   "source": [
    "main_cols = ['volume', 'max', 'MorphologicalWatershed_', 'Z_', 'X_', 'Y_'] + [\"territory\"]\n",
    "features = features[features.volume != 0]\n",
    "features = features[main_cols]\n",
    "features.shape"
   ]
  },
  {
   "cell_type": "code",
   "execution_count": 36,
   "metadata": {
    "colab": {
     "base_uri": "https://localhost:8080/",
     "height": 206
    },
    "executionInfo": {
     "elapsed": 7,
     "status": "ok",
     "timestamp": 1684881047548,
     "user": {
      "displayName": "Alejandro M",
      "userId": "11111187776730726759"
     },
     "user_tz": 300
    },
    "id": "9Kn3HI0AvGpy",
    "outputId": "b6dcf80c-675a-402f-877a-d0a009ec0d62"
   },
   "outputs": [
    {
     "data": {
      "text/html": [
       "<div>\n",
       "<style scoped>\n",
       "    .dataframe tbody tr th:only-of-type {\n",
       "        vertical-align: middle;\n",
       "    }\n",
       "\n",
       "    .dataframe tbody tr th {\n",
       "        vertical-align: top;\n",
       "    }\n",
       "\n",
       "    .dataframe thead th {\n",
       "        text-align: right;\n",
       "    }\n",
       "</style>\n",
       "<table border=\"1\" class=\"dataframe\">\n",
       "  <thead>\n",
       "    <tr style=\"text-align: right;\">\n",
       "      <th></th>\n",
       "      <th>volume</th>\n",
       "      <th>max</th>\n",
       "      <th>MorphologicalWatershed_</th>\n",
       "      <th>Z_</th>\n",
       "      <th>X_</th>\n",
       "      <th>Y_</th>\n",
       "      <th>territory</th>\n",
       "    </tr>\n",
       "  </thead>\n",
       "  <tbody>\n",
       "    <tr>\n",
       "      <th>0</th>\n",
       "      <td>1022.0</td>\n",
       "      <td>64.731644</td>\n",
       "      <td>8677277.0</td>\n",
       "      <td>89.418561</td>\n",
       "      <td>118.063484</td>\n",
       "      <td>74.397178</td>\n",
       "      <td>0</td>\n",
       "    </tr>\n",
       "    <tr>\n",
       "      <th>1</th>\n",
       "      <td>18906.0</td>\n",
       "      <td>65.639984</td>\n",
       "      <td>9234832.0</td>\n",
       "      <td>97.018884</td>\n",
       "      <td>141.261722</td>\n",
       "      <td>116.524413</td>\n",
       "      <td>0</td>\n",
       "    </tr>\n",
       "    <tr>\n",
       "      <th>2</th>\n",
       "      <td>2577.0</td>\n",
       "      <td>63.612011</td>\n",
       "      <td>8685092.0</td>\n",
       "      <td>118.760225</td>\n",
       "      <td>137.257446</td>\n",
       "      <td>52.043040</td>\n",
       "      <td>1</td>\n",
       "    </tr>\n",
       "    <tr>\n",
       "      <th>3</th>\n",
       "      <td>86976.0</td>\n",
       "      <td>73.266624</td>\n",
       "      <td>20182580.0</td>\n",
       "      <td>105.381807</td>\n",
       "      <td>105.046152</td>\n",
       "      <td>142.975694</td>\n",
       "      <td>1</td>\n",
       "    </tr>\n",
       "    <tr>\n",
       "      <th>4</th>\n",
       "      <td>84513.0</td>\n",
       "      <td>66.623680</td>\n",
       "      <td>31745853.0</td>\n",
       "      <td>75.508738</td>\n",
       "      <td>153.342847</td>\n",
       "      <td>135.489437</td>\n",
       "      <td>1</td>\n",
       "    </tr>\n",
       "  </tbody>\n",
       "</table>\n",
       "</div>"
      ],
      "text/plain": [
       "    volume        max  MorphologicalWatershed_          Z_          X_  \\\n",
       "0   1022.0  64.731644                8677277.0   89.418561  118.063484   \n",
       "1  18906.0  65.639984                9234832.0   97.018884  141.261722   \n",
       "2   2577.0  63.612011                8685092.0  118.760225  137.257446   \n",
       "3  86976.0  73.266624               20182580.0  105.381807  105.046152   \n",
       "4  84513.0  66.623680               31745853.0   75.508738  153.342847   \n",
       "\n",
       "           Y_  territory  \n",
       "0   74.397178          0  \n",
       "1  116.524413          0  \n",
       "2   52.043040          1  \n",
       "3  142.975694          1  \n",
       "4  135.489437          1  "
      ]
     },
     "execution_count": 36,
     "metadata": {},
     "output_type": "execute_result"
    }
   ],
   "source": [
    "features.head()"
   ]
  },
  {
   "cell_type": "code",
   "execution_count": 37,
   "metadata": {
    "id": "lmz1XT_LvNRu"
   },
   "outputs": [],
   "source": [
    "out_path = f\"{datasets_path}/20230620_main_features.csv\"\n",
    "features.astype({\"territory\": int}).to_csv(out_path,sep=',',index=False)"
   ]
  },
  {
   "cell_type": "markdown",
   "metadata": {
    "id": "CL9N9ie6PEFu"
   },
   "source": [
    "## Evaluate ML models"
   ]
  },
  {
   "cell_type": "code",
   "execution_count": 11,
   "metadata": {
    "id": "27NqzitE80PK"
   },
   "outputs": [],
   "source": [
    "from numpy import mean\n",
    "from numpy import std\n",
    "from pandas import read_csv\n",
    "from matplotlib import pyplot\n",
    "from sklearn.preprocessing import LabelEncoder\n",
    "from sklearn.preprocessing import PowerTransformer\n",
    "from sklearn.pipeline import Pipeline\n",
    "from sklearn.model_selection import cross_val_score\n",
    "from sklearn.model_selection import RepeatedStratifiedKFold\n",
    "from sklearn.linear_model import LogisticRegression\n",
    "from sklearn.svm import SVC\n",
    "from sklearn.ensemble import RandomForestClassifier\n",
    "from sklearn.neural_network import MLPClassifier"
   ]
  },
  {
   "cell_type": "code",
   "execution_count": 12,
   "metadata": {
    "id": "QjbrHDJ780Pr"
   },
   "outputs": [],
   "source": [
    "# cargar la base\n",
    "def load_dataset(full_path):\n",
    "    # cargar como numpy array\n",
    "    data = read_csv(full_path)\n",
    "    data = data.values\n",
    "    print(data)\n",
    "    # split input - output \n",
    "    X, y = data[:, :-1], data[:, -1]\n",
    "    # clases 0 y 1\n",
    "    y = LabelEncoder().fit_transform(y)\n",
    "    return X, y"
   ]
  },
  {
   "cell_type": "code",
   "execution_count": 13,
   "metadata": {
    "id": "NL6bdng280P4"
   },
   "outputs": [],
   "source": [
    "# evaluar el modelo\n",
    "def evaluate_model(X, y, model):\n",
    "    # procedimiento de evaluación\n",
    "    cv = RepeatedStratifiedKFold(n_splits=10, n_repeats=3, random_state=1)\n",
    "    # evaluar modelo\n",
    "    scores = cross_val_score(model, X, y, scoring='roc_auc', cv=cv, n_jobs=-1)\n",
    "    return scores"
   ]
  },
  {
   "cell_type": "code",
   "execution_count": 14,
   "metadata": {
    "id": "4K-V4L2r80QL"
   },
   "outputs": [],
   "source": [
    "# definir modelos a probar\n",
    "def get_models():\n",
    "    models, names = list(), list()\n",
    "    # LR\n",
    "    models.append(LogisticRegression(solver='lbfgs', class_weight='balanced'))\n",
    "    names.append('LR')\n",
    "    # SVM\n",
    "    models.append(SVC(gamma='scale', class_weight='balanced'))\n",
    "    names.append('SVM')\n",
    "    # RF\n",
    "    models.append(RandomForestClassifier(n_estimators=1000))\n",
    "    names.append('RF')\n",
    "\n",
    "    # MLP\n",
    "    models.append(MLPClassifier(hidden_layer_sizes=(128,64,32)))\n",
    "    names.append('MLP')\n",
    "    return models, names"
   ]
  },
  {
   "cell_type": "code",
   "execution_count": 15,
   "metadata": {
    "id": "D-6mjNW-80Qd"
   },
   "outputs": [],
   "source": [
    "# ubicación\n",
    "# out_path = \"/content/drive/MyDrive/integradora_fiec/datasets/paper lesions extended/\"\n",
    "# out_path+= \"20230523_all_features_without_0_vals.csv\"\n",
    "out_path = f\"{datasets_path}/20230620_main_features.csv\"\n",
    "full_path = out_path"
   ]
  },
  {
   "cell_type": "code",
   "execution_count": 16,
   "metadata": {
    "colab": {
     "base_uri": "https://localhost:8080/"
    },
    "executionInfo": {
     "elapsed": 1543,
     "status": "ok",
     "timestamp": 1685135987735,
     "user": {
      "displayName": "Alejandro M",
      "userId": "11111187776730726759"
     },
     "user_tz": 300
    },
    "id": "7BdMYjbO80Q1",
    "outputId": "9ffa9894-6791-400d-88ce-5d1e86e3d3cd"
   },
   "outputs": [
    {
     "name": "stdout",
     "output_type": "stream",
     "text": [
      "[[1.02200000e+03 6.47316437e+01 8.67727700e+06 ... 1.18063484e+02\n",
      "  7.43971780e+01 0.00000000e+00]\n",
      " [1.89060000e+04 6.56399841e+01 9.23483200e+06 ... 1.41261722e+02\n",
      "  1.16524413e+02 0.00000000e+00]\n",
      " [2.57700000e+03 6.36120110e+01 8.68509200e+06 ... 1.37257446e+02\n",
      "  5.20430399e+01 1.00000000e+00]\n",
      " ...\n",
      " [5.83300000e+03 6.41648560e+01 8.79042600e+06 ... 1.14187660e+02\n",
      "  6.49668321e+01 1.00000000e+00]\n",
      " [2.25180000e+04 7.01438446e+01 9.53650300e+06 ... 1.17882599e+02\n",
      "  1.22777053e+02 0.00000000e+00]\n",
      " [6.54000000e+03 6.93646317e+01 8.75388400e+06 ... 1.21110689e+02\n",
      "  7.24950854e+01 0.00000000e+00]]\n"
     ]
    }
   ],
   "source": [
    "# cargar la base\n",
    "X, y = load_dataset(full_path)"
   ]
  },
  {
   "cell_type": "code",
   "execution_count": 44,
   "metadata": {
    "colab": {
     "base_uri": "https://localhost:8080/"
    },
    "executionInfo": {
     "elapsed": 8,
     "status": "ok",
     "timestamp": 1684881448947,
     "user": {
      "displayName": "Alejandro M",
      "userId": "11111187776730726759"
     },
     "user_tz": 300
    },
    "id": "A7Yu8dd3vcf9",
    "outputId": "5028a31d-d060-4ffb-ea19-7ea3b4863c28"
   },
   "outputs": [
    {
     "data": {
      "text/plain": [
       "array([1.02200e+03, 1.89060e+04, 2.57700e+03, 8.69760e+04, 8.45130e+04,\n",
       "       1.79230e+04, 5.67400e+03, 1.70020e+04, 2.56200e+03, 7.22500e+03,\n",
       "       8.30930e+04, 1.87030e+04, 2.83180e+04, 8.67640e+04, 8.46430e+04,\n",
       "       4.16920e+04, 4.80000e+01, 4.88690e+04, 8.15700e+03, 8.96710e+04,\n",
       "       9.84000e+02, 9.27400e+03, 1.94000e+03, 2.66000e+03, 2.37930e+04,\n",
       "       5.54000e+02, 2.03800e+03, 2.47000e+02, 4.06800e+03, 3.63800e+03,\n",
       "       1.00000e+00, 5.05200e+03, 5.80000e+01, 9.24000e+02, 2.26400e+03,\n",
       "       7.75000e+02, 7.41000e+02, 6.01000e+02, 9.80000e+02, 1.33500e+03,\n",
       "       9.70000e+01, 2.65000e+02, 7.68000e+02, 2.68400e+03, 1.54500e+03,\n",
       "       3.60000e+01, 4.80000e+01, 1.26000e+02, 4.81500e+03, 4.30100e+03,\n",
       "       3.61000e+02, 9.14000e+02, 6.60000e+01, 1.01000e+03, 8.27000e+02,\n",
       "       5.35000e+03, 6.81000e+03, 5.16000e+02, 1.14740e+04, 1.40600e+03,\n",
       "       5.87700e+03, 7.92000e+02, 1.12900e+03, 7.20000e+02, 5.50000e+02,\n",
       "       6.56000e+02, 1.64600e+03, 1.08000e+02, 1.40000e+03, 1.92000e+03,\n",
       "       3.26000e+02, 1.23000e+02, 4.80000e+01, 8.70000e+02, 7.49000e+02,\n",
       "       3.81000e+02, 1.15000e+04, 1.38000e+02, 2.98000e+02, 1.14177e+05,\n",
       "       1.10754e+05, 7.26000e+02, 2.66790e+04, 4.89100e+03, 1.00000e+00,\n",
       "       8.28790e+04, 1.44360e+04, 9.84800e+03, 6.85600e+03, 1.26370e+04,\n",
       "       5.04500e+03, 4.00700e+03, 2.19000e+02, 7.53390e+04, 6.31420e+04,\n",
       "       1.77100e+03, 4.79900e+04, 9.13000e+02, 3.89600e+03, 2.74100e+03,\n",
       "       1.33300e+03, 8.60000e+01, 5.50700e+03, 4.45280e+04, 4.20400e+03,\n",
       "       3.02920e+04, 2.82600e+03, 9.81100e+03, 2.31200e+03, 7.72320e+04,\n",
       "       2.50500e+03, 3.26930e+04, 1.19000e+02, 1.11480e+05, 2.26450e+04,\n",
       "       3.13960e+04, 6.46200e+03, 9.30000e+01, 8.00000e+01, 5.64900e+03,\n",
       "       1.44000e+02, 5.62300e+03, 1.36335e+05, 7.89200e+03, 1.00164e+05,\n",
       "       2.90000e+03, 2.83630e+04, 1.09000e+02, 1.54400e+03, 6.81800e+03,\n",
       "       5.16400e+03, 6.31500e+03, 1.19000e+02, 4.39770e+04, 2.19200e+03,\n",
       "       1.06000e+02, 8.11000e+02, 1.31783e+05, 3.24530e+04, 4.33700e+04,\n",
       "       1.23200e+03, 2.05400e+03, 3.63700e+04, 7.07580e+04, 1.45500e+03,\n",
       "       1.34700e+03, 6.40200e+03, 3.68000e+02, 3.58400e+03, 1.29100e+03,\n",
       "       2.58000e+02, 1.10850e+04, 3.79200e+03, 9.19900e+03, 1.25500e+03,\n",
       "       1.89909e+05, 2.13560e+04, 8.65100e+03, 9.95000e+02, 1.23600e+03,\n",
       "       2.35910e+04, 3.81400e+03, 3.16190e+04, 1.96600e+03, 4.01000e+02,\n",
       "       4.25880e+04, 1.08926e+05, 6.75410e+04, 2.28700e+03, 3.19100e+03,\n",
       "       8.07980e+04, 4.65270e+04, 6.58940e+04, 1.10990e+05, 7.56570e+04,\n",
       "       2.42370e+04, 5.92730e+04, 5.36960e+04, 4.79800e+04, 4.22300e+03,\n",
       "       3.38900e+03, 8.94900e+04, 4.66890e+04, 1.26300e+04, 1.13770e+04,\n",
       "       6.56840e+04, 7.41100e+03, 5.37730e+04, 1.15845e+05, 3.18140e+04,\n",
       "       5.76900e+04, 5.03360e+04, 4.19470e+04, 5.86680e+04, 1.63549e+05,\n",
       "       7.77800e+03, 8.63460e+04, 3.82817e+05, 1.20862e+05, 6.14200e+03,\n",
       "       1.76060e+04, 6.88200e+03, 3.07640e+04, 1.93400e+03, 1.11440e+04,\n",
       "       3.24700e+03, 3.24230e+04, 7.02900e+03, 7.86400e+04, 5.64700e+04,\n",
       "       1.41177e+05, 2.87350e+04, 3.08440e+04, 8.96000e+02, 2.89000e+02,\n",
       "       3.14000e+02, 1.29890e+04, 5.52700e+03, 8.53150e+04, 2.75000e+02,\n",
       "       4.81000e+02, 2.53430e+04, 9.92400e+04, 1.10220e+04, 1.04000e+02,\n",
       "       1.03000e+02, 9.85700e+03, 7.70000e+01, 4.00000e+02, 2.18000e+02,\n",
       "       6.13000e+03, 2.12500e+03, 1.85500e+03, 5.31600e+03, 4.57400e+03,\n",
       "       7.65400e+03, 1.43000e+02, 3.53000e+02, 2.71120e+04, 1.19000e+02,\n",
       "       1.93000e+02, 1.20000e+01, 2.04500e+04, 3.09300e+03, 1.60847e+05,\n",
       "       1.23992e+05, 2.33871e+05, 1.26800e+03, 3.74400e+03, 1.42995e+05,\n",
       "       3.81550e+04, 1.13790e+04, 2.00590e+04, 5.83300e+03, 2.25180e+04,\n",
       "       6.54000e+03])"
      ]
     },
     "execution_count": 44,
     "metadata": {},
     "output_type": "execute_result"
    }
   ],
   "source": [
    "X[:,0]"
   ]
  },
  {
   "cell_type": "code",
   "execution_count": 45,
   "metadata": {
    "colab": {
     "base_uri": "https://localhost:8080/"
    },
    "executionInfo": {
     "elapsed": 78765,
     "status": "ok",
     "timestamp": 1684881736882,
     "user": {
      "displayName": "Alejandro M",
      "userId": "11111187776730726759"
     },
     "user_tz": 300
    },
    "id": "-qkoY0YP80RL",
    "outputId": "727b33aa-c7ff-40d7-b9de-0c7ac388392c"
   },
   "outputs": [
    {
     "name": "stdout",
     "output_type": "stream",
     "text": [
      ">LR 0.846 (0.079)\n",
      ">SVM 0.937 (0.059)\n",
      ">RF 0.961 (0.036)\n",
      ">MLP 0.909 (0.059)\n"
     ]
    }
   ],
   "source": [
    "# >LR 0.844 (0.104)\n",
    "# >SVM 0.929 (0.055)\n",
    "# >RF 0.950 (0.040)\n",
    "# >MLP 0.920 (0.065)\n",
    "\n",
    "# (249, 16) ; all features\n",
    "# >LR 0.896 (0.057)\n",
    "# >SVM 0.930 (0.039)\n",
    "# >RF 0.948 (0.034)\n",
    "# >MLP 0.920 (0.052)\n",
    "\n",
    "# (249, 6) ; main features\n",
    "# >LR 0.863 (0.058)\n",
    "# >SVM 0.935 (0.037)\n",
    "# >RF 0.957 (0.027)\n",
    "# >MLP 0.918 (0.051)\n",
    "\n",
    "# repeat with 20% less of test set\n",
    "\n",
    "# definir modelos\n",
    "models, names = get_models()\n",
    "results = list()\n",
    "# evaluar cada modelo\n",
    "for i in range(len(models)):\n",
    "    # definir pipeline\n",
    "    steps = [('p', PowerTransformer()), ('m',models[i])]\n",
    "    pipeline = Pipeline(steps=steps)\n",
    "    # evaluar pipeline y guardar resultados\n",
    "    scores = evaluate_model(X, y, pipeline)\n",
    "    results.append(scores)\n",
    "    # resumen\n",
    "    print('>%s %.3f (%.3f)' % (names[i], mean(scores), std(scores)))"
   ]
  },
  {
   "cell_type": "code",
   "execution_count": 54,
   "metadata": {
    "colab": {
     "base_uri": "https://localhost:8080/",
     "height": 430
    },
    "executionInfo": {
     "elapsed": 621,
     "status": "ok",
     "timestamp": 1684881584869,
     "user": {
      "displayName": "Alejandro M",
      "userId": "11111187776730726759"
     },
     "user_tz": 300
    },
    "id": "giGT40UJxKll",
    "outputId": "839a7e67-ab63-4318-f9b9-077929d423f6"
   },
   "outputs": [
    {
     "data": {
      "image/png": "[encoded data removed]",
      "text/plain": [
       "<Figure size 432x288 with 1 Axes>"
      ]
     },
     "metadata": {
      "needs_background": "light"
     },
     "output_type": "display_data"
    }
   ],
   "source": [
    "# plot de los resultados\n",
    "fig, ax = plt.subplots()\n",
    "ax.boxplot(results, labels=names, showmeans=True)\n",
    "# ax.set_xlabel('X-axis')\n",
    "# ax.set_ylabel('Y-axis')\n",
    "pyplot.savefig(f'{datasets_path}/results/boxplot_ml_models.jpg',  bbox_inches='tight')\n",
    "pyplot.show()"
   ]
  },
  {
   "cell_type": "markdown",
   "metadata": {
    "id": "SAoG6KLsDaVd"
   },
   "source": [
    "### Get a confussion matrix from RF"
   ]
  },
  {
   "cell_type": "code",
   "execution_count": 24,
   "metadata": {
    "id": "IgoP1UtxFbBv"
   },
   "outputs": [],
   "source": [
    "class_names = [\"Lacunar\", \"MCA\"]"
   ]
  },
  {
   "cell_type": "code",
   "execution_count": 47,
   "metadata": {
    "id": "TcsUR4bIDhM1"
   },
   "outputs": [],
   "source": [
    "from sklearn.metrics import confusion_matrix\n",
    "import itertools\n",
    "import matplotlib.pyplot as plt\n",
    "import numpy as np\n",
    "from sklearn.model_selection import KFold\n",
    "\n",
    "def evaluate_volume_feature(data_x, data_y):\n",
    "    k_fold = KFold(10, shuffle=True, random_state=1)\n",
    "    # k_fold = RepeatedStratifiedKFold(n_splits=10, n_repeats=3, random_state=1)\n",
    "\n",
    "    predicted_targets = np.array([])\n",
    "    actual_targets = np.array([])\n",
    "\n",
    "    for train_ix, test_ix in k_fold.split(data_x):\n",
    "        train_x, train_y, test_x, test_y = data_x[train_ix], data_y[train_ix], data_x[test_ix], data_y[test_ix]\n",
    "        \n",
    "        train_x_vol = train_x[:,0]\n",
    "#         train_x_vol = train_x[:,0]\n",
    "        test_x_vol = test_x[:,0]\n",
    "#         train_x_vol = train_x[:,0]\n",
    "        print(train_x_vol)\n",
    "        print(test_x_vol)\n",
    "#         print(train_x.shape, train_y.shape)\n",
    "#         print(test_x.shape, test_y.shape)\n",
    "\n",
    "#         # Fit the classifier\n",
    "#         model = RandomForestClassifier(n_estimators=1000)\n",
    "#         steps = [('p', PowerTransformer()), ('m',model)]\n",
    "#         pipeline = Pipeline(steps=steps)\n",
    "#         classifier = pipeline.fit(train_x, train_y)\n",
    "\n",
    "#         # Predict the labels of the test set samples\n",
    "#         predicted_labels = classifier.predict(test_x)\n",
    "\n",
    "#         predicted_targets = np.append(predicted_targets, predicted_labels)\n",
    "#         actual_targets = np.append(actual_targets, test_y)\n",
    "\n",
    "    return predicted_targets, actual_targets\n",
    "\n",
    "\n",
    "def evaluate_specific_model(data_x, data_y):\n",
    "    k_fold = KFold(10, shuffle=True, random_state=1)\n",
    "    # k_fold = RepeatedStratifiedKFold(n_splits=10, n_repeats=3, random_state=1)\n",
    "\n",
    "    predicted_targets = np.array([])\n",
    "    actual_targets = np.array([])\n",
    "\n",
    "    for train_ix, test_ix in k_fold.split(data_x):\n",
    "        train_x, train_y, test_x, test_y = data_x[train_ix], data_y[train_ix], data_x[test_ix], data_y[test_ix]\n",
    "\n",
    "        # Fit the classifier\n",
    "        model = RandomForestClassifier(n_estimators=1000)\n",
    "        steps = [('p', PowerTransformer()), ('m',model)]\n",
    "        pipeline = Pipeline(steps=steps)\n",
    "        classifier = pipeline.fit(train_x, train_y)\n",
    "\n",
    "        # Predict the labels of the test set samples\n",
    "        predicted_labels = classifier.predict(test_x)\n",
    "\n",
    "        predicted_targets = np.append(predicted_targets, predicted_labels)\n",
    "        actual_targets = np.append(actual_targets, test_y)\n",
    "\n",
    "    return predicted_targets, actual_targets\n",
    "\n",
    "\n",
    "def plot_confusion_matrix(predicted_labels_list, y_test_list):\n",
    "    cnf_matrix = confusion_matrix(y_test_list, predicted_labels_list)\n",
    "    np.set_printoptions(precision=2)\n",
    "\n",
    "    # Plot non-normalized confusion matrix\n",
    "    plt.figure()\n",
    "    generate_confusion_matrix(cnf_matrix, classes=class_names, title='Confusion matrix')\n",
    "    pyplot.savefig(f'{datasets_path}/results/confmat_ml_models.jpg',  bbox_inches='tight')\n",
    "    plt.show()\n",
    "\n",
    "    # Plot normalized confusion matrix\n",
    "    plt.figure()\n",
    "    generate_confusion_matrix(cnf_matrix, classes=class_names, normalize=True, title='Normalized confusion matrix')\n",
    "    pyplot.savefig(f'{datasets_path}/results/confmat_normalized_ml_models.jpg',  bbox_inches='tight')\n",
    "    plt.show()\n",
    "  \n",
    "def generate_confusion_matrix(cnf_matrix, classes, normalize=False, title='Confusion matrix'):\n",
    "    if normalize:\n",
    "        cnf_matrix = cnf_matrix.astype('float') / cnf_matrix.sum(axis=1)[:, np.newaxis]\n",
    "        print(\"Normalized confusion matrix\")\n",
    "    else:\n",
    "        print('Confusion matrix, without normalization')\n",
    "\n",
    "    plt.imshow(cnf_matrix, interpolation='nearest', cmap=plt.get_cmap('Blues'))\n",
    "    plt.title(title)\n",
    "    plt.colorbar()\n",
    "\n",
    "    tick_marks = np.arange(len(classes))\n",
    "    plt.xticks(tick_marks, classes, rotation=45)\n",
    "    plt.yticks(tick_marks, classes)\n",
    "\n",
    "    fmt = '.2f' if normalize else 'd'\n",
    "    thresh = cnf_matrix.max() / 2.\n",
    "\n",
    "    for i, j in itertools.product(range(cnf_matrix.shape[0]), range(cnf_matrix.shape[1])):\n",
    "        plt.text(j, i, format(cnf_matrix[i, j], fmt), horizontalalignment=\"center\",\n",
    "                 color=\"white\" if cnf_matrix[i, j] > thresh else \"black\")\n",
    "\n",
    "    plt.tight_layout()\n",
    "    plt.ylabel('True label')\n",
    "    plt.xlabel('Predicted label')\n",
    "\n",
    "    return cnf_matrix\n"
   ]
  },
  {
   "cell_type": "code",
   "execution_count": 48,
   "metadata": {
    "collapsed": true,
    "jupyter": {
     "outputs_hidden": true
    }
   },
   "outputs": [
    {
     "name": "stdout",
     "output_type": "stream",
     "text": [
      "[1.02200e+03 1.89060e+04 2.57700e+03 8.69760e+04 1.79230e+04 5.67400e+03\n",
      " 1.70020e+04 2.56200e+03 7.22500e+03 8.30930e+04 1.87030e+04 2.83180e+04\n",
      " 8.67640e+04 8.46430e+04 4.16920e+04 4.80000e+01 4.88690e+04 8.15700e+03\n",
      " 8.96710e+04 9.84000e+02 9.27400e+03 1.94000e+03 2.66000e+03 2.37930e+04\n",
      " 5.54000e+02 2.03800e+03 4.06800e+03 3.63800e+03 1.00000e+00 5.05200e+03\n",
      " 5.80000e+01 9.24000e+02 7.75000e+02 7.41000e+02 6.01000e+02 9.80000e+02\n",
      " 1.33500e+03 9.70000e+01 2.65000e+02 7.68000e+02 2.68400e+03 3.60000e+01\n",
      " 4.80000e+01 1.26000e+02 4.81500e+03 4.30100e+03 3.61000e+02 6.60000e+01\n",
      " 1.01000e+03 8.27000e+02 5.35000e+03 6.81000e+03 5.16000e+02 1.14740e+04\n",
      " 1.40600e+03 5.87700e+03 7.92000e+02 7.20000e+02 5.50000e+02 6.56000e+02\n",
      " 1.64600e+03 1.08000e+02 1.40000e+03 1.92000e+03 3.26000e+02 1.23000e+02\n",
      " 4.80000e+01 7.49000e+02 3.81000e+02 1.15000e+04 1.38000e+02 2.98000e+02\n",
      " 1.14177e+05 1.10754e+05 7.26000e+02 2.66790e+04 4.89100e+03 1.00000e+00\n",
      " 8.28790e+04 1.44360e+04 9.84800e+03 1.26370e+04 5.04500e+03 4.00700e+03\n",
      " 2.19000e+02 7.53390e+04 6.31420e+04 1.77100e+03 4.79900e+04 9.13000e+02\n",
      " 3.89600e+03 1.33300e+03 8.60000e+01 5.50700e+03 4.45280e+04 4.20400e+03\n",
      " 3.02920e+04 2.82600e+03 9.81100e+03 2.31200e+03 7.72320e+04 2.50500e+03\n",
      " 3.26930e+04 1.19000e+02 1.11480e+05 2.26450e+04 3.13960e+04 6.46200e+03\n",
      " 9.30000e+01 8.00000e+01 5.64900e+03 1.44000e+02 5.62300e+03 1.36335e+05\n",
      " 7.89200e+03 1.00164e+05 2.90000e+03 2.83630e+04 1.09000e+02 1.54400e+03\n",
      " 6.81800e+03 5.16400e+03 6.31500e+03 1.19000e+02 4.39770e+04 2.19200e+03\n",
      " 1.06000e+02 8.11000e+02 1.31783e+05 3.24530e+04 4.33700e+04 1.23200e+03\n",
      " 2.05400e+03 3.63700e+04 7.07580e+04 1.45500e+03 6.40200e+03 3.68000e+02\n",
      " 3.58400e+03 1.29100e+03 2.58000e+02 1.10850e+04 3.79200e+03 9.19900e+03\n",
      " 1.25500e+03 1.89909e+05 2.13560e+04 8.65100e+03 9.95000e+02 1.23600e+03\n",
      " 3.81400e+03 3.16190e+04 4.01000e+02 4.25880e+04 1.08926e+05 6.75410e+04\n",
      " 2.28700e+03 3.19100e+03 8.07980e+04 4.65270e+04 6.58940e+04 1.10990e+05\n",
      " 7.56570e+04 2.42370e+04 5.92730e+04 5.36960e+04 4.79800e+04 4.22300e+03\n",
      " 3.38900e+03 1.13770e+04 7.41100e+03 1.15845e+05 5.76900e+04 5.03360e+04\n",
      " 4.19470e+04 5.86680e+04 1.63549e+05 7.77800e+03 8.63460e+04 3.82817e+05\n",
      " 1.20862e+05 6.14200e+03 1.76060e+04 6.88200e+03 3.07640e+04 1.93400e+03\n",
      " 1.11440e+04 3.24700e+03 3.24230e+04 7.02900e+03 7.86400e+04 5.64700e+04\n",
      " 1.41177e+05 2.87350e+04 3.08440e+04 8.96000e+02 2.89000e+02 3.14000e+02\n",
      " 5.52700e+03 8.53150e+04 2.75000e+02 4.81000e+02 2.53430e+04 9.92400e+04\n",
      " 1.10220e+04 1.04000e+02 1.03000e+02 7.70000e+01 4.00000e+02 2.12500e+03\n",
      " 1.85500e+03 7.65400e+03 1.43000e+02 3.53000e+02 2.71120e+04 1.19000e+02\n",
      " 1.93000e+02 1.20000e+01 2.04500e+04 3.09300e+03 1.60847e+05 1.23992e+05\n",
      " 2.33871e+05 1.26800e+03 3.74400e+03 3.81550e+04 1.13790e+04 2.00590e+04\n",
      " 5.83300e+03 2.25180e+04]\n",
      "[ 84513.    247.   2264.   1545.    914.   1129.    870.   6856.   2741.\n",
      "   1347.  23591.   1966.  89490.  46689.  12630.  65684.  53773.  31814.\n",
      "  12989.   9857.    218.   6130.   5316.   4574. 142995.   6540.]\n",
      "[1.02200e+03 1.89060e+04 2.57700e+03 8.69760e+04 8.45130e+04 1.79230e+04\n",
      " 5.67400e+03 1.70020e+04 2.56200e+03 7.22500e+03 8.30930e+04 1.87030e+04\n",
      " 8.67640e+04 8.46430e+04 4.16920e+04 4.80000e+01 4.88690e+04 9.84000e+02\n",
      " 9.27400e+03 1.94000e+03 2.66000e+03 2.37930e+04 5.54000e+02 2.03800e+03\n",
      " 2.47000e+02 4.06800e+03 3.63800e+03 1.00000e+00 5.80000e+01 2.26400e+03\n",
      " 7.75000e+02 7.41000e+02 6.01000e+02 9.70000e+01 2.65000e+02 7.68000e+02\n",
      " 2.68400e+03 1.54500e+03 3.60000e+01 4.80000e+01 1.26000e+02 4.81500e+03\n",
      " 4.30100e+03 3.61000e+02 9.14000e+02 6.60000e+01 1.01000e+03 8.27000e+02\n",
      " 5.35000e+03 6.81000e+03 5.16000e+02 1.40600e+03 5.87700e+03 7.92000e+02\n",
      " 1.12900e+03 7.20000e+02 5.50000e+02 6.56000e+02 1.64600e+03 1.40000e+03\n",
      " 1.92000e+03 3.26000e+02 1.23000e+02 4.80000e+01 8.70000e+02 7.49000e+02\n",
      " 3.81000e+02 1.15000e+04 1.38000e+02 1.14177e+05 1.10754e+05 7.26000e+02\n",
      " 2.66790e+04 4.89100e+03 1.00000e+00 1.44360e+04 9.84800e+03 6.85600e+03\n",
      " 1.26370e+04 5.04500e+03 4.00700e+03 2.19000e+02 6.31420e+04 1.77100e+03\n",
      " 4.79900e+04 9.13000e+02 3.89600e+03 2.74100e+03 1.33300e+03 8.60000e+01\n",
      " 5.50700e+03 4.45280e+04 4.20400e+03 3.02920e+04 9.81100e+03 2.31200e+03\n",
      " 7.72320e+04 2.50500e+03 3.26930e+04 1.19000e+02 1.11480e+05 2.26450e+04\n",
      " 3.13960e+04 6.46200e+03 9.30000e+01 8.00000e+01 5.64900e+03 5.62300e+03\n",
      " 1.36335e+05 7.89200e+03 1.00164e+05 2.90000e+03 2.83630e+04 1.09000e+02\n",
      " 1.54400e+03 6.81800e+03 6.31500e+03 1.19000e+02 4.39770e+04 2.19200e+03\n",
      " 1.06000e+02 8.11000e+02 1.31783e+05 3.24530e+04 4.33700e+04 1.23200e+03\n",
      " 2.05400e+03 3.63700e+04 7.07580e+04 1.45500e+03 1.34700e+03 6.40200e+03\n",
      " 3.68000e+02 3.58400e+03 1.29100e+03 2.58000e+02 1.10850e+04 3.79200e+03\n",
      " 9.19900e+03 1.25500e+03 1.89909e+05 2.13560e+04 8.65100e+03 9.95000e+02\n",
      " 1.23600e+03 2.35910e+04 3.81400e+03 3.16190e+04 1.96600e+03 4.01000e+02\n",
      " 4.25880e+04 1.08926e+05 6.75410e+04 3.19100e+03 8.07980e+04 4.65270e+04\n",
      " 6.58940e+04 1.10990e+05 7.56570e+04 2.42370e+04 5.92730e+04 5.36960e+04\n",
      " 4.79800e+04 4.22300e+03 3.38900e+03 8.94900e+04 4.66890e+04 1.26300e+04\n",
      " 1.13770e+04 6.56840e+04 7.41100e+03 5.37730e+04 1.15845e+05 3.18140e+04\n",
      " 5.76900e+04 5.03360e+04 4.19470e+04 5.86680e+04 1.63549e+05 7.77800e+03\n",
      " 8.63460e+04 3.82817e+05 1.20862e+05 6.14200e+03 1.76060e+04 6.88200e+03\n",
      " 3.07640e+04 1.93400e+03 1.11440e+04 3.24700e+03 3.24230e+04 7.02900e+03\n",
      " 7.86400e+04 5.64700e+04 1.41177e+05 2.87350e+04 3.08440e+04 2.89000e+02\n",
      " 3.14000e+02 1.29890e+04 5.52700e+03 8.53150e+04 2.75000e+02 2.53430e+04\n",
      " 9.92400e+04 1.10220e+04 1.04000e+02 1.03000e+02 9.85700e+03 7.70000e+01\n",
      " 4.00000e+02 2.18000e+02 6.13000e+03 1.85500e+03 5.31600e+03 4.57400e+03\n",
      " 7.65400e+03 3.53000e+02 2.71120e+04 1.19000e+02 1.93000e+02 1.20000e+01\n",
      " 3.09300e+03 2.33871e+05 1.42995e+05 3.81550e+04 1.13790e+04 2.00590e+04\n",
      " 5.83300e+03 6.54000e+03]\n",
      "[2.83180e+04 8.15700e+03 8.96710e+04 5.05200e+03 9.24000e+02 9.80000e+02\n",
      " 1.33500e+03 1.14740e+04 1.08000e+02 2.98000e+02 8.28790e+04 7.53390e+04\n",
      " 2.82600e+03 1.44000e+02 5.16400e+03 2.28700e+03 8.96000e+02 4.81000e+02\n",
      " 2.12500e+03 1.43000e+02 2.04500e+04 1.60847e+05 1.23992e+05 1.26800e+03\n",
      " 3.74400e+03 2.25180e+04]\n",
      "[1.89060e+04 2.57700e+03 8.69760e+04 8.45130e+04 1.79230e+04 5.67400e+03\n",
      " 1.70020e+04 2.56200e+03 7.22500e+03 8.30930e+04 2.83180e+04 8.67640e+04\n",
      " 8.46430e+04 4.16920e+04 4.88690e+04 8.15700e+03 8.96710e+04 9.84000e+02\n",
      " 9.27400e+03 1.94000e+03 2.66000e+03 2.37930e+04 5.54000e+02 2.03800e+03\n",
      " 2.47000e+02 1.00000e+00 5.05200e+03 5.80000e+01 9.24000e+02 2.26400e+03\n",
      " 7.41000e+02 6.01000e+02 9.80000e+02 1.33500e+03 2.65000e+02 7.68000e+02\n",
      " 2.68400e+03 1.54500e+03 3.60000e+01 4.80000e+01 4.81500e+03 4.30100e+03\n",
      " 3.61000e+02 9.14000e+02 6.60000e+01 1.01000e+03 8.27000e+02 5.35000e+03\n",
      " 6.81000e+03 5.16000e+02 1.14740e+04 1.40600e+03 5.87700e+03 7.92000e+02\n",
      " 1.12900e+03 7.20000e+02 5.50000e+02 6.56000e+02 1.64600e+03 1.08000e+02\n",
      " 1.40000e+03 3.26000e+02 1.23000e+02 4.80000e+01 8.70000e+02 7.49000e+02\n",
      " 3.81000e+02 1.15000e+04 1.38000e+02 2.98000e+02 1.14177e+05 1.10754e+05\n",
      " 7.26000e+02 2.66790e+04 4.89100e+03 1.00000e+00 8.28790e+04 1.44360e+04\n",
      " 9.84800e+03 6.85600e+03 1.26370e+04 4.00700e+03 2.19000e+02 7.53390e+04\n",
      " 6.31420e+04 1.77100e+03 4.79900e+04 9.13000e+02 3.89600e+03 2.74100e+03\n",
      " 1.33300e+03 8.60000e+01 4.45280e+04 4.20400e+03 3.02920e+04 2.82600e+03\n",
      " 9.81100e+03 2.31200e+03 7.72320e+04 3.26930e+04 1.11480e+05 2.26450e+04\n",
      " 3.13960e+04 6.46200e+03 9.30000e+01 8.00000e+01 5.64900e+03 1.44000e+02\n",
      " 5.62300e+03 7.89200e+03 1.00164e+05 2.90000e+03 2.83630e+04 1.09000e+02\n",
      " 1.54400e+03 6.81800e+03 5.16400e+03 6.31500e+03 4.39770e+04 2.19200e+03\n",
      " 1.06000e+02 8.11000e+02 1.31783e+05 4.33700e+04 1.23200e+03 2.05400e+03\n",
      " 3.63700e+04 7.07580e+04 1.45500e+03 1.34700e+03 6.40200e+03 3.68000e+02\n",
      " 3.58400e+03 1.29100e+03 2.58000e+02 1.10850e+04 3.79200e+03 9.19900e+03\n",
      " 1.89909e+05 2.13560e+04 8.65100e+03 2.35910e+04 3.81400e+03 3.16190e+04\n",
      " 1.96600e+03 4.01000e+02 4.25880e+04 1.08926e+05 6.75410e+04 2.28700e+03\n",
      " 3.19100e+03 8.07980e+04 4.65270e+04 6.58940e+04 1.10990e+05 7.56570e+04\n",
      " 2.42370e+04 5.92730e+04 5.36960e+04 4.79800e+04 3.38900e+03 8.94900e+04\n",
      " 4.66890e+04 1.26300e+04 1.13770e+04 6.56840e+04 7.41100e+03 5.37730e+04\n",
      " 1.15845e+05 3.18140e+04 5.76900e+04 4.19470e+04 5.86680e+04 1.63549e+05\n",
      " 7.77800e+03 8.63460e+04 3.82817e+05 1.20862e+05 6.14200e+03 1.76060e+04\n",
      " 3.07640e+04 1.93400e+03 1.11440e+04 3.24700e+03 3.24230e+04 7.02900e+03\n",
      " 7.86400e+04 5.64700e+04 1.41177e+05 3.08440e+04 8.96000e+02 2.89000e+02\n",
      " 3.14000e+02 1.29890e+04 5.52700e+03 8.53150e+04 2.75000e+02 4.81000e+02\n",
      " 2.53430e+04 9.92400e+04 1.10220e+04 1.04000e+02 1.03000e+02 9.85700e+03\n",
      " 7.70000e+01 4.00000e+02 2.18000e+02 6.13000e+03 2.12500e+03 5.31600e+03\n",
      " 4.57400e+03 7.65400e+03 1.43000e+02 3.53000e+02 2.71120e+04 1.93000e+02\n",
      " 1.20000e+01 2.04500e+04 3.09300e+03 1.60847e+05 1.23992e+05 2.33871e+05\n",
      " 1.26800e+03 3.74400e+03 1.42995e+05 3.81550e+04 1.13790e+04 5.83300e+03\n",
      " 2.25180e+04 6.54000e+03]\n",
      "[1.02200e+03 1.87030e+04 4.80000e+01 4.06800e+03 3.63800e+03 7.75000e+02\n",
      " 9.70000e+01 1.26000e+02 1.92000e+03 5.04500e+03 5.50700e+03 2.50500e+03\n",
      " 1.19000e+02 1.36335e+05 1.19000e+02 3.24530e+04 1.25500e+03 9.95000e+02\n",
      " 1.23600e+03 4.22300e+03 5.03360e+04 6.88200e+03 2.87350e+04 1.85500e+03\n",
      " 1.19000e+02 2.00590e+04]\n",
      "[1.02200e+03 1.89060e+04 2.57700e+03 8.69760e+04 8.45130e+04 1.79230e+04\n",
      " 5.67400e+03 1.70020e+04 2.56200e+03 7.22500e+03 8.30930e+04 1.87030e+04\n",
      " 2.83180e+04 8.67640e+04 4.16920e+04 4.80000e+01 8.15700e+03 8.96710e+04\n",
      " 9.84000e+02 1.94000e+03 2.66000e+03 2.37930e+04 5.54000e+02 2.03800e+03\n",
      " 2.47000e+02 4.06800e+03 3.63800e+03 1.00000e+00 5.05200e+03 5.80000e+01\n",
      " 9.24000e+02 2.26400e+03 7.75000e+02 7.41000e+02 6.01000e+02 9.80000e+02\n",
      " 1.33500e+03 9.70000e+01 2.65000e+02 2.68400e+03 1.54500e+03 3.60000e+01\n",
      " 4.80000e+01 1.26000e+02 4.81500e+03 4.30100e+03 3.61000e+02 9.14000e+02\n",
      " 6.60000e+01 8.27000e+02 5.16000e+02 1.14740e+04 5.87700e+03 7.92000e+02\n",
      " 1.12900e+03 7.20000e+02 5.50000e+02 6.56000e+02 1.64600e+03 1.08000e+02\n",
      " 1.40000e+03 1.92000e+03 3.26000e+02 1.23000e+02 4.80000e+01 8.70000e+02\n",
      " 7.49000e+02 3.81000e+02 1.15000e+04 1.38000e+02 2.98000e+02 1.14177e+05\n",
      " 1.10754e+05 7.26000e+02 2.66790e+04 4.89100e+03 8.28790e+04 1.44360e+04\n",
      " 9.84800e+03 6.85600e+03 5.04500e+03 2.19000e+02 7.53390e+04 6.31420e+04\n",
      " 4.79900e+04 9.13000e+02 3.89600e+03 2.74100e+03 1.33300e+03 8.60000e+01\n",
      " 5.50700e+03 4.45280e+04 4.20400e+03 3.02920e+04 2.82600e+03 2.31200e+03\n",
      " 7.72320e+04 2.50500e+03 3.26930e+04 1.19000e+02 1.11480e+05 3.13960e+04\n",
      " 6.46200e+03 5.64900e+03 1.44000e+02 5.62300e+03 1.36335e+05 1.00164e+05\n",
      " 2.90000e+03 2.83630e+04 1.09000e+02 1.54400e+03 6.81800e+03 5.16400e+03\n",
      " 6.31500e+03 1.19000e+02 4.39770e+04 2.19200e+03 1.06000e+02 8.11000e+02\n",
      " 1.31783e+05 3.24530e+04 4.33700e+04 1.23200e+03 2.05400e+03 3.63700e+04\n",
      " 7.07580e+04 1.45500e+03 1.34700e+03 6.40200e+03 3.58400e+03 1.29100e+03\n",
      " 2.58000e+02 1.10850e+04 9.19900e+03 1.25500e+03 1.89909e+05 2.13560e+04\n",
      " 8.65100e+03 9.95000e+02 1.23600e+03 2.35910e+04 3.81400e+03 3.16190e+04\n",
      " 1.96600e+03 4.25880e+04 1.08926e+05 2.28700e+03 3.19100e+03 8.07980e+04\n",
      " 6.58940e+04 1.10990e+05 7.56570e+04 2.42370e+04 5.92730e+04 5.36960e+04\n",
      " 4.79800e+04 4.22300e+03 8.94900e+04 4.66890e+04 1.26300e+04 6.56840e+04\n",
      " 7.41100e+03 5.37730e+04 1.15845e+05 3.18140e+04 5.76900e+04 5.03360e+04\n",
      " 4.19470e+04 5.86680e+04 1.63549e+05 7.77800e+03 8.63460e+04 3.82817e+05\n",
      " 1.20862e+05 6.14200e+03 1.76060e+04 6.88200e+03 3.07640e+04 1.93400e+03\n",
      " 1.11440e+04 3.24700e+03 3.24230e+04 7.02900e+03 7.86400e+04 5.64700e+04\n",
      " 1.41177e+05 2.87350e+04 3.08440e+04 8.96000e+02 2.89000e+02 3.14000e+02\n",
      " 1.29890e+04 5.52700e+03 8.53150e+04 4.81000e+02 2.53430e+04 9.92400e+04\n",
      " 1.10220e+04 1.04000e+02 1.03000e+02 9.85700e+03 7.70000e+01 4.00000e+02\n",
      " 2.18000e+02 6.13000e+03 2.12500e+03 1.85500e+03 5.31600e+03 4.57400e+03\n",
      " 7.65400e+03 1.43000e+02 3.53000e+02 2.71120e+04 1.19000e+02 1.93000e+02\n",
      " 1.20000e+01 2.04500e+04 3.09300e+03 1.60847e+05 1.23992e+05 1.26800e+03\n",
      " 3.74400e+03 1.42995e+05 3.81550e+04 1.13790e+04 2.00590e+04 5.83300e+03\n",
      " 2.25180e+04 6.54000e+03]\n",
      "[8.46430e+04 4.88690e+04 9.27400e+03 7.68000e+02 1.01000e+03 5.35000e+03\n",
      " 6.81000e+03 1.40600e+03 1.00000e+00 1.26370e+04 4.00700e+03 1.77100e+03\n",
      " 9.81100e+03 2.26450e+04 9.30000e+01 8.00000e+01 7.89200e+03 3.68000e+02\n",
      " 3.79200e+03 4.01000e+02 6.75410e+04 4.65270e+04 3.38900e+03 1.13770e+04\n",
      " 2.75000e+02 2.33871e+05]\n",
      "[1.02200e+03 1.89060e+04 2.57700e+03 8.69760e+04 8.45130e+04 5.67400e+03\n",
      " 1.70020e+04 2.56200e+03 7.22500e+03 8.30930e+04 1.87030e+04 2.83180e+04\n",
      " 8.67640e+04 8.46430e+04 4.16920e+04 4.80000e+01 4.88690e+04 8.15700e+03\n",
      " 8.96710e+04 9.84000e+02 9.27400e+03 1.94000e+03 2.66000e+03 2.37930e+04\n",
      " 5.54000e+02 2.03800e+03 2.47000e+02 4.06800e+03 3.63800e+03 1.00000e+00\n",
      " 5.05200e+03 5.80000e+01 9.24000e+02 2.26400e+03 7.75000e+02 7.41000e+02\n",
      " 6.01000e+02 9.80000e+02 1.33500e+03 9.70000e+01 2.65000e+02 7.68000e+02\n",
      " 2.68400e+03 1.54500e+03 3.60000e+01 4.80000e+01 1.26000e+02 4.30100e+03\n",
      " 3.61000e+02 9.14000e+02 6.60000e+01 1.01000e+03 5.35000e+03 6.81000e+03\n",
      " 5.16000e+02 1.14740e+04 1.40600e+03 5.87700e+03 7.92000e+02 1.12900e+03\n",
      " 7.20000e+02 5.50000e+02 6.56000e+02 1.08000e+02 1.40000e+03 1.92000e+03\n",
      " 1.23000e+02 4.80000e+01 8.70000e+02 7.49000e+02 3.81000e+02 1.15000e+04\n",
      " 1.38000e+02 2.98000e+02 1.14177e+05 1.10754e+05 7.26000e+02 4.89100e+03\n",
      " 1.00000e+00 8.28790e+04 1.44360e+04 9.84800e+03 6.85600e+03 1.26370e+04\n",
      " 5.04500e+03 4.00700e+03 2.19000e+02 7.53390e+04 1.77100e+03 4.79900e+04\n",
      " 2.74100e+03 1.33300e+03 8.60000e+01 5.50700e+03 4.45280e+04 4.20400e+03\n",
      " 2.82600e+03 9.81100e+03 7.72320e+04 2.50500e+03 3.26930e+04 1.19000e+02\n",
      " 1.11480e+05 2.26450e+04 3.13960e+04 9.30000e+01 8.00000e+01 1.44000e+02\n",
      " 5.62300e+03 1.36335e+05 7.89200e+03 1.00164e+05 2.90000e+03 2.83630e+04\n",
      " 1.54400e+03 6.81800e+03 5.16400e+03 6.31500e+03 1.19000e+02 4.39770e+04\n",
      " 2.19200e+03 1.06000e+02 8.11000e+02 1.31783e+05 3.24530e+04 4.33700e+04\n",
      " 1.23200e+03 2.05400e+03 3.63700e+04 7.07580e+04 1.45500e+03 1.34700e+03\n",
      " 6.40200e+03 3.68000e+02 3.58400e+03 1.29100e+03 1.10850e+04 3.79200e+03\n",
      " 9.19900e+03 1.25500e+03 1.89909e+05 2.13560e+04 8.65100e+03 9.95000e+02\n",
      " 1.23600e+03 2.35910e+04 3.16190e+04 1.96600e+03 4.01000e+02 4.25880e+04\n",
      " 1.08926e+05 6.75410e+04 2.28700e+03 8.07980e+04 4.65270e+04 6.58940e+04\n",
      " 1.10990e+05 7.56570e+04 2.42370e+04 5.36960e+04 4.79800e+04 4.22300e+03\n",
      " 3.38900e+03 8.94900e+04 4.66890e+04 1.26300e+04 1.13770e+04 6.56840e+04\n",
      " 7.41100e+03 5.37730e+04 3.18140e+04 5.03360e+04 4.19470e+04 5.86680e+04\n",
      " 1.63549e+05 7.77800e+03 8.63460e+04 1.20862e+05 6.14200e+03 1.76060e+04\n",
      " 6.88200e+03 3.07640e+04 1.93400e+03 1.11440e+04 3.24230e+04 7.02900e+03\n",
      " 7.86400e+04 5.64700e+04 1.41177e+05 2.87350e+04 3.08440e+04 8.96000e+02\n",
      " 3.14000e+02 1.29890e+04 5.52700e+03 8.53150e+04 2.75000e+02 4.81000e+02\n",
      " 2.53430e+04 9.92400e+04 1.10220e+04 1.03000e+02 9.85700e+03 7.70000e+01\n",
      " 4.00000e+02 2.18000e+02 6.13000e+03 2.12500e+03 1.85500e+03 5.31600e+03\n",
      " 4.57400e+03 7.65400e+03 1.43000e+02 3.53000e+02 2.71120e+04 1.19000e+02\n",
      " 1.93000e+02 2.04500e+04 3.09300e+03 1.60847e+05 1.23992e+05 2.33871e+05\n",
      " 1.26800e+03 3.74400e+03 1.42995e+05 3.81550e+04 1.13790e+04 2.00590e+04\n",
      " 2.25180e+04 6.54000e+03]\n",
      "[1.79230e+04 4.81500e+03 8.27000e+02 1.64600e+03 3.26000e+02 2.66790e+04\n",
      " 6.31420e+04 9.13000e+02 3.89600e+03 3.02920e+04 2.31200e+03 6.46200e+03\n",
      " 5.64900e+03 1.09000e+02 2.58000e+02 3.81400e+03 3.19100e+03 5.92730e+04\n",
      " 1.15845e+05 5.76900e+04 3.82817e+05 3.24700e+03 2.89000e+02 1.04000e+02\n",
      " 1.20000e+01 5.83300e+03]\n",
      "[1.02200e+03 1.89060e+04 8.69760e+04 8.45130e+04 1.79230e+04 1.70020e+04\n",
      " 2.56200e+03 7.22500e+03 8.30930e+04 1.87030e+04 2.83180e+04 8.46430e+04\n",
      " 4.16920e+04 4.80000e+01 4.88690e+04 8.15700e+03 8.96710e+04 9.84000e+02\n",
      " 9.27400e+03 1.94000e+03 2.66000e+03 2.37930e+04 5.54000e+02 2.03800e+03\n",
      " 2.47000e+02 4.06800e+03 3.63800e+03 1.00000e+00 5.05200e+03 5.80000e+01\n",
      " 9.24000e+02 2.26400e+03 7.75000e+02 6.01000e+02 9.80000e+02 1.33500e+03\n",
      " 9.70000e+01 2.65000e+02 7.68000e+02 2.68400e+03 1.54500e+03 4.80000e+01\n",
      " 1.26000e+02 4.81500e+03 4.30100e+03 3.61000e+02 9.14000e+02 6.60000e+01\n",
      " 1.01000e+03 8.27000e+02 5.35000e+03 6.81000e+03 5.16000e+02 1.14740e+04\n",
      " 1.40600e+03 5.87700e+03 7.92000e+02 1.12900e+03 7.20000e+02 5.50000e+02\n",
      " 6.56000e+02 1.64600e+03 1.08000e+02 1.40000e+03 1.92000e+03 3.26000e+02\n",
      " 1.23000e+02 4.80000e+01 8.70000e+02 7.49000e+02 1.15000e+04 2.98000e+02\n",
      " 1.14177e+05 1.10754e+05 2.66790e+04 4.89100e+03 1.00000e+00 8.28790e+04\n",
      " 1.44360e+04 9.84800e+03 6.85600e+03 1.26370e+04 5.04500e+03 4.00700e+03\n",
      " 2.19000e+02 7.53390e+04 6.31420e+04 1.77100e+03 4.79900e+04 9.13000e+02\n",
      " 3.89600e+03 2.74100e+03 1.33300e+03 8.60000e+01 5.50700e+03 4.20400e+03\n",
      " 3.02920e+04 2.82600e+03 9.81100e+03 2.31200e+03 7.72320e+04 2.50500e+03\n",
      " 3.26930e+04 1.19000e+02 1.11480e+05 2.26450e+04 3.13960e+04 6.46200e+03\n",
      " 9.30000e+01 8.00000e+01 5.64900e+03 1.44000e+02 5.62300e+03 1.36335e+05\n",
      " 7.89200e+03 2.90000e+03 2.83630e+04 1.09000e+02 1.54400e+03 6.81800e+03\n",
      " 5.16400e+03 6.31500e+03 1.19000e+02 4.39770e+04 2.19200e+03 1.06000e+02\n",
      " 8.11000e+02 1.31783e+05 3.24530e+04 4.33700e+04 1.23200e+03 2.05400e+03\n",
      " 3.63700e+04 7.07580e+04 1.45500e+03 1.34700e+03 6.40200e+03 3.68000e+02\n",
      " 1.29100e+03 2.58000e+02 1.10850e+04 3.79200e+03 9.19900e+03 1.25500e+03\n",
      " 1.89909e+05 2.13560e+04 8.65100e+03 9.95000e+02 1.23600e+03 2.35910e+04\n",
      " 3.81400e+03 3.16190e+04 1.96600e+03 4.01000e+02 4.25880e+04 1.08926e+05\n",
      " 6.75410e+04 2.28700e+03 3.19100e+03 4.65270e+04 2.42370e+04 5.92730e+04\n",
      " 5.36960e+04 4.79800e+04 4.22300e+03 3.38900e+03 8.94900e+04 4.66890e+04\n",
      " 1.26300e+04 1.13770e+04 6.56840e+04 7.41100e+03 5.37730e+04 1.15845e+05\n",
      " 3.18140e+04 5.76900e+04 5.03360e+04 4.19470e+04 1.63549e+05 8.63460e+04\n",
      " 3.82817e+05 1.20862e+05 1.76060e+04 6.88200e+03 1.93400e+03 1.11440e+04\n",
      " 3.24700e+03 7.02900e+03 5.64700e+04 1.41177e+05 2.87350e+04 3.08440e+04\n",
      " 8.96000e+02 2.89000e+02 3.14000e+02 1.29890e+04 5.52700e+03 8.53150e+04\n",
      " 2.75000e+02 4.81000e+02 9.92400e+04 1.10220e+04 1.04000e+02 9.85700e+03\n",
      " 4.00000e+02 2.18000e+02 6.13000e+03 2.12500e+03 1.85500e+03 5.31600e+03\n",
      " 4.57400e+03 7.65400e+03 1.43000e+02 3.53000e+02 1.19000e+02 1.93000e+02\n",
      " 1.20000e+01 2.04500e+04 3.09300e+03 1.60847e+05 1.23992e+05 2.33871e+05\n",
      " 1.26800e+03 3.74400e+03 1.42995e+05 1.13790e+04 2.00590e+04 5.83300e+03\n",
      " 2.25180e+04 6.54000e+03]\n",
      "[2.57700e+03 5.67400e+03 8.67640e+04 7.41000e+02 3.60000e+01 3.81000e+02\n",
      " 1.38000e+02 7.26000e+02 4.45280e+04 1.00164e+05 3.58400e+03 8.07980e+04\n",
      " 6.58940e+04 1.10990e+05 7.56570e+04 5.86680e+04 7.77800e+03 6.14200e+03\n",
      " 3.07640e+04 3.24230e+04 7.86400e+04 2.53430e+04 1.03000e+02 7.70000e+01\n",
      " 2.71120e+04 3.81550e+04]\n",
      "[1.02200e+03 1.89060e+04 2.57700e+03 8.69760e+04 8.45130e+04 1.79230e+04\n",
      " 5.67400e+03 1.70020e+04 2.56200e+03 1.87030e+04 2.83180e+04 8.67640e+04\n",
      " 8.46430e+04 4.16920e+04 4.80000e+01 4.88690e+04 8.15700e+03 8.96710e+04\n",
      " 9.84000e+02 9.27400e+03 1.94000e+03 2.37930e+04 5.54000e+02 2.03800e+03\n",
      " 2.47000e+02 4.06800e+03 3.63800e+03 1.00000e+00 5.05200e+03 9.24000e+02\n",
      " 2.26400e+03 7.75000e+02 7.41000e+02 6.01000e+02 9.80000e+02 1.33500e+03\n",
      " 9.70000e+01 2.65000e+02 7.68000e+02 2.68400e+03 1.54500e+03 3.60000e+01\n",
      " 1.26000e+02 4.81500e+03 4.30100e+03 3.61000e+02 9.14000e+02 6.60000e+01\n",
      " 1.01000e+03 8.27000e+02 5.35000e+03 6.81000e+03 5.16000e+02 1.14740e+04\n",
      " 1.40600e+03 5.87700e+03 7.92000e+02 1.12900e+03 7.20000e+02 5.50000e+02\n",
      " 1.64600e+03 1.08000e+02 1.40000e+03 1.92000e+03 3.26000e+02 1.23000e+02\n",
      " 4.80000e+01 8.70000e+02 3.81000e+02 1.15000e+04 1.38000e+02 2.98000e+02\n",
      " 1.14177e+05 1.10754e+05 7.26000e+02 2.66790e+04 1.00000e+00 8.28790e+04\n",
      " 1.44360e+04 6.85600e+03 1.26370e+04 5.04500e+03 4.00700e+03 7.53390e+04\n",
      " 6.31420e+04 1.77100e+03 4.79900e+04 9.13000e+02 3.89600e+03 2.74100e+03\n",
      " 8.60000e+01 5.50700e+03 4.45280e+04 4.20400e+03 3.02920e+04 2.82600e+03\n",
      " 9.81100e+03 2.31200e+03 7.72320e+04 2.50500e+03 3.26930e+04 1.19000e+02\n",
      " 2.26450e+04 3.13960e+04 6.46200e+03 9.30000e+01 8.00000e+01 5.64900e+03\n",
      " 1.44000e+02 5.62300e+03 1.36335e+05 7.89200e+03 1.00164e+05 1.09000e+02\n",
      " 1.54400e+03 6.81800e+03 5.16400e+03 6.31500e+03 1.19000e+02 4.39770e+04\n",
      " 2.19200e+03 1.06000e+02 1.31783e+05 3.24530e+04 4.33700e+04 1.23200e+03\n",
      " 2.05400e+03 3.63700e+04 1.45500e+03 1.34700e+03 6.40200e+03 3.68000e+02\n",
      " 3.58400e+03 1.29100e+03 2.58000e+02 3.79200e+03 9.19900e+03 1.25500e+03\n",
      " 2.13560e+04 8.65100e+03 9.95000e+02 1.23600e+03 2.35910e+04 3.81400e+03\n",
      " 1.96600e+03 4.01000e+02 6.75410e+04 2.28700e+03 3.19100e+03 8.07980e+04\n",
      " 4.65270e+04 6.58940e+04 1.10990e+05 7.56570e+04 2.42370e+04 5.92730e+04\n",
      " 4.79800e+04 4.22300e+03 3.38900e+03 8.94900e+04 4.66890e+04 1.26300e+04\n",
      " 1.13770e+04 6.56840e+04 5.37730e+04 1.15845e+05 3.18140e+04 5.76900e+04\n",
      " 5.03360e+04 4.19470e+04 5.86680e+04 1.63549e+05 7.77800e+03 8.63460e+04\n",
      " 3.82817e+05 1.20862e+05 6.14200e+03 1.76060e+04 6.88200e+03 3.07640e+04\n",
      " 1.93400e+03 1.11440e+04 3.24700e+03 3.24230e+04 7.86400e+04 5.64700e+04\n",
      " 1.41177e+05 2.87350e+04 3.08440e+04 8.96000e+02 2.89000e+02 3.14000e+02\n",
      " 1.29890e+04 5.52700e+03 2.75000e+02 4.81000e+02 2.53430e+04 9.92400e+04\n",
      " 1.10220e+04 1.04000e+02 1.03000e+02 9.85700e+03 7.70000e+01 4.00000e+02\n",
      " 2.18000e+02 6.13000e+03 2.12500e+03 1.85500e+03 5.31600e+03 4.57400e+03\n",
      " 7.65400e+03 1.43000e+02 3.53000e+02 2.71120e+04 1.19000e+02 1.93000e+02\n",
      " 1.20000e+01 2.04500e+04 3.09300e+03 1.60847e+05 1.23992e+05 2.33871e+05\n",
      " 1.26800e+03 3.74400e+03 1.42995e+05 3.81550e+04 1.13790e+04 2.00590e+04\n",
      " 5.83300e+03 2.25180e+04 6.54000e+03]\n",
      "[7.22500e+03 8.30930e+04 2.66000e+03 5.80000e+01 4.80000e+01 6.56000e+02\n",
      " 7.49000e+02 4.89100e+03 9.84800e+03 2.19000e+02 1.33300e+03 1.11480e+05\n",
      " 2.90000e+03 2.83630e+04 8.11000e+02 7.07580e+04 1.10850e+04 1.89909e+05\n",
      " 3.16190e+04 4.25880e+04 1.08926e+05 5.36960e+04 7.41100e+03 7.02900e+03\n",
      " 8.53150e+04]\n",
      "[1.02200e+03 1.89060e+04 2.57700e+03 8.45130e+04 1.79230e+04 5.67400e+03\n",
      " 1.70020e+04 2.56200e+03 7.22500e+03 8.30930e+04 1.87030e+04 2.83180e+04\n",
      " 8.67640e+04 8.46430e+04 4.80000e+01 4.88690e+04 8.15700e+03 8.96710e+04\n",
      " 9.84000e+02 9.27400e+03 1.94000e+03 2.66000e+03 5.54000e+02 2.47000e+02\n",
      " 4.06800e+03 3.63800e+03 1.00000e+00 5.05200e+03 5.80000e+01 9.24000e+02\n",
      " 2.26400e+03 7.75000e+02 7.41000e+02 6.01000e+02 9.80000e+02 1.33500e+03\n",
      " 9.70000e+01 7.68000e+02 1.54500e+03 3.60000e+01 4.80000e+01 1.26000e+02\n",
      " 4.81500e+03 3.61000e+02 9.14000e+02 1.01000e+03 8.27000e+02 5.35000e+03\n",
      " 6.81000e+03 5.16000e+02 1.14740e+04 1.40600e+03 5.87700e+03 7.92000e+02\n",
      " 1.12900e+03 7.20000e+02 6.56000e+02 1.64600e+03 1.08000e+02 1.40000e+03\n",
      " 1.92000e+03 3.26000e+02 1.23000e+02 4.80000e+01 8.70000e+02 7.49000e+02\n",
      " 3.81000e+02 1.38000e+02 2.98000e+02 1.14177e+05 7.26000e+02 2.66790e+04\n",
      " 4.89100e+03 1.00000e+00 8.28790e+04 1.44360e+04 9.84800e+03 6.85600e+03\n",
      " 1.26370e+04 5.04500e+03 4.00700e+03 2.19000e+02 7.53390e+04 6.31420e+04\n",
      " 1.77100e+03 4.79900e+04 9.13000e+02 3.89600e+03 2.74100e+03 1.33300e+03\n",
      " 8.60000e+01 5.50700e+03 4.45280e+04 3.02920e+04 2.82600e+03 9.81100e+03\n",
      " 2.31200e+03 2.50500e+03 1.19000e+02 1.11480e+05 2.26450e+04 3.13960e+04\n",
      " 6.46200e+03 9.30000e+01 8.00000e+01 5.64900e+03 1.44000e+02 5.62300e+03\n",
      " 1.36335e+05 7.89200e+03 1.00164e+05 2.90000e+03 2.83630e+04 1.09000e+02\n",
      " 1.54400e+03 6.81800e+03 5.16400e+03 1.19000e+02 4.39770e+04 2.19200e+03\n",
      " 8.11000e+02 1.31783e+05 3.24530e+04 4.33700e+04 1.23200e+03 2.05400e+03\n",
      " 3.63700e+04 7.07580e+04 1.45500e+03 1.34700e+03 6.40200e+03 3.68000e+02\n",
      " 3.58400e+03 2.58000e+02 1.10850e+04 3.79200e+03 1.25500e+03 1.89909e+05\n",
      " 2.13560e+04 8.65100e+03 9.95000e+02 1.23600e+03 2.35910e+04 3.81400e+03\n",
      " 3.16190e+04 1.96600e+03 4.01000e+02 4.25880e+04 1.08926e+05 6.75410e+04\n",
      " 2.28700e+03 3.19100e+03 8.07980e+04 4.65270e+04 6.58940e+04 1.10990e+05\n",
      " 7.56570e+04 2.42370e+04 5.92730e+04 5.36960e+04 4.79800e+04 4.22300e+03\n",
      " 3.38900e+03 8.94900e+04 4.66890e+04 1.26300e+04 1.13770e+04 6.56840e+04\n",
      " 7.41100e+03 5.37730e+04 1.15845e+05 3.18140e+04 5.76900e+04 5.03360e+04\n",
      " 4.19470e+04 5.86680e+04 7.77800e+03 3.82817e+05 6.14200e+03 1.76060e+04\n",
      " 6.88200e+03 3.07640e+04 1.93400e+03 1.11440e+04 3.24700e+03 3.24230e+04\n",
      " 7.02900e+03 7.86400e+04 5.64700e+04 2.87350e+04 3.08440e+04 8.96000e+02\n",
      " 2.89000e+02 3.14000e+02 1.29890e+04 8.53150e+04 2.75000e+02 4.81000e+02\n",
      " 2.53430e+04 9.92400e+04 1.10220e+04 1.04000e+02 1.03000e+02 9.85700e+03\n",
      " 7.70000e+01 4.00000e+02 2.18000e+02 6.13000e+03 2.12500e+03 1.85500e+03\n",
      " 5.31600e+03 4.57400e+03 7.65400e+03 1.43000e+02 3.53000e+02 2.71120e+04\n",
      " 1.19000e+02 1.20000e+01 2.04500e+04 1.60847e+05 1.23992e+05 2.33871e+05\n",
      " 1.26800e+03 3.74400e+03 1.42995e+05 3.81550e+04 1.13790e+04 2.00590e+04\n",
      " 5.83300e+03 2.25180e+04 6.54000e+03]\n",
      "[8.69760e+04 4.16920e+04 2.37930e+04 2.03800e+03 2.65000e+02 2.68400e+03\n",
      " 4.30100e+03 6.60000e+01 5.50000e+02 1.15000e+04 1.10754e+05 4.20400e+03\n",
      " 7.72320e+04 3.26930e+04 6.31500e+03 1.06000e+02 1.29100e+03 9.19900e+03\n",
      " 1.63549e+05 8.63460e+04 1.20862e+05 1.41177e+05 5.52700e+03 1.93000e+02\n",
      " 3.09300e+03]\n",
      "[1.02200e+03 2.57700e+03 8.69760e+04 8.45130e+04 1.79230e+04 5.67400e+03\n",
      " 7.22500e+03 8.30930e+04 1.87030e+04 2.83180e+04 8.67640e+04 8.46430e+04\n",
      " 4.16920e+04 4.80000e+01 4.88690e+04 8.15700e+03 8.96710e+04 9.84000e+02\n",
      " 9.27400e+03 2.66000e+03 2.37930e+04 5.54000e+02 2.03800e+03 2.47000e+02\n",
      " 4.06800e+03 3.63800e+03 5.05200e+03 5.80000e+01 9.24000e+02 2.26400e+03\n",
      " 7.75000e+02 7.41000e+02 6.01000e+02 9.80000e+02 1.33500e+03 9.70000e+01\n",
      " 2.65000e+02 7.68000e+02 2.68400e+03 1.54500e+03 3.60000e+01 4.80000e+01\n",
      " 1.26000e+02 4.81500e+03 4.30100e+03 9.14000e+02 6.60000e+01 1.01000e+03\n",
      " 8.27000e+02 5.35000e+03 6.81000e+03 1.14740e+04 1.40600e+03 1.12900e+03\n",
      " 5.50000e+02 6.56000e+02 1.64600e+03 1.08000e+02 1.92000e+03 3.26000e+02\n",
      " 1.23000e+02 4.80000e+01 8.70000e+02 7.49000e+02 3.81000e+02 1.15000e+04\n",
      " 1.38000e+02 2.98000e+02 1.14177e+05 1.10754e+05 7.26000e+02 2.66790e+04\n",
      " 4.89100e+03 1.00000e+00 8.28790e+04 9.84800e+03 6.85600e+03 1.26370e+04\n",
      " 5.04500e+03 4.00700e+03 2.19000e+02 7.53390e+04 6.31420e+04 1.77100e+03\n",
      " 9.13000e+02 3.89600e+03 2.74100e+03 1.33300e+03 8.60000e+01 5.50700e+03\n",
      " 4.45280e+04 4.20400e+03 3.02920e+04 2.82600e+03 9.81100e+03 2.31200e+03\n",
      " 7.72320e+04 2.50500e+03 3.26930e+04 1.19000e+02 1.11480e+05 2.26450e+04\n",
      " 6.46200e+03 9.30000e+01 8.00000e+01 5.64900e+03 1.44000e+02 1.36335e+05\n",
      " 7.89200e+03 1.00164e+05 2.90000e+03 2.83630e+04 1.09000e+02 6.81800e+03\n",
      " 5.16400e+03 6.31500e+03 1.19000e+02 4.39770e+04 2.19200e+03 1.06000e+02\n",
      " 8.11000e+02 1.31783e+05 3.24530e+04 4.33700e+04 1.23200e+03 3.63700e+04\n",
      " 7.07580e+04 1.45500e+03 1.34700e+03 6.40200e+03 3.68000e+02 3.58400e+03\n",
      " 1.29100e+03 2.58000e+02 1.10850e+04 3.79200e+03 9.19900e+03 1.25500e+03\n",
      " 1.89909e+05 2.13560e+04 8.65100e+03 9.95000e+02 1.23600e+03 2.35910e+04\n",
      " 3.81400e+03 3.16190e+04 1.96600e+03 4.01000e+02 4.25880e+04 1.08926e+05\n",
      " 6.75410e+04 2.28700e+03 3.19100e+03 8.07980e+04 4.65270e+04 6.58940e+04\n",
      " 1.10990e+05 7.56570e+04 5.92730e+04 5.36960e+04 4.79800e+04 4.22300e+03\n",
      " 3.38900e+03 8.94900e+04 4.66890e+04 1.26300e+04 1.13770e+04 6.56840e+04\n",
      " 7.41100e+03 5.37730e+04 1.15845e+05 3.18140e+04 5.76900e+04 5.03360e+04\n",
      " 4.19470e+04 5.86680e+04 1.63549e+05 7.77800e+03 8.63460e+04 3.82817e+05\n",
      " 1.20862e+05 6.14200e+03 6.88200e+03 3.07640e+04 1.93400e+03 1.11440e+04\n",
      " 3.24700e+03 3.24230e+04 7.02900e+03 7.86400e+04 1.41177e+05 2.87350e+04\n",
      " 3.08440e+04 8.96000e+02 2.89000e+02 1.29890e+04 5.52700e+03 8.53150e+04\n",
      " 2.75000e+02 4.81000e+02 2.53430e+04 1.04000e+02 1.03000e+02 9.85700e+03\n",
      " 7.70000e+01 2.18000e+02 6.13000e+03 2.12500e+03 1.85500e+03 5.31600e+03\n",
      " 4.57400e+03 7.65400e+03 1.43000e+02 3.53000e+02 2.71120e+04 1.19000e+02\n",
      " 1.93000e+02 1.20000e+01 2.04500e+04 3.09300e+03 1.60847e+05 1.23992e+05\n",
      " 2.33871e+05 1.26800e+03 3.74400e+03 1.42995e+05 3.81550e+04 2.00590e+04\n",
      " 5.83300e+03 2.25180e+04 6.54000e+03]\n",
      "[1.8906e+04 1.7002e+04 2.5620e+03 1.9400e+03 1.0000e+00 3.6100e+02\n",
      " 5.1600e+02 5.8770e+03 7.9200e+02 7.2000e+02 1.4000e+03 1.4436e+04\n",
      " 4.7990e+04 3.1396e+04 5.6230e+03 1.5440e+03 2.0540e+03 2.4237e+04\n",
      " 1.7606e+04 5.6470e+04 3.1400e+02 9.9240e+04 1.1022e+04 4.0000e+02\n",
      " 1.1379e+04]\n",
      "[1.02200e+03 1.89060e+04 2.57700e+03 8.69760e+04 8.45130e+04 1.79230e+04\n",
      " 5.67400e+03 1.70020e+04 2.56200e+03 7.22500e+03 8.30930e+04 1.87030e+04\n",
      " 2.83180e+04 8.67640e+04 8.46430e+04 4.16920e+04 4.80000e+01 4.88690e+04\n",
      " 8.15700e+03 8.96710e+04 9.27400e+03 1.94000e+03 2.66000e+03 2.37930e+04\n",
      " 2.03800e+03 2.47000e+02 4.06800e+03 3.63800e+03 1.00000e+00 5.05200e+03\n",
      " 5.80000e+01 9.24000e+02 2.26400e+03 7.75000e+02 7.41000e+02 9.80000e+02\n",
      " 1.33500e+03 9.70000e+01 2.65000e+02 7.68000e+02 2.68400e+03 1.54500e+03\n",
      " 3.60000e+01 4.80000e+01 1.26000e+02 4.81500e+03 4.30100e+03 3.61000e+02\n",
      " 9.14000e+02 6.60000e+01 1.01000e+03 8.27000e+02 5.35000e+03 6.81000e+03\n",
      " 5.16000e+02 1.14740e+04 1.40600e+03 5.87700e+03 7.92000e+02 1.12900e+03\n",
      " 7.20000e+02 5.50000e+02 6.56000e+02 1.64600e+03 1.08000e+02 1.40000e+03\n",
      " 1.92000e+03 3.26000e+02 8.70000e+02 7.49000e+02 3.81000e+02 1.15000e+04\n",
      " 1.38000e+02 2.98000e+02 1.10754e+05 7.26000e+02 2.66790e+04 4.89100e+03\n",
      " 1.00000e+00 8.28790e+04 1.44360e+04 9.84800e+03 6.85600e+03 1.26370e+04\n",
      " 5.04500e+03 4.00700e+03 2.19000e+02 7.53390e+04 6.31420e+04 1.77100e+03\n",
      " 4.79900e+04 9.13000e+02 3.89600e+03 2.74100e+03 1.33300e+03 5.50700e+03\n",
      " 4.45280e+04 4.20400e+03 3.02920e+04 2.82600e+03 9.81100e+03 2.31200e+03\n",
      " 7.72320e+04 2.50500e+03 3.26930e+04 1.19000e+02 1.11480e+05 2.26450e+04\n",
      " 3.13960e+04 6.46200e+03 9.30000e+01 8.00000e+01 5.64900e+03 1.44000e+02\n",
      " 5.62300e+03 1.36335e+05 7.89200e+03 1.00164e+05 2.90000e+03 2.83630e+04\n",
      " 1.09000e+02 1.54400e+03 5.16400e+03 6.31500e+03 1.19000e+02 1.06000e+02\n",
      " 8.11000e+02 3.24530e+04 2.05400e+03 7.07580e+04 1.34700e+03 3.68000e+02\n",
      " 3.58400e+03 1.29100e+03 2.58000e+02 1.10850e+04 3.79200e+03 9.19900e+03\n",
      " 1.25500e+03 1.89909e+05 9.95000e+02 1.23600e+03 2.35910e+04 3.81400e+03\n",
      " 3.16190e+04 1.96600e+03 4.01000e+02 4.25880e+04 1.08926e+05 6.75410e+04\n",
      " 2.28700e+03 3.19100e+03 8.07980e+04 4.65270e+04 6.58940e+04 1.10990e+05\n",
      " 7.56570e+04 2.42370e+04 5.92730e+04 5.36960e+04 4.22300e+03 3.38900e+03\n",
      " 8.94900e+04 4.66890e+04 1.26300e+04 1.13770e+04 6.56840e+04 7.41100e+03\n",
      " 5.37730e+04 1.15845e+05 3.18140e+04 5.76900e+04 5.03360e+04 5.86680e+04\n",
      " 1.63549e+05 7.77800e+03 8.63460e+04 3.82817e+05 1.20862e+05 6.14200e+03\n",
      " 1.76060e+04 6.88200e+03 3.07640e+04 3.24700e+03 3.24230e+04 7.02900e+03\n",
      " 7.86400e+04 5.64700e+04 1.41177e+05 2.87350e+04 8.96000e+02 2.89000e+02\n",
      " 3.14000e+02 1.29890e+04 5.52700e+03 8.53150e+04 2.75000e+02 4.81000e+02\n",
      " 2.53430e+04 9.92400e+04 1.10220e+04 1.04000e+02 1.03000e+02 9.85700e+03\n",
      " 7.70000e+01 4.00000e+02 2.18000e+02 6.13000e+03 2.12500e+03 1.85500e+03\n",
      " 5.31600e+03 4.57400e+03 1.43000e+02 2.71120e+04 1.19000e+02 1.93000e+02\n",
      " 1.20000e+01 2.04500e+04 3.09300e+03 1.60847e+05 1.23992e+05 2.33871e+05\n",
      " 1.26800e+03 3.74400e+03 1.42995e+05 3.81550e+04 1.13790e+04 2.00590e+04\n",
      " 5.83300e+03 2.25180e+04 6.54000e+03]\n",
      "[9.84000e+02 5.54000e+02 6.01000e+02 1.23000e+02 4.80000e+01 1.14177e+05\n",
      " 8.60000e+01 6.81800e+03 4.39770e+04 2.19200e+03 1.31783e+05 4.33700e+04\n",
      " 1.23200e+03 3.63700e+04 1.45500e+03 6.40200e+03 2.13560e+04 8.65100e+03\n",
      " 4.79800e+04 4.19470e+04 1.93400e+03 1.11440e+04 3.08440e+04 7.65400e+03\n",
      " 3.53000e+02]\n"
     ]
    },
    {
     "data": {
      "text/plain": [
       "(array([], dtype=float64), array([], dtype=float64))"
      ]
     },
     "execution_count": 48,
     "metadata": {},
     "output_type": "execute_result"
    }
   ],
   "source": [
    "evaluate_volume_feature(X, y)"
   ]
  },
  {
   "cell_type": "code",
   "execution_count": 26,
   "metadata": {
    "colab": {
     "base_uri": "https://localhost:8080/"
    },
    "executionInfo": {
     "elapsed": 298,
     "status": "ok",
     "timestamp": 1684601988178,
     "user": {
      "displayName": "Roberto Alejandro Mena Ramirez",
      "userId": "17762559014980159599"
     },
     "user_tz": 300
    },
    "id": "G7egzZz4GbEC",
    "outputId": "fadcd451-f832-40a5-9111-598a306a1a54"
   },
   "outputs": [
    {
     "data": {
      "text/plain": [
       "array([0, 0, 1, 1, 1, 0, 0, 0, 0, 0, 1, 0, 1, 1, 1, 1, 0, 1, 1, 1, 1, 1,\n",
       "       0, 0, 1, 0, 0, 0, 0, 0, 0, 0, 0, 0, 0, 0, 0, 0, 0, 0, 0, 0, 0, 0,\n",
       "       0, 0, 0, 0, 0, 0, 0, 0, 0, 0, 1, 0, 0, 0, 0, 0, 0, 0, 0, 0, 0, 0,\n",
       "       0, 0, 0, 0, 0, 0, 0, 0, 0, 0, 0, 0, 0, 1, 1, 0, 0, 0, 1, 1, 1, 0,\n",
       "       1, 0, 0, 0, 0, 1, 1, 0, 0, 0, 0, 0, 0, 0, 0, 1, 0, 1, 0, 1, 0, 1,\n",
       "       0, 1, 0, 1, 0, 1, 0, 1, 1, 0, 0, 0, 1, 0, 1, 0, 0, 0, 0, 0, 0, 0,\n",
       "       1, 1, 0, 0, 0, 1, 1, 1, 0, 1, 1, 1, 0, 0, 0, 0, 0, 0, 0, 0, 1, 1,\n",
       "       0, 1, 1, 0, 0, 0, 1, 0, 1, 0, 0, 1, 1, 1, 0, 0, 1, 0, 1, 1, 1, 1,\n",
       "       1, 1, 1, 1, 0, 1, 1, 1, 1, 1, 1, 1, 1, 1, 1, 1, 1, 1, 1, 1, 1, 1,\n",
       "       1, 0, 1, 0, 1, 0, 0, 1, 1, 1, 1, 1, 1, 1, 1, 1, 0, 0, 0, 0, 1, 1,\n",
       "       1, 0, 1, 0, 0, 0, 0, 1, 1, 1, 1, 1, 0, 0, 0, 0, 1, 0, 1, 0, 0, 0,\n",
       "       1, 0, 1, 1, 1, 0, 0, 1, 1, 0, 1, 1, 0, 0])"
      ]
     },
     "execution_count": 26,
     "metadata": {},
     "output_type": "execute_result"
    }
   ],
   "source": [
    "y"
   ]
  },
  {
   "cell_type": "code",
   "execution_count": 62,
   "metadata": {
    "colab": {
     "base_uri": "https://localhost:8080/",
     "height": 1000
    },
    "executionInfo": {
     "elapsed": 1190,
     "status": "ok",
     "timestamp": 1685136223258,
     "user": {
      "displayName": "Alejandro M",
      "userId": "11111187776730726759"
     },
     "user_tz": 300
    },
    "id": "wgoUSrZDFlAQ",
    "outputId": "ac630373-eb90-499b-961d-b583b87a2bdf"
   },
   "outputs": [
    {
     "name": "stderr",
     "output_type": "stream",
     "text": [
      "/usr/local/lib/python3.8/dist-packages/sklearn/preprocessing/_data.py:3234: RuntimeWarning: divide by zero encountered in log\n",
      "  loglike = -n_samples / 2 * np.log(x_trans.var())\n",
      "/usr/local/lib/python3.8/dist-packages/sklearn/preprocessing/_data.py:3234: RuntimeWarning: divide by zero encountered in log\n",
      "  loglike = -n_samples / 2 * np.log(x_trans.var())\n",
      "/usr/local/lib/python3.8/dist-packages/sklearn/preprocessing/_data.py:3234: RuntimeWarning: divide by zero encountered in log\n",
      "  loglike = -n_samples / 2 * np.log(x_trans.var())\n",
      "/usr/local/lib/python3.8/dist-packages/sklearn/preprocessing/_data.py:3234: RuntimeWarning: divide by zero encountered in log\n",
      "  loglike = -n_samples / 2 * np.log(x_trans.var())\n",
      "/usr/local/lib/python3.8/dist-packages/sklearn/preprocessing/_data.py:3234: RuntimeWarning: divide by zero encountered in log\n",
      "  loglike = -n_samples / 2 * np.log(x_trans.var())\n",
      "/usr/local/lib/python3.8/dist-packages/sklearn/preprocessing/_data.py:3234: RuntimeWarning: divide by zero encountered in log\n",
      "  loglike = -n_samples / 2 * np.log(x_trans.var())\n",
      "/usr/local/lib/python3.8/dist-packages/sklearn/preprocessing/_data.py:3234: RuntimeWarning: divide by zero encountered in log\n",
      "  loglike = -n_samples / 2 * np.log(x_trans.var())\n",
      "/usr/local/lib/python3.8/dist-packages/sklearn/preprocessing/_data.py:3234: RuntimeWarning: divide by zero encountered in log\n",
      "  loglike = -n_samples / 2 * np.log(x_trans.var())\n",
      "/usr/local/lib/python3.8/dist-packages/sklearn/preprocessing/_data.py:3234: RuntimeWarning: divide by zero encountered in log\n",
      "  loglike = -n_samples / 2 * np.log(x_trans.var())\n",
      "/usr/local/lib/python3.8/dist-packages/sklearn/preprocessing/_data.py:3234: RuntimeWarning: divide by zero encountered in log\n",
      "  loglike = -n_samples / 2 * np.log(x_trans.var())\n"
     ]
    },
    {
     "name": "stdout",
     "output_type": "stream",
     "text": [
      "Confusion matrix, without normalization\n"
     ]
    },
    {
     "data": {
      "image/png": "[encoded data removed]",
      "text/plain": [
       "<Figure size 432x288 with 2 Axes>"
      ]
     },
     "metadata": {
      "needs_background": "light"
     },
     "output_type": "display_data"
    },
    {
     "name": "stdout",
     "output_type": "stream",
     "text": [
      "Normalized confusion matrix\n"
     ]
    },
    {
     "data": {
      "image/png": "[encoded data removed]",
      "text/plain": [
       "<Figure size 432x288 with 2 Axes>"
      ]
     },
     "metadata": {
      "needs_background": "light"
     },
     "output_type": "display_data"
    }
   ],
   "source": [
    "predicted_target, actual_target = evaluate_specific_model(X, y)\n",
    "plot_confusion_matrix(predicted_target, actual_target)"
   ]
  },
  {
   "cell_type": "markdown",
   "metadata": {
    "id": "ygNnDIGZTN1-"
   },
   "source": [
    "## Test prediction !?"
   ]
  },
  {
   "cell_type": "code",
   "execution_count": null,
   "metadata": {
    "id": "hSInNneKThza"
   },
   "outputs": [],
   "source": [
    "# cargar la base\n",
    "def load_dataset(full_path):\n",
    "    # cargar como numpy array\n",
    "    data = read_csv(full_path)\n",
    "    data = data.values\n",
    "    print(data)\n",
    "    # split input - output \n",
    "    X, y = data[:, :-1], data[:, -1]\n",
    "    # clases 0 y 1\n",
    "    y = LabelEncoder().fit_transform(y)\n",
    "    return X, y"
   ]
  },
  {
   "cell_type": "code",
   "execution_count": null,
   "metadata": {
    "id": "acWSShfUTlOr"
   },
   "outputs": [],
   "source": [
    "full_path = f'{base_path}/datasets/csv/20201225_mca_and_lacunar.csv'"
   ]
  },
  {
   "cell_type": "code",
   "execution_count": null,
   "metadata": {
    "colab": {
     "base_uri": "https://localhost:8080/"
    },
    "executionInfo": {
     "elapsed": 1301,
     "status": "ok",
     "timestamp": 1610120861937,
     "user": {
      "displayName": "Roberto Alejandro Mena Ramirez",
      "photoUrl": "",
      "userId": "17762559014980159599"
     },
     "user_tz": 300
    },
    "id": "h9JqcEfHTeIi",
    "outputId": "e3d0e710-4a07-4c31-f17f-5f94ac750cf3"
   },
   "outputs": [
    {
     "name": "stdout",
     "output_type": "stream",
     "text": [
      "[[1.08000000e+03 8.98987808e+01 4.30134900e-01 ... 1.24714345e+02\n",
      "  7.81609094e+01 0.00000000e+00]\n",
      " [2.02200000e+03 9.51588058e+01 1.35011350e+00 ... 1.24087514e+02\n",
      "  1.26236012e+02 0.00000000e+00]\n",
      " [3.36000000e+02 8.31819153e+01 1.16081287e-01 ... 1.13198584e+02\n",
      "  6.65797069e+01 0.00000000e+00]\n",
      " ...\n",
      " [7.27900000e+03 9.11371231e+01 1.04778311e+00 ... 1.15209729e+02\n",
      "  6.65553382e+01 1.00000000e+00]\n",
      " [2.16390000e+04 9.77653656e+01 1.02413774e+01 ... 1.17543672e+02\n",
      "  1.25858838e+02 0.00000000e+00]\n",
      " [8.43300000e+03 9.63045959e+01 5.46200848e+00 ... 1.26903079e+02\n",
      "  7.13877821e+01 0.00000000e+00]]\n"
     ]
    }
   ],
   "source": [
    "X, y = load_dataset(full_path)"
   ]
  },
  {
   "cell_type": "code",
   "execution_count": null,
   "metadata": {
    "colab": {
     "base_uri": "https://localhost:8080/"
    },
    "executionInfo": {
     "elapsed": 814,
     "status": "ok",
     "timestamp": 1609880315893,
     "user": {
      "displayName": "Roberto Alejandro Mena Ramirez",
      "photoUrl": "",
      "userId": "17762559014980159599"
     },
     "user_tz": 300
    },
    "id": "r4gdbT-3T4V0",
    "outputId": "d94690f8-8186-4ccf-f0a7-71f56da9710d"
   },
   "outputs": [
    {
     "data": {
      "text/plain": [
       "(array([1.20720000e+05, 9.90288010e+01, 2.02001708e+01, 1.34703163e+08,\n",
       "        7.33112242e+01, 1.15475155e+02, 1.46575685e+02]),\n",
       " array([8.57200000e+03, 3.89640719e-01, 5.05314744e-05, 8.83901200e+06,\n",
       "        1.20361492e+02, 1.09528212e+02, 1.36125785e+02]))"
      ]
     },
     "execution_count": 49,
     "metadata": {
      "tags": []
     },
     "output_type": "execute_result"
    }
   ],
   "source": [
    "#y[55] -> 1\n",
    "#y[59] -> 1\n",
    "\n",
    "#y[52] -> 0\n",
    "#y[53] -> 0\n",
    "X[55], X[59]"
   ]
  },
  {
   "cell_type": "code",
   "execution_count": null,
   "metadata": {
    "id": "U3Z1GGCITPqz"
   },
   "outputs": [],
   "source": [
    "model = RandomForestClassifier(n_estimators=1000)\n",
    "pipeline = Pipeline(steps=[('p',PowerTransformer()), ('m',model)])"
   ]
  },
  {
   "cell_type": "code",
   "execution_count": null,
   "metadata": {
    "id": "MTQRbFRor7nD"
   },
   "outputs": [],
   "source": [
    "from sklearn.model_selection import train_test_split\n",
    "X_train, X_test, y_train, y_test = train_test_split(X, y, test_size=0.1, random_state=42)"
   ]
  },
  {
   "cell_type": "code",
   "execution_count": null,
   "metadata": {
    "colab": {
     "base_uri": "https://localhost:8080/"
    },
    "executionInfo": {
     "elapsed": 543,
     "status": "ok",
     "timestamp": 1610121076812,
     "user": {
      "displayName": "Roberto Alejandro Mena Ramirez",
      "photoUrl": "",
      "userId": "17762559014980159599"
     },
     "user_tz": 300
    },
    "id": "BU1Gmi-xsJgi",
    "outputId": "65fcd4f7-29cc-4b6d-c807-05ebca92394c"
   },
   "outputs": [
    {
     "data": {
      "text/plain": [
       "((160, 7), (160,), (41, 7), (41,))"
      ]
     },
     "execution_count": 18,
     "metadata": {
      "tags": []
     },
     "output_type": "execute_result"
    }
   ],
   "source": [
    "X_train.shape, y_train.shape, X_test.shape, y_test.shape"
   ]
  },
  {
   "cell_type": "code",
   "execution_count": null,
   "metadata": {
    "colab": {
     "base_uri": "https://localhost:8080/"
    },
    "executionInfo": {
     "elapsed": 1969,
     "status": "ok",
     "timestamp": 1610121249974,
     "user": {
      "displayName": "Roberto Alejandro Mena Ramirez",
      "photoUrl": "",
      "userId": "17762559014980159599"
     },
     "user_tz": 300
    },
    "id": "-T3ETOPQU2CP",
    "outputId": "30381e67-eb3d-4825-8462-27dbc6a6c7db"
   },
   "outputs": [
    {
     "name": "stderr",
     "output_type": "stream",
     "text": [
      "/usr/local/lib/python3.6/dist-packages/sklearn/preprocessing/_data.py:2982: RuntimeWarning: divide by zero encountered in log\n",
      "  loglike = -n_samples / 2 * np.log(x_trans.var())\n"
     ]
    },
    {
     "data": {
      "text/plain": [
       "Pipeline(memory=None,\n",
       "         steps=[('p',\n",
       "                 PowerTransformer(copy=True, method='yeo-johnson',\n",
       "                                  standardize=True)),\n",
       "                ('m',\n",
       "                 RandomForestClassifier(bootstrap=True, ccp_alpha=0.0,\n",
       "                                        class_weight=None, criterion='gini',\n",
       "                                        max_depth=None, max_features='auto',\n",
       "                                        max_leaf_nodes=None, max_samples=None,\n",
       "                                        min_impurity_decrease=0.0,\n",
       "                                        min_impurity_split=None,\n",
       "                                        min_samples_leaf=1, min_samples_split=2,\n",
       "                                        min_weight_fraction_leaf=0.0,\n",
       "                                        n_estimators=1000, n_jobs=None,\n",
       "                                        oob_score=False, random_state=None,\n",
       "                                        verbose=0, warm_start=False))],\n",
       "         verbose=False)"
      ]
     },
     "execution_count": 20,
     "metadata": {
      "tags": []
     },
     "output_type": "execute_result"
    }
   ],
   "source": [
    "# entrenar model\n",
    "pipeline.fit(X, y)"
   ]
  },
  {
   "cell_type": "code",
   "execution_count": null,
   "metadata": {
    "colab": {
     "base_uri": "https://localhost:8080/"
    },
    "executionInfo": {
     "elapsed": 761,
     "status": "ok",
     "timestamp": 1610121473584,
     "user": {
      "displayName": "Roberto Alejandro Mena Ramirez",
      "photoUrl": "",
      "userId": "17762559014980159599"
     },
     "user_tz": 300
    },
    "id": "gMwANxlKtJtk",
    "outputId": "87966a07-df67-4f4d-e088-5307fe578683"
   },
   "outputs": [
    {
     "data": {
      "text/plain": [
       "['/content/drive/MyDrive/integradora_fiec/modelos/pipeline_random_forest_95_acc.joblib']"
      ]
     },
     "execution_count": 25,
     "metadata": {
      "tags": []
     },
     "output_type": "execute_result"
    }
   ],
   "source": [
    "from joblib import dump, load\n",
    "path= '/content/drive/MyDrive/integradora_fiec/modelos/' + 'pipeline_random_forest_95_acc.joblib'\n",
    "dump(pipeline, path)"
   ]
  },
  {
   "cell_type": "code",
   "execution_count": null,
   "metadata": {
    "id": "LPP84nc9teU7"
   },
   "outputs": [],
   "source": [
    "_pipeline = load(path)"
   ]
  },
  {
   "cell_type": "code",
   "execution_count": null,
   "metadata": {
    "colab": {
     "base_uri": "https://localhost:8080/"
    },
    "executionInfo": {
     "elapsed": 978,
     "status": "ok",
     "timestamp": 1610132071163,
     "user": {
      "displayName": "Roberto Alejandro Mena Ramirez",
      "photoUrl": "",
      "userId": "17762559014980159599"
     },
     "user_tz": 300
    },
    "id": "6MBOkyQjVzEQ",
    "outputId": "ff1f87cb-5d23-45b2-8a72-c681cacda12c"
   },
   "outputs": [
    {
     "name": "stdout",
     "output_type": "stream",
     "text": [
      "[[0.985 0.015]]\n",
      ">Predicción=0 (esperado 0)\n",
      "[[0.991 0.009]]\n",
      ">Predicción=0 (esperado 0)\n"
     ]
    }
   ],
   "source": [
    "# evaluar unos casos(class 0)\n",
    "data = [\n",
    "        [1.67000000e+02, 7.88906326e+01, 7.78532179e-02, 8.67525700e+06,\n",
    "        8.29662079e+01, 1.22525581e+02, 7.00238445e+01],\n",
    "        [3.99000000e+02, 8.65921783e+01, 1.64175692e-01, 8.67542300e+06,\n",
    "        9.49797327e+01, 1.16707743e+02, 1.20460677e+02]\n",
    "]\n",
    "for row in data:\n",
    "    # predicciones\n",
    "    yhat = _pipeline.predict([row])\n",
    "    print(_pipeline.predict_proba([row]))\n",
    "    # obtener label\n",
    "    label = yhat[0]\n",
    "    # resumen\n",
    "    print('>Predicción=%d (esperado 0)' % (label))"
   ]
  },
  {
   "cell_type": "code",
   "execution_count": null,
   "metadata": {
    "colab": {
     "base_uri": "https://localhost:8080/"
    },
    "executionInfo": {
     "elapsed": 581,
     "status": "ok",
     "timestamp": 1609880359575,
     "user": {
      "displayName": "Roberto Alejandro Mena Ramirez",
      "photoUrl": "",
      "userId": "17762559014980159599"
     },
     "user_tz": 300
    },
    "id": "MD4_eTYqWAK9",
    "outputId": "97ef9586-e6b0-482d-a52e-d1d5f24ac60f"
   },
   "outputs": [
    {
     "name": "stdout",
     "output_type": "stream",
     "text": [
      ">Predicción=1 (esperado 1)\n",
      ">Predicción=1 (esperado 1)\n"
     ]
    }
   ],
   "source": [
    "# evaluate on some  (known class 1)\n",
    "data = [\n",
    "[1.20720000e+05, 9.90288010e+01, 2.02001708e+01, 1.34703163e+08,\n",
    "        7.33112242e+01, 1.15475155e+02, 1.46575685e+02],\n",
    " [8.57200000e+03, 3.89640719e-01, 5.05314744e-05, 8.83901200e+06,\n",
    "        1.20361492e+02, 1.09528212e+02, 1.36125785e+02]\n",
    "    ]\n",
    "for row in data:\n",
    "    # predicciones\n",
    "    yhat = pipeline.predict([row])\n",
    "    # obtener label\n",
    "    label = yhat[0]\n",
    "    # resumen\n",
    "    print('>Predicción=%d (esperado 1)' % (label))"
   ]
  },
  {
   "cell_type": "markdown",
   "metadata": {
    "id": "PijPcx-fvTLM"
   },
   "source": [
    "## Test prediction for prod !?"
   ]
  },
  {
   "cell_type": "code",
   "execution_count": null,
   "metadata": {
    "id": "yO422xOKUZBL"
   },
   "outputs": [],
   "source": []
  },
  {
   "cell_type": "code",
   "execution_count": null,
   "metadata": {
    "id": "_K6WGzgmUZUz"
   },
   "outputs": [],
   "source": [
    "import SimpleITK as sitk\n",
    "import scipy\n",
    "def volume(img: sitk.Image):\n",
    "  array = sitk.GetArrayFromImage(img)\n",
    "  pixel_volume = img.GetSpacing()[0] * img.GetSpacing()[1] * img.GetSpacing()[2]\n",
    "  return (array > 0).sum() * pixel_volume\n",
    "\n",
    "def max(img: sitk.Image):\n",
    "  f = sitk.StatisticsImageFilter()\n",
    "  f.Execute(img)\n",
    "  return f.GetMaximum()\n",
    "\n",
    "def variance(img: sitk.Image):\n",
    "  f = sitk.StatisticsImageFilter()\n",
    "  f.Execute(img)\n",
    "  return f.GetVariance()\n",
    "\n",
    "def MorphologicalWatershed_(img: sitk.Image):\n",
    "  transformed = sitk.MorphologicalWatershed(img)\n",
    "  array = sitk.GetArrayFromImage(transformed)\n",
    "\n",
    "  f = sitk.StatisticsImageFilter()\n",
    "  f.Execute(transformed)\n",
    "  return f.GetSum()\n",
    "\n",
    "def Z_(img: sitk.Image):\n",
    "  array = sitk.GetArrayFromImage(img)\n",
    "  coords = scipy.ndimage.measurements.center_of_mass(array)\n",
    "  return coords[0]\n",
    "\n",
    "def X_(img: sitk.Image):\n",
    "  array = sitk.GetArrayFromImage(img)\n",
    "  coords = scipy.ndimage.measurements.center_of_mass(array)\n",
    "  return coords[1]\n",
    "\n",
    "def Y_(img: sitk.Image):\n",
    "  array = sitk.GetArrayFromImage(img)\n",
    "  coords = scipy.ndimage.measurements.center_of_mass(array)\n",
    "  return coords[2]\n",
    "\n",
    "def get_feature_vector(img : sitk.Image):\n",
    "  fn = [\n",
    "    volume,\n",
    "    max,\n",
    "    variance,\n",
    "    MorphologicalWatershed_,\n",
    "    Z_,\n",
    "    X_,\n",
    "    Y_\n",
    "  ]\n",
    "  return [f(img) for f in fn]\n"
   ]
  },
  {
   "cell_type": "code",
   "execution_count": null,
   "metadata": {
    "id": "ZUe7frF5vV10"
   },
   "outputs": [],
   "source": [
    "import joblib\n",
    "path= '/content/drive/MyDrive/integradora_fiec/modelos/' + 'pipeline_random_forest_95_acc.joblib'\n",
    "_pipeline = joblib.load(path)"
   ]
  },
  {
   "cell_type": "code",
   "execution_count": null,
   "metadata": {
    "id": "_c0DHG_8WlZF"
   },
   "outputs": [],
   "source": [
    "xpath = '/content/c0003s0005t01_t1w_stx.nii.gz'\n",
    "ypath = '/content/c0003s0005t01_t1w_stx_maskGenerated.nii.gz'\n"
   ]
  },
  {
   "cell_type": "code",
   "execution_count": null,
   "metadata": {
    "colab": {
     "base_uri": "https://localhost:8080/"
    },
    "executionInfo": {
     "elapsed": 3209,
     "status": "ok",
     "timestamp": 1610133102287,
     "user": {
      "displayName": "Roberto Alejandro Mena Ramirez",
      "photoUrl": "",
      "userId": "17762559014980159599"
     },
     "user_tz": 300
    },
    "id": "qcBK7HRwTdIi",
    "outputId": "b0954d2d-2683-44f0-84a8-335c97363b35"
   },
   "outputs": [
    {
     "data": {
      "text/plain": [
       "{'Lacunar': 0.981, 'MCA': 0.019}"
      ]
     },
     "execution_count": 21,
     "metadata": {
      "tags": []
     },
     "output_type": "execute_result"
    }
   ],
   "source": [
    "ximg = sitk.ReadImage(xpath, sitk.sitkFloat32)\n",
    "yimg = sitk.ReadImage(ypath, sitk.sitkFloat32)\n",
    "yimg = sitk.Divide(yimg, 255.0) # because mask comes with values in {255,0}\n",
    "\n",
    "masked = sitk.Multiply(ximg, yimg)\n",
    "\n",
    "feature_row = get_feature_vector(masked)\n",
    "\n",
    "\n",
    "pred = _pipeline.predict_proba([feature_row])\n",
    "{\n",
    "    'Lacunar' : pred[0][0],\n",
    "    'MCA' : pred[0][1]\n",
    "}"
   ]
  },
  {
   "cell_type": "code",
   "execution_count": null,
   "metadata": {},
   "outputs": [],
   "source": []
  },
  {
   "cell_type": "code",
   "execution_count": null,
   "metadata": {},
   "outputs": [],
   "source": []
  },
  {
   "cell_type": "code",
   "execution_count": 8,
   "metadata": {},
   "outputs": [
    {
     "data": {
      "text/html": [
       "<div>\n",
       "<style scoped>\n",
       "    .dataframe tbody tr th:only-of-type {\n",
       "        vertical-align: middle;\n",
       "    }\n",
       "\n",
       "    .dataframe tbody tr th {\n",
       "        vertical-align: top;\n",
       "    }\n",
       "\n",
       "    .dataframe thead th {\n",
       "        text-align: right;\n",
       "    }\n",
       "</style>\n",
       "<table border=\"1\" class=\"dataframe\">\n",
       "  <thead>\n",
       "    <tr style=\"text-align: right;\">\n",
       "      <th></th>\n",
       "      <th>volume</th>\n",
       "      <th>max</th>\n",
       "      <th>MorphologicalWatershed_</th>\n",
       "      <th>Z_</th>\n",
       "      <th>X_</th>\n",
       "      <th>Y_</th>\n",
       "      <th>territory</th>\n",
       "    </tr>\n",
       "  </thead>\n",
       "  <tbody>\n",
       "    <tr>\n",
       "      <th>0</th>\n",
       "      <td>1022.0</td>\n",
       "      <td>64.731644</td>\n",
       "      <td>8677277.0</td>\n",
       "      <td>89.418561</td>\n",
       "      <td>118.063484</td>\n",
       "      <td>74.397178</td>\n",
       "      <td>0</td>\n",
       "    </tr>\n",
       "    <tr>\n",
       "      <th>1</th>\n",
       "      <td>18906.0</td>\n",
       "      <td>65.639984</td>\n",
       "      <td>9234832.0</td>\n",
       "      <td>97.018884</td>\n",
       "      <td>141.261722</td>\n",
       "      <td>116.524413</td>\n",
       "      <td>0</td>\n",
       "    </tr>\n",
       "    <tr>\n",
       "      <th>2</th>\n",
       "      <td>2577.0</td>\n",
       "      <td>63.612011</td>\n",
       "      <td>8685092.0</td>\n",
       "      <td>118.760225</td>\n",
       "      <td>137.257446</td>\n",
       "      <td>52.043040</td>\n",
       "      <td>1</td>\n",
       "    </tr>\n",
       "    <tr>\n",
       "      <th>3</th>\n",
       "      <td>86976.0</td>\n",
       "      <td>73.266624</td>\n",
       "      <td>20182580.0</td>\n",
       "      <td>105.381807</td>\n",
       "      <td>105.046152</td>\n",
       "      <td>142.975694</td>\n",
       "      <td>1</td>\n",
       "    </tr>\n",
       "    <tr>\n",
       "      <th>4</th>\n",
       "      <td>84513.0</td>\n",
       "      <td>66.623680</td>\n",
       "      <td>31745853.0</td>\n",
       "      <td>75.508738</td>\n",
       "      <td>153.342847</td>\n",
       "      <td>135.489437</td>\n",
       "      <td>1</td>\n",
       "    </tr>\n",
       "    <tr>\n",
       "      <th>...</th>\n",
       "      <td>...</td>\n",
       "      <td>...</td>\n",
       "      <td>...</td>\n",
       "      <td>...</td>\n",
       "      <td>...</td>\n",
       "      <td>...</td>\n",
       "      <td>...</td>\n",
       "    </tr>\n",
       "    <tr>\n",
       "      <th>251</th>\n",
       "      <td>11379.0</td>\n",
       "      <td>71.441116</td>\n",
       "      <td>8948566.0</td>\n",
       "      <td>84.289328</td>\n",
       "      <td>129.461639</td>\n",
       "      <td>122.436380</td>\n",
       "      <td>0</td>\n",
       "    </tr>\n",
       "    <tr>\n",
       "      <th>252</th>\n",
       "      <td>20059.0</td>\n",
       "      <td>71.964378</td>\n",
       "      <td>9459820.0</td>\n",
       "      <td>85.353310</td>\n",
       "      <td>136.228534</td>\n",
       "      <td>127.677008</td>\n",
       "      <td>1</td>\n",
       "    </tr>\n",
       "    <tr>\n",
       "      <th>253</th>\n",
       "      <td>5833.0</td>\n",
       "      <td>64.164856</td>\n",
       "      <td>8790426.0</td>\n",
       "      <td>80.916926</td>\n",
       "      <td>114.187660</td>\n",
       "      <td>64.966832</td>\n",
       "      <td>1</td>\n",
       "    </tr>\n",
       "    <tr>\n",
       "      <th>254</th>\n",
       "      <td>22518.0</td>\n",
       "      <td>70.143845</td>\n",
       "      <td>9536503.0</td>\n",
       "      <td>99.221017</td>\n",
       "      <td>117.882599</td>\n",
       "      <td>122.777053</td>\n",
       "      <td>0</td>\n",
       "    </tr>\n",
       "    <tr>\n",
       "      <th>255</th>\n",
       "      <td>6540.0</td>\n",
       "      <td>69.364632</td>\n",
       "      <td>8753884.0</td>\n",
       "      <td>96.917274</td>\n",
       "      <td>121.110689</td>\n",
       "      <td>72.495085</td>\n",
       "      <td>0</td>\n",
       "    </tr>\n",
       "  </tbody>\n",
       "</table>\n",
       "<p>256 rows × 7 columns</p>\n",
       "</div>"
      ],
      "text/plain": [
       "      volume        max  MorphologicalWatershed_          Z_          X_  \\\n",
       "0     1022.0  64.731644                8677277.0   89.418561  118.063484   \n",
       "1    18906.0  65.639984                9234832.0   97.018884  141.261722   \n",
       "2     2577.0  63.612011                8685092.0  118.760225  137.257446   \n",
       "3    86976.0  73.266624               20182580.0  105.381807  105.046152   \n",
       "4    84513.0  66.623680               31745853.0   75.508738  153.342847   \n",
       "..       ...        ...                      ...         ...         ...   \n",
       "251  11379.0  71.441116                8948566.0   84.289328  129.461639   \n",
       "252  20059.0  71.964378                9459820.0   85.353310  136.228534   \n",
       "253   5833.0  64.164856                8790426.0   80.916926  114.187660   \n",
       "254  22518.0  70.143845                9536503.0   99.221017  117.882599   \n",
       "255   6540.0  69.364632                8753884.0   96.917274  121.110689   \n",
       "\n",
       "             Y_  territory  \n",
       "0     74.397178          0  \n",
       "1    116.524413          0  \n",
       "2     52.043040          1  \n",
       "3    142.975694          1  \n",
       "4    135.489437          1  \n",
       "..          ...        ...  \n",
       "251  122.436380          0  \n",
       "252  127.677008          1  \n",
       "253   64.966832          1  \n",
       "254  122.777053          0  \n",
       "255   72.495085          0  \n",
       "\n",
       "[256 rows x 7 columns]"
      ]
     },
     "execution_count": 8,
     "metadata": {},
     "output_type": "execute_result"
    }
   ],
   "source": [
    "out_path = f\"{datasets_path}/20230620_main_features.csv\"\n",
    "import pandas as pd\n",
    "\n",
    "df = pd.read_csv(out_path)\n",
    "df"
   ]
  },
  {
   "cell_type": "code",
   "execution_count": null,
   "metadata": {},
   "outputs": [],
   "source": []
  }
 ],
 "metadata": {
  "colab": {
   "collapsed_sections": [
    "v8rt_QUUthFp"
   ],
   "provenance": []
  },
  "gpuClass": "standard",
  "kernelspec": {
   "display_name": "Python 3 (ipykernel)",
   "language": "python",
   "name": "python3"
  },
  "language_info": {
   "codemirror_mode": {
    "name": "ipython",
    "version": 3
   },
   "file_extension": ".py",
   "mimetype": "text/x-python",
   "name": "python",
   "nbconvert_exporter": "python",
   "pygments_lexer": "ipython3",
   "version": "3.8.10"
  }
 },
 "nbformat": 4,
 "nbformat_minor": 4
}
