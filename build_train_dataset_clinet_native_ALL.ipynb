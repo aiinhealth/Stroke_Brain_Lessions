{
 "cells": [
  {
   "cell_type": "markdown",
   "metadata": {
    "id": "v2XvrOWkyk9O"
   },
   "source": [
    "First create a direct access to /datasets folder in your personal drive"
   ]
  },
  {
   "cell_type": "code",
   "execution_count": null,
   "metadata": {
    "colab": {
     "base_uri": "https://localhost:8080/"
    },
    "executionInfo": {
     "elapsed": 21364,
     "status": "ok",
     "timestamp": 1685857959915,
     "user": {
      "displayName": "Alejandro M",
      "userId": "11111187776730726759"
     },
     "user_tz": 300
    },
    "id": "eMNWO08O81RZ",
    "outputId": "3db3091e-cfa5-4a64-fd98-316dda673fbe"
   },
   "outputs": [
    {
     "name": "stdout",
     "output_type": "stream",
     "text": [
      "Mounted at /content/drive\n"
     ]
    }
   ],
   "source": [
    "# Mount drive if needed\n",
    "from google.colab import drive\n",
    "drive.mount('/content/drive', force_remount=True)"
   ]
  },
  {
   "cell_type": "markdown",
   "metadata": {
    "id": "v8rt_QUUthFp"
   },
   "source": [
    "\n",
    "## Install dependencies"
   ]
  },
  {
   "cell_type": "code",
   "execution_count": 1,
   "metadata": {
    "colab": {
     "base_uri": "https://localhost:8080/"
    },
    "executionInfo": {
     "elapsed": 31384,
     "status": "ok",
     "timestamp": 1685858489375,
     "user": {
      "displayName": "Alejandro M",
      "userId": "11111187776730726759"
     },
     "user_tz": 300
    },
    "id": "Bdm-G9y_1Wrw",
    "outputId": "e686530d-18d0-4633-d17a-cb169678ef5e"
   },
   "outputs": [],
   "source": [
    "# ! pip install SimpleITK\n",
    "# ! pip install antspyx"
   ]
  },
  {
   "cell_type": "markdown",
   "metadata": {
    "id": "4B0BhRTnxlxj"
   },
   "source": [
    "\n",
    "## Load images to current session"
   ]
  },
  {
   "cell_type": "code",
   "execution_count": 2,
   "metadata": {
    "colab": {
     "base_uri": "https://localhost:8080/"
    },
    "executionInfo": {
     "elapsed": 38863,
     "status": "ok",
     "timestamp": 1685755447113,
     "user": {
      "displayName": "Alejandro M",
      "userId": "11111187776730726759"
     },
     "user_tz": 300
    },
    "id": "GhAcoJXWxqgK",
    "outputId": "72117645-29d6-46e1-cae5-152c1b8e4df1"
   },
   "outputs": [],
   "source": [
    "# ! mkdir -v data\n",
    "# ! unzip \"/content/drive/MyDrive/integradora_fiec/datasets/NATIVE.zip\" -d \"/data\""
   ]
  },
  {
   "cell_type": "markdown",
   "metadata": {
    "id": "9nUkyINb3zCR"
   },
   "source": [
    "## Preprocessing steps functions"
   ]
  },
  {
   "cell_type": "code",
   "execution_count": 1,
   "metadata": {
    "colab": {
     "base_uri": "https://localhost:8080/"
    },
    "executionInfo": {
     "elapsed": 14041,
     "status": "ok",
     "timestamp": 1685817217259,
     "user": {
      "displayName": "Alejandro M",
      "userId": "11111187776730726759"
     },
     "user_tz": 300
    },
    "id": "0rHZzByP5XeA",
    "outputId": "a722cf1b-2e3e-41ce-94eb-cdc4b313a359"
   },
   "outputs": [
    {
     "name": "stdout",
     "output_type": "stream",
     "text": [
      "AntsPy version = 0.3.8\n",
      "SimpleITK version = 2.2.0\n"
     ]
    }
   ],
   "source": [
    "%matplotlib inline\n",
    "import os\n",
    "import ants\n",
    "import SimpleITK as sitk\n",
    "import nibabel as nib\n",
    "import matplotlib.pyplot as plt\n",
    "import numpy as np\n",
    "import cv2\n",
    "\n",
    "print(f'AntsPy version = {ants.__version__}')\n",
    "print(f'SimpleITK version = {sitk.__version__}')"
   ]
  },
  {
   "cell_type": "code",
   "execution_count": null,
   "metadata": {
    "id": "id8_NUqU4iHV"
   },
   "outputs": [],
   "source": [
    "mni_T1_path = TEMPLATE_PATH = '/content/drive/MyDrive/integradora_fiec/datasets/templates/mni_icbm152_t1_tal_nlin_sym_09a.nii'\n",
    "\n",
    "def load_template_ants() -> ants.ANTsImage:\n",
    "    template_img_ants = ants.image_read(TEMPLATE_PATH)\n",
    "    return template_img_ants\n",
    "\n",
    "def load_img_ants(path: str) -> ants.ANTsImage:\n",
    "    raw_img_ants = ants.image_read(path)\n",
    "    return raw_img_ants\n",
    "\n",
    "def register_to_mni(img: ants.ANTsImage, mask: ants.ANTsImage) -> ants.ANTsImage:\n",
    "    \"\"\"register ants mri image and mask to mni space\"\"\"\n",
    "    template_img = load_template_ants()\n",
    "    transformation = ants.registration(fixed=template_img, moving=img, type_of_transform='SyN')\n",
    "\n",
    "    img_registered = transformation['warpedmovout']\n",
    "  \n",
    "    mask_registered = ants.apply_transforms(fixed=template_img,moving=mask,transformlist=transformation['fwdtransforms'])\n",
    "    return img_registered, mask_registered"
   ]
  },
  {
   "cell_type": "markdown",
   "metadata": {
    "id": "x3nnbYgj4qnZ"
   },
   "source": [
    "## Register"
   ]
  },
  {
   "cell_type": "code",
   "execution_count": null,
   "metadata": {
    "id": "3r_861Ot4svp"
   },
   "outputs": [],
   "source": [
    "from glob import glob\n",
    "\n",
    "xpaths = sorted(glob(f'/data/NATIVE/*/*/*01.nii.gz') )\n",
    "ypaths = sorted(glob(f'/data/NATIVE/*/*/*01_LesionSmooth.nii.gz'))\n",
    "assert len(xpaths) == len(ypaths)"
   ]
  },
  {
   "cell_type": "code",
   "execution_count": null,
   "metadata": {
    "colab": {
     "base_uri": "https://localhost:8080/"
    },
    "collapsed": true,
    "executionInfo": {
     "elapsed": 7,
     "status": "ok",
     "timestamp": 1685756249149,
     "user": {
      "displayName": "Alejandro M",
      "userId": "11111187776730726759"
     },
     "user_tz": 300
    },
    "id": "2_L0ZjyRMYer",
    "jupyter": {
     "outputs_hidden": true
    },
    "outputId": "47af604b-02e7-4e03-f935-35acd3ab9ef9"
   },
   "outputs": [
    {
     "name": "stdout",
     "output_type": "stream",
     "text": [
      "Number of samples: 292\n",
      "/c0001s0004t01/c0001s0004t01.nii.gz | /c0001s0004t01/c0001s0004t01_LesionSmooth.nii.gz\n",
      "/c0001s0005t01/c0001s0005t01.nii.gz | /c0001s0005t01/c0001s0005t01_LesionSmooth.nii.gz\n",
      "/c0001s0006t01/c0001s0006t01.nii.gz | /c0001s0006t01/c0001s0006t01_LesionSmooth.nii.gz\n",
      "/c0001s0007t01/c0001s0007t01.nii.gz | /c0001s0007t01/c0001s0007t01_LesionSmooth.nii.gz\n",
      "/c0001s0008t01/c0001s0008t01.nii.gz | /c0001s0008t01/c0001s0008t01_LesionSmooth.nii.gz\n",
      "/c0001s0012t01/c0001s0012t01.nii.gz | /c0001s0012t01/c0001s0012t01_LesionSmooth.nii.gz\n",
      "/c0002s0001t01/c0002s0001t01.nii.gz | /c0002s0001t01/c0002s0001t01_LesionSmooth.nii.gz\n",
      "/c0002s0002t01/c0002s0002t01.nii.gz | /c0002s0002t01/c0002s0002t01_LesionSmooth.nii.gz\n",
      "/c0002s0003t01/c0002s0003t01.nii.gz | /c0002s0003t01/c0002s0003t01_LesionSmooth.nii.gz\n",
      "/c0002s0004t01/c0002s0004t01.nii.gz | /c0002s0004t01/c0002s0004t01_LesionSmooth.nii.gz\n",
      "/c0002s0005t01/c0002s0005t01.nii.gz | /c0002s0005t01/c0002s0005t01_LesionSmooth.nii.gz\n",
      "/c0002s0007t01/c0002s0007t01.nii.gz | /c0002s0007t01/c0002s0007t01_LesionSmooth.nii.gz\n",
      "/c0002s0008t01/c0002s0008t01.nii.gz | /c0002s0008t01/c0002s0008t01_LesionSmooth.nii.gz\n",
      "/c0002s0009t01/c0002s0009t01.nii.gz | /c0002s0009t01/c0002s0009t01_LesionSmooth.nii.gz\n",
      "/c0002s0011t01/c0002s0011t01.nii.gz | /c0002s0011t01/c0002s0011t01_LesionSmooth.nii.gz\n",
      "/c0002s0012t01/c0002s0012t01.nii.gz | /c0002s0012t01/c0002s0012t01_LesionSmooth.nii.gz\n",
      "/c0002s0013t01/c0002s0013t01.nii.gz | /c0002s0013t01/c0002s0013t01_LesionSmooth.nii.gz\n",
      "/c0002s0014t01/c0002s0014t01.nii.gz | /c0002s0014t01/c0002s0014t01_LesionSmooth.nii.gz\n",
      "/c0002s0015t01/c0002s0015t01.nii.gz | /c0002s0015t01/c0002s0015t01_LesionSmooth.nii.gz\n",
      "/c0002s0016t01/c0002s0016t01.nii.gz | /c0002s0016t01/c0002s0016t01_LesionSmooth.nii.gz\n",
      "/c0002s0017t01/c0002s0017t01.nii.gz | /c0002s0017t01/c0002s0017t01_LesionSmooth.nii.gz\n",
      "/c0002s0018t01/c0002s0018t01.nii.gz | /c0002s0018t01/c0002s0018t01_LesionSmooth.nii.gz\n",
      "/c0002s0019t01/c0002s0019t01.nii.gz | /c0002s0019t01/c0002s0019t01_LesionSmooth.nii.gz\n",
      "/c0002s0020t01/c0002s0020t01.nii.gz | /c0002s0020t01/c0002s0020t01_LesionSmooth.nii.gz\n",
      "/c0002s0021t01/c0002s0021t01.nii.gz | /c0002s0021t01/c0002s0021t01_LesionSmooth.nii.gz\n",
      "/c0002s0022t01/c0002s0022t01.nii.gz | /c0002s0022t01/c0002s0022t01_LesionSmooth.nii.gz\n",
      "/c0002s0023t01/c0002s0023t01.nii.gz | /c0002s0023t01/c0002s0023t01_LesionSmooth.nii.gz\n",
      "/c0002s0024t01/c0002s0024t01.nii.gz | /c0002s0024t01/c0002s0024t01_LesionSmooth.nii.gz\n",
      "/c0002s0025t01/c0002s0025t01.nii.gz | /c0002s0025t01/c0002s0025t01_LesionSmooth.nii.gz\n",
      "/c0002s0026t01/c0002s0026t01.nii.gz | /c0002s0026t01/c0002s0026t01_LesionSmooth.nii.gz\n",
      "/c0002s0027t01/c0002s0027t01.nii.gz | /c0002s0027t01/c0002s0027t01_LesionSmooth.nii.gz\n",
      "/c0003s0001t01/c0003s0001t01.nii.gz | /c0003s0001t01/c0003s0001t01_LesionSmooth.nii.gz\n",
      "/c0003s0002t01/c0003s0002t01.nii.gz | /c0003s0002t01/c0003s0002t01_LesionSmooth.nii.gz\n",
      "/c0003s0003t01/c0003s0003t01.nii.gz | /c0003s0003t01/c0003s0003t01_LesionSmooth.nii.gz\n",
      "/c0003s0004t01/c0003s0004t01.nii.gz | /c0003s0004t01/c0003s0004t01_LesionSmooth.nii.gz\n",
      "/c0003s0005t01/c0003s0005t01.nii.gz | /c0003s0005t01/c0003s0005t01_LesionSmooth.nii.gz\n",
      "/c0003s0006t01/c0003s0006t01.nii.gz | /c0003s0006t01/c0003s0006t01_LesionSmooth.nii.gz\n",
      "/c0003s0007t01/c0003s0007t01.nii.gz | /c0003s0007t01/c0003s0007t01_LesionSmooth.nii.gz\n",
      "/c0003s0008t01/c0003s0008t01.nii.gz | /c0003s0008t01/c0003s0008t01_LesionSmooth.nii.gz\n",
      "/c0003s0009t01/c0003s0009t01.nii.gz | /c0003s0009t01/c0003s0009t01_LesionSmooth.nii.gz\n",
      "/c0003s0010t01/c0003s0010t01.nii.gz | /c0003s0010t01/c0003s0010t01_LesionSmooth.nii.gz\n",
      "/c0003s0011t01/c0003s0011t01.nii.gz | /c0003s0011t01/c0003s0011t01_LesionSmooth.nii.gz\n",
      "/c0003s0012t01/c0003s0012t01.nii.gz | /c0003s0012t01/c0003s0012t01_LesionSmooth.nii.gz\n",
      "/c0003s0013t01/c0003s0013t01.nii.gz | /c0003s0013t01/c0003s0013t01_LesionSmooth.nii.gz\n",
      "/c0003s0014t01/c0003s0014t01.nii.gz | /c0003s0014t01/c0003s0014t01_LesionSmooth.nii.gz\n",
      "/c0003s0015t01/c0003s0015t01.nii.gz | /c0003s0015t01/c0003s0015t01_LesionSmooth.nii.gz\n",
      "/c0003s0016t01/c0003s0016t01.nii.gz | /c0003s0016t01/c0003s0016t01_LesionSmooth.nii.gz\n",
      "/c0003s0017t01/c0003s0017t01.nii.gz | /c0003s0017t01/c0003s0017t01_LesionSmooth.nii.gz\n",
      "/c0003s0018t01/c0003s0018t01.nii.gz | /c0003s0018t01/c0003s0018t01_LesionSmooth.nii.gz\n",
      "/c0003s0019t01/c0003s0019t01.nii.gz | /c0003s0019t01/c0003s0019t01_LesionSmooth.nii.gz\n",
      "/c0003s0020t01/c0003s0020t01.nii.gz | /c0003s0020t01/c0003s0020t01_LesionSmooth.nii.gz\n",
      "/c0003s0021t01/c0003s0021t01.nii.gz | /c0003s0021t01/c0003s0021t01_LesionSmooth.nii.gz\n",
      "/c0003s0022t01/c0003s0022t01.nii.gz | /c0003s0022t01/c0003s0022t01_LesionSmooth.nii.gz\n",
      "/c0003s0023t01/c0003s0023t01.nii.gz | /c0003s0023t01/c0003s0023t01_LesionSmooth.nii.gz\n",
      "/c0003s0024t01/c0003s0024t01.nii.gz | /c0003s0024t01/c0003s0024t01_LesionSmooth.nii.gz\n",
      "/c0003s0025t01/c0003s0025t01.nii.gz | /c0003s0025t01/c0003s0025t01_LesionSmooth.nii.gz\n",
      "/c0003s0026t01/c0003s0026t01.nii.gz | /c0003s0026t01/c0003s0026t01_LesionSmooth.nii.gz\n",
      "/c0003s0027t01/c0003s0027t01.nii.gz | /c0003s0027t01/c0003s0027t01_LesionSmooth.nii.gz\n",
      "/c0003s0028t01/c0003s0028t01.nii.gz | /c0003s0028t01/c0003s0028t01_LesionSmooth.nii.gz\n",
      "/c0003s0029t01/c0003s0029t01.nii.gz | /c0003s0029t01/c0003s0029t01_LesionSmooth.nii.gz\n",
      "/c0003s0030t01/c0003s0030t01.nii.gz | /c0003s0030t01/c0003s0030t01_LesionSmooth.nii.gz\n",
      "/c0003s0031t01/c0003s0031t01.nii.gz | /c0003s0031t01/c0003s0031t01_LesionSmooth.nii.gz\n",
      "/c0003s0032t01/c0003s0032t01.nii.gz | /c0003s0032t01/c0003s0032t01_LesionSmooth.nii.gz\n",
      "/c0003s0033t01/c0003s0033t01.nii.gz | /c0003s0033t01/c0003s0033t01_LesionSmooth.nii.gz\n",
      "/c0003s0034t01/c0003s0034t01.nii.gz | /c0003s0034t01/c0003s0034t01_LesionSmooth.nii.gz\n",
      "/c0003s0035t01/c0003s0035t01.nii.gz | /c0003s0035t01/c0003s0035t01_LesionSmooth.nii.gz\n",
      "/c0003s0036t01/c0003s0036t01.nii.gz | /c0003s0036t01/c0003s0036t01_LesionSmooth.nii.gz\n",
      "/c0003s0037t01/c0003s0037t01.nii.gz | /c0003s0037t01/c0003s0037t01_LesionSmooth.nii.gz\n",
      "/c0003s0038t01/c0003s0038t01.nii.gz | /c0003s0038t01/c0003s0038t01_LesionSmooth.nii.gz\n",
      "/c0003s0039t01/c0003s0039t01.nii.gz | /c0003s0039t01/c0003s0039t01_LesionSmooth.nii.gz\n",
      "/c0003s0040t01/c0003s0040t01.nii.gz | /c0003s0040t01/c0003s0040t01_LesionSmooth.nii.gz\n",
      "/c0003s0041t01/c0003s0041t01.nii.gz | /c0003s0041t01/c0003s0041t01_LesionSmooth.nii.gz\n",
      "/c0003s0042t01/c0003s0042t01.nii.gz | /c0003s0042t01/c0003s0042t01_LesionSmooth.nii.gz\n",
      "/c0003s0043t01/c0003s0043t01.nii.gz | /c0003s0043t01/c0003s0043t01_LesionSmooth.nii.gz\n",
      "/c0003s0044t01/c0003s0044t01.nii.gz | /c0003s0044t01/c0003s0044t01_LesionSmooth.nii.gz\n",
      "/c0003s0045t01/c0003s0045t01.nii.gz | /c0003s0045t01/c0003s0045t01_LesionSmooth.nii.gz\n",
      "/c0003s0046t01/c0003s0046t01.nii.gz | /c0003s0046t01/c0003s0046t01_LesionSmooth.nii.gz\n",
      "/c0003s0048t01/c0003s0048t01.nii.gz | /c0003s0048t01/c0003s0048t01_LesionSmooth.nii.gz\n",
      "/c0003s0049t01/c0003s0049t01.nii.gz | /c0003s0049t01/c0003s0049t01_LesionSmooth.nii.gz\n",
      "/c0003s0050t01/c0003s0050t01.nii.gz | /c0003s0050t01/c0003s0050t01_LesionSmooth.nii.gz\n",
      "/c0003s0051t01/c0003s0051t01.nii.gz | /c0003s0051t01/c0003s0051t01_LesionSmooth.nii.gz\n",
      "/c0003s0052t01/c0003s0052t01.nii.gz | /c0003s0052t01/c0003s0052t01_LesionSmooth.nii.gz\n",
      "/c0003s0053t01/c0003s0053t01.nii.gz | /c0003s0053t01/c0003s0053t01_LesionSmooth.nii.gz\n",
      "/c0003s0054t01/c0003s0054t01.nii.gz | /c0003s0054t01/c0003s0054t01_LesionSmooth.nii.gz\n",
      "/c0003s0055t01/c0003s0055t01.nii.gz | /c0003s0055t01/c0003s0055t01_LesionSmooth.nii.gz\n",
      "/c0003s0056t01/c0003s0056t01.nii.gz | /c0003s0056t01/c0003s0056t01_LesionSmooth.nii.gz\n",
      "/c0004s0001t01/c0004s0001t01.nii.gz | /c0004s0001t01/c0004s0001t01_LesionSmooth.nii.gz\n",
      "/c0004s0002t01/c0004s0002t01.nii.gz | /c0004s0002t01/c0004s0002t01_LesionSmooth.nii.gz\n",
      "/c0004s0003t01/c0004s0003t01.nii.gz | /c0004s0003t01/c0004s0003t01_LesionSmooth.nii.gz\n",
      "/c0004s0004t01/c0004s0004t01.nii.gz | /c0004s0004t01/c0004s0004t01_LesionSmooth.nii.gz\n",
      "/c0004s0005t01/c0004s0005t01.nii.gz | /c0004s0005t01/c0004s0005t01_LesionSmooth.nii.gz\n",
      "/c0004s0006t01/c0004s0006t01.nii.gz | /c0004s0006t01/c0004s0006t01_LesionSmooth.nii.gz\n",
      "/c0004s0007t01/c0004s0007t01.nii.gz | /c0004s0007t01/c0004s0007t01_LesionSmooth.nii.gz\n",
      "/c0004s0008t01/c0004s0008t01.nii.gz | /c0004s0008t01/c0004s0008t01_LesionSmooth.nii.gz\n",
      "/c0004s0009t01/c0004s0009t01.nii.gz | /c0004s0009t01/c0004s0009t01_LesionSmooth.nii.gz\n",
      "/c0004s0010t01/c0004s0010t01.nii.gz | /c0004s0010t01/c0004s0010t01_LesionSmooth.nii.gz\n",
      "/c0004s0011t01/c0004s0011t01.nii.gz | /c0004s0011t01/c0004s0011t01_LesionSmooth.nii.gz\n",
      "/c0004s0012t01/c0004s0012t01.nii.gz | /c0004s0012t01/c0004s0012t01_LesionSmooth.nii.gz\n",
      "/c0004s0013t01/c0004s0013t01.nii.gz | /c0004s0013t01/c0004s0013t01_LesionSmooth.nii.gz\n",
      "/c0004s0014t01/c0004s0014t01.nii.gz | /c0004s0014t01/c0004s0014t01_LesionSmooth.nii.gz\n",
      "/c0004s0015t01/c0004s0015t01.nii.gz | /c0004s0015t01/c0004s0015t01_LesionSmooth.nii.gz\n",
      "/c0004s0016t01/c0004s0016t01.nii.gz | /c0004s0016t01/c0004s0016t01_LesionSmooth.nii.gz\n",
      "/c0004s0017t01/c0004s0017t01.nii.gz | /c0004s0017t01/c0004s0017t01_LesionSmooth.nii.gz\n",
      "/c0004s0018t01/c0004s0018t01.nii.gz | /c0004s0018t01/c0004s0018t01_LesionSmooth.nii.gz\n",
      "/c0004s0019t01/c0004s0019t01.nii.gz | /c0004s0019t01/c0004s0019t01_LesionSmooth.nii.gz\n",
      "/c0004s0020t01/c0004s0020t01.nii.gz | /c0004s0020t01/c0004s0020t01_LesionSmooth.nii.gz\n",
      "/c0004s0021t01/c0004s0021t01.nii.gz | /c0004s0021t01/c0004s0021t01_LesionSmooth.nii.gz\n",
      "/c0004s0022t01/c0004s0022t01.nii.gz | /c0004s0022t01/c0004s0022t01_LesionSmooth.nii.gz\n",
      "/c0004s0023t01/c0004s0023t01.nii.gz | /c0004s0023t01/c0004s0023t01_LesionSmooth.nii.gz\n",
      "/c0004s0024t01/c0004s0024t01.nii.gz | /c0004s0024t01/c0004s0024t01_LesionSmooth.nii.gz\n",
      "/c0004s0025t01/c0004s0025t01.nii.gz | /c0004s0025t01/c0004s0025t01_LesionSmooth.nii.gz\n",
      "/c0004s0026t01/c0004s0026t01.nii.gz | /c0004s0026t01/c0004s0026t01_LesionSmooth.nii.gz\n",
      "/c0004s0027t01/c0004s0027t01.nii.gz | /c0004s0027t01/c0004s0027t01_LesionSmooth.nii.gz\n",
      "/c0004s0028t01/c0004s0028t01.nii.gz | /c0004s0028t01/c0004s0028t01_LesionSmooth.nii.gz\n",
      "/c0004s0029t01/c0004s0029t01.nii.gz | /c0004s0029t01/c0004s0029t01_LesionSmooth.nii.gz\n",
      "/c0004s0030t01/c0004s0030t01.nii.gz | /c0004s0030t01/c0004s0030t01_LesionSmooth.nii.gz\n",
      "/c0004s0031t01/c0004s0031t01.nii.gz | /c0004s0031t01/c0004s0031t01_LesionSmooth.nii.gz\n",
      "/c0004s0032t01/c0004s0032t01.nii.gz | /c0004s0032t01/c0004s0032t01_LesionSmooth.nii.gz\n",
      "/c0004s0033t01/c0004s0033t01.nii.gz | /c0004s0033t01/c0004s0033t01_LesionSmooth.nii.gz\n",
      "/c0004s0034t01/c0004s0034t01.nii.gz | /c0004s0034t01/c0004s0034t01_LesionSmooth.nii.gz\n",
      "/c0005s0003t01/c0005s0003t01.nii.gz | /c0005s0003t01/c0005s0003t01_LesionSmooth.nii.gz\n",
      "/c0005s0006t01/c0005s0006t01.nii.gz | /c0005s0006t01/c0005s0006t01_LesionSmooth.nii.gz\n",
      "/c0005s0007t01/c0005s0007t01.nii.gz | /c0005s0007t01/c0005s0007t01_LesionSmooth.nii.gz\n",
      "/c0005s0008t01/c0005s0008t01.nii.gz | /c0005s0008t01/c0005s0008t01_LesionSmooth.nii.gz\n",
      "/c0005s0009t01/c0005s0009t01.nii.gz | /c0005s0009t01/c0005s0009t01_LesionSmooth.nii.gz\n",
      "/c0005s0010t01/c0005s0010t01.nii.gz | /c0005s0010t01/c0005s0010t01_LesionSmooth.nii.gz\n",
      "/c0005s0011t01/c0005s0011t01.nii.gz | /c0005s0011t01/c0005s0011t01_LesionSmooth.nii.gz\n",
      "/c0005s0012t01/c0005s0012t01.nii.gz | /c0005s0012t01/c0005s0012t01_LesionSmooth.nii.gz\n",
      "/c0005s0013t01/c0005s0013t01.nii.gz | /c0005s0013t01/c0005s0013t01_LesionSmooth.nii.gz\n",
      "/c0005s0014t01/c0005s0014t01.nii.gz | /c0005s0014t01/c0005s0014t01_LesionSmooth.nii.gz\n",
      "/c0005s0017t01/c0005s0017t01.nii.gz | /c0005s0017t01/c0005s0017t01_LesionSmooth.nii.gz\n",
      "/c0005s0018t01/c0005s0018t01.nii.gz | /c0005s0018t01/c0005s0018t01_LesionSmooth.nii.gz\n",
      "/c0005s0021t01/c0005s0021t01.nii.gz | /c0005s0021t01/c0005s0021t01_LesionSmooth.nii.gz\n",
      "/c0005s0024t01/c0005s0024t01.nii.gz | /c0005s0024t01/c0005s0024t01_LesionSmooth.nii.gz\n",
      "/c0005s0026t01/c0005s0026t01.nii.gz | /c0005s0026t01/c0005s0026t01_LesionSmooth.nii.gz\n",
      "/c0005s0027t01/c0005s0027t01.nii.gz | /c0005s0027t01/c0005s0027t01_LesionSmooth.nii.gz\n",
      "/c0005s0028t01/c0005s0028t01.nii.gz | /c0005s0028t01/c0005s0028t01_LesionSmooth.nii.gz\n",
      "/c0005s0029t01/c0005s0029t01.nii.gz | /c0005s0029t01/c0005s0029t01_LesionSmooth.nii.gz\n",
      "/c0005s0030t01/c0005s0030t01.nii.gz | /c0005s0030t01/c0005s0030t01_LesionSmooth.nii.gz\n",
      "/c0005s0031t01/c0005s0031t01.nii.gz | /c0005s0031t01/c0005s0031t01_LesionSmooth.nii.gz\n",
      "/c0005s0035t01/c0005s0035t01.nii.gz | /c0005s0035t01/c0005s0035t01_LesionSmooth.nii.gz\n",
      "/c0005s0036t01/c0005s0036t01.nii.gz | /c0005s0036t01/c0005s0036t01_LesionSmooth.nii.gz\n",
      "/c0005s0040t01/c0005s0040t01.nii.gz | /c0005s0040t01/c0005s0040t01_LesionSmooth.nii.gz\n",
      "/c0005s0042t01/c0005s0042t01.nii.gz | /c0005s0042t01/c0005s0042t01_LesionSmooth.nii.gz\n",
      "/c0005s0043t01/c0005s0043t01.nii.gz | /c0005s0043t01/c0005s0043t01_LesionSmooth.nii.gz\n",
      "/c0005s0044t01/c0005s0044t01.nii.gz | /c0005s0044t01/c0005s0044t01_LesionSmooth.nii.gz\n",
      "/c0005s0045t01/c0005s0045t01.nii.gz | /c0005s0045t01/c0005s0045t01_LesionSmooth.nii.gz\n",
      "/c0005s0047t01/c0005s0047t01.nii.gz | /c0005s0047t01/c0005s0047t01_LesionSmooth.nii.gz\n",
      "/c0005s0048t01/c0005s0048t01.nii.gz | /c0005s0048t01/c0005s0048t01_LesionSmooth.nii.gz\n",
      "/c0005s0049t01/c0005s0049t01.nii.gz | /c0005s0049t01/c0005s0049t01_LesionSmooth.nii.gz\n",
      "/c0006s0001t01/c0006s0001t01.nii.gz | /c0006s0001t01/c0006s0001t01_LesionSmooth.nii.gz\n",
      "/c0006s0003t01/c0006s0003t01.nii.gz | /c0006s0003t01/c0006s0003t01_LesionSmooth.nii.gz\n",
      "/c0006s0004t01/c0006s0004t01.nii.gz | /c0006s0004t01/c0006s0004t01_LesionSmooth.nii.gz\n",
      "/c0006s0005t01/c0006s0005t01.nii.gz | /c0006s0005t01/c0006s0005t01_LesionSmooth.nii.gz\n",
      "/c0006s0006t01/c0006s0006t01.nii.gz | /c0006s0006t01/c0006s0006t01_LesionSmooth.nii.gz\n",
      "/c0006s0007t01/c0006s0007t01.nii.gz | /c0006s0007t01/c0006s0007t01_LesionSmooth.nii.gz\n",
      "/c0006s0008t01/c0006s0008t01.nii.gz | /c0006s0008t01/c0006s0008t01_LesionSmooth.nii.gz\n",
      "/c0006s0010t01/c0006s0010t01.nii.gz | /c0006s0010t01/c0006s0010t01_LesionSmooth.nii.gz\n",
      "/c0006s0014t01/c0006s0014t01.nii.gz | /c0006s0014t01/c0006s0014t01_LesionSmooth.nii.gz\n",
      "/c0006s0018t01/c0006s0018t01.nii.gz | /c0006s0018t01/c0006s0018t01_LesionSmooth.nii.gz\n",
      "/c0006s0019t01/c0006s0019t01.nii.gz | /c0006s0019t01/c0006s0019t01_LesionSmooth.nii.gz\n",
      "/c0006s0020t01/c0006s0020t01.nii.gz | /c0006s0020t01/c0006s0020t01_LesionSmooth.nii.gz\n",
      "/c0007s0001t01/c0007s0001t01.nii.gz | /c0007s0001t01/c0007s0001t01_LesionSmooth.nii.gz\n",
      "/c0007s0002t01/c0007s0002t01.nii.gz | /c0007s0002t01/c0007s0002t01_LesionSmooth.nii.gz\n",
      "/c0007s0003t01/c0007s0003t01.nii.gz | /c0007s0003t01/c0007s0003t01_LesionSmooth.nii.gz\n",
      "/c0007s0004t01/c0007s0004t01.nii.gz | /c0007s0004t01/c0007s0004t01_LesionSmooth.nii.gz\n",
      "/c0007s0005t01/c0007s0005t01.nii.gz | /c0007s0005t01/c0007s0005t01_LesionSmooth.nii.gz\n",
      "/c0007s0006t01/c0007s0006t01.nii.gz | /c0007s0006t01/c0007s0006t01_LesionSmooth.nii.gz\n",
      "/c0007s0007t01/c0007s0007t01.nii.gz | /c0007s0007t01/c0007s0007t01_LesionSmooth.nii.gz\n",
      "/c0007s0008t01/c0007s0008t01.nii.gz | /c0007s0008t01/c0007s0008t01_LesionSmooth.nii.gz\n",
      "/c0007s0009t01/c0007s0009t01.nii.gz | /c0007s0009t01/c0007s0009t01_LesionSmooth.nii.gz\n",
      "/c0007s0010t01/c0007s0010t01.nii.gz | /c0007s0010t01/c0007s0010t01_LesionSmooth.nii.gz\n",
      "/c0007s0011t01/c0007s0011t01.nii.gz | /c0007s0011t01/c0007s0011t01_LesionSmooth.nii.gz\n",
      "/c0007s0012t01/c0007s0012t01.nii.gz | /c0007s0012t01/c0007s0012t01_LesionSmooth.nii.gz\n",
      "/c0007s0013t01/c0007s0013t01.nii.gz | /c0007s0013t01/c0007s0013t01_LesionSmooth.nii.gz\n",
      "/c0007s0014t01/c0007s0014t01.nii.gz | /c0007s0014t01/c0007s0014t01_LesionSmooth.nii.gz\n",
      "/c0007s0015t01/c0007s0015t01.nii.gz | /c0007s0015t01/c0007s0015t01_LesionSmooth.nii.gz\n",
      "/c0007s0016t01/c0007s0016t01.nii.gz | /c0007s0016t01/c0007s0016t01_LesionSmooth.nii.gz\n",
      "/c0007s0017t01/c0007s0017t01.nii.gz | /c0007s0017t01/c0007s0017t01_LesionSmooth.nii.gz\n",
      "/c0007s0018t01/c0007s0018t01.nii.gz | /c0007s0018t01/c0007s0018t01_LesionSmooth.nii.gz\n",
      "/c0007s0019t01/c0007s0019t01.nii.gz | /c0007s0019t01/c0007s0019t01_LesionSmooth.nii.gz\n",
      "/c0007s0020t01/c0007s0020t01.nii.gz | /c0007s0020t01/c0007s0020t01_LesionSmooth.nii.gz\n",
      "/c0007s0021t01/c0007s0021t01.nii.gz | /c0007s0021t01/c0007s0021t01_LesionSmooth.nii.gz\n",
      "/c0007s0022t01/c0007s0022t01.nii.gz | /c0007s0022t01/c0007s0022t01_LesionSmooth.nii.gz\n",
      "/c0007s0023t01/c0007s0023t01.nii.gz | /c0007s0023t01/c0007s0023t01_LesionSmooth.nii.gz\n",
      "/c0007s0024t01/c0007s0024t01.nii.gz | /c0007s0024t01/c0007s0024t01_LesionSmooth.nii.gz\n",
      "/c0007s0025t01/c0007s0025t01.nii.gz | /c0007s0025t01/c0007s0025t01_LesionSmooth.nii.gz\n",
      "/c0007s0026t01/c0007s0026t01.nii.gz | /c0007s0026t01/c0007s0026t01_LesionSmooth.nii.gz\n",
      "/c0007s0027t01/c0007s0027t01.nii.gz | /c0007s0027t01/c0007s0027t01_LesionSmooth.nii.gz\n",
      "/c0007s0028t01/c0007s0028t01.nii.gz | /c0007s0028t01/c0007s0028t01_LesionSmooth.nii.gz\n",
      "/c0007s0029t01/c0007s0029t01.nii.gz | /c0007s0029t01/c0007s0029t01_LesionSmooth.nii.gz\n",
      "/c0007s0030t01/c0007s0030t01.nii.gz | /c0007s0030t01/c0007s0030t01_LesionSmooth.nii.gz\n",
      "/c0007s0031t01/c0007s0031t01.nii.gz | /c0007s0031t01/c0007s0031t01_LesionSmooth.nii.gz\n",
      "/c0007s0032t01/c0007s0032t01.nii.gz | /c0007s0032t01/c0007s0032t01_LesionSmooth.nii.gz\n",
      "/c0007s0033t01/c0007s0033t01.nii.gz | /c0007s0033t01/c0007s0033t01_LesionSmooth.nii.gz\n",
      "/c0007s0034t01/c0007s0034t01.nii.gz | /c0007s0034t01/c0007s0034t01_LesionSmooth.nii.gz\n",
      "/c0007s0035t01/c0007s0035t01.nii.gz | /c0007s0035t01/c0007s0035t01_LesionSmooth.nii.gz\n",
      "/c0007s0036t01/c0007s0036t01.nii.gz | /c0007s0036t01/c0007s0036t01_LesionSmooth.nii.gz\n",
      "/c0008s0001t01/c0008s0001t01.nii.gz | /c0008s0001t01/c0008s0001t01_LesionSmooth.nii.gz\n",
      "/c0008s0002t01/c0008s0002t01.nii.gz | /c0008s0002t01/c0008s0002t01_LesionSmooth.nii.gz\n",
      "/c0008s0003t01/c0008s0003t01.nii.gz | /c0008s0003t01/c0008s0003t01_LesionSmooth.nii.gz\n",
      "/c0008s0005t01/c0008s0005t01.nii.gz | /c0008s0005t01/c0008s0005t01_LesionSmooth.nii.gz\n",
      "/c0008s0006t01/c0008s0006t01.nii.gz | /c0008s0006t01/c0008s0006t01_LesionSmooth.nii.gz\n",
      "/c0008s0007t01/c0008s0007t01.nii.gz | /c0008s0007t01/c0008s0007t01_LesionSmooth.nii.gz\n",
      "/c0008s0008t01/c0008s0008t01.nii.gz | /c0008s0008t01/c0008s0008t01_LesionSmooth.nii.gz\n",
      "/c0008s0009t01/c0008s0009t01.nii.gz | /c0008s0009t01/c0008s0009t01_LesionSmooth.nii.gz\n",
      "/c0008s0010t01/c0008s0010t01.nii.gz | /c0008s0010t01/c0008s0010t01_LesionSmooth.nii.gz\n",
      "/c0008s0011t01/c0008s0011t01.nii.gz | /c0008s0011t01/c0008s0011t01_LesionSmooth.nii.gz\n",
      "/c0008s0012t01/c0008s0012t01.nii.gz | /c0008s0012t01/c0008s0012t01_LesionSmooth.nii.gz\n",
      "/c0008s0013t01/c0008s0013t01.nii.gz | /c0008s0013t01/c0008s0013t01_LesionSmooth.nii.gz\n",
      "/c0008s0014t01/c0008s0014t01.nii.gz | /c0008s0014t01/c0008s0014t01_LesionSmooth.nii.gz\n",
      "/c0008s0015t01/c0008s0015t01.nii.gz | /c0008s0015t01/c0008s0015t01_LesionSmooth.nii.gz\n",
      "/c0008s0016t01/c0008s0016t01.nii.gz | /c0008s0016t01/c0008s0016t01_LesionSmooth.nii.gz\n",
      "/c0008s0017t01/c0008s0017t01.nii.gz | /c0008s0017t01/c0008s0017t01_LesionSmooth.nii.gz\n",
      "/c0008s0018t01/c0008s0018t01.nii.gz | /c0008s0018t01/c0008s0018t01_LesionSmooth.nii.gz\n",
      "/c0008s0019t01/c0008s0019t01.nii.gz | /c0008s0019t01/c0008s0019t01_LesionSmooth.nii.gz\n",
      "/c0008s0020t01/c0008s0020t01.nii.gz | /c0008s0020t01/c0008s0020t01_LesionSmooth.nii.gz\n",
      "/c0008s0021t01/c0008s0021t01.nii.gz | /c0008s0021t01/c0008s0021t01_LesionSmooth.nii.gz\n",
      "/c0008s0022t01/c0008s0022t01.nii.gz | /c0008s0022t01/c0008s0022t01_LesionSmooth.nii.gz\n",
      "/c0008s0023t01/c0008s0023t01.nii.gz | /c0008s0023t01/c0008s0023t01_LesionSmooth.nii.gz\n",
      "/c0008s0024t01/c0008s0024t01.nii.gz | /c0008s0024t01/c0008s0024t01_LesionSmooth.nii.gz\n",
      "/c0008s0025t01/c0008s0025t01.nii.gz | /c0008s0025t01/c0008s0025t01_LesionSmooth.nii.gz\n",
      "/c0008s0026t01/c0008s0026t01.nii.gz | /c0008s0026t01/c0008s0026t01_LesionSmooth.nii.gz\n",
      "/c0008s0027t01/c0008s0027t01.nii.gz | /c0008s0027t01/c0008s0027t01_LesionSmooth.nii.gz\n",
      "/c0008s0028t01/c0008s0028t01.nii.gz | /c0008s0028t01/c0008s0028t01_LesionSmooth.nii.gz\n",
      "/c0008s0029t01/c0008s0029t01.nii.gz | /c0008s0029t01/c0008s0029t01_LesionSmooth.nii.gz\n",
      "/c0008s0030t01/c0008s0030t01.nii.gz | /c0008s0030t01/c0008s0030t01_LesionSmooth.nii.gz\n",
      "/c0008s0031t01/c0008s0031t01.nii.gz | /c0008s0031t01/c0008s0031t01_LesionSmooth.nii.gz\n",
      "/c0008s0032t01/c0008s0032t01.nii.gz | /c0008s0032t01/c0008s0032t01_LesionSmooth.nii.gz\n",
      "/c0008s0033t01/c0008s0033t01.nii.gz | /c0008s0033t01/c0008s0033t01_LesionSmooth.nii.gz\n",
      "/c0009s0001t01/c0009s0001t01.nii.gz | /c0009s0001t01/c0009s0001t01_LesionSmooth.nii.gz\n",
      "/c0009s0002t01/c0009s0002t01.nii.gz | /c0009s0002t01/c0009s0002t01_LesionSmooth.nii.gz\n",
      "/c0009s0003t01/c0009s0003t01.nii.gz | /c0009s0003t01/c0009s0003t01_LesionSmooth.nii.gz\n",
      "/c0009s0004t01/c0009s0004t01.nii.gz | /c0009s0004t01/c0009s0004t01_LesionSmooth.nii.gz\n",
      "/c0009s0005t01/c0009s0005t01.nii.gz | /c0009s0005t01/c0009s0005t01_LesionSmooth.nii.gz\n",
      "/c0009s0006t01/c0009s0006t01.nii.gz | /c0009s0006t01/c0009s0006t01_LesionSmooth.nii.gz\n",
      "/c0009s0007t01/c0009s0007t01.nii.gz | /c0009s0007t01/c0009s0007t01_LesionSmooth.nii.gz\n",
      "/c0009s0008t01/c0009s0008t01.nii.gz | /c0009s0008t01/c0009s0008t01_LesionSmooth.nii.gz\n",
      "/c0009s0009t01/c0009s0009t01.nii.gz | /c0009s0009t01/c0009s0009t01_LesionSmooth.nii.gz\n",
      "/c0009s0010t01/c0009s0010t01.nii.gz | /c0009s0010t01/c0009s0010t01_LesionSmooth.nii.gz\n",
      "/c0009s0011t01/c0009s0011t01.nii.gz | /c0009s0011t01/c0009s0011t01_LesionSmooth.nii.gz\n",
      "/c0009s0012t01/c0009s0012t01.nii.gz | /c0009s0012t01/c0009s0012t01_LesionSmooth.nii.gz\n",
      "/c0010s0001t01/c0010s0001t01.nii.gz | /c0010s0001t01/c0010s0001t01_LesionSmooth.nii.gz\n",
      "/c0010s0002t01/c0010s0002t01.nii.gz | /c0010s0002t01/c0010s0002t01_LesionSmooth.nii.gz\n",
      "/c0010s0003t01/c0010s0003t01.nii.gz | /c0010s0003t01/c0010s0003t01_LesionSmooth.nii.gz\n",
      "/c0010s0004t01/c0010s0004t01.nii.gz | /c0010s0004t01/c0010s0004t01_LesionSmooth.nii.gz\n",
      "/c0010s0005t01/c0010s0005t01.nii.gz | /c0010s0005t01/c0010s0005t01_LesionSmooth.nii.gz\n",
      "/c0010s0006t01/c0010s0006t01.nii.gz | /c0010s0006t01/c0010s0006t01_LesionSmooth.nii.gz\n",
      "/c0010s0007t01/c0010s0007t01.nii.gz | /c0010s0007t01/c0010s0007t01_LesionSmooth.nii.gz\n",
      "/c0010s0008t01/c0010s0008t01.nii.gz | /c0010s0008t01/c0010s0008t01_LesionSmooth.nii.gz\n",
      "/c0010s0009t01/c0010s0009t01.nii.gz | /c0010s0009t01/c0010s0009t01_LesionSmooth.nii.gz\n",
      "/c0010s0010t01/c0010s0010t01.nii.gz | /c0010s0010t01/c0010s0010t01_LesionSmooth.nii.gz\n",
      "/c0010s0011t01/c0010s0011t01.nii.gz | /c0010s0011t01/c0010s0011t01_LesionSmooth.nii.gz\n",
      "/c0010s0013t01/c0010s0013t01.nii.gz | /c0010s0013t01/c0010s0013t01_LesionSmooth.nii.gz\n",
      "/c0010s0014t01/c0010s0014t01.nii.gz | /c0010s0014t01/c0010s0014t01_LesionSmooth.nii.gz\n",
      "/c0010s0015t01/c0010s0015t01.nii.gz | /c0010s0015t01/c0010s0015t01_LesionSmooth.nii.gz\n",
      "/c0010s0016t01/c0010s0016t01.nii.gz | /c0010s0016t01/c0010s0016t01_LesionSmooth.nii.gz\n",
      "/c0010s0018t01/c0010s0018t01.nii.gz | /c0010s0018t01/c0010s0018t01_LesionSmooth.nii.gz\n",
      "/c0010s0020t01/c0010s0020t01.nii.gz | /c0010s0020t01/c0010s0020t01_LesionSmooth.nii.gz\n",
      "/c0010s0021t01/c0010s0021t01.nii.gz | /c0010s0021t01/c0010s0021t01_LesionSmooth.nii.gz\n",
      "/c0010s0022t01/c0010s0022t01.nii.gz | /c0010s0022t01/c0010s0022t01_LesionSmooth.nii.gz\n",
      "/c0010s0024t01/c0010s0024t01.nii.gz | /c0010s0024t01/c0010s0024t01_LesionSmooth.nii.gz\n",
      "/c0010s0025t01/c0010s0025t01.nii.gz | /c0010s0025t01/c0010s0025t01_LesionSmooth.nii.gz\n",
      "/c0010s0028t01/c0010s0028t01.nii.gz | /c0010s0028t01/c0010s0028t01_LesionSmooth.nii.gz\n",
      "/c0010s0029t01/c0010s0029t01.nii.gz | /c0010s0029t01/c0010s0029t01_LesionSmooth.nii.gz\n",
      "/c0010s0030t01/c0010s0030t01.nii.gz | /c0010s0030t01/c0010s0030t01_LesionSmooth.nii.gz\n",
      "/c0010s0031t01/c0010s0031t01.nii.gz | /c0010s0031t01/c0010s0031t01_LesionSmooth.nii.gz\n",
      "/c0010s0032t01/c0010s0032t01.nii.gz | /c0010s0032t01/c0010s0032t01_LesionSmooth.nii.gz\n",
      "/c0010s0034t01/c0010s0034t01.nii.gz | /c0010s0034t01/c0010s0034t01_LesionSmooth.nii.gz\n",
      "/c0010s0037t01/c0010s0037t01.nii.gz | /c0010s0037t01/c0010s0037t01_LesionSmooth.nii.gz\n",
      "/c0010s0038t01/c0010s0038t01.nii.gz | /c0010s0038t01/c0010s0038t01_LesionSmooth.nii.gz\n",
      "/c0010s0040t01/c0010s0040t01.nii.gz | /c0010s0040t01/c0010s0040t01_LesionSmooth.nii.gz\n",
      "/c0010s0041t01/c0010s0041t01.nii.gz | /c0010s0041t01/c0010s0041t01_LesionSmooth.nii.gz\n",
      "/c0010s0042t01/c0010s0042t01.nii.gz | /c0010s0042t01/c0010s0042t01_LesionSmooth.nii.gz\n",
      "/c0010s0043t01/c0010s0043t01.nii.gz | /c0010s0043t01/c0010s0043t01_LesionSmooth.nii.gz\n",
      "/c0010s0044t01/c0010s0044t01.nii.gz | /c0010s0044t01/c0010s0044t01_LesionSmooth.nii.gz\n",
      "/c0010s0046t01/c0010s0046t01.nii.gz | /c0010s0046t01/c0010s0046t01_LesionSmooth.nii.gz\n",
      "/c0011s0001t01/c0011s0001t01.nii.gz | /c0011s0001t01/c0011s0001t01_LesionSmooth.nii.gz\n",
      "/c0011s0002t01/c0011s0002t01.nii.gz | /c0011s0002t01/c0011s0002t01_LesionSmooth.nii.gz\n",
      "/c0011s0003t01/c0011s0003t01.nii.gz | /c0011s0003t01/c0011s0003t01_LesionSmooth.nii.gz\n",
      "/c0011s0004t01/c0011s0004t01.nii.gz | /c0011s0004t01/c0011s0004t01_LesionSmooth.nii.gz\n",
      "/c0011s0005t01/c0011s0005t01.nii.gz | /c0011s0005t01/c0011s0005t01_LesionSmooth.nii.gz\n",
      "/c0011s0006t01/c0011s0006t01.nii.gz | /c0011s0006t01/c0011s0006t01_LesionSmooth.nii.gz\n",
      "/c0011s0007t01/c0011s0007t01.nii.gz | /c0011s0007t01/c0011s0007t01_LesionSmooth.nii.gz\n",
      "/c0011s0008t01/c0011s0008t01.nii.gz | /c0011s0008t01/c0011s0008t01_LesionSmooth.nii.gz\n",
      "/c0011s0009t01/c0011s0009t01.nii.gz | /c0011s0009t01/c0011s0009t01_LesionSmooth.nii.gz\n",
      "/c0011s0010t01/c0011s0010t01.nii.gz | /c0011s0010t01/c0011s0010t01_LesionSmooth.nii.gz\n",
      "/c0011s0011t01/c0011s0011t01.nii.gz | /c0011s0011t01/c0011s0011t01_LesionSmooth.nii.gz\n",
      "/c0011s0012t01/c0011s0012t01.nii.gz | /c0011s0012t01/c0011s0012t01_LesionSmooth.nii.gz\n",
      "/c0011s0013t01/c0011s0013t01.nii.gz | /c0011s0013t01/c0011s0013t01_LesionSmooth.nii.gz\n",
      "/c0011s0014t01/c0011s0014t01.nii.gz | /c0011s0014t01/c0011s0014t01_LesionSmooth.nii.gz\n",
      "/c0011s0015t01/c0011s0015t01.nii.gz | /c0011s0015t01/c0011s0015t01_LesionSmooth.nii.gz\n"
     ]
    }
   ],
   "source": [
    "print(\"Number of samples:\", len(xpaths))\n",
    "for input_path, target_path in zip(xpaths, ypaths):\n",
    "    print(input_path[-35:], \"|\", target_path[-48:])"
   ]
  },
  {
   "cell_type": "code",
   "execution_count": null,
   "metadata": {
    "colab": {
     "base_uri": "https://localhost:8080/"
    },
    "collapsed": true,
    "executionInfo": {
     "elapsed": 3740194,
     "status": "ok",
     "timestamp": 1685780553602,
     "user": {
      "displayName": "Alejandro M",
      "userId": "11111187776730726759"
     },
     "user_tz": 300
    },
    "id": "eCWkTx3B5vfL",
    "jupyter": {
     "outputs_hidden": true
    },
    "outputId": "fddfe2c1-76af-4d57-cb2a-bfc8e0445dcb"
   },
   "outputs": [
    {
     "name": "stdout",
     "output_type": "stream",
     "text": [
      "0 /data/NATIVE/c0001/c0001s0004t01/c0001s0004t01_registered.nii.gz\n",
      "0 /data/NATIVE/c0001/c0001s0004t01/c0001s0004t01_LesionSmooth_registered.nii.gz\n",
      "1 /data/NATIVE/c0001/c0001s0005t01/c0001s0005t01_registered.nii.gz\n",
      "1 /data/NATIVE/c0001/c0001s0005t01/c0001s0005t01_LesionSmooth_registered.nii.gz\n",
      "2 /data/NATIVE/c0001/c0001s0006t01/c0001s0006t01_registered.nii.gz\n",
      "2 /data/NATIVE/c0001/c0001s0006t01/c0001s0006t01_LesionSmooth_registered.nii.gz\n",
      "3 /data/NATIVE/c0001/c0001s0007t01/c0001s0007t01_registered.nii.gz\n",
      "3 /data/NATIVE/c0001/c0001s0007t01/c0001s0007t01_LesionSmooth_registered.nii.gz\n",
      "4 /data/NATIVE/c0001/c0001s0008t01/c0001s0008t01_registered.nii.gz\n",
      "4 /data/NATIVE/c0001/c0001s0008t01/c0001s0008t01_LesionSmooth_registered.nii.gz\n",
      "5 /data/NATIVE/c0001/c0001s0012t01/c0001s0012t01_registered.nii.gz\n",
      "5 /data/NATIVE/c0001/c0001s0012t01/c0001s0012t01_LesionSmooth_registered.nii.gz\n",
      "6 /data/NATIVE/c0002/c0002s0001t01/c0002s0001t01_registered.nii.gz\n",
      "6 /data/NATIVE/c0002/c0002s0001t01/c0002s0001t01_LesionSmooth_registered.nii.gz\n",
      "7 /data/NATIVE/c0002/c0002s0002t01/c0002s0002t01_registered.nii.gz\n",
      "7 /data/NATIVE/c0002/c0002s0002t01/c0002s0002t01_LesionSmooth_registered.nii.gz\n",
      "8 /data/NATIVE/c0002/c0002s0003t01/c0002s0003t01_registered.nii.gz\n",
      "8 /data/NATIVE/c0002/c0002s0003t01/c0002s0003t01_LesionSmooth_registered.nii.gz\n",
      "9 /data/NATIVE/c0002/c0002s0004t01/c0002s0004t01_registered.nii.gz\n",
      "9 /data/NATIVE/c0002/c0002s0004t01/c0002s0004t01_LesionSmooth_registered.nii.gz\n",
      "10 /data/NATIVE/c0002/c0002s0005t01/c0002s0005t01_registered.nii.gz\n",
      "10 /data/NATIVE/c0002/c0002s0005t01/c0002s0005t01_LesionSmooth_registered.nii.gz\n",
      "11 /data/NATIVE/c0002/c0002s0007t01/c0002s0007t01_registered.nii.gz\n",
      "11 /data/NATIVE/c0002/c0002s0007t01/c0002s0007t01_LesionSmooth_registered.nii.gz\n",
      "12 /data/NATIVE/c0002/c0002s0008t01/c0002s0008t01_registered.nii.gz\n",
      "12 /data/NATIVE/c0002/c0002s0008t01/c0002s0008t01_LesionSmooth_registered.nii.gz\n",
      "13 /data/NATIVE/c0002/c0002s0009t01/c0002s0009t01_registered.nii.gz\n",
      "13 /data/NATIVE/c0002/c0002s0009t01/c0002s0009t01_LesionSmooth_registered.nii.gz\n",
      "14 /data/NATIVE/c0002/c0002s0011t01/c0002s0011t01_registered.nii.gz\n",
      "14 /data/NATIVE/c0002/c0002s0011t01/c0002s0011t01_LesionSmooth_registered.nii.gz\n",
      "15 /data/NATIVE/c0002/c0002s0012t01/c0002s0012t01_registered.nii.gz\n",
      "15 /data/NATIVE/c0002/c0002s0012t01/c0002s0012t01_LesionSmooth_registered.nii.gz\n",
      "16 /data/NATIVE/c0002/c0002s0013t01/c0002s0013t01_registered.nii.gz\n",
      "16 /data/NATIVE/c0002/c0002s0013t01/c0002s0013t01_LesionSmooth_registered.nii.gz\n",
      "17 /data/NATIVE/c0002/c0002s0014t01/c0002s0014t01_registered.nii.gz\n",
      "17 /data/NATIVE/c0002/c0002s0014t01/c0002s0014t01_LesionSmooth_registered.nii.gz\n",
      "18 /data/NATIVE/c0002/c0002s0015t01/c0002s0015t01_registered.nii.gz\n",
      "18 /data/NATIVE/c0002/c0002s0015t01/c0002s0015t01_LesionSmooth_registered.nii.gz\n",
      "19 /data/NATIVE/c0002/c0002s0016t01/c0002s0016t01_registered.nii.gz\n",
      "19 /data/NATIVE/c0002/c0002s0016t01/c0002s0016t01_LesionSmooth_registered.nii.gz\n",
      "20 /data/NATIVE/c0002/c0002s0017t01/c0002s0017t01_registered.nii.gz\n",
      "20 /data/NATIVE/c0002/c0002s0017t01/c0002s0017t01_LesionSmooth_registered.nii.gz\n",
      "21 /data/NATIVE/c0002/c0002s0018t01/c0002s0018t01_registered.nii.gz\n",
      "21 /data/NATIVE/c0002/c0002s0018t01/c0002s0018t01_LesionSmooth_registered.nii.gz\n",
      "22 /data/NATIVE/c0002/c0002s0019t01/c0002s0019t01_registered.nii.gz\n",
      "22 /data/NATIVE/c0002/c0002s0019t01/c0002s0019t01_LesionSmooth_registered.nii.gz\n",
      "23 /data/NATIVE/c0002/c0002s0020t01/c0002s0020t01_registered.nii.gz\n",
      "23 /data/NATIVE/c0002/c0002s0020t01/c0002s0020t01_LesionSmooth_registered.nii.gz\n",
      "24 /data/NATIVE/c0002/c0002s0021t01/c0002s0021t01_registered.nii.gz\n",
      "24 /data/NATIVE/c0002/c0002s0021t01/c0002s0021t01_LesionSmooth_registered.nii.gz\n",
      "25 /data/NATIVE/c0002/c0002s0022t01/c0002s0022t01_registered.nii.gz\n",
      "25 /data/NATIVE/c0002/c0002s0022t01/c0002s0022t01_LesionSmooth_registered.nii.gz\n",
      "26 /data/NATIVE/c0002/c0002s0023t01/c0002s0023t01_registered.nii.gz\n",
      "26 /data/NATIVE/c0002/c0002s0023t01/c0002s0023t01_LesionSmooth_registered.nii.gz\n",
      "27 /data/NATIVE/c0002/c0002s0024t01/c0002s0024t01_registered.nii.gz\n",
      "27 /data/NATIVE/c0002/c0002s0024t01/c0002s0024t01_LesionSmooth_registered.nii.gz\n",
      "28 /data/NATIVE/c0002/c0002s0025t01/c0002s0025t01_registered.nii.gz\n",
      "28 /data/NATIVE/c0002/c0002s0025t01/c0002s0025t01_LesionSmooth_registered.nii.gz\n",
      "29 /data/NATIVE/c0002/c0002s0026t01/c0002s0026t01_registered.nii.gz\n",
      "29 /data/NATIVE/c0002/c0002s0026t01/c0002s0026t01_LesionSmooth_registered.nii.gz\n",
      "30 /data/NATIVE/c0002/c0002s0027t01/c0002s0027t01_registered.nii.gz\n",
      "30 /data/NATIVE/c0002/c0002s0027t01/c0002s0027t01_LesionSmooth_registered.nii.gz\n",
      "31 /data/NATIVE/c0003/c0003s0001t01/c0003s0001t01_registered.nii.gz\n",
      "31 /data/NATIVE/c0003/c0003s0001t01/c0003s0001t01_LesionSmooth_registered.nii.gz\n",
      "32 /data/NATIVE/c0003/c0003s0002t01/c0003s0002t01_registered.nii.gz\n",
      "32 /data/NATIVE/c0003/c0003s0002t01/c0003s0002t01_LesionSmooth_registered.nii.gz\n",
      "33 /data/NATIVE/c0003/c0003s0003t01/c0003s0003t01_registered.nii.gz\n",
      "33 /data/NATIVE/c0003/c0003s0003t01/c0003s0003t01_LesionSmooth_registered.nii.gz\n",
      "34 /data/NATIVE/c0003/c0003s0004t01/c0003s0004t01_registered.nii.gz\n",
      "34 /data/NATIVE/c0003/c0003s0004t01/c0003s0004t01_LesionSmooth_registered.nii.gz\n",
      "35 /data/NATIVE/c0003/c0003s0005t01/c0003s0005t01_registered.nii.gz\n",
      "35 /data/NATIVE/c0003/c0003s0005t01/c0003s0005t01_LesionSmooth_registered.nii.gz\n",
      "36 /data/NATIVE/c0003/c0003s0006t01/c0003s0006t01_registered.nii.gz\n",
      "36 /data/NATIVE/c0003/c0003s0006t01/c0003s0006t01_LesionSmooth_registered.nii.gz\n",
      "37 /data/NATIVE/c0003/c0003s0007t01/c0003s0007t01_registered.nii.gz\n",
      "37 /data/NATIVE/c0003/c0003s0007t01/c0003s0007t01_LesionSmooth_registered.nii.gz\n",
      "38 /data/NATIVE/c0003/c0003s0008t01/c0003s0008t01_registered.nii.gz\n",
      "38 /data/NATIVE/c0003/c0003s0008t01/c0003s0008t01_LesionSmooth_registered.nii.gz\n",
      "39 /data/NATIVE/c0003/c0003s0009t01/c0003s0009t01_registered.nii.gz\n",
      "39 /data/NATIVE/c0003/c0003s0009t01/c0003s0009t01_LesionSmooth_registered.nii.gz\n",
      "40 /data/NATIVE/c0003/c0003s0010t01/c0003s0010t01_registered.nii.gz\n",
      "40 /data/NATIVE/c0003/c0003s0010t01/c0003s0010t01_LesionSmooth_registered.nii.gz\n",
      "41 /data/NATIVE/c0003/c0003s0011t01/c0003s0011t01_registered.nii.gz\n",
      "41 /data/NATIVE/c0003/c0003s0011t01/c0003s0011t01_LesionSmooth_registered.nii.gz\n",
      "42 /data/NATIVE/c0003/c0003s0012t01/c0003s0012t01_registered.nii.gz\n",
      "42 /data/NATIVE/c0003/c0003s0012t01/c0003s0012t01_LesionSmooth_registered.nii.gz\n",
      "43 /data/NATIVE/c0003/c0003s0013t01/c0003s0013t01_registered.nii.gz\n",
      "43 /data/NATIVE/c0003/c0003s0013t01/c0003s0013t01_LesionSmooth_registered.nii.gz\n",
      "44 /data/NATIVE/c0003/c0003s0014t01/c0003s0014t01_registered.nii.gz\n",
      "44 /data/NATIVE/c0003/c0003s0014t01/c0003s0014t01_LesionSmooth_registered.nii.gz\n",
      "45 /data/NATIVE/c0003/c0003s0015t01/c0003s0015t01_registered.nii.gz\n",
      "45 /data/NATIVE/c0003/c0003s0015t01/c0003s0015t01_LesionSmooth_registered.nii.gz\n",
      "46 /data/NATIVE/c0003/c0003s0016t01/c0003s0016t01_registered.nii.gz\n",
      "46 /data/NATIVE/c0003/c0003s0016t01/c0003s0016t01_LesionSmooth_registered.nii.gz\n",
      "47 /data/NATIVE/c0003/c0003s0017t01/c0003s0017t01_registered.nii.gz\n",
      "47 /data/NATIVE/c0003/c0003s0017t01/c0003s0017t01_LesionSmooth_registered.nii.gz\n",
      "48 /data/NATIVE/c0003/c0003s0018t01/c0003s0018t01_registered.nii.gz\n",
      "48 /data/NATIVE/c0003/c0003s0018t01/c0003s0018t01_LesionSmooth_registered.nii.gz\n",
      "49 /data/NATIVE/c0003/c0003s0019t01/c0003s0019t01_registered.nii.gz\n",
      "49 /data/NATIVE/c0003/c0003s0019t01/c0003s0019t01_LesionSmooth_registered.nii.gz\n",
      "50 /data/NATIVE/c0003/c0003s0020t01/c0003s0020t01_registered.nii.gz\n",
      "50 /data/NATIVE/c0003/c0003s0020t01/c0003s0020t01_LesionSmooth_registered.nii.gz\n",
      "51 /data/NATIVE/c0003/c0003s0021t01/c0003s0021t01_registered.nii.gz\n",
      "51 /data/NATIVE/c0003/c0003s0021t01/c0003s0021t01_LesionSmooth_registered.nii.gz\n",
      "52 /data/NATIVE/c0003/c0003s0022t01/c0003s0022t01_registered.nii.gz\n",
      "52 /data/NATIVE/c0003/c0003s0022t01/c0003s0022t01_LesionSmooth_registered.nii.gz\n",
      "53 /data/NATIVE/c0003/c0003s0023t01/c0003s0023t01_registered.nii.gz\n",
      "53 /data/NATIVE/c0003/c0003s0023t01/c0003s0023t01_LesionSmooth_registered.nii.gz\n",
      "54 /data/NATIVE/c0003/c0003s0024t01/c0003s0024t01_registered.nii.gz\n",
      "54 /data/NATIVE/c0003/c0003s0024t01/c0003s0024t01_LesionSmooth_registered.nii.gz\n",
      "55 /data/NATIVE/c0003/c0003s0025t01/c0003s0025t01_registered.nii.gz\n",
      "55 /data/NATIVE/c0003/c0003s0025t01/c0003s0025t01_LesionSmooth_registered.nii.gz\n",
      "56 /data/NATIVE/c0003/c0003s0026t01/c0003s0026t01_registered.nii.gz\n",
      "56 /data/NATIVE/c0003/c0003s0026t01/c0003s0026t01_LesionSmooth_registered.nii.gz\n",
      "57 /data/NATIVE/c0003/c0003s0027t01/c0003s0027t01_registered.nii.gz\n",
      "57 /data/NATIVE/c0003/c0003s0027t01/c0003s0027t01_LesionSmooth_registered.nii.gz\n",
      "58 /data/NATIVE/c0003/c0003s0028t01/c0003s0028t01_registered.nii.gz\n",
      "58 /data/NATIVE/c0003/c0003s0028t01/c0003s0028t01_LesionSmooth_registered.nii.gz\n",
      "59 /data/NATIVE/c0003/c0003s0029t01/c0003s0029t01_registered.nii.gz\n",
      "59 /data/NATIVE/c0003/c0003s0029t01/c0003s0029t01_LesionSmooth_registered.nii.gz\n",
      "60 /data/NATIVE/c0003/c0003s0030t01/c0003s0030t01_registered.nii.gz\n",
      "60 /data/NATIVE/c0003/c0003s0030t01/c0003s0030t01_LesionSmooth_registered.nii.gz\n",
      "61 /data/NATIVE/c0003/c0003s0031t01/c0003s0031t01_registered.nii.gz\n",
      "61 /data/NATIVE/c0003/c0003s0031t01/c0003s0031t01_LesionSmooth_registered.nii.gz\n",
      "62 /data/NATIVE/c0003/c0003s0032t01/c0003s0032t01_registered.nii.gz\n",
      "62 /data/NATIVE/c0003/c0003s0032t01/c0003s0032t01_LesionSmooth_registered.nii.gz\n",
      "63 /data/NATIVE/c0003/c0003s0033t01/c0003s0033t01_registered.nii.gz\n",
      "63 /data/NATIVE/c0003/c0003s0033t01/c0003s0033t01_LesionSmooth_registered.nii.gz\n",
      "64 /data/NATIVE/c0003/c0003s0034t01/c0003s0034t01_registered.nii.gz\n",
      "64 /data/NATIVE/c0003/c0003s0034t01/c0003s0034t01_LesionSmooth_registered.nii.gz\n",
      "65 /data/NATIVE/c0003/c0003s0035t01/c0003s0035t01_registered.nii.gz\n",
      "65 /data/NATIVE/c0003/c0003s0035t01/c0003s0035t01_LesionSmooth_registered.nii.gz\n",
      "66 /data/NATIVE/c0003/c0003s0036t01/c0003s0036t01_registered.nii.gz\n",
      "66 /data/NATIVE/c0003/c0003s0036t01/c0003s0036t01_LesionSmooth_registered.nii.gz\n",
      "67 /data/NATIVE/c0003/c0003s0037t01/c0003s0037t01_registered.nii.gz\n",
      "67 /data/NATIVE/c0003/c0003s0037t01/c0003s0037t01_LesionSmooth_registered.nii.gz\n",
      "68 /data/NATIVE/c0003/c0003s0038t01/c0003s0038t01_registered.nii.gz\n",
      "68 /data/NATIVE/c0003/c0003s0038t01/c0003s0038t01_LesionSmooth_registered.nii.gz\n",
      "69 /data/NATIVE/c0003/c0003s0039t01/c0003s0039t01_registered.nii.gz\n",
      "69 /data/NATIVE/c0003/c0003s0039t01/c0003s0039t01_LesionSmooth_registered.nii.gz\n",
      "70 /data/NATIVE/c0003/c0003s0040t01/c0003s0040t01_registered.nii.gz\n",
      "70 /data/NATIVE/c0003/c0003s0040t01/c0003s0040t01_LesionSmooth_registered.nii.gz\n",
      "71 /data/NATIVE/c0003/c0003s0041t01/c0003s0041t01_registered.nii.gz\n",
      "71 /data/NATIVE/c0003/c0003s0041t01/c0003s0041t01_LesionSmooth_registered.nii.gz\n",
      "72 /data/NATIVE/c0003/c0003s0042t01/c0003s0042t01_registered.nii.gz\n",
      "72 /data/NATIVE/c0003/c0003s0042t01/c0003s0042t01_LesionSmooth_registered.nii.gz\n",
      "73 /data/NATIVE/c0003/c0003s0043t01/c0003s0043t01_registered.nii.gz\n",
      "73 /data/NATIVE/c0003/c0003s0043t01/c0003s0043t01_LesionSmooth_registered.nii.gz\n",
      "74 /data/NATIVE/c0003/c0003s0044t01/c0003s0044t01_registered.nii.gz\n",
      "74 /data/NATIVE/c0003/c0003s0044t01/c0003s0044t01_LesionSmooth_registered.nii.gz\n",
      "75 /data/NATIVE/c0003/c0003s0045t01/c0003s0045t01_registered.nii.gz\n",
      "75 /data/NATIVE/c0003/c0003s0045t01/c0003s0045t01_LesionSmooth_registered.nii.gz\n",
      "76 /data/NATIVE/c0003/c0003s0046t01/c0003s0046t01_registered.nii.gz\n",
      "76 /data/NATIVE/c0003/c0003s0046t01/c0003s0046t01_LesionSmooth_registered.nii.gz\n",
      "77 /data/NATIVE/c0003/c0003s0048t01/c0003s0048t01_registered.nii.gz\n",
      "77 /data/NATIVE/c0003/c0003s0048t01/c0003s0048t01_LesionSmooth_registered.nii.gz\n",
      "78 /data/NATIVE/c0003/c0003s0049t01/c0003s0049t01_registered.nii.gz\n",
      "78 /data/NATIVE/c0003/c0003s0049t01/c0003s0049t01_LesionSmooth_registered.nii.gz\n",
      "79 /data/NATIVE/c0003/c0003s0050t01/c0003s0050t01_registered.nii.gz\n",
      "79 /data/NATIVE/c0003/c0003s0050t01/c0003s0050t01_LesionSmooth_registered.nii.gz\n",
      "80 /data/NATIVE/c0003/c0003s0051t01/c0003s0051t01_registered.nii.gz\n",
      "80 /data/NATIVE/c0003/c0003s0051t01/c0003s0051t01_LesionSmooth_registered.nii.gz\n",
      "81 /data/NATIVE/c0003/c0003s0052t01/c0003s0052t01_registered.nii.gz\n",
      "81 /data/NATIVE/c0003/c0003s0052t01/c0003s0052t01_LesionSmooth_registered.nii.gz\n",
      "82 /data/NATIVE/c0003/c0003s0053t01/c0003s0053t01_registered.nii.gz\n",
      "82 /data/NATIVE/c0003/c0003s0053t01/c0003s0053t01_LesionSmooth_registered.nii.gz\n",
      "83 /data/NATIVE/c0003/c0003s0054t01/c0003s0054t01_registered.nii.gz\n",
      "83 /data/NATIVE/c0003/c0003s0054t01/c0003s0054t01_LesionSmooth_registered.nii.gz\n",
      "84 /data/NATIVE/c0003/c0003s0055t01/c0003s0055t01_registered.nii.gz\n",
      "84 /data/NATIVE/c0003/c0003s0055t01/c0003s0055t01_LesionSmooth_registered.nii.gz\n",
      "85 /data/NATIVE/c0003/c0003s0056t01/c0003s0056t01_registered.nii.gz\n",
      "85 /data/NATIVE/c0003/c0003s0056t01/c0003s0056t01_LesionSmooth_registered.nii.gz\n",
      "86 /data/NATIVE/c0004/c0004s0001t01/c0004s0001t01_registered.nii.gz\n",
      "86 /data/NATIVE/c0004/c0004s0001t01/c0004s0001t01_LesionSmooth_registered.nii.gz\n",
      "87 /data/NATIVE/c0004/c0004s0002t01/c0004s0002t01_registered.nii.gz\n",
      "87 /data/NATIVE/c0004/c0004s0002t01/c0004s0002t01_LesionSmooth_registered.nii.gz\n",
      "88 /data/NATIVE/c0004/c0004s0003t01/c0004s0003t01_registered.nii.gz\n",
      "88 /data/NATIVE/c0004/c0004s0003t01/c0004s0003t01_LesionSmooth_registered.nii.gz\n",
      "89 /data/NATIVE/c0004/c0004s0004t01/c0004s0004t01_registered.nii.gz\n",
      "89 /data/NATIVE/c0004/c0004s0004t01/c0004s0004t01_LesionSmooth_registered.nii.gz\n",
      "90 /data/NATIVE/c0004/c0004s0005t01/c0004s0005t01_registered.nii.gz\n",
      "90 /data/NATIVE/c0004/c0004s0005t01/c0004s0005t01_LesionSmooth_registered.nii.gz\n",
      "91 /data/NATIVE/c0004/c0004s0006t01/c0004s0006t01_registered.nii.gz\n",
      "91 /data/NATIVE/c0004/c0004s0006t01/c0004s0006t01_LesionSmooth_registered.nii.gz\n",
      "92 /data/NATIVE/c0004/c0004s0007t01/c0004s0007t01_registered.nii.gz\n",
      "92 /data/NATIVE/c0004/c0004s0007t01/c0004s0007t01_LesionSmooth_registered.nii.gz\n",
      "93 /data/NATIVE/c0004/c0004s0008t01/c0004s0008t01_registered.nii.gz\n",
      "93 /data/NATIVE/c0004/c0004s0008t01/c0004s0008t01_LesionSmooth_registered.nii.gz\n",
      "94 /data/NATIVE/c0004/c0004s0009t01/c0004s0009t01_registered.nii.gz\n",
      "94 /data/NATIVE/c0004/c0004s0009t01/c0004s0009t01_LesionSmooth_registered.nii.gz\n",
      "95 /data/NATIVE/c0004/c0004s0010t01/c0004s0010t01_registered.nii.gz\n",
      "95 /data/NATIVE/c0004/c0004s0010t01/c0004s0010t01_LesionSmooth_registered.nii.gz\n",
      "96 /data/NATIVE/c0004/c0004s0011t01/c0004s0011t01_registered.nii.gz\n",
      "96 /data/NATIVE/c0004/c0004s0011t01/c0004s0011t01_LesionSmooth_registered.nii.gz\n",
      "97 /data/NATIVE/c0004/c0004s0012t01/c0004s0012t01_registered.nii.gz\n",
      "97 /data/NATIVE/c0004/c0004s0012t01/c0004s0012t01_LesionSmooth_registered.nii.gz\n",
      "98 /data/NATIVE/c0004/c0004s0013t01/c0004s0013t01_registered.nii.gz\n",
      "98 /data/NATIVE/c0004/c0004s0013t01/c0004s0013t01_LesionSmooth_registered.nii.gz\n",
      "99 /data/NATIVE/c0004/c0004s0014t01/c0004s0014t01_registered.nii.gz\n",
      "99 /data/NATIVE/c0004/c0004s0014t01/c0004s0014t01_LesionSmooth_registered.nii.gz\n",
      "100 /data/NATIVE/c0004/c0004s0015t01/c0004s0015t01_registered.nii.gz\n",
      "100 /data/NATIVE/c0004/c0004s0015t01/c0004s0015t01_LesionSmooth_registered.nii.gz\n",
      "101 /data/NATIVE/c0004/c0004s0016t01/c0004s0016t01_registered.nii.gz\n",
      "101 /data/NATIVE/c0004/c0004s0016t01/c0004s0016t01_LesionSmooth_registered.nii.gz\n",
      "102 /data/NATIVE/c0004/c0004s0017t01/c0004s0017t01_registered.nii.gz\n",
      "102 /data/NATIVE/c0004/c0004s0017t01/c0004s0017t01_LesionSmooth_registered.nii.gz\n",
      "103 /data/NATIVE/c0004/c0004s0018t01/c0004s0018t01_registered.nii.gz\n",
      "103 /data/NATIVE/c0004/c0004s0018t01/c0004s0018t01_LesionSmooth_registered.nii.gz\n",
      "104 /data/NATIVE/c0004/c0004s0019t01/c0004s0019t01_registered.nii.gz\n",
      "104 /data/NATIVE/c0004/c0004s0019t01/c0004s0019t01_LesionSmooth_registered.nii.gz\n",
      "105 /data/NATIVE/c0004/c0004s0020t01/c0004s0020t01_registered.nii.gz\n",
      "105 /data/NATIVE/c0004/c0004s0020t01/c0004s0020t01_LesionSmooth_registered.nii.gz\n",
      "106 /data/NATIVE/c0004/c0004s0021t01/c0004s0021t01_registered.nii.gz\n",
      "106 /data/NATIVE/c0004/c0004s0021t01/c0004s0021t01_LesionSmooth_registered.nii.gz\n",
      "107 /data/NATIVE/c0004/c0004s0022t01/c0004s0022t01_registered.nii.gz\n",
      "107 /data/NATIVE/c0004/c0004s0022t01/c0004s0022t01_LesionSmooth_registered.nii.gz\n",
      "108 /data/NATIVE/c0004/c0004s0023t01/c0004s0023t01_registered.nii.gz\n",
      "108 /data/NATIVE/c0004/c0004s0023t01/c0004s0023t01_LesionSmooth_registered.nii.gz\n",
      "109 /data/NATIVE/c0004/c0004s0024t01/c0004s0024t01_registered.nii.gz\n",
      "109 /data/NATIVE/c0004/c0004s0024t01/c0004s0024t01_LesionSmooth_registered.nii.gz\n",
      "110 /data/NATIVE/c0004/c0004s0025t01/c0004s0025t01_registered.nii.gz\n",
      "110 /data/NATIVE/c0004/c0004s0025t01/c0004s0025t01_LesionSmooth_registered.nii.gz\n",
      "111 /data/NATIVE/c0004/c0004s0026t01/c0004s0026t01_registered.nii.gz\n",
      "111 /data/NATIVE/c0004/c0004s0026t01/c0004s0026t01_LesionSmooth_registered.nii.gz\n",
      "112 /data/NATIVE/c0004/c0004s0027t01/c0004s0027t01_registered.nii.gz\n",
      "112 /data/NATIVE/c0004/c0004s0027t01/c0004s0027t01_LesionSmooth_registered.nii.gz\n",
      "113 /data/NATIVE/c0004/c0004s0028t01/c0004s0028t01_registered.nii.gz\n",
      "113 /data/NATIVE/c0004/c0004s0028t01/c0004s0028t01_LesionSmooth_registered.nii.gz\n",
      "114 /data/NATIVE/c0004/c0004s0029t01/c0004s0029t01_registered.nii.gz\n",
      "114 /data/NATIVE/c0004/c0004s0029t01/c0004s0029t01_LesionSmooth_registered.nii.gz\n",
      "115 /data/NATIVE/c0004/c0004s0030t01/c0004s0030t01_registered.nii.gz\n",
      "115 /data/NATIVE/c0004/c0004s0030t01/c0004s0030t01_LesionSmooth_registered.nii.gz\n",
      "116 /data/NATIVE/c0004/c0004s0031t01/c0004s0031t01_registered.nii.gz\n",
      "116 /data/NATIVE/c0004/c0004s0031t01/c0004s0031t01_LesionSmooth_registered.nii.gz\n",
      "117 /data/NATIVE/c0004/c0004s0032t01/c0004s0032t01_registered.nii.gz\n",
      "117 /data/NATIVE/c0004/c0004s0032t01/c0004s0032t01_LesionSmooth_registered.nii.gz\n",
      "118 /data/NATIVE/c0004/c0004s0033t01/c0004s0033t01_registered.nii.gz\n",
      "118 /data/NATIVE/c0004/c0004s0033t01/c0004s0033t01_LesionSmooth_registered.nii.gz\n",
      "119 /data/NATIVE/c0004/c0004s0034t01/c0004s0034t01_registered.nii.gz\n",
      "119 /data/NATIVE/c0004/c0004s0034t01/c0004s0034t01_LesionSmooth_registered.nii.gz\n",
      "120 /data/NATIVE/c0005/c0005s0003t01/c0005s0003t01_registered.nii.gz\n",
      "120 /data/NATIVE/c0005/c0005s0003t01/c0005s0003t01_LesionSmooth_registered.nii.gz\n",
      "121 /data/NATIVE/c0005/c0005s0006t01/c0005s0006t01_registered.nii.gz\n",
      "121 /data/NATIVE/c0005/c0005s0006t01/c0005s0006t01_LesionSmooth_registered.nii.gz\n",
      "122 /data/NATIVE/c0005/c0005s0007t01/c0005s0007t01_registered.nii.gz\n",
      "122 /data/NATIVE/c0005/c0005s0007t01/c0005s0007t01_LesionSmooth_registered.nii.gz\n",
      "123 /data/NATIVE/c0005/c0005s0008t01/c0005s0008t01_registered.nii.gz\n",
      "123 /data/NATIVE/c0005/c0005s0008t01/c0005s0008t01_LesionSmooth_registered.nii.gz\n",
      "124 /data/NATIVE/c0005/c0005s0009t01/c0005s0009t01_registered.nii.gz\n",
      "124 /data/NATIVE/c0005/c0005s0009t01/c0005s0009t01_LesionSmooth_registered.nii.gz\n",
      "125 /data/NATIVE/c0005/c0005s0010t01/c0005s0010t01_registered.nii.gz\n",
      "125 /data/NATIVE/c0005/c0005s0010t01/c0005s0010t01_LesionSmooth_registered.nii.gz\n",
      "126 /data/NATIVE/c0005/c0005s0011t01/c0005s0011t01_registered.nii.gz\n",
      "126 /data/NATIVE/c0005/c0005s0011t01/c0005s0011t01_LesionSmooth_registered.nii.gz\n",
      "127 /data/NATIVE/c0005/c0005s0012t01/c0005s0012t01_registered.nii.gz\n",
      "127 /data/NATIVE/c0005/c0005s0012t01/c0005s0012t01_LesionSmooth_registered.nii.gz\n",
      "128 /data/NATIVE/c0005/c0005s0013t01/c0005s0013t01_registered.nii.gz\n",
      "128 /data/NATIVE/c0005/c0005s0013t01/c0005s0013t01_LesionSmooth_registered.nii.gz\n",
      "129 /data/NATIVE/c0005/c0005s0014t01/c0005s0014t01_registered.nii.gz\n",
      "129 /data/NATIVE/c0005/c0005s0014t01/c0005s0014t01_LesionSmooth_registered.nii.gz\n",
      "130 /data/NATIVE/c0005/c0005s0017t01/c0005s0017t01_registered.nii.gz\n",
      "130 /data/NATIVE/c0005/c0005s0017t01/c0005s0017t01_LesionSmooth_registered.nii.gz\n",
      "131 /data/NATIVE/c0005/c0005s0018t01/c0005s0018t01_registered.nii.gz\n",
      "131 /data/NATIVE/c0005/c0005s0018t01/c0005s0018t01_LesionSmooth_registered.nii.gz\n",
      "132 /data/NATIVE/c0005/c0005s0021t01/c0005s0021t01_registered.nii.gz\n",
      "132 /data/NATIVE/c0005/c0005s0021t01/c0005s0021t01_LesionSmooth_registered.nii.gz\n",
      "133 /data/NATIVE/c0005/c0005s0024t01/c0005s0024t01_registered.nii.gz\n",
      "133 /data/NATIVE/c0005/c0005s0024t01/c0005s0024t01_LesionSmooth_registered.nii.gz\n",
      "134 /data/NATIVE/c0005/c0005s0026t01/c0005s0026t01_registered.nii.gz\n",
      "134 /data/NATIVE/c0005/c0005s0026t01/c0005s0026t01_LesionSmooth_registered.nii.gz\n",
      "135 /data/NATIVE/c0005/c0005s0027t01/c0005s0027t01_registered.nii.gz\n",
      "135 /data/NATIVE/c0005/c0005s0027t01/c0005s0027t01_LesionSmooth_registered.nii.gz\n",
      "136 /data/NATIVE/c0005/c0005s0028t01/c0005s0028t01_registered.nii.gz\n",
      "136 /data/NATIVE/c0005/c0005s0028t01/c0005s0028t01_LesionSmooth_registered.nii.gz\n",
      "137 /data/NATIVE/c0005/c0005s0029t01/c0005s0029t01_registered.nii.gz\n",
      "137 /data/NATIVE/c0005/c0005s0029t01/c0005s0029t01_LesionSmooth_registered.nii.gz\n",
      "138 /data/NATIVE/c0005/c0005s0030t01/c0005s0030t01_registered.nii.gz\n",
      "138 /data/NATIVE/c0005/c0005s0030t01/c0005s0030t01_LesionSmooth_registered.nii.gz\n",
      "139 /data/NATIVE/c0005/c0005s0031t01/c0005s0031t01_registered.nii.gz\n",
      "139 /data/NATIVE/c0005/c0005s0031t01/c0005s0031t01_LesionSmooth_registered.nii.gz\n",
      "140 /data/NATIVE/c0005/c0005s0035t01/c0005s0035t01_registered.nii.gz\n",
      "140 /data/NATIVE/c0005/c0005s0035t01/c0005s0035t01_LesionSmooth_registered.nii.gz\n",
      "141 /data/NATIVE/c0005/c0005s0036t01/c0005s0036t01_registered.nii.gz\n",
      "141 /data/NATIVE/c0005/c0005s0036t01/c0005s0036t01_LesionSmooth_registered.nii.gz\n",
      "142 /data/NATIVE/c0005/c0005s0040t01/c0005s0040t01_registered.nii.gz\n",
      "142 /data/NATIVE/c0005/c0005s0040t01/c0005s0040t01_LesionSmooth_registered.nii.gz\n",
      "143 /data/NATIVE/c0005/c0005s0042t01/c0005s0042t01_registered.nii.gz\n",
      "143 /data/NATIVE/c0005/c0005s0042t01/c0005s0042t01_LesionSmooth_registered.nii.gz\n",
      "144 /data/NATIVE/c0005/c0005s0043t01/c0005s0043t01_registered.nii.gz\n",
      "144 /data/NATIVE/c0005/c0005s0043t01/c0005s0043t01_LesionSmooth_registered.nii.gz\n",
      "145 /data/NATIVE/c0005/c0005s0044t01/c0005s0044t01_registered.nii.gz\n",
      "145 /data/NATIVE/c0005/c0005s0044t01/c0005s0044t01_LesionSmooth_registered.nii.gz\n",
      "146 /data/NATIVE/c0005/c0005s0045t01/c0005s0045t01_registered.nii.gz\n",
      "146 /data/NATIVE/c0005/c0005s0045t01/c0005s0045t01_LesionSmooth_registered.nii.gz\n",
      "147 /data/NATIVE/c0005/c0005s0047t01/c0005s0047t01_registered.nii.gz\n",
      "147 /data/NATIVE/c0005/c0005s0047t01/c0005s0047t01_LesionSmooth_registered.nii.gz\n",
      "148 /data/NATIVE/c0005/c0005s0048t01/c0005s0048t01_registered.nii.gz\n",
      "148 /data/NATIVE/c0005/c0005s0048t01/c0005s0048t01_LesionSmooth_registered.nii.gz\n",
      "149 /data/NATIVE/c0005/c0005s0049t01/c0005s0049t01_registered.nii.gz\n",
      "149 /data/NATIVE/c0005/c0005s0049t01/c0005s0049t01_LesionSmooth_registered.nii.gz\n",
      "150 /data/NATIVE/c0006/c0006s0001t01/c0006s0001t01_registered.nii.gz\n",
      "150 /data/NATIVE/c0006/c0006s0001t01/c0006s0001t01_LesionSmooth_registered.nii.gz\n",
      "151 /data/NATIVE/c0006/c0006s0003t01/c0006s0003t01_registered.nii.gz\n",
      "151 /data/NATIVE/c0006/c0006s0003t01/c0006s0003t01_LesionSmooth_registered.nii.gz\n",
      "152 /data/NATIVE/c0006/c0006s0004t01/c0006s0004t01_registered.nii.gz\n",
      "152 /data/NATIVE/c0006/c0006s0004t01/c0006s0004t01_LesionSmooth_registered.nii.gz\n",
      "153 /data/NATIVE/c0006/c0006s0005t01/c0006s0005t01_registered.nii.gz\n",
      "153 /data/NATIVE/c0006/c0006s0005t01/c0006s0005t01_LesionSmooth_registered.nii.gz\n",
      "154 /data/NATIVE/c0006/c0006s0006t01/c0006s0006t01_registered.nii.gz\n",
      "154 /data/NATIVE/c0006/c0006s0006t01/c0006s0006t01_LesionSmooth_registered.nii.gz\n",
      "155 /data/NATIVE/c0006/c0006s0007t01/c0006s0007t01_registered.nii.gz\n",
      "155 /data/NATIVE/c0006/c0006s0007t01/c0006s0007t01_LesionSmooth_registered.nii.gz\n",
      "156 /data/NATIVE/c0006/c0006s0008t01/c0006s0008t01_registered.nii.gz\n",
      "156 /data/NATIVE/c0006/c0006s0008t01/c0006s0008t01_LesionSmooth_registered.nii.gz\n",
      "157 /data/NATIVE/c0006/c0006s0010t01/c0006s0010t01_registered.nii.gz\n",
      "157 /data/NATIVE/c0006/c0006s0010t01/c0006s0010t01_LesionSmooth_registered.nii.gz\n",
      "158 /data/NATIVE/c0006/c0006s0014t01/c0006s0014t01_registered.nii.gz\n",
      "158 /data/NATIVE/c0006/c0006s0014t01/c0006s0014t01_LesionSmooth_registered.nii.gz\n",
      "159 /data/NATIVE/c0006/c0006s0018t01/c0006s0018t01_registered.nii.gz\n",
      "159 /data/NATIVE/c0006/c0006s0018t01/c0006s0018t01_LesionSmooth_registered.nii.gz\n",
      "160 /data/NATIVE/c0006/c0006s0019t01/c0006s0019t01_registered.nii.gz\n",
      "160 /data/NATIVE/c0006/c0006s0019t01/c0006s0019t01_LesionSmooth_registered.nii.gz\n",
      "161 /data/NATIVE/c0006/c0006s0020t01/c0006s0020t01_registered.nii.gz\n",
      "161 /data/NATIVE/c0006/c0006s0020t01/c0006s0020t01_LesionSmooth_registered.nii.gz\n",
      "162 /data/NATIVE/c0007/c0007s0001t01/c0007s0001t01_registered.nii.gz\n",
      "162 /data/NATIVE/c0007/c0007s0001t01/c0007s0001t01_LesionSmooth_registered.nii.gz\n",
      "163 /data/NATIVE/c0007/c0007s0002t01/c0007s0002t01_registered.nii.gz\n",
      "163 /data/NATIVE/c0007/c0007s0002t01/c0007s0002t01_LesionSmooth_registered.nii.gz\n",
      "164 /data/NATIVE/c0007/c0007s0003t01/c0007s0003t01_registered.nii.gz\n",
      "164 /data/NATIVE/c0007/c0007s0003t01/c0007s0003t01_LesionSmooth_registered.nii.gz\n",
      "165 /data/NATIVE/c0007/c0007s0004t01/c0007s0004t01_registered.nii.gz\n",
      "165 /data/NATIVE/c0007/c0007s0004t01/c0007s0004t01_LesionSmooth_registered.nii.gz\n",
      "166 /data/NATIVE/c0007/c0007s0005t01/c0007s0005t01_registered.nii.gz\n",
      "166 /data/NATIVE/c0007/c0007s0005t01/c0007s0005t01_LesionSmooth_registered.nii.gz\n",
      "167 /data/NATIVE/c0007/c0007s0006t01/c0007s0006t01_registered.nii.gz\n",
      "167 /data/NATIVE/c0007/c0007s0006t01/c0007s0006t01_LesionSmooth_registered.nii.gz\n",
      "168 /data/NATIVE/c0007/c0007s0007t01/c0007s0007t01_registered.nii.gz\n",
      "168 /data/NATIVE/c0007/c0007s0007t01/c0007s0007t01_LesionSmooth_registered.nii.gz\n",
      "169 /data/NATIVE/c0007/c0007s0008t01/c0007s0008t01_registered.nii.gz\n",
      "169 /data/NATIVE/c0007/c0007s0008t01/c0007s0008t01_LesionSmooth_registered.nii.gz\n",
      "170 /data/NATIVE/c0007/c0007s0009t01/c0007s0009t01_registered.nii.gz\n",
      "170 /data/NATIVE/c0007/c0007s0009t01/c0007s0009t01_LesionSmooth_registered.nii.gz\n",
      "171 /data/NATIVE/c0007/c0007s0010t01/c0007s0010t01_registered.nii.gz\n",
      "171 /data/NATIVE/c0007/c0007s0010t01/c0007s0010t01_LesionSmooth_registered.nii.gz\n",
      "172 /data/NATIVE/c0007/c0007s0011t01/c0007s0011t01_registered.nii.gz\n",
      "172 /data/NATIVE/c0007/c0007s0011t01/c0007s0011t01_LesionSmooth_registered.nii.gz\n",
      "173 /data/NATIVE/c0007/c0007s0012t01/c0007s0012t01_registered.nii.gz\n",
      "173 /data/NATIVE/c0007/c0007s0012t01/c0007s0012t01_LesionSmooth_registered.nii.gz\n",
      "174 /data/NATIVE/c0007/c0007s0013t01/c0007s0013t01_registered.nii.gz\n",
      "174 /data/NATIVE/c0007/c0007s0013t01/c0007s0013t01_LesionSmooth_registered.nii.gz\n",
      "175 /data/NATIVE/c0007/c0007s0014t01/c0007s0014t01_registered.nii.gz\n",
      "175 /data/NATIVE/c0007/c0007s0014t01/c0007s0014t01_LesionSmooth_registered.nii.gz\n",
      "176 /data/NATIVE/c0007/c0007s0015t01/c0007s0015t01_registered.nii.gz\n",
      "176 /data/NATIVE/c0007/c0007s0015t01/c0007s0015t01_LesionSmooth_registered.nii.gz\n",
      "177 /data/NATIVE/c0007/c0007s0016t01/c0007s0016t01_registered.nii.gz\n",
      "177 /data/NATIVE/c0007/c0007s0016t01/c0007s0016t01_LesionSmooth_registered.nii.gz\n",
      "178 /data/NATIVE/c0007/c0007s0017t01/c0007s0017t01_registered.nii.gz\n",
      "178 /data/NATIVE/c0007/c0007s0017t01/c0007s0017t01_LesionSmooth_registered.nii.gz\n",
      "179 /data/NATIVE/c0007/c0007s0018t01/c0007s0018t01_registered.nii.gz\n",
      "179 /data/NATIVE/c0007/c0007s0018t01/c0007s0018t01_LesionSmooth_registered.nii.gz\n",
      "180 /data/NATIVE/c0007/c0007s0019t01/c0007s0019t01_registered.nii.gz\n",
      "180 /data/NATIVE/c0007/c0007s0019t01/c0007s0019t01_LesionSmooth_registered.nii.gz\n",
      "181 /data/NATIVE/c0007/c0007s0020t01/c0007s0020t01_registered.nii.gz\n",
      "181 /data/NATIVE/c0007/c0007s0020t01/c0007s0020t01_LesionSmooth_registered.nii.gz\n",
      "182 /data/NATIVE/c0007/c0007s0021t01/c0007s0021t01_registered.nii.gz\n",
      "182 /data/NATIVE/c0007/c0007s0021t01/c0007s0021t01_LesionSmooth_registered.nii.gz\n",
      "183 /data/NATIVE/c0007/c0007s0022t01/c0007s0022t01_registered.nii.gz\n",
      "183 /data/NATIVE/c0007/c0007s0022t01/c0007s0022t01_LesionSmooth_registered.nii.gz\n",
      "184 /data/NATIVE/c0007/c0007s0023t01/c0007s0023t01_registered.nii.gz\n",
      "184 /data/NATIVE/c0007/c0007s0023t01/c0007s0023t01_LesionSmooth_registered.nii.gz\n",
      "185 /data/NATIVE/c0007/c0007s0024t01/c0007s0024t01_registered.nii.gz\n",
      "185 /data/NATIVE/c0007/c0007s0024t01/c0007s0024t01_LesionSmooth_registered.nii.gz\n",
      "186 /data/NATIVE/c0007/c0007s0025t01/c0007s0025t01_registered.nii.gz\n",
      "186 /data/NATIVE/c0007/c0007s0025t01/c0007s0025t01_LesionSmooth_registered.nii.gz\n",
      "187 /data/NATIVE/c0007/c0007s0026t01/c0007s0026t01_registered.nii.gz\n",
      "187 /data/NATIVE/c0007/c0007s0026t01/c0007s0026t01_LesionSmooth_registered.nii.gz\n",
      "188 /data/NATIVE/c0007/c0007s0027t01/c0007s0027t01_registered.nii.gz\n",
      "188 /data/NATIVE/c0007/c0007s0027t01/c0007s0027t01_LesionSmooth_registered.nii.gz\n",
      "189 /data/NATIVE/c0007/c0007s0028t01/c0007s0028t01_registered.nii.gz\n",
      "189 /data/NATIVE/c0007/c0007s0028t01/c0007s0028t01_LesionSmooth_registered.nii.gz\n",
      "190 /data/NATIVE/c0007/c0007s0029t01/c0007s0029t01_registered.nii.gz\n",
      "190 /data/NATIVE/c0007/c0007s0029t01/c0007s0029t01_LesionSmooth_registered.nii.gz\n",
      "191 /data/NATIVE/c0007/c0007s0030t01/c0007s0030t01_registered.nii.gz\n",
      "191 /data/NATIVE/c0007/c0007s0030t01/c0007s0030t01_LesionSmooth_registered.nii.gz\n",
      "192 /data/NATIVE/c0007/c0007s0031t01/c0007s0031t01_registered.nii.gz\n",
      "192 /data/NATIVE/c0007/c0007s0031t01/c0007s0031t01_LesionSmooth_registered.nii.gz\n",
      "193 /data/NATIVE/c0007/c0007s0032t01/c0007s0032t01_registered.nii.gz\n",
      "193 /data/NATIVE/c0007/c0007s0032t01/c0007s0032t01_LesionSmooth_registered.nii.gz\n",
      "194 /data/NATIVE/c0007/c0007s0033t01/c0007s0033t01_registered.nii.gz\n",
      "194 /data/NATIVE/c0007/c0007s0033t01/c0007s0033t01_LesionSmooth_registered.nii.gz\n",
      "195 /data/NATIVE/c0007/c0007s0034t01/c0007s0034t01_registered.nii.gz\n",
      "195 /data/NATIVE/c0007/c0007s0034t01/c0007s0034t01_LesionSmooth_registered.nii.gz\n",
      "196 /data/NATIVE/c0007/c0007s0035t01/c0007s0035t01_registered.nii.gz\n",
      "196 /data/NATIVE/c0007/c0007s0035t01/c0007s0035t01_LesionSmooth_registered.nii.gz\n",
      "197 /data/NATIVE/c0007/c0007s0036t01/c0007s0036t01_registered.nii.gz\n",
      "197 /data/NATIVE/c0007/c0007s0036t01/c0007s0036t01_LesionSmooth_registered.nii.gz\n",
      "198 /data/NATIVE/c0008/c0008s0001t01/c0008s0001t01_registered.nii.gz\n",
      "198 /data/NATIVE/c0008/c0008s0001t01/c0008s0001t01_LesionSmooth_registered.nii.gz\n",
      "199 /data/NATIVE/c0008/c0008s0002t01/c0008s0002t01_registered.nii.gz\n",
      "199 /data/NATIVE/c0008/c0008s0002t01/c0008s0002t01_LesionSmooth_registered.nii.gz\n",
      "200 /data/NATIVE/c0008/c0008s0003t01/c0008s0003t01_registered.nii.gz\n",
      "200 /data/NATIVE/c0008/c0008s0003t01/c0008s0003t01_LesionSmooth_registered.nii.gz\n",
      "201 /data/NATIVE/c0008/c0008s0005t01/c0008s0005t01_registered.nii.gz\n",
      "201 /data/NATIVE/c0008/c0008s0005t01/c0008s0005t01_LesionSmooth_registered.nii.gz\n",
      "202 /data/NATIVE/c0008/c0008s0006t01/c0008s0006t01_registered.nii.gz\n",
      "202 /data/NATIVE/c0008/c0008s0006t01/c0008s0006t01_LesionSmooth_registered.nii.gz\n",
      "203 /data/NATIVE/c0008/c0008s0007t01/c0008s0007t01_registered.nii.gz\n",
      "203 /data/NATIVE/c0008/c0008s0007t01/c0008s0007t01_LesionSmooth_registered.nii.gz\n",
      "204 /data/NATIVE/c0008/c0008s0008t01/c0008s0008t01_registered.nii.gz\n",
      "204 /data/NATIVE/c0008/c0008s0008t01/c0008s0008t01_LesionSmooth_registered.nii.gz\n",
      "205 /data/NATIVE/c0008/c0008s0009t01/c0008s0009t01_registered.nii.gz\n",
      "205 /data/NATIVE/c0008/c0008s0009t01/c0008s0009t01_LesionSmooth_registered.nii.gz\n",
      "206 /data/NATIVE/c0008/c0008s0010t01/c0008s0010t01_registered.nii.gz\n",
      "206 /data/NATIVE/c0008/c0008s0010t01/c0008s0010t01_LesionSmooth_registered.nii.gz\n",
      "207 /data/NATIVE/c0008/c0008s0011t01/c0008s0011t01_registered.nii.gz\n",
      "207 /data/NATIVE/c0008/c0008s0011t01/c0008s0011t01_LesionSmooth_registered.nii.gz\n",
      "208 /data/NATIVE/c0008/c0008s0012t01/c0008s0012t01_registered.nii.gz\n",
      "208 /data/NATIVE/c0008/c0008s0012t01/c0008s0012t01_LesionSmooth_registered.nii.gz\n",
      "209 /data/NATIVE/c0008/c0008s0013t01/c0008s0013t01_registered.nii.gz\n",
      "209 /data/NATIVE/c0008/c0008s0013t01/c0008s0013t01_LesionSmooth_registered.nii.gz\n",
      "210 /data/NATIVE/c0008/c0008s0014t01/c0008s0014t01_registered.nii.gz\n",
      "210 /data/NATIVE/c0008/c0008s0014t01/c0008s0014t01_LesionSmooth_registered.nii.gz\n",
      "211 /data/NATIVE/c0008/c0008s0015t01/c0008s0015t01_registered.nii.gz\n",
      "211 /data/NATIVE/c0008/c0008s0015t01/c0008s0015t01_LesionSmooth_registered.nii.gz\n",
      "212 /data/NATIVE/c0008/c0008s0016t01/c0008s0016t01_registered.nii.gz\n",
      "212 /data/NATIVE/c0008/c0008s0016t01/c0008s0016t01_LesionSmooth_registered.nii.gz\n",
      "213 /data/NATIVE/c0008/c0008s0017t01/c0008s0017t01_registered.nii.gz\n",
      "213 /data/NATIVE/c0008/c0008s0017t01/c0008s0017t01_LesionSmooth_registered.nii.gz\n",
      "214 /data/NATIVE/c0008/c0008s0018t01/c0008s0018t01_registered.nii.gz\n",
      "214 /data/NATIVE/c0008/c0008s0018t01/c0008s0018t01_LesionSmooth_registered.nii.gz\n",
      "215 /data/NATIVE/c0008/c0008s0019t01/c0008s0019t01_registered.nii.gz\n",
      "215 /data/NATIVE/c0008/c0008s0019t01/c0008s0019t01_LesionSmooth_registered.nii.gz\n",
      "216 /data/NATIVE/c0008/c0008s0020t01/c0008s0020t01_registered.nii.gz\n",
      "216 /data/NATIVE/c0008/c0008s0020t01/c0008s0020t01_LesionSmooth_registered.nii.gz\n",
      "217 /data/NATIVE/c0008/c0008s0021t01/c0008s0021t01_registered.nii.gz\n",
      "217 /data/NATIVE/c0008/c0008s0021t01/c0008s0021t01_LesionSmooth_registered.nii.gz\n",
      "218 /data/NATIVE/c0008/c0008s0022t01/c0008s0022t01_registered.nii.gz\n",
      "218 /data/NATIVE/c0008/c0008s0022t01/c0008s0022t01_LesionSmooth_registered.nii.gz\n",
      "219 /data/NATIVE/c0008/c0008s0023t01/c0008s0023t01_registered.nii.gz\n",
      "219 /data/NATIVE/c0008/c0008s0023t01/c0008s0023t01_LesionSmooth_registered.nii.gz\n",
      "220 /data/NATIVE/c0008/c0008s0024t01/c0008s0024t01_registered.nii.gz\n",
      "220 /data/NATIVE/c0008/c0008s0024t01/c0008s0024t01_LesionSmooth_registered.nii.gz\n",
      "221 /data/NATIVE/c0008/c0008s0025t01/c0008s0025t01_registered.nii.gz\n",
      "221 /data/NATIVE/c0008/c0008s0025t01/c0008s0025t01_LesionSmooth_registered.nii.gz\n",
      "222 /data/NATIVE/c0008/c0008s0026t01/c0008s0026t01_registered.nii.gz\n",
      "222 /data/NATIVE/c0008/c0008s0026t01/c0008s0026t01_LesionSmooth_registered.nii.gz\n",
      "223 /data/NATIVE/c0008/c0008s0027t01/c0008s0027t01_registered.nii.gz\n",
      "223 /data/NATIVE/c0008/c0008s0027t01/c0008s0027t01_LesionSmooth_registered.nii.gz\n",
      "224 /data/NATIVE/c0008/c0008s0028t01/c0008s0028t01_registered.nii.gz\n",
      "224 /data/NATIVE/c0008/c0008s0028t01/c0008s0028t01_LesionSmooth_registered.nii.gz\n",
      "225 /data/NATIVE/c0008/c0008s0029t01/c0008s0029t01_registered.nii.gz\n",
      "225 /data/NATIVE/c0008/c0008s0029t01/c0008s0029t01_LesionSmooth_registered.nii.gz\n",
      "226 /data/NATIVE/c0008/c0008s0030t01/c0008s0030t01_registered.nii.gz\n",
      "226 /data/NATIVE/c0008/c0008s0030t01/c0008s0030t01_LesionSmooth_registered.nii.gz\n",
      "227 /data/NATIVE/c0008/c0008s0031t01/c0008s0031t01_registered.nii.gz\n",
      "227 /data/NATIVE/c0008/c0008s0031t01/c0008s0031t01_LesionSmooth_registered.nii.gz\n",
      "228 /data/NATIVE/c0008/c0008s0032t01/c0008s0032t01_registered.nii.gz\n",
      "228 /data/NATIVE/c0008/c0008s0032t01/c0008s0032t01_LesionSmooth_registered.nii.gz\n",
      "229 /data/NATIVE/c0008/c0008s0033t01/c0008s0033t01_registered.nii.gz\n",
      "229 /data/NATIVE/c0008/c0008s0033t01/c0008s0033t01_LesionSmooth_registered.nii.gz\n",
      "230 /data/NATIVE/c0009/c0009s0001t01/c0009s0001t01_registered.nii.gz\n",
      "230 /data/NATIVE/c0009/c0009s0001t01/c0009s0001t01_LesionSmooth_registered.nii.gz\n",
      "231 /data/NATIVE/c0009/c0009s0002t01/c0009s0002t01_registered.nii.gz\n",
      "231 /data/NATIVE/c0009/c0009s0002t01/c0009s0002t01_LesionSmooth_registered.nii.gz\n",
      "232 /data/NATIVE/c0009/c0009s0003t01/c0009s0003t01_registered.nii.gz\n",
      "232 /data/NATIVE/c0009/c0009s0003t01/c0009s0003t01_LesionSmooth_registered.nii.gz\n",
      "233 /data/NATIVE/c0009/c0009s0004t01/c0009s0004t01_registered.nii.gz\n",
      "233 /data/NATIVE/c0009/c0009s0004t01/c0009s0004t01_LesionSmooth_registered.nii.gz\n",
      "234 /data/NATIVE/c0009/c0009s0005t01/c0009s0005t01_registered.nii.gz\n",
      "234 /data/NATIVE/c0009/c0009s0005t01/c0009s0005t01_LesionSmooth_registered.nii.gz\n",
      "235 /data/NATIVE/c0009/c0009s0006t01/c0009s0006t01_registered.nii.gz\n",
      "235 /data/NATIVE/c0009/c0009s0006t01/c0009s0006t01_LesionSmooth_registered.nii.gz\n",
      "236 /data/NATIVE/c0009/c0009s0007t01/c0009s0007t01_registered.nii.gz\n",
      "236 /data/NATIVE/c0009/c0009s0007t01/c0009s0007t01_LesionSmooth_registered.nii.gz\n",
      "237 /data/NATIVE/c0009/c0009s0008t01/c0009s0008t01_registered.nii.gz\n",
      "237 /data/NATIVE/c0009/c0009s0008t01/c0009s0008t01_LesionSmooth_registered.nii.gz\n",
      "238 /data/NATIVE/c0009/c0009s0009t01/c0009s0009t01_registered.nii.gz\n",
      "238 /data/NATIVE/c0009/c0009s0009t01/c0009s0009t01_LesionSmooth_registered.nii.gz\n",
      "239 /data/NATIVE/c0009/c0009s0010t01/c0009s0010t01_registered.nii.gz\n",
      "239 /data/NATIVE/c0009/c0009s0010t01/c0009s0010t01_LesionSmooth_registered.nii.gz\n",
      "240 /data/NATIVE/c0009/c0009s0011t01/c0009s0011t01_registered.nii.gz\n",
      "240 /data/NATIVE/c0009/c0009s0011t01/c0009s0011t01_LesionSmooth_registered.nii.gz\n",
      "241 /data/NATIVE/c0009/c0009s0012t01/c0009s0012t01_registered.nii.gz\n",
      "241 /data/NATIVE/c0009/c0009s0012t01/c0009s0012t01_LesionSmooth_registered.nii.gz\n",
      "242 /data/NATIVE/c0010/c0010s0001t01/c0010s0001t01_registered.nii.gz\n",
      "242 /data/NATIVE/c0010/c0010s0001t01/c0010s0001t01_LesionSmooth_registered.nii.gz\n",
      "243 /data/NATIVE/c0010/c0010s0002t01/c0010s0002t01_registered.nii.gz\n",
      "243 /data/NATIVE/c0010/c0010s0002t01/c0010s0002t01_LesionSmooth_registered.nii.gz\n",
      "244 /data/NATIVE/c0010/c0010s0003t01/c0010s0003t01_registered.nii.gz\n",
      "244 /data/NATIVE/c0010/c0010s0003t01/c0010s0003t01_LesionSmooth_registered.nii.gz\n",
      "245 /data/NATIVE/c0010/c0010s0004t01/c0010s0004t01_registered.nii.gz\n",
      "245 /data/NATIVE/c0010/c0010s0004t01/c0010s0004t01_LesionSmooth_registered.nii.gz\n",
      "246 /data/NATIVE/c0010/c0010s0005t01/c0010s0005t01_registered.nii.gz\n",
      "246 /data/NATIVE/c0010/c0010s0005t01/c0010s0005t01_LesionSmooth_registered.nii.gz\n",
      "247 /data/NATIVE/c0010/c0010s0006t01/c0010s0006t01_registered.nii.gz\n",
      "247 /data/NATIVE/c0010/c0010s0006t01/c0010s0006t01_LesionSmooth_registered.nii.gz\n",
      "248 /data/NATIVE/c0010/c0010s0007t01/c0010s0007t01_registered.nii.gz\n",
      "248 /data/NATIVE/c0010/c0010s0007t01/c0010s0007t01_LesionSmooth_registered.nii.gz\n",
      "249 /data/NATIVE/c0010/c0010s0008t01/c0010s0008t01_registered.nii.gz\n",
      "249 /data/NATIVE/c0010/c0010s0008t01/c0010s0008t01_LesionSmooth_registered.nii.gz\n",
      "250 /data/NATIVE/c0010/c0010s0009t01/c0010s0009t01_registered.nii.gz\n",
      "250 /data/NATIVE/c0010/c0010s0009t01/c0010s0009t01_LesionSmooth_registered.nii.gz\n",
      "251 /data/NATIVE/c0010/c0010s0010t01/c0010s0010t01_registered.nii.gz\n",
      "251 /data/NATIVE/c0010/c0010s0010t01/c0010s0010t01_LesionSmooth_registered.nii.gz\n",
      "252 /data/NATIVE/c0010/c0010s0011t01/c0010s0011t01_registered.nii.gz\n",
      "252 /data/NATIVE/c0010/c0010s0011t01/c0010s0011t01_LesionSmooth_registered.nii.gz\n",
      "253 /data/NATIVE/c0010/c0010s0013t01/c0010s0013t01_registered.nii.gz\n",
      "253 /data/NATIVE/c0010/c0010s0013t01/c0010s0013t01_LesionSmooth_registered.nii.gz\n",
      "254 /data/NATIVE/c0010/c0010s0014t01/c0010s0014t01_registered.nii.gz\n",
      "254 /data/NATIVE/c0010/c0010s0014t01/c0010s0014t01_LesionSmooth_registered.nii.gz\n",
      "255 /data/NATIVE/c0010/c0010s0015t01/c0010s0015t01_registered.nii.gz\n",
      "255 /data/NATIVE/c0010/c0010s0015t01/c0010s0015t01_LesionSmooth_registered.nii.gz\n",
      "256 /data/NATIVE/c0010/c0010s0016t01/c0010s0016t01_registered.nii.gz\n",
      "256 /data/NATIVE/c0010/c0010s0016t01/c0010s0016t01_LesionSmooth_registered.nii.gz\n",
      "257 /data/NATIVE/c0010/c0010s0018t01/c0010s0018t01_registered.nii.gz\n",
      "257 /data/NATIVE/c0010/c0010s0018t01/c0010s0018t01_LesionSmooth_registered.nii.gz\n",
      "258 /data/NATIVE/c0010/c0010s0020t01/c0010s0020t01_registered.nii.gz\n",
      "258 /data/NATIVE/c0010/c0010s0020t01/c0010s0020t01_LesionSmooth_registered.nii.gz\n",
      "259 /data/NATIVE/c0010/c0010s0021t01/c0010s0021t01_registered.nii.gz\n",
      "259 /data/NATIVE/c0010/c0010s0021t01/c0010s0021t01_LesionSmooth_registered.nii.gz\n",
      "260 /data/NATIVE/c0010/c0010s0022t01/c0010s0022t01_registered.nii.gz\n",
      "260 /data/NATIVE/c0010/c0010s0022t01/c0010s0022t01_LesionSmooth_registered.nii.gz\n",
      "261 /data/NATIVE/c0010/c0010s0024t01/c0010s0024t01_registered.nii.gz\n",
      "261 /data/NATIVE/c0010/c0010s0024t01/c0010s0024t01_LesionSmooth_registered.nii.gz\n",
      "262 /data/NATIVE/c0010/c0010s0025t01/c0010s0025t01_registered.nii.gz\n",
      "262 /data/NATIVE/c0010/c0010s0025t01/c0010s0025t01_LesionSmooth_registered.nii.gz\n",
      "263 /data/NATIVE/c0010/c0010s0028t01/c0010s0028t01_registered.nii.gz\n",
      "263 /data/NATIVE/c0010/c0010s0028t01/c0010s0028t01_LesionSmooth_registered.nii.gz\n",
      "264 /data/NATIVE/c0010/c0010s0029t01/c0010s0029t01_registered.nii.gz\n",
      "264 /data/NATIVE/c0010/c0010s0029t01/c0010s0029t01_LesionSmooth_registered.nii.gz\n",
      "265 /data/NATIVE/c0010/c0010s0030t01/c0010s0030t01_registered.nii.gz\n",
      "265 /data/NATIVE/c0010/c0010s0030t01/c0010s0030t01_LesionSmooth_registered.nii.gz\n",
      "266 /data/NATIVE/c0010/c0010s0031t01/c0010s0031t01_registered.nii.gz\n",
      "266 /data/NATIVE/c0010/c0010s0031t01/c0010s0031t01_LesionSmooth_registered.nii.gz\n",
      "267 /data/NATIVE/c0010/c0010s0032t01/c0010s0032t01_registered.nii.gz\n",
      "267 /data/NATIVE/c0010/c0010s0032t01/c0010s0032t01_LesionSmooth_registered.nii.gz\n",
      "268 /data/NATIVE/c0010/c0010s0034t01/c0010s0034t01_registered.nii.gz\n",
      "268 /data/NATIVE/c0010/c0010s0034t01/c0010s0034t01_LesionSmooth_registered.nii.gz\n",
      "269 /data/NATIVE/c0010/c0010s0037t01/c0010s0037t01_registered.nii.gz\n",
      "269 /data/NATIVE/c0010/c0010s0037t01/c0010s0037t01_LesionSmooth_registered.nii.gz\n",
      "270 /data/NATIVE/c0010/c0010s0038t01/c0010s0038t01_registered.nii.gz\n",
      "270 /data/NATIVE/c0010/c0010s0038t01/c0010s0038t01_LesionSmooth_registered.nii.gz\n",
      "271 /data/NATIVE/c0010/c0010s0040t01/c0010s0040t01_registered.nii.gz\n",
      "271 /data/NATIVE/c0010/c0010s0040t01/c0010s0040t01_LesionSmooth_registered.nii.gz\n",
      "272 /data/NATIVE/c0010/c0010s0041t01/c0010s0041t01_registered.nii.gz\n",
      "272 /data/NATIVE/c0010/c0010s0041t01/c0010s0041t01_LesionSmooth_registered.nii.gz\n",
      "273 /data/NATIVE/c0010/c0010s0042t01/c0010s0042t01_registered.nii.gz\n",
      "273 /data/NATIVE/c0010/c0010s0042t01/c0010s0042t01_LesionSmooth_registered.nii.gz\n",
      "274 /data/NATIVE/c0010/c0010s0043t01/c0010s0043t01_registered.nii.gz\n",
      "274 /data/NATIVE/c0010/c0010s0043t01/c0010s0043t01_LesionSmooth_registered.nii.gz\n",
      "275 /data/NATIVE/c0010/c0010s0044t01/c0010s0044t01_registered.nii.gz\n",
      "275 /data/NATIVE/c0010/c0010s0044t01/c0010s0044t01_LesionSmooth_registered.nii.gz\n",
      "276 /data/NATIVE/c0010/c0010s0046t01/c0010s0046t01_registered.nii.gz\n",
      "276 /data/NATIVE/c0010/c0010s0046t01/c0010s0046t01_LesionSmooth_registered.nii.gz\n",
      "277 /data/NATIVE/c0011/c0011s0001t01/c0011s0001t01_registered.nii.gz\n",
      "277 /data/NATIVE/c0011/c0011s0001t01/c0011s0001t01_LesionSmooth_registered.nii.gz\n",
      "278 /data/NATIVE/c0011/c0011s0002t01/c0011s0002t01_registered.nii.gz\n",
      "278 /data/NATIVE/c0011/c0011s0002t01/c0011s0002t01_LesionSmooth_registered.nii.gz\n",
      "279 /data/NATIVE/c0011/c0011s0003t01/c0011s0003t01_registered.nii.gz\n",
      "279 /data/NATIVE/c0011/c0011s0003t01/c0011s0003t01_LesionSmooth_registered.nii.gz\n",
      "280 /data/NATIVE/c0011/c0011s0004t01/c0011s0004t01_registered.nii.gz\n",
      "280 /data/NATIVE/c0011/c0011s0004t01/c0011s0004t01_LesionSmooth_registered.nii.gz\n",
      "281 /data/NATIVE/c0011/c0011s0005t01/c0011s0005t01_registered.nii.gz\n",
      "281 /data/NATIVE/c0011/c0011s0005t01/c0011s0005t01_LesionSmooth_registered.nii.gz\n",
      "282 /data/NATIVE/c0011/c0011s0006t01/c0011s0006t01_registered.nii.gz\n",
      "282 /data/NATIVE/c0011/c0011s0006t01/c0011s0006t01_LesionSmooth_registered.nii.gz\n",
      "283 /data/NATIVE/c0011/c0011s0007t01/c0011s0007t01_registered.nii.gz\n",
      "283 /data/NATIVE/c0011/c0011s0007t01/c0011s0007t01_LesionSmooth_registered.nii.gz\n",
      "284 /data/NATIVE/c0011/c0011s0008t01/c0011s0008t01_registered.nii.gz\n",
      "284 /data/NATIVE/c0011/c0011s0008t01/c0011s0008t01_LesionSmooth_registered.nii.gz\n",
      "285 /data/NATIVE/c0011/c0011s0009t01/c0011s0009t01_registered.nii.gz\n",
      "285 /data/NATIVE/c0011/c0011s0009t01/c0011s0009t01_LesionSmooth_registered.nii.gz\n",
      "286 /data/NATIVE/c0011/c0011s0010t01/c0011s0010t01_registered.nii.gz\n",
      "286 /data/NATIVE/c0011/c0011s0010t01/c0011s0010t01_LesionSmooth_registered.nii.gz\n",
      "287 /data/NATIVE/c0011/c0011s0011t01/c0011s0011t01_registered.nii.gz\n",
      "287 /data/NATIVE/c0011/c0011s0011t01/c0011s0011t01_LesionSmooth_registered.nii.gz\n",
      "288 /data/NATIVE/c0011/c0011s0012t01/c0011s0012t01_registered.nii.gz\n",
      "288 /data/NATIVE/c0011/c0011s0012t01/c0011s0012t01_LesionSmooth_registered.nii.gz\n",
      "289 /data/NATIVE/c0011/c0011s0013t01/c0011s0013t01_registered.nii.gz\n",
      "289 /data/NATIVE/c0011/c0011s0013t01/c0011s0013t01_LesionSmooth_registered.nii.gz\n",
      "290 /data/NATIVE/c0011/c0011s0014t01/c0011s0014t01_registered.nii.gz\n",
      "290 /data/NATIVE/c0011/c0011s0014t01/c0011s0014t01_LesionSmooth_registered.nii.gz\n",
      "291 /data/NATIVE/c0011/c0011s0015t01/c0011s0015t01_registered.nii.gz\n",
      "291 /data/NATIVE/c0011/c0011s0015t01/c0011s0015t01_LesionSmooth_registered.nii.gz\n"
     ]
    }
   ],
   "source": [
    "for i,(xpath, ypath) in enumerate(zip(xpaths, ypaths)):\n",
    "  folder = xpath[:-20]\n",
    "  file_name = xpath[:-7][-13:]\n",
    "  x_registered_path = folder + file_name + '_registered.nii.gz'\n",
    "  y_registered_path = folder + file_name + '_LesionSmooth_registered.nii.gz'\n",
    "\n",
    "  x3d = load_img_ants(xpath)\n",
    "  y3d = load_img_ants(ypath)\n",
    "\n",
    "  x3d_registered, y3d_registered = register_to_mni(img=x3d,mask=y3d)\n",
    "\n",
    "  print(i, x_registered_path)\n",
    "  print(i, y_registered_path)\n",
    "\n",
    "  x3d_registered.to_file(x_registered_path)\n",
    "  y3d_registered.to_file(y_registered_path)\n",
    "\n",
    "  #if i == 0 : break\n"
   ]
  },
  {
   "cell_type": "markdown",
   "metadata": {
    "id": "lmgC4KnjDc47"
   },
   "source": [
    "## Bias Field Correction"
   ]
  },
  {
   "cell_type": "code",
   "execution_count": null,
   "metadata": {
    "id": "-RLqPRCMDgnv"
   },
   "outputs": [],
   "source": [
    "xpaths = sorted(glob(f'/data/NATIVE/*/*/*01_registered.nii.gz') )\n",
    "ypaths = sorted(glob(f'/data/NATIVE/*/*/*01_LesionSmooth_registered.nii.gz'))\n",
    "assert len(xpaths) == len(ypaths)"
   ]
  },
  {
   "cell_type": "code",
   "execution_count": null,
   "metadata": {
    "colab": {
     "base_uri": "https://localhost:8080/"
    },
    "collapsed": true,
    "executionInfo": {
     "elapsed": 10,
     "status": "ok",
     "timestamp": 1685780553605,
     "user": {
      "displayName": "Alejandro M",
      "userId": "11111187776730726759"
     },
     "user_tz": 300
    },
    "id": "pL92X1T0DaUQ",
    "jupyter": {
     "outputs_hidden": true
    },
    "outputId": "2f9bb4a8-988b-441d-c318-02cc65e3ce71"
   },
   "outputs": [
    {
     "name": "stdout",
     "output_type": "stream",
     "text": [
      "Number of samples: 292\n",
      "t01/c0001s0004t01_registered.nii.gz | t01/c0001s0004t01_LesionSmooth_registered.nii.gz\n",
      "t01/c0001s0005t01_registered.nii.gz | t01/c0001s0005t01_LesionSmooth_registered.nii.gz\n",
      "t01/c0001s0006t01_registered.nii.gz | t01/c0001s0006t01_LesionSmooth_registered.nii.gz\n",
      "t01/c0001s0007t01_registered.nii.gz | t01/c0001s0007t01_LesionSmooth_registered.nii.gz\n",
      "t01/c0001s0008t01_registered.nii.gz | t01/c0001s0008t01_LesionSmooth_registered.nii.gz\n",
      "t01/c0001s0012t01_registered.nii.gz | t01/c0001s0012t01_LesionSmooth_registered.nii.gz\n",
      "t01/c0002s0001t01_registered.nii.gz | t01/c0002s0001t01_LesionSmooth_registered.nii.gz\n",
      "t01/c0002s0002t01_registered.nii.gz | t01/c0002s0002t01_LesionSmooth_registered.nii.gz\n",
      "t01/c0002s0003t01_registered.nii.gz | t01/c0002s0003t01_LesionSmooth_registered.nii.gz\n",
      "t01/c0002s0004t01_registered.nii.gz | t01/c0002s0004t01_LesionSmooth_registered.nii.gz\n",
      "t01/c0002s0005t01_registered.nii.gz | t01/c0002s0005t01_LesionSmooth_registered.nii.gz\n",
      "t01/c0002s0007t01_registered.nii.gz | t01/c0002s0007t01_LesionSmooth_registered.nii.gz\n",
      "t01/c0002s0008t01_registered.nii.gz | t01/c0002s0008t01_LesionSmooth_registered.nii.gz\n",
      "t01/c0002s0009t01_registered.nii.gz | t01/c0002s0009t01_LesionSmooth_registered.nii.gz\n",
      "t01/c0002s0011t01_registered.nii.gz | t01/c0002s0011t01_LesionSmooth_registered.nii.gz\n",
      "t01/c0002s0012t01_registered.nii.gz | t01/c0002s0012t01_LesionSmooth_registered.nii.gz\n",
      "t01/c0002s0013t01_registered.nii.gz | t01/c0002s0013t01_LesionSmooth_registered.nii.gz\n",
      "t01/c0002s0014t01_registered.nii.gz | t01/c0002s0014t01_LesionSmooth_registered.nii.gz\n",
      "t01/c0002s0015t01_registered.nii.gz | t01/c0002s0015t01_LesionSmooth_registered.nii.gz\n",
      "t01/c0002s0016t01_registered.nii.gz | t01/c0002s0016t01_LesionSmooth_registered.nii.gz\n",
      "t01/c0002s0017t01_registered.nii.gz | t01/c0002s0017t01_LesionSmooth_registered.nii.gz\n",
      "t01/c0002s0018t01_registered.nii.gz | t01/c0002s0018t01_LesionSmooth_registered.nii.gz\n",
      "t01/c0002s0019t01_registered.nii.gz | t01/c0002s0019t01_LesionSmooth_registered.nii.gz\n",
      "t01/c0002s0020t01_registered.nii.gz | t01/c0002s0020t01_LesionSmooth_registered.nii.gz\n",
      "t01/c0002s0021t01_registered.nii.gz | t01/c0002s0021t01_LesionSmooth_registered.nii.gz\n",
      "t01/c0002s0022t01_registered.nii.gz | t01/c0002s0022t01_LesionSmooth_registered.nii.gz\n",
      "t01/c0002s0023t01_registered.nii.gz | t01/c0002s0023t01_LesionSmooth_registered.nii.gz\n",
      "t01/c0002s0024t01_registered.nii.gz | t01/c0002s0024t01_LesionSmooth_registered.nii.gz\n",
      "t01/c0002s0025t01_registered.nii.gz | t01/c0002s0025t01_LesionSmooth_registered.nii.gz\n",
      "t01/c0002s0026t01_registered.nii.gz | t01/c0002s0026t01_LesionSmooth_registered.nii.gz\n",
      "t01/c0002s0027t01_registered.nii.gz | t01/c0002s0027t01_LesionSmooth_registered.nii.gz\n",
      "t01/c0003s0001t01_registered.nii.gz | t01/c0003s0001t01_LesionSmooth_registered.nii.gz\n",
      "t01/c0003s0002t01_registered.nii.gz | t01/c0003s0002t01_LesionSmooth_registered.nii.gz\n",
      "t01/c0003s0003t01_registered.nii.gz | t01/c0003s0003t01_LesionSmooth_registered.nii.gz\n",
      "t01/c0003s0004t01_registered.nii.gz | t01/c0003s0004t01_LesionSmooth_registered.nii.gz\n",
      "t01/c0003s0005t01_registered.nii.gz | t01/c0003s0005t01_LesionSmooth_registered.nii.gz\n",
      "t01/c0003s0006t01_registered.nii.gz | t01/c0003s0006t01_LesionSmooth_registered.nii.gz\n",
      "t01/c0003s0007t01_registered.nii.gz | t01/c0003s0007t01_LesionSmooth_registered.nii.gz\n",
      "t01/c0003s0008t01_registered.nii.gz | t01/c0003s0008t01_LesionSmooth_registered.nii.gz\n",
      "t01/c0003s0009t01_registered.nii.gz | t01/c0003s0009t01_LesionSmooth_registered.nii.gz\n",
      "t01/c0003s0010t01_registered.nii.gz | t01/c0003s0010t01_LesionSmooth_registered.nii.gz\n",
      "t01/c0003s0011t01_registered.nii.gz | t01/c0003s0011t01_LesionSmooth_registered.nii.gz\n",
      "t01/c0003s0012t01_registered.nii.gz | t01/c0003s0012t01_LesionSmooth_registered.nii.gz\n",
      "t01/c0003s0013t01_registered.nii.gz | t01/c0003s0013t01_LesionSmooth_registered.nii.gz\n",
      "t01/c0003s0014t01_registered.nii.gz | t01/c0003s0014t01_LesionSmooth_registered.nii.gz\n",
      "t01/c0003s0015t01_registered.nii.gz | t01/c0003s0015t01_LesionSmooth_registered.nii.gz\n",
      "t01/c0003s0016t01_registered.nii.gz | t01/c0003s0016t01_LesionSmooth_registered.nii.gz\n",
      "t01/c0003s0017t01_registered.nii.gz | t01/c0003s0017t01_LesionSmooth_registered.nii.gz\n",
      "t01/c0003s0018t01_registered.nii.gz | t01/c0003s0018t01_LesionSmooth_registered.nii.gz\n",
      "t01/c0003s0019t01_registered.nii.gz | t01/c0003s0019t01_LesionSmooth_registered.nii.gz\n",
      "t01/c0003s0020t01_registered.nii.gz | t01/c0003s0020t01_LesionSmooth_registered.nii.gz\n",
      "t01/c0003s0021t01_registered.nii.gz | t01/c0003s0021t01_LesionSmooth_registered.nii.gz\n",
      "t01/c0003s0022t01_registered.nii.gz | t01/c0003s0022t01_LesionSmooth_registered.nii.gz\n",
      "t01/c0003s0023t01_registered.nii.gz | t01/c0003s0023t01_LesionSmooth_registered.nii.gz\n",
      "t01/c0003s0024t01_registered.nii.gz | t01/c0003s0024t01_LesionSmooth_registered.nii.gz\n",
      "t01/c0003s0025t01_registered.nii.gz | t01/c0003s0025t01_LesionSmooth_registered.nii.gz\n",
      "t01/c0003s0026t01_registered.nii.gz | t01/c0003s0026t01_LesionSmooth_registered.nii.gz\n",
      "t01/c0003s0027t01_registered.nii.gz | t01/c0003s0027t01_LesionSmooth_registered.nii.gz\n",
      "t01/c0003s0028t01_registered.nii.gz | t01/c0003s0028t01_LesionSmooth_registered.nii.gz\n",
      "t01/c0003s0029t01_registered.nii.gz | t01/c0003s0029t01_LesionSmooth_registered.nii.gz\n",
      "t01/c0003s0030t01_registered.nii.gz | t01/c0003s0030t01_LesionSmooth_registered.nii.gz\n",
      "t01/c0003s0031t01_registered.nii.gz | t01/c0003s0031t01_LesionSmooth_registered.nii.gz\n",
      "t01/c0003s0032t01_registered.nii.gz | t01/c0003s0032t01_LesionSmooth_registered.nii.gz\n",
      "t01/c0003s0033t01_registered.nii.gz | t01/c0003s0033t01_LesionSmooth_registered.nii.gz\n",
      "t01/c0003s0034t01_registered.nii.gz | t01/c0003s0034t01_LesionSmooth_registered.nii.gz\n",
      "t01/c0003s0035t01_registered.nii.gz | t01/c0003s0035t01_LesionSmooth_registered.nii.gz\n",
      "t01/c0003s0036t01_registered.nii.gz | t01/c0003s0036t01_LesionSmooth_registered.nii.gz\n",
      "t01/c0003s0037t01_registered.nii.gz | t01/c0003s0037t01_LesionSmooth_registered.nii.gz\n",
      "t01/c0003s0038t01_registered.nii.gz | t01/c0003s0038t01_LesionSmooth_registered.nii.gz\n",
      "t01/c0003s0039t01_registered.nii.gz | t01/c0003s0039t01_LesionSmooth_registered.nii.gz\n",
      "t01/c0003s0040t01_registered.nii.gz | t01/c0003s0040t01_LesionSmooth_registered.nii.gz\n",
      "t01/c0003s0041t01_registered.nii.gz | t01/c0003s0041t01_LesionSmooth_registered.nii.gz\n",
      "t01/c0003s0042t01_registered.nii.gz | t01/c0003s0042t01_LesionSmooth_registered.nii.gz\n",
      "t01/c0003s0043t01_registered.nii.gz | t01/c0003s0043t01_LesionSmooth_registered.nii.gz\n",
      "t01/c0003s0044t01_registered.nii.gz | t01/c0003s0044t01_LesionSmooth_registered.nii.gz\n",
      "t01/c0003s0045t01_registered.nii.gz | t01/c0003s0045t01_LesionSmooth_registered.nii.gz\n",
      "t01/c0003s0046t01_registered.nii.gz | t01/c0003s0046t01_LesionSmooth_registered.nii.gz\n",
      "t01/c0003s0048t01_registered.nii.gz | t01/c0003s0048t01_LesionSmooth_registered.nii.gz\n",
      "t01/c0003s0049t01_registered.nii.gz | t01/c0003s0049t01_LesionSmooth_registered.nii.gz\n",
      "t01/c0003s0050t01_registered.nii.gz | t01/c0003s0050t01_LesionSmooth_registered.nii.gz\n",
      "t01/c0003s0051t01_registered.nii.gz | t01/c0003s0051t01_LesionSmooth_registered.nii.gz\n",
      "t01/c0003s0052t01_registered.nii.gz | t01/c0003s0052t01_LesionSmooth_registered.nii.gz\n",
      "t01/c0003s0053t01_registered.nii.gz | t01/c0003s0053t01_LesionSmooth_registered.nii.gz\n",
      "t01/c0003s0054t01_registered.nii.gz | t01/c0003s0054t01_LesionSmooth_registered.nii.gz\n",
      "t01/c0003s0055t01_registered.nii.gz | t01/c0003s0055t01_LesionSmooth_registered.nii.gz\n",
      "t01/c0003s0056t01_registered.nii.gz | t01/c0003s0056t01_LesionSmooth_registered.nii.gz\n",
      "t01/c0004s0001t01_registered.nii.gz | t01/c0004s0001t01_LesionSmooth_registered.nii.gz\n",
      "t01/c0004s0002t01_registered.nii.gz | t01/c0004s0002t01_LesionSmooth_registered.nii.gz\n",
      "t01/c0004s0003t01_registered.nii.gz | t01/c0004s0003t01_LesionSmooth_registered.nii.gz\n",
      "t01/c0004s0004t01_registered.nii.gz | t01/c0004s0004t01_LesionSmooth_registered.nii.gz\n",
      "t01/c0004s0005t01_registered.nii.gz | t01/c0004s0005t01_LesionSmooth_registered.nii.gz\n",
      "t01/c0004s0006t01_registered.nii.gz | t01/c0004s0006t01_LesionSmooth_registered.nii.gz\n",
      "t01/c0004s0007t01_registered.nii.gz | t01/c0004s0007t01_LesionSmooth_registered.nii.gz\n",
      "t01/c0004s0008t01_registered.nii.gz | t01/c0004s0008t01_LesionSmooth_registered.nii.gz\n",
      "t01/c0004s0009t01_registered.nii.gz | t01/c0004s0009t01_LesionSmooth_registered.nii.gz\n",
      "t01/c0004s0010t01_registered.nii.gz | t01/c0004s0010t01_LesionSmooth_registered.nii.gz\n",
      "t01/c0004s0011t01_registered.nii.gz | t01/c0004s0011t01_LesionSmooth_registered.nii.gz\n",
      "t01/c0004s0012t01_registered.nii.gz | t01/c0004s0012t01_LesionSmooth_registered.nii.gz\n",
      "t01/c0004s0013t01_registered.nii.gz | t01/c0004s0013t01_LesionSmooth_registered.nii.gz\n",
      "t01/c0004s0014t01_registered.nii.gz | t01/c0004s0014t01_LesionSmooth_registered.nii.gz\n",
      "t01/c0004s0015t01_registered.nii.gz | t01/c0004s0015t01_LesionSmooth_registered.nii.gz\n",
      "t01/c0004s0016t01_registered.nii.gz | t01/c0004s0016t01_LesionSmooth_registered.nii.gz\n",
      "t01/c0004s0017t01_registered.nii.gz | t01/c0004s0017t01_LesionSmooth_registered.nii.gz\n",
      "t01/c0004s0018t01_registered.nii.gz | t01/c0004s0018t01_LesionSmooth_registered.nii.gz\n",
      "t01/c0004s0019t01_registered.nii.gz | t01/c0004s0019t01_LesionSmooth_registered.nii.gz\n",
      "t01/c0004s0020t01_registered.nii.gz | t01/c0004s0020t01_LesionSmooth_registered.nii.gz\n",
      "t01/c0004s0021t01_registered.nii.gz | t01/c0004s0021t01_LesionSmooth_registered.nii.gz\n",
      "t01/c0004s0022t01_registered.nii.gz | t01/c0004s0022t01_LesionSmooth_registered.nii.gz\n",
      "t01/c0004s0023t01_registered.nii.gz | t01/c0004s0023t01_LesionSmooth_registered.nii.gz\n",
      "t01/c0004s0024t01_registered.nii.gz | t01/c0004s0024t01_LesionSmooth_registered.nii.gz\n",
      "t01/c0004s0025t01_registered.nii.gz | t01/c0004s0025t01_LesionSmooth_registered.nii.gz\n",
      "t01/c0004s0026t01_registered.nii.gz | t01/c0004s0026t01_LesionSmooth_registered.nii.gz\n",
      "t01/c0004s0027t01_registered.nii.gz | t01/c0004s0027t01_LesionSmooth_registered.nii.gz\n",
      "t01/c0004s0028t01_registered.nii.gz | t01/c0004s0028t01_LesionSmooth_registered.nii.gz\n",
      "t01/c0004s0029t01_registered.nii.gz | t01/c0004s0029t01_LesionSmooth_registered.nii.gz\n",
      "t01/c0004s0030t01_registered.nii.gz | t01/c0004s0030t01_LesionSmooth_registered.nii.gz\n",
      "t01/c0004s0031t01_registered.nii.gz | t01/c0004s0031t01_LesionSmooth_registered.nii.gz\n",
      "t01/c0004s0032t01_registered.nii.gz | t01/c0004s0032t01_LesionSmooth_registered.nii.gz\n",
      "t01/c0004s0033t01_registered.nii.gz | t01/c0004s0033t01_LesionSmooth_registered.nii.gz\n",
      "t01/c0004s0034t01_registered.nii.gz | t01/c0004s0034t01_LesionSmooth_registered.nii.gz\n",
      "t01/c0005s0003t01_registered.nii.gz | t01/c0005s0003t01_LesionSmooth_registered.nii.gz\n",
      "t01/c0005s0006t01_registered.nii.gz | t01/c0005s0006t01_LesionSmooth_registered.nii.gz\n",
      "t01/c0005s0007t01_registered.nii.gz | t01/c0005s0007t01_LesionSmooth_registered.nii.gz\n",
      "t01/c0005s0008t01_registered.nii.gz | t01/c0005s0008t01_LesionSmooth_registered.nii.gz\n",
      "t01/c0005s0009t01_registered.nii.gz | t01/c0005s0009t01_LesionSmooth_registered.nii.gz\n",
      "t01/c0005s0010t01_registered.nii.gz | t01/c0005s0010t01_LesionSmooth_registered.nii.gz\n",
      "t01/c0005s0011t01_registered.nii.gz | t01/c0005s0011t01_LesionSmooth_registered.nii.gz\n",
      "t01/c0005s0012t01_registered.nii.gz | t01/c0005s0012t01_LesionSmooth_registered.nii.gz\n",
      "t01/c0005s0013t01_registered.nii.gz | t01/c0005s0013t01_LesionSmooth_registered.nii.gz\n",
      "t01/c0005s0014t01_registered.nii.gz | t01/c0005s0014t01_LesionSmooth_registered.nii.gz\n",
      "t01/c0005s0017t01_registered.nii.gz | t01/c0005s0017t01_LesionSmooth_registered.nii.gz\n",
      "t01/c0005s0018t01_registered.nii.gz | t01/c0005s0018t01_LesionSmooth_registered.nii.gz\n",
      "t01/c0005s0021t01_registered.nii.gz | t01/c0005s0021t01_LesionSmooth_registered.nii.gz\n",
      "t01/c0005s0024t01_registered.nii.gz | t01/c0005s0024t01_LesionSmooth_registered.nii.gz\n",
      "t01/c0005s0026t01_registered.nii.gz | t01/c0005s0026t01_LesionSmooth_registered.nii.gz\n",
      "t01/c0005s0027t01_registered.nii.gz | t01/c0005s0027t01_LesionSmooth_registered.nii.gz\n",
      "t01/c0005s0028t01_registered.nii.gz | t01/c0005s0028t01_LesionSmooth_registered.nii.gz\n",
      "t01/c0005s0029t01_registered.nii.gz | t01/c0005s0029t01_LesionSmooth_registered.nii.gz\n",
      "t01/c0005s0030t01_registered.nii.gz | t01/c0005s0030t01_LesionSmooth_registered.nii.gz\n",
      "t01/c0005s0031t01_registered.nii.gz | t01/c0005s0031t01_LesionSmooth_registered.nii.gz\n",
      "t01/c0005s0035t01_registered.nii.gz | t01/c0005s0035t01_LesionSmooth_registered.nii.gz\n",
      "t01/c0005s0036t01_registered.nii.gz | t01/c0005s0036t01_LesionSmooth_registered.nii.gz\n",
      "t01/c0005s0040t01_registered.nii.gz | t01/c0005s0040t01_LesionSmooth_registered.nii.gz\n",
      "t01/c0005s0042t01_registered.nii.gz | t01/c0005s0042t01_LesionSmooth_registered.nii.gz\n",
      "t01/c0005s0043t01_registered.nii.gz | t01/c0005s0043t01_LesionSmooth_registered.nii.gz\n",
      "t01/c0005s0044t01_registered.nii.gz | t01/c0005s0044t01_LesionSmooth_registered.nii.gz\n",
      "t01/c0005s0045t01_registered.nii.gz | t01/c0005s0045t01_LesionSmooth_registered.nii.gz\n",
      "t01/c0005s0047t01_registered.nii.gz | t01/c0005s0047t01_LesionSmooth_registered.nii.gz\n",
      "t01/c0005s0048t01_registered.nii.gz | t01/c0005s0048t01_LesionSmooth_registered.nii.gz\n",
      "t01/c0005s0049t01_registered.nii.gz | t01/c0005s0049t01_LesionSmooth_registered.nii.gz\n",
      "t01/c0006s0001t01_registered.nii.gz | t01/c0006s0001t01_LesionSmooth_registered.nii.gz\n",
      "t01/c0006s0003t01_registered.nii.gz | t01/c0006s0003t01_LesionSmooth_registered.nii.gz\n",
      "t01/c0006s0004t01_registered.nii.gz | t01/c0006s0004t01_LesionSmooth_registered.nii.gz\n",
      "t01/c0006s0005t01_registered.nii.gz | t01/c0006s0005t01_LesionSmooth_registered.nii.gz\n",
      "t01/c0006s0006t01_registered.nii.gz | t01/c0006s0006t01_LesionSmooth_registered.nii.gz\n",
      "t01/c0006s0007t01_registered.nii.gz | t01/c0006s0007t01_LesionSmooth_registered.nii.gz\n",
      "t01/c0006s0008t01_registered.nii.gz | t01/c0006s0008t01_LesionSmooth_registered.nii.gz\n",
      "t01/c0006s0010t01_registered.nii.gz | t01/c0006s0010t01_LesionSmooth_registered.nii.gz\n",
      "t01/c0006s0014t01_registered.nii.gz | t01/c0006s0014t01_LesionSmooth_registered.nii.gz\n",
      "t01/c0006s0018t01_registered.nii.gz | t01/c0006s0018t01_LesionSmooth_registered.nii.gz\n",
      "t01/c0006s0019t01_registered.nii.gz | t01/c0006s0019t01_LesionSmooth_registered.nii.gz\n",
      "t01/c0006s0020t01_registered.nii.gz | t01/c0006s0020t01_LesionSmooth_registered.nii.gz\n",
      "t01/c0007s0001t01_registered.nii.gz | t01/c0007s0001t01_LesionSmooth_registered.nii.gz\n",
      "t01/c0007s0002t01_registered.nii.gz | t01/c0007s0002t01_LesionSmooth_registered.nii.gz\n",
      "t01/c0007s0003t01_registered.nii.gz | t01/c0007s0003t01_LesionSmooth_registered.nii.gz\n",
      "t01/c0007s0004t01_registered.nii.gz | t01/c0007s0004t01_LesionSmooth_registered.nii.gz\n",
      "t01/c0007s0005t01_registered.nii.gz | t01/c0007s0005t01_LesionSmooth_registered.nii.gz\n",
      "t01/c0007s0006t01_registered.nii.gz | t01/c0007s0006t01_LesionSmooth_registered.nii.gz\n",
      "t01/c0007s0007t01_registered.nii.gz | t01/c0007s0007t01_LesionSmooth_registered.nii.gz\n",
      "t01/c0007s0008t01_registered.nii.gz | t01/c0007s0008t01_LesionSmooth_registered.nii.gz\n",
      "t01/c0007s0009t01_registered.nii.gz | t01/c0007s0009t01_LesionSmooth_registered.nii.gz\n",
      "t01/c0007s0010t01_registered.nii.gz | t01/c0007s0010t01_LesionSmooth_registered.nii.gz\n",
      "t01/c0007s0011t01_registered.nii.gz | t01/c0007s0011t01_LesionSmooth_registered.nii.gz\n",
      "t01/c0007s0012t01_registered.nii.gz | t01/c0007s0012t01_LesionSmooth_registered.nii.gz\n",
      "t01/c0007s0013t01_registered.nii.gz | t01/c0007s0013t01_LesionSmooth_registered.nii.gz\n",
      "t01/c0007s0014t01_registered.nii.gz | t01/c0007s0014t01_LesionSmooth_registered.nii.gz\n",
      "t01/c0007s0015t01_registered.nii.gz | t01/c0007s0015t01_LesionSmooth_registered.nii.gz\n",
      "t01/c0007s0016t01_registered.nii.gz | t01/c0007s0016t01_LesionSmooth_registered.nii.gz\n",
      "t01/c0007s0017t01_registered.nii.gz | t01/c0007s0017t01_LesionSmooth_registered.nii.gz\n",
      "t01/c0007s0018t01_registered.nii.gz | t01/c0007s0018t01_LesionSmooth_registered.nii.gz\n",
      "t01/c0007s0019t01_registered.nii.gz | t01/c0007s0019t01_LesionSmooth_registered.nii.gz\n",
      "t01/c0007s0020t01_registered.nii.gz | t01/c0007s0020t01_LesionSmooth_registered.nii.gz\n",
      "t01/c0007s0021t01_registered.nii.gz | t01/c0007s0021t01_LesionSmooth_registered.nii.gz\n",
      "t01/c0007s0022t01_registered.nii.gz | t01/c0007s0022t01_LesionSmooth_registered.nii.gz\n",
      "t01/c0007s0023t01_registered.nii.gz | t01/c0007s0023t01_LesionSmooth_registered.nii.gz\n",
      "t01/c0007s0024t01_registered.nii.gz | t01/c0007s0024t01_LesionSmooth_registered.nii.gz\n",
      "t01/c0007s0025t01_registered.nii.gz | t01/c0007s0025t01_LesionSmooth_registered.nii.gz\n",
      "t01/c0007s0026t01_registered.nii.gz | t01/c0007s0026t01_LesionSmooth_registered.nii.gz\n",
      "t01/c0007s0027t01_registered.nii.gz | t01/c0007s0027t01_LesionSmooth_registered.nii.gz\n",
      "t01/c0007s0028t01_registered.nii.gz | t01/c0007s0028t01_LesionSmooth_registered.nii.gz\n",
      "t01/c0007s0029t01_registered.nii.gz | t01/c0007s0029t01_LesionSmooth_registered.nii.gz\n",
      "t01/c0007s0030t01_registered.nii.gz | t01/c0007s0030t01_LesionSmooth_registered.nii.gz\n",
      "t01/c0007s0031t01_registered.nii.gz | t01/c0007s0031t01_LesionSmooth_registered.nii.gz\n",
      "t01/c0007s0032t01_registered.nii.gz | t01/c0007s0032t01_LesionSmooth_registered.nii.gz\n",
      "t01/c0007s0033t01_registered.nii.gz | t01/c0007s0033t01_LesionSmooth_registered.nii.gz\n",
      "t01/c0007s0034t01_registered.nii.gz | t01/c0007s0034t01_LesionSmooth_registered.nii.gz\n",
      "t01/c0007s0035t01_registered.nii.gz | t01/c0007s0035t01_LesionSmooth_registered.nii.gz\n",
      "t01/c0007s0036t01_registered.nii.gz | t01/c0007s0036t01_LesionSmooth_registered.nii.gz\n",
      "t01/c0008s0001t01_registered.nii.gz | t01/c0008s0001t01_LesionSmooth_registered.nii.gz\n",
      "t01/c0008s0002t01_registered.nii.gz | t01/c0008s0002t01_LesionSmooth_registered.nii.gz\n",
      "t01/c0008s0003t01_registered.nii.gz | t01/c0008s0003t01_LesionSmooth_registered.nii.gz\n",
      "t01/c0008s0005t01_registered.nii.gz | t01/c0008s0005t01_LesionSmooth_registered.nii.gz\n",
      "t01/c0008s0006t01_registered.nii.gz | t01/c0008s0006t01_LesionSmooth_registered.nii.gz\n",
      "t01/c0008s0007t01_registered.nii.gz | t01/c0008s0007t01_LesionSmooth_registered.nii.gz\n",
      "t01/c0008s0008t01_registered.nii.gz | t01/c0008s0008t01_LesionSmooth_registered.nii.gz\n",
      "t01/c0008s0009t01_registered.nii.gz | t01/c0008s0009t01_LesionSmooth_registered.nii.gz\n",
      "t01/c0008s0010t01_registered.nii.gz | t01/c0008s0010t01_LesionSmooth_registered.nii.gz\n",
      "t01/c0008s0011t01_registered.nii.gz | t01/c0008s0011t01_LesionSmooth_registered.nii.gz\n",
      "t01/c0008s0012t01_registered.nii.gz | t01/c0008s0012t01_LesionSmooth_registered.nii.gz\n",
      "t01/c0008s0013t01_registered.nii.gz | t01/c0008s0013t01_LesionSmooth_registered.nii.gz\n",
      "t01/c0008s0014t01_registered.nii.gz | t01/c0008s0014t01_LesionSmooth_registered.nii.gz\n",
      "t01/c0008s0015t01_registered.nii.gz | t01/c0008s0015t01_LesionSmooth_registered.nii.gz\n",
      "t01/c0008s0016t01_registered.nii.gz | t01/c0008s0016t01_LesionSmooth_registered.nii.gz\n",
      "t01/c0008s0017t01_registered.nii.gz | t01/c0008s0017t01_LesionSmooth_registered.nii.gz\n",
      "t01/c0008s0018t01_registered.nii.gz | t01/c0008s0018t01_LesionSmooth_registered.nii.gz\n",
      "t01/c0008s0019t01_registered.nii.gz | t01/c0008s0019t01_LesionSmooth_registered.nii.gz\n",
      "t01/c0008s0020t01_registered.nii.gz | t01/c0008s0020t01_LesionSmooth_registered.nii.gz\n",
      "t01/c0008s0021t01_registered.nii.gz | t01/c0008s0021t01_LesionSmooth_registered.nii.gz\n",
      "t01/c0008s0022t01_registered.nii.gz | t01/c0008s0022t01_LesionSmooth_registered.nii.gz\n",
      "t01/c0008s0023t01_registered.nii.gz | t01/c0008s0023t01_LesionSmooth_registered.nii.gz\n",
      "t01/c0008s0024t01_registered.nii.gz | t01/c0008s0024t01_LesionSmooth_registered.nii.gz\n",
      "t01/c0008s0025t01_registered.nii.gz | t01/c0008s0025t01_LesionSmooth_registered.nii.gz\n",
      "t01/c0008s0026t01_registered.nii.gz | t01/c0008s0026t01_LesionSmooth_registered.nii.gz\n",
      "t01/c0008s0027t01_registered.nii.gz | t01/c0008s0027t01_LesionSmooth_registered.nii.gz\n",
      "t01/c0008s0028t01_registered.nii.gz | t01/c0008s0028t01_LesionSmooth_registered.nii.gz\n",
      "t01/c0008s0029t01_registered.nii.gz | t01/c0008s0029t01_LesionSmooth_registered.nii.gz\n",
      "t01/c0008s0030t01_registered.nii.gz | t01/c0008s0030t01_LesionSmooth_registered.nii.gz\n",
      "t01/c0008s0031t01_registered.nii.gz | t01/c0008s0031t01_LesionSmooth_registered.nii.gz\n",
      "t01/c0008s0032t01_registered.nii.gz | t01/c0008s0032t01_LesionSmooth_registered.nii.gz\n",
      "t01/c0008s0033t01_registered.nii.gz | t01/c0008s0033t01_LesionSmooth_registered.nii.gz\n",
      "t01/c0009s0001t01_registered.nii.gz | t01/c0009s0001t01_LesionSmooth_registered.nii.gz\n",
      "t01/c0009s0002t01_registered.nii.gz | t01/c0009s0002t01_LesionSmooth_registered.nii.gz\n",
      "t01/c0009s0003t01_registered.nii.gz | t01/c0009s0003t01_LesionSmooth_registered.nii.gz\n",
      "t01/c0009s0004t01_registered.nii.gz | t01/c0009s0004t01_LesionSmooth_registered.nii.gz\n",
      "t01/c0009s0005t01_registered.nii.gz | t01/c0009s0005t01_LesionSmooth_registered.nii.gz\n",
      "t01/c0009s0006t01_registered.nii.gz | t01/c0009s0006t01_LesionSmooth_registered.nii.gz\n",
      "t01/c0009s0007t01_registered.nii.gz | t01/c0009s0007t01_LesionSmooth_registered.nii.gz\n",
      "t01/c0009s0008t01_registered.nii.gz | t01/c0009s0008t01_LesionSmooth_registered.nii.gz\n",
      "t01/c0009s0009t01_registered.nii.gz | t01/c0009s0009t01_LesionSmooth_registered.nii.gz\n",
      "t01/c0009s0010t01_registered.nii.gz | t01/c0009s0010t01_LesionSmooth_registered.nii.gz\n",
      "t01/c0009s0011t01_registered.nii.gz | t01/c0009s0011t01_LesionSmooth_registered.nii.gz\n",
      "t01/c0009s0012t01_registered.nii.gz | t01/c0009s0012t01_LesionSmooth_registered.nii.gz\n",
      "t01/c0010s0001t01_registered.nii.gz | t01/c0010s0001t01_LesionSmooth_registered.nii.gz\n",
      "t01/c0010s0002t01_registered.nii.gz | t01/c0010s0002t01_LesionSmooth_registered.nii.gz\n",
      "t01/c0010s0003t01_registered.nii.gz | t01/c0010s0003t01_LesionSmooth_registered.nii.gz\n",
      "t01/c0010s0004t01_registered.nii.gz | t01/c0010s0004t01_LesionSmooth_registered.nii.gz\n",
      "t01/c0010s0005t01_registered.nii.gz | t01/c0010s0005t01_LesionSmooth_registered.nii.gz\n",
      "t01/c0010s0006t01_registered.nii.gz | t01/c0010s0006t01_LesionSmooth_registered.nii.gz\n",
      "t01/c0010s0007t01_registered.nii.gz | t01/c0010s0007t01_LesionSmooth_registered.nii.gz\n",
      "t01/c0010s0008t01_registered.nii.gz | t01/c0010s0008t01_LesionSmooth_registered.nii.gz\n",
      "t01/c0010s0009t01_registered.nii.gz | t01/c0010s0009t01_LesionSmooth_registered.nii.gz\n",
      "t01/c0010s0010t01_registered.nii.gz | t01/c0010s0010t01_LesionSmooth_registered.nii.gz\n",
      "t01/c0010s0011t01_registered.nii.gz | t01/c0010s0011t01_LesionSmooth_registered.nii.gz\n",
      "t01/c0010s0013t01_registered.nii.gz | t01/c0010s0013t01_LesionSmooth_registered.nii.gz\n",
      "t01/c0010s0014t01_registered.nii.gz | t01/c0010s0014t01_LesionSmooth_registered.nii.gz\n",
      "t01/c0010s0015t01_registered.nii.gz | t01/c0010s0015t01_LesionSmooth_registered.nii.gz\n",
      "t01/c0010s0016t01_registered.nii.gz | t01/c0010s0016t01_LesionSmooth_registered.nii.gz\n",
      "t01/c0010s0018t01_registered.nii.gz | t01/c0010s0018t01_LesionSmooth_registered.nii.gz\n",
      "t01/c0010s0020t01_registered.nii.gz | t01/c0010s0020t01_LesionSmooth_registered.nii.gz\n",
      "t01/c0010s0021t01_registered.nii.gz | t01/c0010s0021t01_LesionSmooth_registered.nii.gz\n",
      "t01/c0010s0022t01_registered.nii.gz | t01/c0010s0022t01_LesionSmooth_registered.nii.gz\n",
      "t01/c0010s0024t01_registered.nii.gz | t01/c0010s0024t01_LesionSmooth_registered.nii.gz\n",
      "t01/c0010s0025t01_registered.nii.gz | t01/c0010s0025t01_LesionSmooth_registered.nii.gz\n",
      "t01/c0010s0028t01_registered.nii.gz | t01/c0010s0028t01_LesionSmooth_registered.nii.gz\n",
      "t01/c0010s0029t01_registered.nii.gz | t01/c0010s0029t01_LesionSmooth_registered.nii.gz\n",
      "t01/c0010s0030t01_registered.nii.gz | t01/c0010s0030t01_LesionSmooth_registered.nii.gz\n",
      "t01/c0010s0031t01_registered.nii.gz | t01/c0010s0031t01_LesionSmooth_registered.nii.gz\n",
      "t01/c0010s0032t01_registered.nii.gz | t01/c0010s0032t01_LesionSmooth_registered.nii.gz\n",
      "t01/c0010s0034t01_registered.nii.gz | t01/c0010s0034t01_LesionSmooth_registered.nii.gz\n",
      "t01/c0010s0037t01_registered.nii.gz | t01/c0010s0037t01_LesionSmooth_registered.nii.gz\n",
      "t01/c0010s0038t01_registered.nii.gz | t01/c0010s0038t01_LesionSmooth_registered.nii.gz\n",
      "t01/c0010s0040t01_registered.nii.gz | t01/c0010s0040t01_LesionSmooth_registered.nii.gz\n",
      "t01/c0010s0041t01_registered.nii.gz | t01/c0010s0041t01_LesionSmooth_registered.nii.gz\n",
      "t01/c0010s0042t01_registered.nii.gz | t01/c0010s0042t01_LesionSmooth_registered.nii.gz\n",
      "t01/c0010s0043t01_registered.nii.gz | t01/c0010s0043t01_LesionSmooth_registered.nii.gz\n",
      "t01/c0010s0044t01_registered.nii.gz | t01/c0010s0044t01_LesionSmooth_registered.nii.gz\n",
      "t01/c0010s0046t01_registered.nii.gz | t01/c0010s0046t01_LesionSmooth_registered.nii.gz\n",
      "t01/c0011s0001t01_registered.nii.gz | t01/c0011s0001t01_LesionSmooth_registered.nii.gz\n",
      "t01/c0011s0002t01_registered.nii.gz | t01/c0011s0002t01_LesionSmooth_registered.nii.gz\n",
      "t01/c0011s0003t01_registered.nii.gz | t01/c0011s0003t01_LesionSmooth_registered.nii.gz\n",
      "t01/c0011s0004t01_registered.nii.gz | t01/c0011s0004t01_LesionSmooth_registered.nii.gz\n",
      "t01/c0011s0005t01_registered.nii.gz | t01/c0011s0005t01_LesionSmooth_registered.nii.gz\n",
      "t01/c0011s0006t01_registered.nii.gz | t01/c0011s0006t01_LesionSmooth_registered.nii.gz\n",
      "t01/c0011s0007t01_registered.nii.gz | t01/c0011s0007t01_LesionSmooth_registered.nii.gz\n",
      "t01/c0011s0008t01_registered.nii.gz | t01/c0011s0008t01_LesionSmooth_registered.nii.gz\n",
      "t01/c0011s0009t01_registered.nii.gz | t01/c0011s0009t01_LesionSmooth_registered.nii.gz\n",
      "t01/c0011s0010t01_registered.nii.gz | t01/c0011s0010t01_LesionSmooth_registered.nii.gz\n",
      "t01/c0011s0011t01_registered.nii.gz | t01/c0011s0011t01_LesionSmooth_registered.nii.gz\n",
      "t01/c0011s0012t01_registered.nii.gz | t01/c0011s0012t01_LesionSmooth_registered.nii.gz\n",
      "t01/c0011s0013t01_registered.nii.gz | t01/c0011s0013t01_LesionSmooth_registered.nii.gz\n",
      "t01/c0011s0014t01_registered.nii.gz | t01/c0011s0014t01_LesionSmooth_registered.nii.gz\n",
      "t01/c0011s0015t01_registered.nii.gz | t01/c0011s0015t01_LesionSmooth_registered.nii.gz\n"
     ]
    }
   ],
   "source": [
    "print(\"Number of samples:\", len(xpaths))\n",
    "for input_path, target_path in zip(xpaths, ypaths):\n",
    "    print(input_path[-35:], \"|\", target_path[-48:])"
   ]
  },
  {
   "cell_type": "code",
   "execution_count": null,
   "metadata": {
    "id": "bkXbZBb-Do1b"
   },
   "outputs": [],
   "source": [
    "def bias_field_correction(img: sitk.Image) -> sitk.Image:\n",
    "    head_mask = sitk.RescaleIntensity(img, 0, 255)\n",
    "    head_mask = sitk.LiThreshold(head_mask,0,1)\n",
    "\n",
    "    shrinkFactor = 4\n",
    "    inputImage = img\n",
    "    inputImage = sitk.Shrink( img, [ shrinkFactor ] * inputImage.GetDimension() )\n",
    "    maskImage = sitk.Shrink( head_mask, [ shrinkFactor ] * inputImage.GetDimension() )\n",
    "\n",
    "    bias_corrector = sitk.N4BiasFieldCorrectionImageFilter()\n",
    "    bias_corrector.Execute(inputImage, maskImage)\n",
    "\n",
    "    log_bias_field = bias_corrector.GetLogBiasFieldAsImage(img)\n",
    "    result = img / sitk.Exp( log_bias_field ) # corrected img at full resolution\n",
    "\n",
    "    # output of division has 64 pixel type, we cast it to float32 to keep compatibility\n",
    "    result = sitk.Cast(result, sitk.sitkFloat32)\n",
    "    \n",
    "    return result\n",
    "\n",
    "def load_img_sitk(path: str) -> sitk.Image:\n",
    "    raw_img_sitk = sitk.ReadImage(path, sitk.sitkFloat32)\n",
    "    return raw_img_sitk\n"
   ]
  },
  {
   "cell_type": "code",
   "execution_count": null,
   "metadata": {
    "colab": {
     "base_uri": "https://localhost:8080/"
    },
    "collapsed": true,
    "executionInfo": {
     "elapsed": 2768150,
     "status": "ok",
     "timestamp": 1685783321751,
     "user": {
      "displayName": "Alejandro M",
      "userId": "11111187776730726759"
     },
     "user_tz": 300
    },
    "id": "Ye88JcOcEPIi",
    "jupyter": {
     "outputs_hidden": true
    },
    "outputId": "28a86b23-7d12-4bbc-8262-9af4aa1475d7"
   },
   "outputs": [
    {
     "name": "stdout",
     "output_type": "stream",
     "text": [
      "0 /data/NATIVE/c0001/c0001s0004t01/c0001s0004t01_registered_BF.nii.gz\n",
      "1 /data/NATIVE/c0001/c0001s0005t01/c0001s0005t01_registered_BF.nii.gz\n",
      "2 /data/NATIVE/c0001/c0001s0006t01/c0001s0006t01_registered_BF.nii.gz\n",
      "3 /data/NATIVE/c0001/c0001s0007t01/c0001s0007t01_registered_BF.nii.gz\n",
      "4 /data/NATIVE/c0001/c0001s0008t01/c0001s0008t01_registered_BF.nii.gz\n",
      "5 /data/NATIVE/c0001/c0001s0012t01/c0001s0012t01_registered_BF.nii.gz\n",
      "6 /data/NATIVE/c0002/c0002s0001t01/c0002s0001t01_registered_BF.nii.gz\n",
      "7 /data/NATIVE/c0002/c0002s0002t01/c0002s0002t01_registered_BF.nii.gz\n",
      "8 /data/NATIVE/c0002/c0002s0003t01/c0002s0003t01_registered_BF.nii.gz\n",
      "9 /data/NATIVE/c0002/c0002s0004t01/c0002s0004t01_registered_BF.nii.gz\n",
      "10 /data/NATIVE/c0002/c0002s0005t01/c0002s0005t01_registered_BF.nii.gz\n",
      "11 /data/NATIVE/c0002/c0002s0007t01/c0002s0007t01_registered_BF.nii.gz\n",
      "12 /data/NATIVE/c0002/c0002s0008t01/c0002s0008t01_registered_BF.nii.gz\n",
      "13 /data/NATIVE/c0002/c0002s0009t01/c0002s0009t01_registered_BF.nii.gz\n",
      "14 /data/NATIVE/c0002/c0002s0011t01/c0002s0011t01_registered_BF.nii.gz\n",
      "15 /data/NATIVE/c0002/c0002s0012t01/c0002s0012t01_registered_BF.nii.gz\n",
      "16 /data/NATIVE/c0002/c0002s0013t01/c0002s0013t01_registered_BF.nii.gz\n",
      "17 /data/NATIVE/c0002/c0002s0014t01/c0002s0014t01_registered_BF.nii.gz\n",
      "18 /data/NATIVE/c0002/c0002s0015t01/c0002s0015t01_registered_BF.nii.gz\n",
      "19 /data/NATIVE/c0002/c0002s0016t01/c0002s0016t01_registered_BF.nii.gz\n",
      "20 /data/NATIVE/c0002/c0002s0017t01/c0002s0017t01_registered_BF.nii.gz\n",
      "21 /data/NATIVE/c0002/c0002s0018t01/c0002s0018t01_registered_BF.nii.gz\n",
      "22 /data/NATIVE/c0002/c0002s0019t01/c0002s0019t01_registered_BF.nii.gz\n",
      "23 /data/NATIVE/c0002/c0002s0020t01/c0002s0020t01_registered_BF.nii.gz\n",
      "24 /data/NATIVE/c0002/c0002s0021t01/c0002s0021t01_registered_BF.nii.gz\n",
      "25 /data/NATIVE/c0002/c0002s0022t01/c0002s0022t01_registered_BF.nii.gz\n",
      "26 /data/NATIVE/c0002/c0002s0023t01/c0002s0023t01_registered_BF.nii.gz\n",
      "27 /data/NATIVE/c0002/c0002s0024t01/c0002s0024t01_registered_BF.nii.gz\n",
      "28 /data/NATIVE/c0002/c0002s0025t01/c0002s0025t01_registered_BF.nii.gz\n",
      "29 /data/NATIVE/c0002/c0002s0026t01/c0002s0026t01_registered_BF.nii.gz\n",
      "30 /data/NATIVE/c0002/c0002s0027t01/c0002s0027t01_registered_BF.nii.gz\n",
      "31 /data/NATIVE/c0003/c0003s0001t01/c0003s0001t01_registered_BF.nii.gz\n",
      "32 /data/NATIVE/c0003/c0003s0002t01/c0003s0002t01_registered_BF.nii.gz\n",
      "33 /data/NATIVE/c0003/c0003s0003t01/c0003s0003t01_registered_BF.nii.gz\n",
      "34 /data/NATIVE/c0003/c0003s0004t01/c0003s0004t01_registered_BF.nii.gz\n",
      "35 /data/NATIVE/c0003/c0003s0005t01/c0003s0005t01_registered_BF.nii.gz\n",
      "36 /data/NATIVE/c0003/c0003s0006t01/c0003s0006t01_registered_BF.nii.gz\n",
      "37 /data/NATIVE/c0003/c0003s0007t01/c0003s0007t01_registered_BF.nii.gz\n",
      "38 /data/NATIVE/c0003/c0003s0008t01/c0003s0008t01_registered_BF.nii.gz\n",
      "39 /data/NATIVE/c0003/c0003s0009t01/c0003s0009t01_registered_BF.nii.gz\n",
      "40 /data/NATIVE/c0003/c0003s0010t01/c0003s0010t01_registered_BF.nii.gz\n",
      "41 /data/NATIVE/c0003/c0003s0011t01/c0003s0011t01_registered_BF.nii.gz\n",
      "42 /data/NATIVE/c0003/c0003s0012t01/c0003s0012t01_registered_BF.nii.gz\n",
      "43 /data/NATIVE/c0003/c0003s0013t01/c0003s0013t01_registered_BF.nii.gz\n",
      "44 /data/NATIVE/c0003/c0003s0014t01/c0003s0014t01_registered_BF.nii.gz\n",
      "45 /data/NATIVE/c0003/c0003s0015t01/c0003s0015t01_registered_BF.nii.gz\n",
      "46 /data/NATIVE/c0003/c0003s0016t01/c0003s0016t01_registered_BF.nii.gz\n",
      "47 /data/NATIVE/c0003/c0003s0017t01/c0003s0017t01_registered_BF.nii.gz\n",
      "48 /data/NATIVE/c0003/c0003s0018t01/c0003s0018t01_registered_BF.nii.gz\n",
      "49 /data/NATIVE/c0003/c0003s0019t01/c0003s0019t01_registered_BF.nii.gz\n",
      "50 /data/NATIVE/c0003/c0003s0020t01/c0003s0020t01_registered_BF.nii.gz\n",
      "51 /data/NATIVE/c0003/c0003s0021t01/c0003s0021t01_registered_BF.nii.gz\n",
      "52 /data/NATIVE/c0003/c0003s0022t01/c0003s0022t01_registered_BF.nii.gz\n",
      "53 /data/NATIVE/c0003/c0003s0023t01/c0003s0023t01_registered_BF.nii.gz\n",
      "54 /data/NATIVE/c0003/c0003s0024t01/c0003s0024t01_registered_BF.nii.gz\n",
      "55 /data/NATIVE/c0003/c0003s0025t01/c0003s0025t01_registered_BF.nii.gz\n",
      "56 /data/NATIVE/c0003/c0003s0026t01/c0003s0026t01_registered_BF.nii.gz\n",
      "57 /data/NATIVE/c0003/c0003s0027t01/c0003s0027t01_registered_BF.nii.gz\n",
      "58 /data/NATIVE/c0003/c0003s0028t01/c0003s0028t01_registered_BF.nii.gz\n",
      "59 /data/NATIVE/c0003/c0003s0029t01/c0003s0029t01_registered_BF.nii.gz\n",
      "60 /data/NATIVE/c0003/c0003s0030t01/c0003s0030t01_registered_BF.nii.gz\n",
      "61 /data/NATIVE/c0003/c0003s0031t01/c0003s0031t01_registered_BF.nii.gz\n",
      "62 /data/NATIVE/c0003/c0003s0032t01/c0003s0032t01_registered_BF.nii.gz\n",
      "63 /data/NATIVE/c0003/c0003s0033t01/c0003s0033t01_registered_BF.nii.gz\n",
      "64 /data/NATIVE/c0003/c0003s0034t01/c0003s0034t01_registered_BF.nii.gz\n",
      "65 /data/NATIVE/c0003/c0003s0035t01/c0003s0035t01_registered_BF.nii.gz\n",
      "66 /data/NATIVE/c0003/c0003s0036t01/c0003s0036t01_registered_BF.nii.gz\n",
      "67 /data/NATIVE/c0003/c0003s0037t01/c0003s0037t01_registered_BF.nii.gz\n",
      "68 /data/NATIVE/c0003/c0003s0038t01/c0003s0038t01_registered_BF.nii.gz\n",
      "69 /data/NATIVE/c0003/c0003s0039t01/c0003s0039t01_registered_BF.nii.gz\n",
      "70 /data/NATIVE/c0003/c0003s0040t01/c0003s0040t01_registered_BF.nii.gz\n",
      "71 /data/NATIVE/c0003/c0003s0041t01/c0003s0041t01_registered_BF.nii.gz\n",
      "72 /data/NATIVE/c0003/c0003s0042t01/c0003s0042t01_registered_BF.nii.gz\n",
      "73 /data/NATIVE/c0003/c0003s0043t01/c0003s0043t01_registered_BF.nii.gz\n",
      "74 /data/NATIVE/c0003/c0003s0044t01/c0003s0044t01_registered_BF.nii.gz\n",
      "75 /data/NATIVE/c0003/c0003s0045t01/c0003s0045t01_registered_BF.nii.gz\n",
      "76 /data/NATIVE/c0003/c0003s0046t01/c0003s0046t01_registered_BF.nii.gz\n",
      "77 /data/NATIVE/c0003/c0003s0048t01/c0003s0048t01_registered_BF.nii.gz\n",
      "78 /data/NATIVE/c0003/c0003s0049t01/c0003s0049t01_registered_BF.nii.gz\n",
      "79 /data/NATIVE/c0003/c0003s0050t01/c0003s0050t01_registered_BF.nii.gz\n",
      "80 /data/NATIVE/c0003/c0003s0051t01/c0003s0051t01_registered_BF.nii.gz\n",
      "81 /data/NATIVE/c0003/c0003s0052t01/c0003s0052t01_registered_BF.nii.gz\n",
      "82 /data/NATIVE/c0003/c0003s0053t01/c0003s0053t01_registered_BF.nii.gz\n",
      "83 /data/NATIVE/c0003/c0003s0054t01/c0003s0054t01_registered_BF.nii.gz\n",
      "84 /data/NATIVE/c0003/c0003s0055t01/c0003s0055t01_registered_BF.nii.gz\n",
      "85 /data/NATIVE/c0003/c0003s0056t01/c0003s0056t01_registered_BF.nii.gz\n",
      "86 /data/NATIVE/c0004/c0004s0001t01/c0004s0001t01_registered_BF.nii.gz\n",
      "87 /data/NATIVE/c0004/c0004s0002t01/c0004s0002t01_registered_BF.nii.gz\n",
      "88 /data/NATIVE/c0004/c0004s0003t01/c0004s0003t01_registered_BF.nii.gz\n",
      "89 /data/NATIVE/c0004/c0004s0004t01/c0004s0004t01_registered_BF.nii.gz\n",
      "90 /data/NATIVE/c0004/c0004s0005t01/c0004s0005t01_registered_BF.nii.gz\n",
      "91 /data/NATIVE/c0004/c0004s0006t01/c0004s0006t01_registered_BF.nii.gz\n",
      "92 /data/NATIVE/c0004/c0004s0007t01/c0004s0007t01_registered_BF.nii.gz\n",
      "93 /data/NATIVE/c0004/c0004s0008t01/c0004s0008t01_registered_BF.nii.gz\n",
      "94 /data/NATIVE/c0004/c0004s0009t01/c0004s0009t01_registered_BF.nii.gz\n",
      "95 /data/NATIVE/c0004/c0004s0010t01/c0004s0010t01_registered_BF.nii.gz\n",
      "96 /data/NATIVE/c0004/c0004s0011t01/c0004s0011t01_registered_BF.nii.gz\n",
      "97 /data/NATIVE/c0004/c0004s0012t01/c0004s0012t01_registered_BF.nii.gz\n",
      "98 /data/NATIVE/c0004/c0004s0013t01/c0004s0013t01_registered_BF.nii.gz\n",
      "99 /data/NATIVE/c0004/c0004s0014t01/c0004s0014t01_registered_BF.nii.gz\n",
      "100 /data/NATIVE/c0004/c0004s0015t01/c0004s0015t01_registered_BF.nii.gz\n",
      "101 /data/NATIVE/c0004/c0004s0016t01/c0004s0016t01_registered_BF.nii.gz\n",
      "102 /data/NATIVE/c0004/c0004s0017t01/c0004s0017t01_registered_BF.nii.gz\n",
      "103 /data/NATIVE/c0004/c0004s0018t01/c0004s0018t01_registered_BF.nii.gz\n",
      "104 /data/NATIVE/c0004/c0004s0019t01/c0004s0019t01_registered_BF.nii.gz\n",
      "105 /data/NATIVE/c0004/c0004s0020t01/c0004s0020t01_registered_BF.nii.gz\n",
      "106 /data/NATIVE/c0004/c0004s0021t01/c0004s0021t01_registered_BF.nii.gz\n",
      "107 /data/NATIVE/c0004/c0004s0022t01/c0004s0022t01_registered_BF.nii.gz\n",
      "108 /data/NATIVE/c0004/c0004s0023t01/c0004s0023t01_registered_BF.nii.gz\n",
      "109 /data/NATIVE/c0004/c0004s0024t01/c0004s0024t01_registered_BF.nii.gz\n",
      "110 /data/NATIVE/c0004/c0004s0025t01/c0004s0025t01_registered_BF.nii.gz\n",
      "111 /data/NATIVE/c0004/c0004s0026t01/c0004s0026t01_registered_BF.nii.gz\n",
      "112 /data/NATIVE/c0004/c0004s0027t01/c0004s0027t01_registered_BF.nii.gz\n",
      "113 /data/NATIVE/c0004/c0004s0028t01/c0004s0028t01_registered_BF.nii.gz\n",
      "114 /data/NATIVE/c0004/c0004s0029t01/c0004s0029t01_registered_BF.nii.gz\n",
      "115 /data/NATIVE/c0004/c0004s0030t01/c0004s0030t01_registered_BF.nii.gz\n",
      "116 /data/NATIVE/c0004/c0004s0031t01/c0004s0031t01_registered_BF.nii.gz\n",
      "117 /data/NATIVE/c0004/c0004s0032t01/c0004s0032t01_registered_BF.nii.gz\n",
      "118 /data/NATIVE/c0004/c0004s0033t01/c0004s0033t01_registered_BF.nii.gz\n",
      "119 /data/NATIVE/c0004/c0004s0034t01/c0004s0034t01_registered_BF.nii.gz\n",
      "120 /data/NATIVE/c0005/c0005s0003t01/c0005s0003t01_registered_BF.nii.gz\n",
      "121 /data/NATIVE/c0005/c0005s0006t01/c0005s0006t01_registered_BF.nii.gz\n",
      "122 /data/NATIVE/c0005/c0005s0007t01/c0005s0007t01_registered_BF.nii.gz\n",
      "123 /data/NATIVE/c0005/c0005s0008t01/c0005s0008t01_registered_BF.nii.gz\n",
      "124 /data/NATIVE/c0005/c0005s0009t01/c0005s0009t01_registered_BF.nii.gz\n",
      "125 /data/NATIVE/c0005/c0005s0010t01/c0005s0010t01_registered_BF.nii.gz\n",
      "126 /data/NATIVE/c0005/c0005s0011t01/c0005s0011t01_registered_BF.nii.gz\n",
      "127 /data/NATIVE/c0005/c0005s0012t01/c0005s0012t01_registered_BF.nii.gz\n",
      "128 /data/NATIVE/c0005/c0005s0013t01/c0005s0013t01_registered_BF.nii.gz\n",
      "129 /data/NATIVE/c0005/c0005s0014t01/c0005s0014t01_registered_BF.nii.gz\n",
      "130 /data/NATIVE/c0005/c0005s0017t01/c0005s0017t01_registered_BF.nii.gz\n",
      "131 /data/NATIVE/c0005/c0005s0018t01/c0005s0018t01_registered_BF.nii.gz\n",
      "132 /data/NATIVE/c0005/c0005s0021t01/c0005s0021t01_registered_BF.nii.gz\n",
      "133 /data/NATIVE/c0005/c0005s0024t01/c0005s0024t01_registered_BF.nii.gz\n",
      "134 /data/NATIVE/c0005/c0005s0026t01/c0005s0026t01_registered_BF.nii.gz\n",
      "135 /data/NATIVE/c0005/c0005s0027t01/c0005s0027t01_registered_BF.nii.gz\n",
      "136 /data/NATIVE/c0005/c0005s0028t01/c0005s0028t01_registered_BF.nii.gz\n",
      "137 /data/NATIVE/c0005/c0005s0029t01/c0005s0029t01_registered_BF.nii.gz\n",
      "138 /data/NATIVE/c0005/c0005s0030t01/c0005s0030t01_registered_BF.nii.gz\n",
      "139 /data/NATIVE/c0005/c0005s0031t01/c0005s0031t01_registered_BF.nii.gz\n",
      "140 /data/NATIVE/c0005/c0005s0035t01/c0005s0035t01_registered_BF.nii.gz\n",
      "141 /data/NATIVE/c0005/c0005s0036t01/c0005s0036t01_registered_BF.nii.gz\n",
      "142 /data/NATIVE/c0005/c0005s0040t01/c0005s0040t01_registered_BF.nii.gz\n",
      "143 /data/NATIVE/c0005/c0005s0042t01/c0005s0042t01_registered_BF.nii.gz\n",
      "144 /data/NATIVE/c0005/c0005s0043t01/c0005s0043t01_registered_BF.nii.gz\n",
      "145 /data/NATIVE/c0005/c0005s0044t01/c0005s0044t01_registered_BF.nii.gz\n",
      "146 /data/NATIVE/c0005/c0005s0045t01/c0005s0045t01_registered_BF.nii.gz\n",
      "147 /data/NATIVE/c0005/c0005s0047t01/c0005s0047t01_registered_BF.nii.gz\n",
      "148 /data/NATIVE/c0005/c0005s0048t01/c0005s0048t01_registered_BF.nii.gz\n",
      "149 /data/NATIVE/c0005/c0005s0049t01/c0005s0049t01_registered_BF.nii.gz\n",
      "150 /data/NATIVE/c0006/c0006s0001t01/c0006s0001t01_registered_BF.nii.gz\n",
      "151 /data/NATIVE/c0006/c0006s0003t01/c0006s0003t01_registered_BF.nii.gz\n",
      "152 /data/NATIVE/c0006/c0006s0004t01/c0006s0004t01_registered_BF.nii.gz\n",
      "153 /data/NATIVE/c0006/c0006s0005t01/c0006s0005t01_registered_BF.nii.gz\n",
      "154 /data/NATIVE/c0006/c0006s0006t01/c0006s0006t01_registered_BF.nii.gz\n",
      "155 /data/NATIVE/c0006/c0006s0007t01/c0006s0007t01_registered_BF.nii.gz\n",
      "156 /data/NATIVE/c0006/c0006s0008t01/c0006s0008t01_registered_BF.nii.gz\n",
      "157 /data/NATIVE/c0006/c0006s0010t01/c0006s0010t01_registered_BF.nii.gz\n",
      "158 /data/NATIVE/c0006/c0006s0014t01/c0006s0014t01_registered_BF.nii.gz\n",
      "159 /data/NATIVE/c0006/c0006s0018t01/c0006s0018t01_registered_BF.nii.gz\n",
      "160 /data/NATIVE/c0006/c0006s0019t01/c0006s0019t01_registered_BF.nii.gz\n",
      "161 /data/NATIVE/c0006/c0006s0020t01/c0006s0020t01_registered_BF.nii.gz\n",
      "162 /data/NATIVE/c0007/c0007s0001t01/c0007s0001t01_registered_BF.nii.gz\n",
      "163 /data/NATIVE/c0007/c0007s0002t01/c0007s0002t01_registered_BF.nii.gz\n",
      "164 /data/NATIVE/c0007/c0007s0003t01/c0007s0003t01_registered_BF.nii.gz\n",
      "165 /data/NATIVE/c0007/c0007s0004t01/c0007s0004t01_registered_BF.nii.gz\n",
      "166 /data/NATIVE/c0007/c0007s0005t01/c0007s0005t01_registered_BF.nii.gz\n",
      "167 /data/NATIVE/c0007/c0007s0006t01/c0007s0006t01_registered_BF.nii.gz\n",
      "168 /data/NATIVE/c0007/c0007s0007t01/c0007s0007t01_registered_BF.nii.gz\n",
      "169 /data/NATIVE/c0007/c0007s0008t01/c0007s0008t01_registered_BF.nii.gz\n",
      "170 /data/NATIVE/c0007/c0007s0009t01/c0007s0009t01_registered_BF.nii.gz\n",
      "171 /data/NATIVE/c0007/c0007s0010t01/c0007s0010t01_registered_BF.nii.gz\n",
      "172 /data/NATIVE/c0007/c0007s0011t01/c0007s0011t01_registered_BF.nii.gz\n",
      "173 /data/NATIVE/c0007/c0007s0012t01/c0007s0012t01_registered_BF.nii.gz\n",
      "174 /data/NATIVE/c0007/c0007s0013t01/c0007s0013t01_registered_BF.nii.gz\n",
      "175 /data/NATIVE/c0007/c0007s0014t01/c0007s0014t01_registered_BF.nii.gz\n",
      "176 /data/NATIVE/c0007/c0007s0015t01/c0007s0015t01_registered_BF.nii.gz\n",
      "177 /data/NATIVE/c0007/c0007s0016t01/c0007s0016t01_registered_BF.nii.gz\n",
      "178 /data/NATIVE/c0007/c0007s0017t01/c0007s0017t01_registered_BF.nii.gz\n",
      "179 /data/NATIVE/c0007/c0007s0018t01/c0007s0018t01_registered_BF.nii.gz\n",
      "180 /data/NATIVE/c0007/c0007s0019t01/c0007s0019t01_registered_BF.nii.gz\n",
      "181 /data/NATIVE/c0007/c0007s0020t01/c0007s0020t01_registered_BF.nii.gz\n",
      "182 /data/NATIVE/c0007/c0007s0021t01/c0007s0021t01_registered_BF.nii.gz\n",
      "183 /data/NATIVE/c0007/c0007s0022t01/c0007s0022t01_registered_BF.nii.gz\n",
      "184 /data/NATIVE/c0007/c0007s0023t01/c0007s0023t01_registered_BF.nii.gz\n",
      "185 /data/NATIVE/c0007/c0007s0024t01/c0007s0024t01_registered_BF.nii.gz\n",
      "186 /data/NATIVE/c0007/c0007s0025t01/c0007s0025t01_registered_BF.nii.gz\n",
      "187 /data/NATIVE/c0007/c0007s0026t01/c0007s0026t01_registered_BF.nii.gz\n",
      "188 /data/NATIVE/c0007/c0007s0027t01/c0007s0027t01_registered_BF.nii.gz\n",
      "189 /data/NATIVE/c0007/c0007s0028t01/c0007s0028t01_registered_BF.nii.gz\n",
      "190 /data/NATIVE/c0007/c0007s0029t01/c0007s0029t01_registered_BF.nii.gz\n",
      "191 /data/NATIVE/c0007/c0007s0030t01/c0007s0030t01_registered_BF.nii.gz\n",
      "192 /data/NATIVE/c0007/c0007s0031t01/c0007s0031t01_registered_BF.nii.gz\n",
      "193 /data/NATIVE/c0007/c0007s0032t01/c0007s0032t01_registered_BF.nii.gz\n",
      "194 /data/NATIVE/c0007/c0007s0033t01/c0007s0033t01_registered_BF.nii.gz\n",
      "195 /data/NATIVE/c0007/c0007s0034t01/c0007s0034t01_registered_BF.nii.gz\n",
      "196 /data/NATIVE/c0007/c0007s0035t01/c0007s0035t01_registered_BF.nii.gz\n",
      "197 /data/NATIVE/c0007/c0007s0036t01/c0007s0036t01_registered_BF.nii.gz\n",
      "198 /data/NATIVE/c0008/c0008s0001t01/c0008s0001t01_registered_BF.nii.gz\n",
      "199 /data/NATIVE/c0008/c0008s0002t01/c0008s0002t01_registered_BF.nii.gz\n",
      "200 /data/NATIVE/c0008/c0008s0003t01/c0008s0003t01_registered_BF.nii.gz\n",
      "201 /data/NATIVE/c0008/c0008s0005t01/c0008s0005t01_registered_BF.nii.gz\n",
      "202 /data/NATIVE/c0008/c0008s0006t01/c0008s0006t01_registered_BF.nii.gz\n",
      "203 /data/NATIVE/c0008/c0008s0007t01/c0008s0007t01_registered_BF.nii.gz\n",
      "204 /data/NATIVE/c0008/c0008s0008t01/c0008s0008t01_registered_BF.nii.gz\n",
      "205 /data/NATIVE/c0008/c0008s0009t01/c0008s0009t01_registered_BF.nii.gz\n",
      "206 /data/NATIVE/c0008/c0008s0010t01/c0008s0010t01_registered_BF.nii.gz\n",
      "207 /data/NATIVE/c0008/c0008s0011t01/c0008s0011t01_registered_BF.nii.gz\n",
      "208 /data/NATIVE/c0008/c0008s0012t01/c0008s0012t01_registered_BF.nii.gz\n",
      "209 /data/NATIVE/c0008/c0008s0013t01/c0008s0013t01_registered_BF.nii.gz\n",
      "210 /data/NATIVE/c0008/c0008s0014t01/c0008s0014t01_registered_BF.nii.gz\n",
      "211 /data/NATIVE/c0008/c0008s0015t01/c0008s0015t01_registered_BF.nii.gz\n",
      "212 /data/NATIVE/c0008/c0008s0016t01/c0008s0016t01_registered_BF.nii.gz\n",
      "213 /data/NATIVE/c0008/c0008s0017t01/c0008s0017t01_registered_BF.nii.gz\n",
      "214 /data/NATIVE/c0008/c0008s0018t01/c0008s0018t01_registered_BF.nii.gz\n",
      "215 /data/NATIVE/c0008/c0008s0019t01/c0008s0019t01_registered_BF.nii.gz\n",
      "216 /data/NATIVE/c0008/c0008s0020t01/c0008s0020t01_registered_BF.nii.gz\n",
      "217 /data/NATIVE/c0008/c0008s0021t01/c0008s0021t01_registered_BF.nii.gz\n",
      "218 /data/NATIVE/c0008/c0008s0022t01/c0008s0022t01_registered_BF.nii.gz\n",
      "219 /data/NATIVE/c0008/c0008s0023t01/c0008s0023t01_registered_BF.nii.gz\n",
      "220 /data/NATIVE/c0008/c0008s0024t01/c0008s0024t01_registered_BF.nii.gz\n",
      "221 /data/NATIVE/c0008/c0008s0025t01/c0008s0025t01_registered_BF.nii.gz\n",
      "222 /data/NATIVE/c0008/c0008s0026t01/c0008s0026t01_registered_BF.nii.gz\n",
      "223 /data/NATIVE/c0008/c0008s0027t01/c0008s0027t01_registered_BF.nii.gz\n",
      "224 /data/NATIVE/c0008/c0008s0028t01/c0008s0028t01_registered_BF.nii.gz\n",
      "225 /data/NATIVE/c0008/c0008s0029t01/c0008s0029t01_registered_BF.nii.gz\n",
      "226 /data/NATIVE/c0008/c0008s0030t01/c0008s0030t01_registered_BF.nii.gz\n",
      "227 /data/NATIVE/c0008/c0008s0031t01/c0008s0031t01_registered_BF.nii.gz\n",
      "228 /data/NATIVE/c0008/c0008s0032t01/c0008s0032t01_registered_BF.nii.gz\n",
      "229 /data/NATIVE/c0008/c0008s0033t01/c0008s0033t01_registered_BF.nii.gz\n",
      "230 /data/NATIVE/c0009/c0009s0001t01/c0009s0001t01_registered_BF.nii.gz\n",
      "231 /data/NATIVE/c0009/c0009s0002t01/c0009s0002t01_registered_BF.nii.gz\n",
      "232 /data/NATIVE/c0009/c0009s0003t01/c0009s0003t01_registered_BF.nii.gz\n",
      "233 /data/NATIVE/c0009/c0009s0004t01/c0009s0004t01_registered_BF.nii.gz\n",
      "234 /data/NATIVE/c0009/c0009s0005t01/c0009s0005t01_registered_BF.nii.gz\n",
      "235 /data/NATIVE/c0009/c0009s0006t01/c0009s0006t01_registered_BF.nii.gz\n",
      "236 /data/NATIVE/c0009/c0009s0007t01/c0009s0007t01_registered_BF.nii.gz\n",
      "237 /data/NATIVE/c0009/c0009s0008t01/c0009s0008t01_registered_BF.nii.gz\n",
      "238 /data/NATIVE/c0009/c0009s0009t01/c0009s0009t01_registered_BF.nii.gz\n",
      "239 /data/NATIVE/c0009/c0009s0010t01/c0009s0010t01_registered_BF.nii.gz\n",
      "240 /data/NATIVE/c0009/c0009s0011t01/c0009s0011t01_registered_BF.nii.gz\n",
      "241 /data/NATIVE/c0009/c0009s0012t01/c0009s0012t01_registered_BF.nii.gz\n",
      "242 /data/NATIVE/c0010/c0010s0001t01/c0010s0001t01_registered_BF.nii.gz\n",
      "243 /data/NATIVE/c0010/c0010s0002t01/c0010s0002t01_registered_BF.nii.gz\n",
      "244 /data/NATIVE/c0010/c0010s0003t01/c0010s0003t01_registered_BF.nii.gz\n",
      "245 /data/NATIVE/c0010/c0010s0004t01/c0010s0004t01_registered_BF.nii.gz\n",
      "246 /data/NATIVE/c0010/c0010s0005t01/c0010s0005t01_registered_BF.nii.gz\n",
      "247 /data/NATIVE/c0010/c0010s0006t01/c0010s0006t01_registered_BF.nii.gz\n",
      "248 /data/NATIVE/c0010/c0010s0007t01/c0010s0007t01_registered_BF.nii.gz\n",
      "249 /data/NATIVE/c0010/c0010s0008t01/c0010s0008t01_registered_BF.nii.gz\n",
      "250 /data/NATIVE/c0010/c0010s0009t01/c0010s0009t01_registered_BF.nii.gz\n",
      "251 /data/NATIVE/c0010/c0010s0010t01/c0010s0010t01_registered_BF.nii.gz\n",
      "252 /data/NATIVE/c0010/c0010s0011t01/c0010s0011t01_registered_BF.nii.gz\n",
      "253 /data/NATIVE/c0010/c0010s0013t01/c0010s0013t01_registered_BF.nii.gz\n",
      "254 /data/NATIVE/c0010/c0010s0014t01/c0010s0014t01_registered_BF.nii.gz\n",
      "255 /data/NATIVE/c0010/c0010s0015t01/c0010s0015t01_registered_BF.nii.gz\n",
      "256 /data/NATIVE/c0010/c0010s0016t01/c0010s0016t01_registered_BF.nii.gz\n",
      "257 /data/NATIVE/c0010/c0010s0018t01/c0010s0018t01_registered_BF.nii.gz\n",
      "258 /data/NATIVE/c0010/c0010s0020t01/c0010s0020t01_registered_BF.nii.gz\n",
      "259 /data/NATIVE/c0010/c0010s0021t01/c0010s0021t01_registered_BF.nii.gz\n",
      "260 /data/NATIVE/c0010/c0010s0022t01/c0010s0022t01_registered_BF.nii.gz\n",
      "261 /data/NATIVE/c0010/c0010s0024t01/c0010s0024t01_registered_BF.nii.gz\n",
      "262 /data/NATIVE/c0010/c0010s0025t01/c0010s0025t01_registered_BF.nii.gz\n",
      "263 /data/NATIVE/c0010/c0010s0028t01/c0010s0028t01_registered_BF.nii.gz\n",
      "264 /data/NATIVE/c0010/c0010s0029t01/c0010s0029t01_registered_BF.nii.gz\n",
      "265 /data/NATIVE/c0010/c0010s0030t01/c0010s0030t01_registered_BF.nii.gz\n",
      "266 /data/NATIVE/c0010/c0010s0031t01/c0010s0031t01_registered_BF.nii.gz\n",
      "267 /data/NATIVE/c0010/c0010s0032t01/c0010s0032t01_registered_BF.nii.gz\n",
      "268 /data/NATIVE/c0010/c0010s0034t01/c0010s0034t01_registered_BF.nii.gz\n",
      "269 /data/NATIVE/c0010/c0010s0037t01/c0010s0037t01_registered_BF.nii.gz\n",
      "270 /data/NATIVE/c0010/c0010s0038t01/c0010s0038t01_registered_BF.nii.gz\n",
      "271 /data/NATIVE/c0010/c0010s0040t01/c0010s0040t01_registered_BF.nii.gz\n",
      "272 /data/NATIVE/c0010/c0010s0041t01/c0010s0041t01_registered_BF.nii.gz\n",
      "273 /data/NATIVE/c0010/c0010s0042t01/c0010s0042t01_registered_BF.nii.gz\n",
      "274 /data/NATIVE/c0010/c0010s0043t01/c0010s0043t01_registered_BF.nii.gz\n",
      "275 /data/NATIVE/c0010/c0010s0044t01/c0010s0044t01_registered_BF.nii.gz\n",
      "276 /data/NATIVE/c0010/c0010s0046t01/c0010s0046t01_registered_BF.nii.gz\n",
      "277 /data/NATIVE/c0011/c0011s0001t01/c0011s0001t01_registered_BF.nii.gz\n",
      "278 /data/NATIVE/c0011/c0011s0002t01/c0011s0002t01_registered_BF.nii.gz\n",
      "279 /data/NATIVE/c0011/c0011s0003t01/c0011s0003t01_registered_BF.nii.gz\n",
      "280 /data/NATIVE/c0011/c0011s0004t01/c0011s0004t01_registered_BF.nii.gz\n",
      "281 /data/NATIVE/c0011/c0011s0005t01/c0011s0005t01_registered_BF.nii.gz\n",
      "282 /data/NATIVE/c0011/c0011s0006t01/c0011s0006t01_registered_BF.nii.gz\n",
      "283 /data/NATIVE/c0011/c0011s0007t01/c0011s0007t01_registered_BF.nii.gz\n",
      "284 /data/NATIVE/c0011/c0011s0008t01/c0011s0008t01_registered_BF.nii.gz\n",
      "285 /data/NATIVE/c0011/c0011s0009t01/c0011s0009t01_registered_BF.nii.gz\n",
      "286 /data/NATIVE/c0011/c0011s0010t01/c0011s0010t01_registered_BF.nii.gz\n",
      "287 /data/NATIVE/c0011/c0011s0011t01/c0011s0011t01_registered_BF.nii.gz\n",
      "288 /data/NATIVE/c0011/c0011s0012t01/c0011s0012t01_registered_BF.nii.gz\n",
      "289 /data/NATIVE/c0011/c0011s0013t01/c0011s0013t01_registered_BF.nii.gz\n",
      "290 /data/NATIVE/c0011/c0011s0014t01/c0011s0014t01_registered_BF.nii.gz\n",
      "291 /data/NATIVE/c0011/c0011s0015t01/c0011s0015t01_registered_BF.nii.gz\n"
     ]
    }
   ],
   "source": [
    "for i,(xpath, ypath) in enumerate(zip(xpaths, ypaths)):\n",
    "  folder = xpath[:-20]\n",
    "  file_name = xpath[:-7][-13:]\n",
    "  x_out_path = folder + file_name + '_BF.nii.gz'\n",
    "\n",
    "  x3d = load_img_sitk(xpath)\n",
    "  x3d_bf_corrected = bias_field_correction(x3d)\n",
    "\n",
    "  sitk.WriteImage(x3d_bf_corrected, x_out_path)\n",
    "\n",
    "  print(i, x_out_path)\n",
    "\n",
    "  #if i == 0 : break\n",
    "\n"
   ]
  },
  {
   "cell_type": "markdown",
   "metadata": {
    "id": "f-m0hqWbFmyb"
   },
   "source": [
    "## Prepare training data"
   ]
  },
  {
   "cell_type": "code",
   "execution_count": 1,
   "metadata": {
    "id": "nn2SgDqQXTLr"
   },
   "outputs": [
    {
     "ename": "NameError",
     "evalue": "name 'glob' is not defined",
     "output_type": "error",
     "traceback": [
      "\u001b[0;31m---------------------------------------------------------------------------\u001b[0m",
      "\u001b[0;31mNameError\u001b[0m                                 Traceback (most recent call last)",
      "Input \u001b[0;32mIn [1]\u001b[0m, in \u001b[0;36m<module>\u001b[0;34m\u001b[0m\n\u001b[0;32m----> 1\u001b[0m xpaths \u001b[38;5;241m=\u001b[39m \u001b[38;5;28msorted\u001b[39m(\u001b[43mglob\u001b[49m(\u001b[38;5;124mf\u001b[39m\u001b[38;5;124m'\u001b[39m\u001b[38;5;124m/data/NATIVE/*/*/*01_registered_BF.nii.gz\u001b[39m\u001b[38;5;124m'\u001b[39m) )\n\u001b[1;32m      2\u001b[0m ypaths \u001b[38;5;241m=\u001b[39m \u001b[38;5;28msorted\u001b[39m(glob(\u001b[38;5;124mf\u001b[39m\u001b[38;5;124m'\u001b[39m\u001b[38;5;124m/data/NATIVE/*/*/*01_LesionSmooth_registered.nii.gz\u001b[39m\u001b[38;5;124m'\u001b[39m))\n\u001b[1;32m      3\u001b[0m \u001b[38;5;28;01massert\u001b[39;00m \u001b[38;5;28mlen\u001b[39m(xpaths) \u001b[38;5;241m==\u001b[39m \u001b[38;5;28mlen\u001b[39m(ypaths)\n",
      "\u001b[0;31mNameError\u001b[0m: name 'glob' is not defined"
     ]
    }
   ],
   "source": [
    "xpaths = sorted(glob(f'/data/NATIVE/*/*/*01_registered_BF.nii.gz') )\n",
    "ypaths = sorted(glob(f'/data/NATIVE/*/*/*01_LesionSmooth_registered.nii.gz'))\n",
    "assert len(xpaths) == len(ypaths)"
   ]
  },
  {
   "cell_type": "code",
   "execution_count": 2,
   "metadata": {
    "id": "SBlYCZJEXVir"
   },
   "outputs": [
    {
     "ename": "NameError",
     "evalue": "name 'xpaths' is not defined",
     "output_type": "error",
     "traceback": [
      "\u001b[0;31m---------------------------------------------------------------------------\u001b[0m",
      "\u001b[0;31mNameError\u001b[0m                                 Traceback (most recent call last)",
      "Input \u001b[0;32mIn [2]\u001b[0m, in \u001b[0;36m<module>\u001b[0;34m\u001b[0m\n\u001b[0;32m----> 1\u001b[0m \u001b[38;5;28mprint\u001b[39m(\u001b[38;5;124m\"\u001b[39m\u001b[38;5;124mNumber of samples:\u001b[39m\u001b[38;5;124m\"\u001b[39m, \u001b[38;5;28mlen\u001b[39m(\u001b[43mxpaths\u001b[49m))\n\u001b[1;32m      2\u001b[0m \u001b[38;5;28;01mfor\u001b[39;00m input_path, target_path \u001b[38;5;129;01min\u001b[39;00m \u001b[38;5;28mzip\u001b[39m(xpaths, ypaths):\n\u001b[1;32m      3\u001b[0m     \u001b[38;5;28mprint\u001b[39m(input_path[\u001b[38;5;241m-\u001b[39m\u001b[38;5;241m35\u001b[39m:], \u001b[38;5;124m\"\u001b[39m\u001b[38;5;124m|\u001b[39m\u001b[38;5;124m\"\u001b[39m, target_path[\u001b[38;5;241m-\u001b[39m\u001b[38;5;241m48\u001b[39m:])\n",
      "\u001b[0;31mNameError\u001b[0m: name 'xpaths' is not defined"
     ]
    }
   ],
   "source": [
    "print(\"Number of samples:\", len(xpaths))\n",
    "for input_path, target_path in zip(xpaths, ypaths):\n",
    "    print(input_path[-35:], \"|\", target_path[-48:])"
   ]
  },
  {
   "cell_type": "code",
   "execution_count": null,
   "metadata": {
    "id": "8uEzKrrwFpHg"
   },
   "outputs": [],
   "source": [
    "# load mni152 brain mask\n",
    "TEMPLATE_BRAIN_MASK_PATH = '/content/drive/MyDrive/integradora_fiec/datasets/templates/mni_icbm152_t1_tal_nlin_sym_09a_mask.nii'\n",
    "mni152_brain_mask = sitk.ReadImage(TEMPLATE_BRAIN_MASK_PATH, sitk.sitkFloat32)\n",
    "mni152_T1 = sitk.ReadImage(TEMPLATE_PATH, sitk.sitkFloat32)\n"
   ]
  },
  {
   "cell_type": "code",
   "execution_count": null,
   "metadata": {
    "id": "-RiCu-67XB7V"
   },
   "outputs": [],
   "source": [
    "import numpy as np\n",
    "def preprocess_ximg(ximg: sitk.Image, flipped = False) -> np.ndarray:\n",
    "  x3d = sitk.HistogramMatching(ximg, mni152_T1)\n",
    "  x3d = sitk.Multiply(x3d, mni152_brain_mask) # mask brain\n",
    "  x3d = sitk.CurvatureAnisotropicDiffusion(x3d, conductanceParameter=1, numberOfIterations=1) # denoise a bit\n",
    "  \n",
    "  if flipped:\n",
    "    x3d = sitk.Flip(x3d,(True, False, False))\n",
    "  \n",
    "  x3d = sitk.GetArrayFromImage(x3d)\n",
    "  x3d = x3d[30:160,4:228,14:190] # crop to size -> (130, 224, 176)\n",
    "  x3d = x3d / 255.0\n",
    "  x3d = np.expand_dims(x3d,3) # add channel -> (130, 224, 176, 1)\n",
    "  assert x3d.shape == (130,224,176,1)\n",
    "  return x3d\n",
    "\n",
    "def preprocess_yimg(yimg: sitk.Image, flipped=False) -> np.ndarray:\n",
    "  y3d = yimg\n",
    "\n",
    "  if flipped:\n",
    "    y3d = sitk.Flip(y3d,(True, False, False))\n",
    "  \n",
    "  y3d = sitk.GetArrayFromImage(y3d)\n",
    "  y3d = y3d[30:160,4:228,14:190] # crop to size -> (130, 224, 176)\n",
    "  y3d = y3d / 255.0\n",
    "  y3d = np.expand_dims(y3d,3) # add channel -> (130, 224, 176, 1)\n",
    "  assert x3d.shape == (130,224,176,1)\n",
    "  return y3d\n"
   ]
  },
  {
   "cell_type": "code",
   "execution_count": null,
   "metadata": {
    "id": "BrCYA5cgXPNr"
   },
   "outputs": [],
   "source": [
    "ROW_SIZE = 224 # shapes of model inpput\n",
    "COL_SIZE = 176\n",
    "\n",
    "X = np.empty((0,ROW_SIZE,COL_SIZE,1), dtype=np.float32)\n",
    "Y = np.empty((0,ROW_SIZE,COL_SIZE,1), dtype=np.float32)\n",
    "\n",
    "for i,(xpath, ypath) in enumerate(zip(xpaths, ypaths)):\n",
    "\n",
    "    ximg        =   sitk.ReadImage(xpath, sitk.sitkFloat32)\n",
    "    x3d         =  preprocess_ximg(ximg) \n",
    "    #flipped_x3d =  preprocess_ximg(ximg, flipped=True)\n",
    "\n",
    "    yimg        =   sitk.ReadImage(ypath, sitk.sitkFloat32)\n",
    "    y3d         =  preprocess_yimg(yimg) \n",
    "    #flipped_y3d =  preprocess_yimg(yimg, flipped=True)\n",
    "    \n",
    "    #x3d = np.concatenate((x3d, flipped_x3d), axis=0)\n",
    "    #y3d = np.concatenate((y3d, flipped_y3d), axis=0)\n",
    "\n",
    "    #assert x3d.shape  == (260,224,176, 1)\n",
    "    #assert y3d.shape  == (260,224,176, 1)\n",
    "\n",
    "    X = np.concatenate((X, x3d), axis=0)\n",
    "    Y = np.concatenate((Y, y3d), axis=0)\n",
    "\n",
    "    print('.', end='')"
   ]
  },
  {
   "cell_type": "code",
   "execution_count": null,
   "metadata": {
    "colab": {
     "base_uri": "https://localhost:8080/"
    },
    "executionInfo": {
     "elapsed": 6,
     "status": "ok",
     "timestamp": 1685784751166,
     "user": {
      "displayName": "Alejandro M",
      "userId": "11111187776730726759"
     },
     "user_tz": 300
    },
    "id": "hDweE5HsXc2z",
    "outputId": "81d800b0-a98a-4ef3-f03d-7987932a8b16"
   },
   "outputs": [
    {
     "name": "stdout",
     "output_type": "stream",
     "text": [
      "(37960, 224, 176, 1) (37960, 224, 176, 1)\n"
     ]
    }
   ],
   "source": [
    "print(X.shape, Y.shape)"
   ]
  },
  {
   "cell_type": "code",
   "execution_count": null,
   "metadata": {
    "colab": {
     "base_uri": "https://localhost:8080/"
    },
    "executionInfo": {
     "elapsed": 528,
     "status": "ok",
     "timestamp": 1685756178595,
     "user": {
      "displayName": "Alejandro M",
      "userId": "11111187776730726759"
     },
     "user_tz": 300
    },
    "id": "WmpXKtSKZNQI",
    "outputId": "84bf13af-ce4b-4c26-8a1a-78a66365beac"
   },
   "outputs": [
    {
     "data": {
      "text/plain": [
       "(130, 224, 176)"
      ]
     },
     "execution_count": 33,
     "metadata": {},
     "output_type": "execute_result"
    }
   ],
   "source": [
    "X[:,:,:,0].shape"
   ]
  },
  {
   "cell_type": "markdown",
   "metadata": {
    "id": "ltHhwU2sY0TD"
   },
   "source": [
    "## Double check slices"
   ]
  },
  {
   "cell_type": "code",
   "execution_count": null,
   "metadata": {
    "id": "rCC2IlRXbUpL"
   },
   "outputs": [],
   "source": [
    "import numpy as np\n",
    "import matplotlib.pyplot as plt\n",
    "\n",
    "def get_x2d_marked(x2d,y2d):\n",
    "  dilation_level = 4\n",
    "  m = (y2d).astype('uint8')\n",
    "  m = sitk.GetImageFromArray(m)\n",
    "  m = sitk.BinaryDilate(m,(dilation_level,1,1))\n",
    "  m = sitk.BinaryContour(m)\n",
    "\n",
    "  x2d_marked = sitk.GetImageFromArray(x2d)\n",
    "  x2d_marked = sitk.MaskNegated(x2d_marked, sitk.Cast(m,sitk.sitkFloat32))\n",
    "  x2d_marked = sitk.GetArrayFromImage(x2d_marked)\n",
    "  return x2d_marked\n",
    "\n",
    "def show_slices(slices: list[np.ndarray], cmap: str ='gray'):\n",
    "  \"\"\" \n",
    "  Function to display a list of image slices (2D arrays). Optimal quantity is three slices.\n",
    "  \"\"\"\n",
    "  fig, axes = plt.subplots(len(slices), 1, figsize=(15,15))\n",
    "  for i, slice in enumerate(slices):\n",
    "    axes[i].imshow(slice, cmap=cmap)"
   ]
  },
  {
   "cell_type": "code",
   "execution_count": null,
   "metadata": {
    "colab": {
     "base_uri": "https://localhost:8080/",
     "height": 1000,
     "output_embedded_package_id": "1oNkUp28gQYOa209MtAtN4CTh0VjQuxY5"
    },
    "executionInfo": {
     "elapsed": 7085,
     "status": "ok",
     "timestamp": 1685818919125,
     "user": {
      "displayName": "Alejandro M",
      "userId": "11111187776730726759"
     },
     "user_tz": 300
    },
    "id": "eZaRB9ZobXN2",
    "outputId": "ea37be74-759b-4f90-bd11-58e4813d63cf"
   },
   "outputs": [
    {
     "data": {
      "text/plain": [
       "Output hidden; open in https://colab.research.google.com to view."
      ]
     },
     "metadata": {},
     "output_type": "display_data"
    }
   ],
   "source": [
    "STEPS = 150\n",
    "c=0\n",
    "for i in range(0,len(X),STEPS):\n",
    "  x, y = X[i], Y[i]\n",
    "  if len(np.unique(y)) == 1:\n",
    "    continue\n",
    "  x2d_marked = get_x2d_marked(x[:,:,0],y[:,:,0])\n",
    "  show_slices([x2d_marked,x[:,:,0]])\n",
    "  c+=1\n",
    "  if c==10:\n",
    "    break"
   ]
  },
  {
   "cell_type": "markdown",
   "metadata": {
    "id": "yFrpmprabxsB"
   },
   "source": [
    "## Save training dataset as npy"
   ]
  },
  {
   "cell_type": "code",
   "execution_count": null,
   "metadata": {
    "id": "WAPpbgVZbreV"
   },
   "outputs": [],
   "source": [
    "from numpy import save\n",
    "# contains data processed from 292 native ATLAS imgs trough: register to mni, bias field, histogram matching, brain extraction, denoise\n",
    "X_output_path = '/content/drive/MyDrive/integradora_fiec/datasets/paper lesions extended/dataset_clinet_input_processed_ALL_X.npy'\n",
    "Y_output_path = '/content/drive/MyDrive/integradora_fiec/datasets/paper lesions extended/dataset_clinet_input_processed_ALL_Y.npy'\n",
    "\n",
    "\n",
    "save(X_output_path, X)\n",
    "save(Y_output_path, Y)"
   ]
  },
  {
   "cell_type": "markdown",
   "metadata": {
    "id": "jrrVAd_tdnYB"
   },
   "source": [
    "## Load first train set [JUMP HERE IF DATA AVAILABLE]"
   ]
  },
  {
   "cell_type": "code",
   "execution_count": null,
   "metadata": {
    "id": "SkMS-YnjdpD2"
   },
   "outputs": [],
   "source": [
    "from numpy import load\n",
    "X_input_path = '/content/drive/MyDrive/integradora_fiec/datasets/paper lesions extended/dataset_clinet_input_processed_ALL_X.npy'\n",
    "Y_input_path = '/content/drive/MyDrive/integradora_fiec/datasets/paper lesions extended/dataset_clinet_input_processed_ALL_Y.npy'\n",
    "\n",
    "X = load(X_input_path)\n",
    "Y = load(Y_input_path)"
   ]
  },
  {
   "cell_type": "code",
   "execution_count": null,
   "metadata": {
    "colab": {
     "base_uri": "https://localhost:8080/"
    },
    "executionInfo": {
     "elapsed": 297,
     "status": "ok",
     "timestamp": 1685858155919,
     "user": {
      "displayName": "Alejandro M",
      "userId": "11111187776730726759"
     },
     "user_tz": 300
    },
    "id": "iMQcUwCQd6mi",
    "outputId": "352cba88-0dad-4e3c-c4d4-44c410abd9d3"
   },
   "outputs": [
    {
     "name": "stdout",
     "output_type": "stream",
     "text": [
      "(37960, 224, 176, 1) (37960, 224, 176, 1)\n"
     ]
    }
   ],
   "source": [
    "print(X.shape, Y.shape)"
   ]
  },
  {
   "cell_type": "markdown",
   "metadata": {
    "id": "k-Qv1SPrjqCc"
   },
   "source": [
    "## Make flip operation to double dataset size"
   ]
  },
  {
   "cell_type": "code",
   "execution_count": null,
   "metadata": {
    "colab": {
     "base_uri": "https://localhost:8080/"
    },
    "executionInfo": {
     "elapsed": 8537,
     "status": "ok",
     "timestamp": 1685858583956,
     "user": {
      "displayName": "Alejandro M",
      "userId": "11111187776730726759"
     },
     "user_tz": 300
    },
    "id": "089P5Hj3Zt_G",
    "outputId": "0fa05826-8349-455d-83b1-14a127abe66f"
   },
   "outputs": [
    {
     "name": "stdout",
     "output_type": "stream",
     "text": [
      "...................................................................................................................................................................................................................................................................................................."
     ]
    }
   ],
   "source": [
    "import numpy as np\n",
    "\n",
    "ROW_SIZE = 224 # shapes of model inpput\n",
    "COL_SIZE = 176\n",
    "\n",
    "# need to allocate array before hand for efficient usage of memory\n",
    "X_flipped = np.zeros((37960,ROW_SIZE,COL_SIZE,1), dtype=np.float32)\n",
    "Y_flipped = np.zeros((37960,ROW_SIZE,COL_SIZE,1), dtype=np.float32)\n",
    "\n",
    "for i, idx in enumerate(range(0, len(X))):\n",
    "  xtemp = np.flip(X[idx,:,:,0], axis=1)\n",
    "  ytemp = np.flip(Y[idx,:,:,0], axis=1)\n",
    "  \n",
    "  #xtemp = np.expand_dims(xtemp,2) # add channel -> (224, 176, 1)\n",
    "  #ytemp = np.expand_dims(ytemp,2)\n",
    "\n",
    "  X_flipped[idx] = np.expand_dims(xtemp,2) \n",
    "  Y_flipped[idx] = np.expand_dims(ytemp,2) \n",
    "\n",
    "  #if i == 100 : break\n",
    "  if i % 130 == 0:\n",
    "    print('.', end='')"
   ]
  },
  {
   "cell_type": "code",
   "execution_count": null,
   "metadata": {
    "colab": {
     "base_uri": "https://localhost:8080/"
    },
    "executionInfo": {
     "elapsed": 567,
     "status": "ok",
     "timestamp": 1685858590441,
     "user": {
      "displayName": "Alejandro M",
      "userId": "11111187776730726759"
     },
     "user_tz": 300
    },
    "id": "oxo6-9Jdh3LA",
    "outputId": "63c8d734-ff99-4eb6-dd97-a5c3ae3047eb"
   },
   "outputs": [
    {
     "name": "stdout",
     "output_type": "stream",
     "text": [
      "(37960, 224, 176, 1) (37960, 224, 176, 1)\n"
     ]
    }
   ],
   "source": [
    "print(X_flipped.shape, Y_flipped.shape)"
   ]
  },
  {
   "cell_type": "code",
   "execution_count": null,
   "metadata": {
    "id": "hf2M5rq97U0l"
   },
   "outputs": [],
   "source": [
    "from numpy import save\n",
    "# contains data processed from 292 native ATLAS imgs trough: register to mni, bias field, histogram matching, brain extraction, denoise\n",
    "X_output_path = '/content/drive/MyDrive/integradora_fiec/datasets/paper lesions extended/dataset_clinet_input_processed_ALL_FLIPPED_X.npy'\n",
    "Y_output_path = '/content/drive/MyDrive/integradora_fiec/datasets/paper lesions extended/dataset_clinet_input_processed_ALL_FLIPPED_Y.npy'\n",
    "\n",
    "save(X_output_path, X_flipped)\n",
    "save(Y_output_path, Y_flipped)"
   ]
  },
  {
   "cell_type": "markdown",
   "metadata": {
    "id": "uHlPaC-Sah1d"
   },
   "source": [
    "## Double check slices flipped"
   ]
  },
  {
   "cell_type": "code",
   "execution_count": null,
   "metadata": {
    "id": "9GVA03xgiHUA"
   },
   "outputs": [],
   "source": [
    "import numpy as np\n",
    "import matplotlib.pyplot as plt\n",
    "import SimpleITK as sitk\n",
    "def get_x2d_marked(x2d,y2d):\n",
    "  dilation_level = 4\n",
    "  m = (y2d).astype('uint8')\n",
    "  m = sitk.GetImageFromArray(m)\n",
    "  m = sitk.BinaryDilate(m,(dilation_level,1,1))\n",
    "  m = sitk.BinaryContour(m)\n",
    "\n",
    "  x2d_marked = sitk.GetImageFromArray(x2d)\n",
    "  x2d_marked = sitk.MaskNegated(x2d_marked, sitk.Cast(m,sitk.sitkFloat32))\n",
    "  x2d_marked = sitk.GetArrayFromImage(x2d_marked)\n",
    "  return x2d_marked\n",
    "\n",
    "def show_slices(slices: list[np.ndarray], cmap: str ='gray'):\n",
    "  \"\"\" \n",
    "  Function to display a list of image slices (2D arrays). Optimal quantity is three slices.\n",
    "  \"\"\"\n",
    "  fig, axes = plt.subplots(len(slices), 1, figsize=(15,15))\n",
    "  for i, slice in enumerate(slices):\n",
    "    axes[i].imshow(slice, cmap=cmap)"
   ]
  },
  {
   "cell_type": "code",
   "execution_count": null,
   "metadata": {
    "colab": {
     "base_uri": "https://localhost:8080/",
     "height": 1000,
     "output_embedded_package_id": "1tvbIQiHfkUcf_R6AduevVXJMpASIfpyE"
    },
    "executionInfo": {
     "elapsed": 8072,
     "status": "ok",
     "timestamp": 1685858606347,
     "user": {
      "displayName": "Alejandro M",
      "userId": "11111187776730726759"
     },
     "user_tz": 300
    },
    "id": "sCI5DShkiDbT",
    "outputId": "92967fc5-5523-4262-955a-e46f8a6fe5b2"
   },
   "outputs": [
    {
     "data": {
      "text/plain": [
       "Output hidden; open in https://colab.research.google.com to view."
      ]
     },
     "metadata": {},
     "output_type": "display_data"
    }
   ],
   "source": [
    "STEPS = 150\n",
    "c=0\n",
    "for i in range(0,len(X_flipped),STEPS):\n",
    "  x, y = X_flipped[i], Y_flipped[i]\n",
    "  if len(np.unique(y)) == 1:\n",
    "    continue\n",
    "  x2d_marked = get_x2d_marked(x[:,:,0],y[:,:,0])\n",
    "  show_slices([x2d_marked,x[:,:,0]])\n",
    "  c+=1\n",
    "  if c==10:\n",
    "    break"
   ]
  },
  {
   "cell_type": "markdown",
   "metadata": {
    "id": "9mH4tH3fAiMW"
   },
   "source": [
    "## Join normal and flipped "
   ]
  },
  {
   "cell_type": "code",
   "execution_count": null,
   "metadata": {
    "id": "WThfKwR4Ak8k"
   },
   "outputs": [],
   "source": [
    "import numpy as np\n",
    "\n",
    "ROW_SIZE = 224 # shapes of model inpput\n",
    "COL_SIZE = 176\n",
    "\n",
    "# need to allocate array before hand for efficient usage of memory\n",
    "X_doubled = np.zeros((37960*2,ROW_SIZE,COL_SIZE,1), dtype=np.float32)\n",
    "Y_doubled = np.zeros((37960*2,ROW_SIZE,COL_SIZE,1), dtype=np.float32)"
   ]
  },
  {
   "cell_type": "code",
   "execution_count": null,
   "metadata": {
    "colab": {
     "base_uri": "https://localhost:8080/"
    },
    "executionInfo": {
     "elapsed": 5,
     "status": "ok",
     "timestamp": 1685858933629,
     "user": {
      "displayName": "Alejandro M",
      "userId": "11111187776730726759"
     },
     "user_tz": 300
    },
    "id": "1rWfhoI4BdP5",
    "outputId": "bcb27911-7392-45d9-b9bc-6d8e5d06dfb0"
   },
   "outputs": [
    {
     "name": "stdout",
     "output_type": "stream",
     "text": [
      "(75920, 224, 176, 1) (75920, 224, 176, 1)\n"
     ]
    }
   ],
   "source": [
    "print(X_doubled.shape, Y_doubled.shape)"
   ]
  },
  {
   "cell_type": "code",
   "execution_count": null,
   "metadata": {
    "id": "W4Jwc0owA4Bm"
   },
   "outputs": [],
   "source": [
    "X_doubled[0:37960] = X\n",
    "Y_doubled[0:37960] = Y\n",
    "\n",
    "X_doubled[37960:37960*2] = X_flipped\n",
    "Y_doubled[37960:37960*2] = Y_flipped\n"
   ]
  },
  {
   "cell_type": "code",
   "execution_count": null,
   "metadata": {
    "colab": {
     "base_uri": "https://localhost:8080/"
    },
    "executionInfo": {
     "elapsed": 552,
     "status": "ok",
     "timestamp": 1685859063899,
     "user": {
      "displayName": "Alejandro M",
      "userId": "11111187776730726759"
     },
     "user_tz": 300
    },
    "id": "O7L0Q5yMB8wn",
    "outputId": "12f32d57-1d99-43c3-aea7-0ee379c0e522"
   },
   "outputs": [
    {
     "name": "stdout",
     "output_type": "stream",
     "text": [
      "(75920, 224, 176, 1) (75920, 224, 176, 1)\n"
     ]
    }
   ],
   "source": [
    "print(X_doubled.shape, Y_doubled.shape)"
   ]
  },
  {
   "cell_type": "code",
   "execution_count": null,
   "metadata": {
    "id": "DBezQ4AKDSeE"
   },
   "outputs": [],
   "source": [
    "X_output_path = '/content/drive/MyDrive/integradora_fiec/datasets/paper lesions extended/dataset_clinet_input_processed_ALL_DOUBLED_X.npy'\n",
    "Y_output_path = '/content/drive/MyDrive/integradora_fiec/datasets/paper lesions extended/dataset_clinet_input_processed_ALL_DOUBLED_Y.npy'\n",
    "\n",
    "save(X_output_path, X_doubled)\n",
    "save(Y_output_path, Y_doubled)"
   ]
  },
  {
   "cell_type": "markdown",
   "metadata": {
    "id": "Bknw1StmCDhY"
   },
   "source": [
    "## Double check doubled"
   ]
  },
  {
   "cell_type": "code",
   "execution_count": null,
   "metadata": {
    "colab": {
     "base_uri": "https://localhost:8080/",
     "height": 1000,
     "output_embedded_package_id": "1zQBUWvqf9fTas7VqhLufU2SCjie27txE"
    },
    "executionInfo": {
     "elapsed": 8084,
     "status": "ok",
     "timestamp": 1685859389767,
     "user": {
      "displayName": "Alejandro M",
      "userId": "11111187776730726759"
     },
     "user_tz": 300
    },
    "id": "O_zuqb62CGlD",
    "outputId": "7f04a2a6-343f-43cf-c3aa-6a2b9b2d9497"
   },
   "outputs": [
    {
     "data": {
      "text/plain": [
       "Output hidden; open in https://colab.research.google.com to view."
      ]
     },
     "metadata": {},
     "output_type": "display_data"
    }
   ],
   "source": [
    "STEPS = 2438\n",
    "c=0\n",
    "for i in range(0,len(X_doubled),STEPS):\n",
    "  x, y = X_doubled[i], Y_doubled[i]\n",
    "  if len(np.unique(y)) == 1:\n",
    "    continue\n",
    "  x2d_marked = get_x2d_marked(x[:,:,0],y[:,:,0])\n",
    "  show_slices([x2d_marked,x[:,:,0]])\n",
    "  c+=1\n",
    "  if c==10:\n",
    "    break"
   ]
  },
  {
   "cell_type": "code",
   "execution_count": null,
   "metadata": {
    "id": "SPwcbTreDQqk"
   },
   "outputs": [],
   "source": []
  }
 ],
 "metadata": {
  "accelerator": "GPU",
  "colab": {
   "collapsed_sections": [
    "4B0BhRTnxlxj",
    "9nUkyINb3zCR",
    "x3nnbYgj4qnZ",
    "Bknw1StmCDhY"
   ],
   "gpuType": "A100",
   "machine_shape": "hm",
   "provenance": []
  },
  "kernelspec": {
   "display_name": "Python 3 (ipykernel)",
   "language": "python",
   "name": "python3"
  },
  "language_info": {
   "codemirror_mode": {
    "name": "ipython",
    "version": 3
   },
   "file_extension": ".py",
   "mimetype": "text/x-python",
   "name": "python",
   "nbconvert_exporter": "python",
   "pygments_lexer": "ipython3",
   "version": "3.8.10"
  }
 },
 "nbformat": 4,
 "nbformat_minor": 4
}
