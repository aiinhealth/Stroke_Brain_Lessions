{
 "cells": [
  {
   "cell_type": "code",
   "execution_count": 1,
   "metadata": {},
   "outputs": [
    {
     "name": "stdout",
     "output_type": "stream",
     "text": [
      "              total        used        free      shared  buff/cache   available\n",
      "Mem:          1.0Ti        47Gi        93Gi       129Mi       866Gi       955Gi\n",
      "Swap:            0B          0B          0B\n",
      "Wed Jun 28 02:05:32 2023       \n",
      "+-----------------------------------------------------------------------------+\n",
      "| NVIDIA-SMI 515.105.01   Driver Version: 515.105.01   CUDA Version: 11.7     |\n",
      "|-------------------------------+----------------------+----------------------+\n",
      "| GPU  Name        Persistence-M| Bus-Id        Disp.A | Volatile Uncorr. ECC |\n",
      "| Fan  Temp  Perf  Pwr:Usage/Cap|         Memory-Usage | GPU-Util  Compute M. |\n",
      "|                               |                      |               MIG M. |\n",
      "|===============================+======================+======================|\n",
      "|   0  NVIDIA A100-SXM...  On   | 00000000:47:00.0 Off |                    0 |\n",
      "| N/A   32C    P0    57W / 400W |      0MiB / 40960MiB |      0%      Default |\n",
      "|                               |                      |             Disabled |\n",
      "+-------------------------------+----------------------+----------------------+\n",
      "|   1  NVIDIA A100-SXM...  On   | 00000000:4E:00.0 Off |                    0 |\n",
      "| N/A   30C    P0    52W / 400W |      0MiB / 40960MiB |      0%      Default |\n",
      "|                               |                      |             Disabled |\n",
      "+-------------------------------+----------------------+----------------------+\n",
      "|   2  NVIDIA A100-SXM...  On   | 00000000:87:00.0 Off |                    0 |\n",
      "| N/A   45C    P0    60W / 400W |      0MiB / 40960MiB |      0%      Default |\n",
      "|                               |                      |             Disabled |\n",
      "+-------------------------------+----------------------+----------------------+\n",
      "|   3  NVIDIA A100-SXM...  On   | 00000000:90:00.0 Off |                    0 |\n",
      "| N/A   40C    P0    57W / 400W |      0MiB / 40960MiB |      0%      Default |\n",
      "|                               |                      |             Disabled |\n",
      "+-------------------------------+----------------------+----------------------+\n",
      "                                                                               \n",
      "+-----------------------------------------------------------------------------+\n",
      "| Processes:                                                                  |\n",
      "|  GPU   GI   CI        PID   Type   Process name                  GPU Memory |\n",
      "|        ID   ID                                                   Usage      |\n",
      "|=============================================================================|\n",
      "|  No running processes found                                                 |\n",
      "+-----------------------------------------------------------------------------+\n"
     ]
    }
   ],
   "source": [
    "# import cv2\n",
    "!free -h\n",
    "!nvidia-smi"
   ]
  },
  {
   "cell_type": "code",
   "execution_count": 3,
   "metadata": {},
   "outputs": [
    {
     "name": "stdout",
     "output_type": "stream",
     "text": [
      "AntsPy version = 0.3.8\n",
      "SimpleITK version = 2.2.0\n"
     ]
    }
   ],
   "source": [
    "%matplotlib inline\n",
    "import os\n",
    "import ants\n",
    "import SimpleITK as sitk\n",
    "import tensorflow as tf\n",
    "from clci_net import CLCI_Net\n",
    "from keras.optimizers import Adam\n",
    "import keras.backend as K\n",
    "from helpers import *\n",
    "\n",
    "print(f'AntsPy version = {ants.__version__}')\n",
    "print(f'SimpleITK version = {sitk.__version__}')"
   ]
  },
  {
   "cell_type": "markdown",
   "metadata": {
    "id": "72dpJ0IDGJ-U"
   },
   "source": [
    "## Lacunar and MCA IDS"
   ]
  },
  {
   "cell_type": "code",
   "execution_count": 4,
   "metadata": {
    "id": "RmZO7dexGMSB",
    "jupyter": {
     "source_hidden": true
    }
   },
   "outputs": [],
   "source": [
    "LACUNAR_IDS = [\n",
    "  'c0001s0004t01',\n",
    "  'c0001s0005t01',\n",
    "  'c0002s0001t01',\n",
    "  'c0002s0002t01',\n",
    "  'c0002s0003t01',\n",
    "  'c0002s0004t01',\n",
    "  'c0002s0005t01',\n",
    "  'c0002s0008t01',\n",
    "  'c0002s0014t01',\n",
    "  'c0002s0022t01',\n",
    "  'c0002s0024t01',#\n",
    "  'c0003s0001t01',\n",
    "  'c0003s0002t01',\n",
    "  'c0003s0003t01',\n",
    "  'c0003s0004t01',\n",
    "  'c0003s0005t01',\n",
    "  'c0003s0006t01',\n",
    "  'c0003s0007t01',\n",
    "  'c0003s0008t01',\n",
    "  'c0003s0009t01',\n",
    "  'c0003s0010t01',\n",
    "  'c0003s0011t01',\n",
    "  'c0003s0012t01',\n",
    "  'c0003s0013t01',\n",
    "  'c0003s0014t01',\n",
    "  'c0003s0015t01',\n",
    "  'c0003s0016t01',\n",
    "  'c0003s0017t01',\n",
    "  'c0003s0018t01',\n",
    "  'c0003s0019t01',\n",
    "  'c0003s0020t01',\n",
    "  'c0003s0021t01',\n",
    "  'c0003s0022t01',\n",
    "  'c0003s0023t01',\n",
    "  'c0003s0024t01',\n",
    "  'c0003s0025t01',\n",
    "  'c0003s0026t01',\n",
    "  'c0003s0027t01',\n",
    "  'c0003s0028t01',\n",
    "  'c0003s0029t01',\n",
    "  'c0003s0031t01',\n",
    "  'c0003s0032t01',\n",
    "  'c0003s0033t01',\n",
    "  'c0003s0034t01',\n",
    "  'c0003s0035t01',\n",
    "  'c0003s0036t01',\n",
    "  'c0003s0037t01',\n",
    "  'c0003s0038t01',\n",
    "  'c0003s0039t01',\n",
    "  'c0003s0040t01',\n",
    "  'c0003s0041t01',\n",
    "  'c0003s0042t01',\n",
    "  'c0003s0043t01',\n",
    "  'c0003s0044t01',\n",
    "  'c0003s0045t01',\n",
    "  'c0003s0048t01',\n",
    "  'c0003s0049t01',\n",
    "  'c0003s0050t01',\n",
    "  'c0003s0051t01',\n",
    "  'c0003s0052t01',\n",
    "  'c0003s0053t01',\n",
    "  'c0003s0054t01',\n",
    "  'c0003s0055t01',\n",
    "  'c0003s0056t01',\n",
    "  'c0004s0003t01',\n",
    "  'c0004s0005t01',\n",
    "  'c0004s0007t01',\n",
    "  'c0004s0012t01',\n",
    "  'c0004s0014t01',\n",
    "  'c0004s0015t01',\n",
    "  'c0004s0016t01',\n",
    "  'c0004s0018t01',\n",
    "  'c0004s0021t01',\n",
    "  'c0004s0022t01',\n",
    "  'c0004s0024t01',\n",
    "  'c0004s0025t01',\n",
    "  'c0004s0026t01',\n",
    "  'c0004s0027t01',\n",
    "  'c0004s0029t01',\n",
    "  'c0004s0030t01',\n",
    "  'c0004s0032t01',\n",
    "  'c0004s0034t01',\n",
    "  'c0005s0006t01',\n",
    "  'c0005s0008t01',\n",
    "  'c0005s0010t01',\n",
    "  'c0005s0014t01',\n",
    "  'c0005s0018t01',\n",
    "  'c0005s0026t01',\n",
    "  'c0005s0027t01',\n",
    "  'c0005s0029t01',\n",
    "  'c0005s0035t01',\n",
    "  'c0005s0042t01',\n",
    "  'c0005s0043t01',\n",
    "  'c0005s0044t01',\n",
    "  'c0005s0049t01',\n",
    "  'c0006s0001t01',\n",
    "  'c0006s0004t01',\n",
    "  'c0006s0005t01',\n",
    "  'c0006s0010t01',\n",
    "  'c0006s0014t01',\n",
    "  'c0006s0019t01',\n",
    "  'c0006s0020t01',\n",
    "  'c0007s0004t01',\n",
    "  'c0007s0008t01',\n",
    "  'c0007s0010t01',\n",
    "  'c0007s0012t01',\n",
    "  'c0007s0013t01',\n",
    "  'c0007s0014t01',\n",
    "  'c0007s0015t01',\n",
    "  'c0007s0016t01',\n",
    "  'c0007s0017t01',\n",
    "  'c0007s0020t01',\n",
    "  'c0007s0024t01',\n",
    "  'c0007s0025t01',\n",
    "  'c0007s0026t01',\n",
    "  'c0007s0028t01',\n",
    "  'c0007s0030t01',\n",
    "  'c0007s0031t01',\n",
    "  'c0007s0035t01',\n",
    "  'c0007s0036t01',\n",
    "  'c0008s0002t01',\n",
    "  'c0008s0013t01',\n",
    "  'c0008s0032t01',\n",
    "  'c0009s0001t01',\n",
    "  'c0009s0003t01',\n",
    "  'c0009s0004t01',\n",
    "  'c0010s0002t01',\n",
    "  'c0010s0002t02',\n",
    "  'c0010s0003t01',\n",
    "  'c0010s0003t02',\n",
    "  'c0010s0006t01',\n",
    "  'c0010s0008t01',\n",
    "  'c0010s0013t01',\n",
    "  'c0010s0013t02',\n",
    "  'c0010s0014t01',\n",
    "  'c0010s0025t01',\n",
    "  'c0010s0025t02',\n",
    "  'c0010s0029t01',\n",
    "  'c0010s0031t01',\n",
    "  'c0010s0034t01',\n",
    "  'c0010s0044t01',\n",
    "  'c0010s0044t02',\n",
    "  'c0010s0046t01',\n",
    "  'c0011s0002t01',\n",
    "  'c0011s0006t01',\n",
    "  'c0011s0007t01',\n",
    "  'c0011s0011t01',\n",
    "  'c0011s0014t01',\n",
    "  'c0011s0015t01',\n",
    "]\n",
    "MCA_IDS = [\n",
    "  'c0001s0006t01',\n",
    "  'c0001s0007t01',\n",
    "  'c0001s0008t01',\n",
    "  'c0002s0007t01',\n",
    "  'c0002s0009t01',\n",
    "  'c0002s0011t01',  \n",
    "  'c0002s0012t01',\n",
    "  'c0002s0013t01',\n",
    "  'c0002s0015t01',\n",
    "  'c0002s0018t01',\n",
    "  'c0002s0019t01',\n",
    "  'c0002s0020t01',\n",
    "  'c0002s0021t01',\n",
    "  'c0002s0025t01',  \n",
    "  'c0003s0030t01',#\n",
    "  'c0004s0001t01',\n",
    "  'c0004s0002t01',\n",
    "  'c0004s0009t01',\n",
    "  'c0004s0010t01',\n",
    "  'c0004s0011t01',\n",
    "  'c0004s0013t01',\n",
    "  'c0004s0019t01',\n",
    "  'c0004s0020t01',\n",
    "  'c0004s0031t01',\n",
    "  'c0004s0033t01',\n",
    "  'c0005s0003t01',\n",
    "  'c0005s0007t01',\n",
    "  'c0005s0009t01',\n",
    "  'c0005s0013t01',\n",
    "  'c0005s0017t01',\n",
    "  'c0005s0021t01',\n",
    "  'c0005s0024t01',\n",
    "  'c0005s0030t01',\n",
    "  'c0005s0036t01',\n",
    "  'c0006s0007t01',\n",
    "  'c0006s0008t01',\n",
    "  'c0007s0001t01',\n",
    "  'c0007s0002t01',\n",
    "  'c0007s0003t01',\n",
    "  'c0007s0005t01',\n",
    "  'c0007s0006t01',\n",
    "  'c0007s0007t01',\n",
    "  'c0007s0018t01',\n",
    "  'c0007s0019t01',\n",
    "  'c0007s0021t01',\n",
    "  'c0007s0023t01',\n",
    "  'c0007s0027t01',\n",
    "  'c0007s0029t01',\n",
    "  'c0007s0032t01',\n",
    "  'c0007s0033t01',\n",
    "  'c0007s0034t01',\n",
    "  'c0008s0001t01',\n",
    "  'c0008s0003t01',\n",
    "  'c0008s0006t01',\n",
    "  'c0008s0007t01',\n",
    "  'c0008s0008t01',\n",
    "  'c0008s0009t01',\n",
    "  'c0008s0010t01',\n",
    "  'c0008s0011t01',\n",
    "  'c0008s0012t01',\n",
    "  'c0008s0014t01',\n",
    "  'c0008s0015t01',\n",
    "  'c0008s0016t01',\n",
    "  'c0008s0017t01',\n",
    "  'c0008s0018t01',\n",
    "  'c0008s0019t01',\n",
    "  'c0008s0020t01',\n",
    "  'c0008s0021t01',\n",
    "  'c0008s0022t01',\n",
    "  'c0008s0023t01',\n",
    "  'c0008s0024t01',\n",
    "  'c0008s0025t01',\n",
    "  'c0008s0026t01',\n",
    "  'c0008s0027t01',\n",
    "  'c0008s0028t01',\n",
    "  'c0008s0029t01',\n",
    "  'c0008s0030t01',\n",
    "  'c0008s0031t01',\n",
    "  'c0008s0033t01',\n",
    "  'c0009s0002t01',\n",
    "  'c0009s0005t01',\n",
    "  'c0009s0006t01',\n",
    "  'c0009s0007t01',\n",
    "  'c0009s0008t01',\n",
    "  'c0009s0009t01',\n",
    "  'c0009s0010t01',\n",
    "  'c0009s0011t01',\n",
    "  'c0009s0012t01',\n",
    "  'c0010s0001t01',\n",
    "  'c0010s0004t01',\n",
    "  'c0010s0005t01',\n",
    "  'c0010s0005t02',\n",
    "  'c0010s0007t01',\n",
    "  'c0010s0018t01',\n",
    "  'c0010s0020t01',\n",
    "  'c0010s0020t02',\n",
    "  'c0010s0021t01',\n",
    "  'c0010s0024t01',\n",
    "  'c0010s0032t01',\n",
    "  'c0010s0037t01',\n",
    "  'c0011s0001t01',\n",
    "  'c0011s0003t01',\n",
    "  'c0011s0004t01',\n",
    "  'c0011s0005t01',\n",
    "  'c0011s0008t01',\n",
    "  'c0011s0009t01',\n",
    "  'c0011s0012t01',\n",
    "  'c0011s0013t01'\n",
    "]"
   ]
  },
  {
   "cell_type": "code",
   "execution_count": 5,
   "metadata": {},
   "outputs": [
    {
     "data": {
      "text/plain": [
       "257"
      ]
     },
     "execution_count": 5,
     "metadata": {},
     "output_type": "execute_result"
    }
   ],
   "source": [
    "len(LACUNAR_IDS) + len(MCA_IDS)"
   ]
  },
  {
   "cell_type": "code",
   "execution_count": 6,
   "metadata": {},
   "outputs": [],
   "source": [
    "base_path = '/home/carlos.jimenez/ai-in-health/Stroke-Brain-Lesions'\n",
    "datasets_path = f'{base_path}/datasets/paper lesions extended'\n",
    "models_path = f'{base_path}/modelos/paper lesions extended'\n",
    "mni_T1_path = TEMPLATE_PATH = f'{base_path}/datasets/templates/mni_icbm152_t1_tal_nlin_sym_09a.nii'\n",
    "\n",
    "# strategy = tf.distribute.MirroredStrategy()"
   ]
  },
  {
   "cell_type": "markdown",
   "metadata": {
    "id": "psqW34XgGv_c"
   },
   "source": [
    "## Check images belonging to classes !!"
   ]
  },
  {
   "cell_type": "code",
   "execution_count": 7,
   "metadata": {
    "id": "ayFCf6oyGP30"
   },
   "outputs": [],
   "source": [
    "def id_from_path(path:str) -> str:\n",
    "  \"\"\"\n",
    "    Extracts the ID from the given file path.\n",
    "\n",
    "    Args:\n",
    "        path (str): The file path from which to extract the ID.\n",
    "\n",
    "    Returns:\n",
    "        str: The extracted ID from the file path.\n",
    "    \"\"\"\n",
    "\n",
    "  #may need to be updated if data location change\n",
    "  return path.split('/')[-1]\n"
   ]
  },
  {
   "cell_type": "code",
   "execution_count": 8,
   "metadata": {},
   "outputs": [],
   "source": [
    "def id_from_mask_path(path:str) -> str:\n",
    "  \"\"\"\n",
    "    Extracts the ID from the given mask file path.\n",
    "\n",
    "    Args:\n",
    "        path (str): The file path from which to extract the ID.\n",
    "\n",
    "    Returns:\n",
    "        str: The extracted ID from the mask file path.\n",
    "    \"\"\"\n",
    "  #may need to be updated if data location change\n",
    "  return path.split('/')[-1].split('_')[0]"
   ]
  },
  {
   "cell_type": "code",
   "execution_count": null,
   "metadata": {
    "colab": {
     "base_uri": "https://localhost:8080/"
    },
    "executionInfo": {
     "elapsed": 29,
     "status": "ok",
     "timestamp": 1684783220052,
     "user": {
      "displayName": "Roberto Alejandro Mena Ramirez",
      "userId": "17762559014980159599"
     },
     "user_tz": 300
    },
    "id": "TZsitPIZGSph",
    "outputId": "deaf54f3-e5e4-484d-b3fe-e3a168db2415"
   },
   "outputs": [],
   "source": [
    "from glob import glob\n",
    "folders =  sorted(glob(f'{datasets_path}/NATIVE/*/*'))\n",
    "len([x for x in folders if 'Raw' not in x or '_1.nii.gz' not in x])\n",
    "folders[:4]\n",
    "# print(folders[:3])"
   ]
  },
  {
   "cell_type": "code",
   "execution_count": 10,
   "metadata": {
    "colab": {
     "base_uri": "https://localhost:8080/"
    },
    "executionInfo": {
     "elapsed": 395,
     "status": "ok",
     "timestamp": 1684787072459,
     "user": {
      "displayName": "Roberto Alejandro Mena Ramirez",
      "userId": "17762559014980159599"
     },
     "user_tz": 300
    },
    "id": "-JrISlGyGU2r",
    "outputId": "6a7a0897-5bc7-4809-fd0f-49c0fcb5f348"
   },
   "outputs": [
    {
     "name": "stdout",
     "output_type": "stream",
     "text": [
      "257\n"
     ]
    }
   ],
   "source": [
    "#just MCA and lacunar\n",
    "whole = MCA_IDS + LACUNAR_IDS\n",
    "folders_filtered = [ f \n",
    "                    for f in folders \n",
    "                    if id_from_path(f) in whole]\n",
    "print(len(folders_filtered))\n",
    "filtered_ids = [id_from_path(p) for p in folders_filtered]\n"
   ]
  },
  {
   "cell_type": "code",
   "execution_count": 11,
   "metadata": {},
   "outputs": [
    {
     "data": {
      "text/plain": [
       "(305, 304)"
      ]
     },
     "execution_count": 11,
     "metadata": {},
     "output_type": "execute_result"
    }
   ],
   "source": [
    "all_paths = sorted(glob(f'{datasets_path}/NATIVE/*/*/*.nii.gz') )\n",
    "\n",
    "xpaths = [x for x in all_paths if 'LesionSmooth' not in x]\n",
    "ypaths = [x for x in all_paths if 'LesionSmooth.nii.gz' in x]\n",
    "IDS = list([path.split('/')[-2] for path in xpaths])\n",
    "# len(IDS)\n",
    "len(xpaths), len(ypaths)\n",
    "\n",
    "# xpaths[:100]\n",
    "# set(xpaths) - set(ypaths)\n",
    "# xpaths[:10], ypaths[:10]\n",
    "# masked = sorted(glob(f'{datasets_path}/native_processed_masked/*'))\n",
    "# masked_ids = [id_from_path(p)[:-24] for p in masked]\n",
    "# len(masked_ids)"
   ]
  },
  {
   "cell_type": "code",
   "execution_count": 12,
   "metadata": {},
   "outputs": [],
   "source": [
    "# missing = [p for p in filtered_ids if p not in masked_ids]\n",
    "# missing"
   ]
  },
  {
   "cell_type": "code",
   "execution_count": 13,
   "metadata": {
    "colab": {
     "base_uri": "https://localhost:8080/"
    },
    "executionInfo": {
     "elapsed": 520,
     "status": "ok",
     "timestamp": 1684787068795,
     "user": {
      "displayName": "Roberto Alejandro Mena Ramirez",
      "userId": "17762559014980159599"
     },
     "user_tz": 300
    },
    "id": "p1Oj_IPzGok7",
    "outputId": "f86c60d9-9e74-47d5-b108-f964cabf6883"
   },
   "outputs": [],
   "source": [
    "# for i, f in enumerate(folders_filtered):\n",
    "#   xpath = f+'/'+id_from_path(f)+'.nii.gz'\n",
    "#   ypath = f+'/'+id_from_path(f)+'_LesionSmooth.nii.gz'\n",
    "#   print(xpath)\n",
    "#   print(ypath)\n",
    "#   if i == 3 : break\n",
    "# folders_filtered"
   ]
  },
  {
   "cell_type": "markdown",
   "metadata": {
    "id": "9nUkyINb3zCR"
   },
   "source": [
    "## Preprocessing steps functions"
   ]
  },
  {
   "cell_type": "code",
   "execution_count": 14,
   "metadata": {
    "id": "id8_NUqU4iHV"
   },
   "outputs": [],
   "source": [
    "mni_T1_path = TEMPLATE_PATH = f'{base_path}/datasets/templates/mni_icbm152_t1_tal_nlin_sym_09a.nii'\n",
    "\n",
    "def load_template_ants() -> ants.ANTsImage:\n",
    "    \"\"\"\n",
    "    Loads the template image using the ANTs library.\n",
    "\n",
    "    Returns:\n",
    "        ants.ANTsImage: The loaded template image as an ANTsImage object.\n",
    "    \"\"\"\n",
    "    template_img_ants = ants.image_read(TEMPLATE_PATH)\n",
    "    return template_img_ants\n",
    "\n",
    "def load_img_ants(path: str) -> ants.ANTsImage:\n",
    "    \"\"\"\n",
    "    Loads an image from the specified file path using the ANTs library.\n",
    "\n",
    "    Args:\n",
    "        path (str): The file path of the image to be loaded.\n",
    "\n",
    "    Returns:\n",
    "        ants.ANTsImage: The loaded image as an ANTsImage object.\n",
    "    \"\"\"\n",
    "    raw_img_ants = ants.image_read(path)\n",
    "    return raw_img_ants\n",
    "\n",
    "def register_to_mni(img: ants.ANTsImage, mask: ants.ANTsImage) -> ants.ANTsImage:\n",
    "    \"\"\"\n",
    "    Registers an MRI image and its associated mask to the MNI space using ANTs library.\n",
    "\n",
    "    Args:\n",
    "        img (ants.ANTsImage): The MRI image to be registered.\n",
    "        mask (ants.ANTsImage): The mask associated with the MRI image.\n",
    "\n",
    "    Returns:\n",
    "        ants.ANTsImage: The registered MRI image in MNI space.\n",
    "        ants.ANTsImage: The registered mask in MNI space.\n",
    "    \"\"\"\n",
    "    template_img = load_template_ants()\n",
    "    transformation = ants.registration(fixed=template_img, moving=img, type_of_transform='SyN')\n",
    "\n",
    "    img_registered = transformation['warpedmovout']\n",
    "  \n",
    "    mask_registered = ants.apply_transforms(fixed=template_img,moving=mask,transformlist=transformation['fwdtransforms'])\n",
    "    return img_registered, mask_registered\n",
    "\n",
    "def register_to_mni_single(img: ants.ANTsImage) -> ants.ANTsImage:\n",
    "    \"\"\"\n",
    "    Register an ANTs MRI image to the MNI (Montreal Neurological Institute) space.\n",
    "\n",
    "    Args:\n",
    "        img (ants.ANTsImage): The ANTs MRI image to be registered.\n",
    "\n",
    "    Returns:\n",
    "        ants.ANTsImage: The registered MRI image in the MNI space.\n",
    "    \"\"\"\n",
    "    template_img = load_template_ants()\n",
    "    transformation = ants.registration(fixed=template_img, moving=img, type_of_transform='SyN')\n",
    "\n",
    "    img_registered = transformation['warpedmovout']\n",
    "  \n",
    "    return img_registered"
   ]
  },
  {
   "cell_type": "code",
   "execution_count": 15,
   "metadata": {
    "id": "PtHw7q8YHSeq"
   },
   "outputs": [],
   "source": [
    "def bias_field_correction(img: sitk.Image) -> sitk.Image:\n",
    "    \"\"\"\n",
    "    Perform bias field correction on the input image using N4BiasFieldCorrection.\n",
    "\n",
    "    Args:\n",
    "        img (sitk.Image): The input image to be bias corrected.\n",
    "\n",
    "    Returns:\n",
    "        sitk.Image: The bias-corrected image.\n",
    "    \"\"\"\n",
    "    head_mask = sitk.RescaleIntensity(img, 0, 255)\n",
    "    head_mask = sitk.LiThreshold(head_mask,0,1)\n",
    "    # Shrinking the input image and head mask for faster processing\n",
    "    shrinkFactor = 4\n",
    "    inputImage = img\n",
    "    inputImage = sitk.Shrink( img, [ shrinkFactor ] * inputImage.GetDimension() )\n",
    "    maskImage = sitk.Shrink( head_mask, [ shrinkFactor ] * inputImage.GetDimension() )\n",
    "\n",
    "    bias_corrector = sitk.N4BiasFieldCorrectionImageFilter()\n",
    "    bias_corrector.Execute(inputImage, maskImage)\n",
    "\n",
    "    log_bias_field = bias_corrector.GetLogBiasFieldAsImage(img)\n",
    "    result = img / sitk.Exp( log_bias_field ) # corrected img at full resolution\n",
    "\n",
    "    # output of division has 64 pixel type, we cast it to float32 to keep compatibility\n",
    "    result = sitk.Cast(result, sitk.sitkFloat32)\n",
    "    \n",
    "    return result\n",
    "\n",
    "def load_img_sitk(path: str) -> sitk.Image:\n",
    "    raw_img_sitk = sitk.ReadImage(path, sitk.sitkFloat32)\n",
    "    return raw_img_sitk"
   ]
  },
  {
   "cell_type": "code",
   "execution_count": 16,
   "metadata": {
    "id": "FrMuMK5SK0fd"
   },
   "outputs": [
    {
     "name": "stdout",
     "output_type": "stream",
     "text": [
      "(197, 233, 189)\n",
      "(189, 233, 197)\n"
     ]
    }
   ],
   "source": [
    "# load mni152 brain mask\n",
    "TEMPLATE_BRAIN_MASK_PATH = f'{base_path}/datasets/templates/mni_icbm152_t1_tal_nlin_sym_09a_mask.nii'\n",
    "mni152_brain_mask = sitk.ReadImage(TEMPLATE_BRAIN_MASK_PATH, sitk.sitkFloat32)\n",
    "mni152_T1 = sitk.ReadImage(TEMPLATE_PATH, sitk.sitkFloat32)\n",
    "\n",
    "print(load_img_ants(TEMPLATE_PATH).numpy().shape)\n",
    "print(sitk.GetArrayFromImage(load_img_sitk(TEMPLATE_PATH)).shape)\n",
    "# masked = load_img_sitk('/home/carlos.jimenez/ai-in-health/Stroke-Brain-Lesions/datasets/paper lesions extended/native_processed_masked/c0001s0004t01_processed_masked.nii.gz')"
   ]
  },
  {
   "cell_type": "code",
   "execution_count": 17,
   "metadata": {},
   "outputs": [],
   "source": [
    "# np_masked = sitk.GetArrayFromImage(masked)\n",
    "# explore_3D_array(np_masked)\n"
   ]
  },
  {
   "cell_type": "code",
   "execution_count": 18,
   "metadata": {
    "id": "5GSJad70K35-"
   },
   "outputs": [],
   "source": [
    "import numpy as np\n",
    "from typing import Tuple\n",
    "def preprocess_ximg(ximg: sitk.Image, flipped = False) -> Tuple[np.ndarray, sitk.Image]:\n",
    "  \"\"\"\n",
    "    Preprocesses an input SimpleITK image.\n",
    "\n",
    "    Args:\n",
    "        ximg (sitk.Image): The input SimpleITK image to be preprocessed.\n",
    "        flipped (bool, optional): If True, the image will be flipped along the y-axis.\n",
    "                                  Defaults to False.\n",
    "\n",
    "    Returns:\n",
    "        Tuple[np.ndarray, sitk.Image]: A tuple containing the preprocessed numpy array (x3d) and the\n",
    "                                       preprocessed SimpleITK image (x3d_sitk_preprocessed).\n",
    "    \"\"\"\n",
    "  x3d = sitk.HistogramMatching(ximg, mni152_T1)\n",
    "  x3d = sitk.Multiply(x3d, mni152_brain_mask) # mask brain\n",
    "  x3d = sitk.CurvatureAnisotropicDiffusion(x3d, conductanceParameter=1, numberOfIterations=1) # denoise a bit\n",
    "  x3d_sitk_preprocessed = x3d\n",
    "  \n",
    "  if flipped:\n",
    "    x3d = sitk.Flip(x3d,(True, False, False))\n",
    "  \n",
    "  x3d = sitk.GetArrayFromImage(x3d)\n",
    "  x3d = x3d[30:160,4:228,14:190] # crop to size -> (130, 224, 176)\n",
    "  x3d = x3d / 255.0\n",
    "  x3d = np.expand_dims(x3d,3) # add channel -> (130, 224, 176, 1)\n",
    "  assert x3d.shape == (130,224,176,1)\n",
    "  return x3d, x3d_sitk_preprocessed\n",
    "\n",
    "def preprocess_yimg(yimg: sitk.Image, flipped=False) -> np.ndarray:\n",
    "  \"\"\"\n",
    "    Preprocesses an input SimpleITK image representing the labels (y-values).\n",
    "\n",
    "    Args:\n",
    "        yimg (sitk.Image): The input SimpleITK image representing the labels to be preprocessed.\n",
    "        flipped (bool, optional): If True, the image will be flipped along the y-axis.\n",
    "                                  Defaults to False.\n",
    "\n",
    "    Returns:\n",
    "        np.ndarray: The preprocessed numpy array representing the labels (y3d).\n",
    "    \"\"\"\n",
    "  y3d = yimg\n",
    "\n",
    "  if flipped:\n",
    "    y3d = sitk.Flip(y3d,(True, False, False))\n",
    "  \n",
    "  y3d = sitk.GetArrayFromImage(y3d)\n",
    "  y3d = y3d[30:160,4:228,14:190] # crop to size -> (130, 224, 176)\n",
    "  y3d = y3d / 255.0\n",
    "  y3d = np.expand_dims(y3d,3) # add channel -> (130, 224, 176, 1)\n",
    "  assert x3d.shape == (130,224,176,1)\n",
    "  return y3d\n"
   ]
  },
  {
   "cell_type": "code",
   "execution_count": 19,
   "metadata": {
    "id": "8WwyQUaaNvPn"
   },
   "outputs": [],
   "source": [
    "def postprocess_pred(\n",
    "    raw_pred: np.ndarray,\n",
    "    ximg_ref_path: str\n",
    "  ) -> sitk.Image:\n",
    "  \"\"\"\n",
    "  creates a mri image mask from the prediction, padding is used to fit the dimensions\n",
    "  of an image standardized with mni152 template\n",
    "  \n",
    "  ximg_ref_path: is the path of the mri image to get metadata as reference\n",
    "  \"\"\"\n",
    "  assert raw_pred.shape  == (130,224,176,1)\n",
    "  \n",
    "  pred = raw_pred.copy()\n",
    "  pred = pred > 0.5\n",
    "  pred = pred[:,:,:,0]*255.0\n",
    "  pred = np.pad(pred, ((29,30), (3,6), (13, 8)))\n",
    "  assert pred.shape == (189,233,197)\n",
    "\n",
    "  output = sitk.GetImageFromArray(pred)    \n",
    "  output.CopyInformation(sitk.ReadImage(ximg_ref_path, sitk.sitkFloat32))\n",
    "  return output"
   ]
  },
  {
   "cell_type": "markdown",
   "metadata": {
    "id": "JEDpzDGtMvgx"
   },
   "source": [
    "## Load model and weights"
   ]
  },
  {
   "cell_type": "code",
   "execution_count": 20,
   "metadata": {
    "id": "J8Bw0kcyMzhs"
   },
   "outputs": [
    {
     "name": "stderr",
     "output_type": "stream",
     "text": [
      "2023-06-28 02:06:13.015865: I tensorflow/core/platform/cpu_feature_guard.cc:193] This TensorFlow binary is optimized with oneAPI Deep Neural Network Library (oneDNN) to use the following CPU instructions in performance-critical operations:  AVX2 FMA\n",
      "To enable them in other operations, rebuild TensorFlow with the appropriate compiler flags.\n",
      "2023-06-28 02:06:14.937132: I tensorflow/core/common_runtime/gpu/gpu_device.cc:1616] Created device /job:localhost/replica:0/task:0/device:GPU:0 with 38266 MB memory:  -> device: 0, name: NVIDIA A100-SXM4-40GB, pci bus id: 0000:47:00.0, compute capability: 8.0\n",
      "2023-06-28 02:06:14.938481: I tensorflow/core/common_runtime/gpu/gpu_device.cc:1616] Created device /job:localhost/replica:0/task:0/device:GPU:1 with 38266 MB memory:  -> device: 1, name: NVIDIA A100-SXM4-40GB, pci bus id: 0000:4e:00.0, compute capability: 8.0\n",
      "2023-06-28 02:06:14.939681: I tensorflow/core/common_runtime/gpu/gpu_device.cc:1616] Created device /job:localhost/replica:0/task:0/device:GPU:2 with 38266 MB memory:  -> device: 2, name: NVIDIA A100-SXM4-40GB, pci bus id: 0000:87:00.0, compute capability: 8.0\n",
      "2023-06-28 02:06:14.940885: I tensorflow/core/common_runtime/gpu/gpu_device.cc:1616] Created device /job:localhost/replica:0/task:0/device:GPU:3 with 38266 MB memory:  -> device: 3, name: NVIDIA A100-SXM4-40GB, pci bus id: 0000:90:00.0, compute capability: 8.0\n"
     ]
    }
   ],
   "source": [
    "model = CLCI_Net()\n",
    "# model_path = f\"{models_path}/clcinet-native-ALL-DOUBLED-v6.h5\"\n",
    "model_path = f\"{models_path}/clcinet-native-ALL-DOUBLED-v1-fifth-training-045-0.892773-0.800735.h5\"\n",
    "model.load_weights(model_path)"
   ]
  },
  {
   "cell_type": "code",
   "execution_count": 21,
   "metadata": {},
   "outputs": [
    {
     "data": {
      "text/plain": [
       "((75920, 224, 176, 1), (75920, 224, 176, 1))"
      ]
     },
     "execution_count": 21,
     "metadata": {},
     "output_type": "execute_result"
    }
   ],
   "source": [
    "from numpy import load\n",
    "X_input_path = f'{datasets_path}/dataset_clinet_input_processed_ALL_DOUBLED_X.npy'\n",
    "Y_input_path = f'{datasets_path}/dataset_clinet_input_processed_ALL_DOUBLED_Y.npy'\n",
    "\n",
    "X = load(X_input_path)\n",
    "Y = load(Y_input_path)\n",
    "X.shape, Y.shape"
   ]
  },
  {
   "cell_type": "markdown",
   "metadata": {
    "id": "x3nnbYgj4qnZ"
   },
   "source": [
    "## !! Register + BF + preprocess + predict +  mask + save"
   ]
  },
  {
   "cell_type": "code",
   "execution_count": 22,
   "metadata": {},
   "outputs": [],
   "source": [
    "# ants.from_numpy(X[:130].reshape())\n",
    "# X[:130].shape"
   ]
  },
  {
   "cell_type": "code",
   "execution_count": 23,
   "metadata": {
    "colab": {
     "base_uri": "https://localhost:8080/"
    },
    "executionInfo": {
     "elapsed": 384,
     "status": "ok",
     "timestamp": 1684783263360,
     "user": {
      "displayName": "Roberto Alejandro Mena Ramirez",
      "userId": "17762559014980159599"
     },
     "user_tz": 300
    },
    "id": "cjtPjq0UQ948",
    "outputId": "3093f616-5ef5-4d13-989e-780a157e5cc0"
   },
   "outputs": [],
   "source": [
    "# import random\n",
    "# from pprint import pprint\n",
    "# random.seed(127)\n",
    "# sample = random.sample(folders_filtered,5)\n",
    "# pprint(sample)"
   ]
  },
  {
   "cell_type": "code",
   "execution_count": 24,
   "metadata": {},
   "outputs": [],
   "source": [
    "# load\n",
    "# !free -h"
   ]
  },
  {
   "cell_type": "code",
   "execution_count": 25,
   "metadata": {},
   "outputs": [
    {
     "data": {
      "text/plain": [
       "['c0001s0004t01_registered.nii.gz',\n",
       " 'c0001s0005t01_registered.nii.gz',\n",
       " 'c0001s0006t01_registered.nii.gz',\n",
       " 'c0001s0007t01_registered.nii.gz']"
      ]
     },
     "execution_count": 25,
     "metadata": {},
     "output_type": "execute_result"
    }
   ],
   "source": [
    "os.listdir(f'{base_path}/datasets/native_registered')[:4]"
   ]
  },
  {
   "cell_type": "code",
   "execution_count": 27,
   "metadata": {},
   "outputs": [],
   "source": [
    "# os.listdir(path_to_save)[:4]"
   ]
  },
  {
   "cell_type": "code",
   "execution_count": null,
   "metadata": {
    "colab": {
     "base_uri": "https://localhost:8080/"
    },
    "id": "sNqvFvz3GhCr",
    "outputId": "4c26c08c-cc6f-4572-c5aa-82c50357ed68"
   },
   "outputs": [],
   "source": [
    "path_to_save = f\"{datasets_path}/native_processed_masked_best\"\n",
    "registered = os.listdir(f'{base_path}/datasets/native_registered')\n",
    "masks = os.listdir(path_to_save)\n",
    "\n",
    "print(len(folders_filtered))\n",
    "missing = ['c0010s0002t02',\n",
    " 'c0010s0003t02',\n",
    " 'c0010s0005t02',\n",
    " 'c0010s0013t02',\n",
    " 'c0010s0020t02',\n",
    " 'c0010s0025t02',\n",
    " 'c0010s0044t02']\n",
    "for i,xpath in enumerate(folders_filtered):\n",
    "    \n",
    "    file_name = xpath.split('/')[-1]\n",
    "    # Check if the processed and masked image for the current file is not already present\n",
    "    if f'{file_name}_processed_masked.nii.gz' not in masks:\n",
    "\n",
    "        # Load the original image (x3d) from the folder path\n",
    "        nii_path = f'{xpath}/{file_name}.nii.gz'\n",
    "        x3d = load_img_ants(nii_path)\n",
    "\n",
    "        #y3d = load_img_ants(ypath)\n",
    "\n",
    "        x3d_registered_path = f'{base_path}/datasets/native_registered/{file_name}_registered.nii.gz'\n",
    "        #y_registered_path = f'{base_path}/datasets/native_registered/{file_name[:-7]}_registered.nii.gz'\n",
    "        #x3d_registered, y3d_registered = register_to_mni(img=x3d,mask=y3d)\n",
    "        x3d_registered = register_to_mni_single(img=x3d)\n",
    "\n",
    "        if f'{file_name}_registered.nii.gz' not in registered:\n",
    "            x3d_registered.to_file(x3d_registered_path)\n",
    "    #     y3d_registered.to_file(y_registered_path)\n",
    "\n",
    "\n",
    "        # Perform bias field correction on the registered image\n",
    "        x3d = load_img_sitk(x3d_registered_path)\n",
    "        x3d_bf_corrected = bias_field_correction(x3d)\n",
    "\n",
    "        # Preprocess the bias field corrected image (x3d)\n",
    "        ximg = x3d_bf_corrected\n",
    "        x3d, x3d_sitk_preprocessed = preprocess_ximg(ximg)\n",
    "\n",
    "        # Generate a mask for the preprocessed image using the trained model\n",
    "#         x3d = X[i*130:(i+1)*130]\n",
    "        raw_pred = model.predict(x3d,batch_size=1,verbose=1)\n",
    "        mask = postprocess_pred(raw_pred, TEMPLATE_PATH)\n",
    "\n",
    "        # Normalize the mask values to [0, 1] range and convert it to float32 type\n",
    "        mask = sitk.Divide(mask, 255.0) # because mask comes with values in {255,0}\n",
    "        mask = sitk.Cast(mask, sitk.sitkFloat32) # for some reason mask comes with float type 64 bit\n",
    "        masked = sitk.Multiply(x3d_sitk_preprocessed, mask)\n",
    "\n",
    "        # Write the masked image to the specified output path\n",
    "        out_path = f'{path_to_save}/{file_name}_processed_masked.nii.gz'\n",
    "        sitk.WriteImage(masked, out_path)\n",
    "\n",
    "        print(i+1,file_name)\n",
    "#         if i == 0 : break"
   ]
  },
  {
   "cell_type": "markdown",
   "metadata": {
    "id": "wB6rSAI9Tyt3"
   },
   "source": [
    "## Inspect masks generated"
   ]
  },
  {
   "cell_type": "markdown",
   "metadata": {
    "id": "VYBCT1p9T83S"
   },
   "source": [
    "### Load images\n"
   ]
  },
  {
   "cell_type": "code",
   "execution_count": null,
   "metadata": {
    "id": "1NAsUG6KT_dr"
   },
   "outputs": [],
   "source": [
    "mpaths = sorted(glob(f'/data/NATIVE/*/*/*01_maskGenerated.nii.gz'))"
   ]
  },
  {
   "cell_type": "code",
   "execution_count": null,
   "metadata": {
    "colab": {
     "base_uri": "https://localhost:8080/"
    },
    "executionInfo": {
     "elapsed": 417,
     "status": "ok",
     "timestamp": 1684783603449,
     "user": {
      "displayName": "Roberto Alejandro Mena Ramirez",
      "userId": "17762559014980159599"
     },
     "user_tz": 300
    },
    "id": "YhFzmatgUHdi",
    "outputId": "df6cce59-28b8-4d79-def6-668f91b76ba9"
   },
   "outputs": [],
   "source": [
    "print(\"Number of samples:\", len(mpaths))\n",
    "for input_path in mpaths:\n",
    "    print(input_path[-35:])"
   ]
  },
  {
   "cell_type": "code",
   "execution_count": null,
   "metadata": {
    "colab": {
     "base_uri": "https://localhost:8080/",
     "height": 1000,
     "referenced_widgets": [
      "4358f03f19dc4ce5a92529cc8dc336ed",
      "5d786dea14404f13817d1d629e9ec616",
      "6e406df4b95a431ab2061d6a18ff8a7d",
      "4804765c31aa46419a770ce0cdd780bb",
      "48b54205deda4804a18c7715db1d1873",
      "ea8f35fd3bf342bba952de4d12401dca",
      "a2ae2e9d27af468eb532aa4afd1dc231"
     ]
    },
    "executionInfo": {
     "elapsed": 1609,
     "status": "ok",
     "timestamp": 1684783714151,
     "user": {
      "displayName": "Roberto Alejandro Mena Ramirez",
      "userId": "17762559014980159599"
     },
     "user_tz": 300
    },
    "id": "8GtoQZqA6mot",
    "outputId": "b891a74c-b72b-4019-c1ed-f542a92d2586"
   },
   "outputs": [],
   "source": [
    "# explore masked\n",
    "i = 0\n",
    "# Get the file path of the example image (test image), based on the given example folder path\n",
    "example = sample[i]\n",
    "\n",
    "test_xpath = example+'/'+id_from_path(example)+'_registered.nii.gz'\n",
    "test_ypath = example+'/'+id_from_path(example)+'_LesionSmooth_registered.nii.gz'\n",
    "\n",
    "test_mask =  example+'/'+id_from_path(example)+'_maskGenerated.nii.gz'\n",
    "# Read the test images and the mask using SimpleITK's ReadImage function\n",
    "test_ximg = sitk.ReadImage(test_xpath, sitk.sitkFloat32)\n",
    "test_yimg = sitk.ReadImage(test_ypath, sitk.sitkFloat32)\n",
    "test_mask = sitk.ReadImage(test_mask, sitk.sitkFloat32)\n",
    "\n",
    "test_mask = sitk.Divide(test_mask, 255.0) # because mask comes with values in {255,0}\n",
    "masked = sitk.Multiply(test_ximg, test_mask)\n",
    "\n",
    "explore_3D_array(sitk.GetArrayFromImage(masked))"
   ]
  },
  {
   "cell_type": "code",
   "execution_count": null,
   "metadata": {
    "colab": {
     "base_uri": "https://localhost:8080/",
     "height": 657,
     "referenced_widgets": [
      "fac2d965ddfc482285acbec24083e266",
      "4ee0ad1e7c7f439294ff9e965cad711f",
      "0eb826db71d5441a9a65528f09ba2ce2",
      "0f3c00eb7805409890a41f3be82f5df3",
      "94b5a29c1ddb4b0a9e2d69589c796734",
      "d077395277724fe7a96d5acba1bb4285",
      "3ced8de1851f4f33ac7b472a8e012073"
     ]
    },
    "executionInfo": {
     "elapsed": 2661,
     "status": "ok",
     "timestamp": 1684775618154,
     "user": {
      "displayName": "Roberto Alejandro Mena Ramirez",
      "userId": "17762559014980159599"
     },
     "user_tz": 300
    },
    "id": "ea_HQ6tlUS1E",
    "outputId": "4d2eb86b-7e1c-49d4-8e37-4ff2e7abdd6f"
   },
   "outputs": [],
   "source": [
    "# compare mask\n",
    "i = 0\n",
    "example = sample[i]\n",
    "\n",
    "test_xpath = example+'/'+id_from_path(example)+'.nii.gz'\n",
    "test_ypath = example+'/'+id_from_path(example)+'_LesionSmooth_registered.nii.gz'\n",
    "\n",
    "test_mask =  example+'/'+id_from_path(example)+'_maskGenerated.nii.gz'\n",
    "\n",
    "test_img = sitk.ReadImage(test_ypath, sitk.sitkFloat32)\n",
    "test_mask = sitk.ReadImage(test_mask, sitk.sitkFloat32)\n",
    "# Compare and visualize the two 3D image volumes using the custom function 'explore_3D_array_comparison'\n",
    "explore_3D_array_comparison(\n",
    "    arr_before=sitk.GetArrayFromImage(test_img),\n",
    "    arr_after=sitk.GetArrayFromImage(test_mask),\n",
    "    #cmap='viridis'\n",
    ")"
   ]
  },
  {
   "cell_type": "markdown",
   "metadata": {
    "id": "qOHwhsi2-Tcj"
   },
   "source": [
    "## See how to Persist processed and masked images"
   ]
  },
  {
   "cell_type": "code",
   "execution_count": null,
   "metadata": {
    "colab": {
     "base_uri": "https://localhost:8080/"
    },
    "executionInfo": {
     "elapsed": 433,
     "status": "ok",
     "timestamp": 1684785966498,
     "user": {
      "displayName": "Roberto Alejandro Mena Ramirez",
      "userId": "17762559014980159599"
     },
     "user_tz": 300
    },
    "id": "98_PBYzI-Ywx",
    "outputId": "8a63fbd0-90b6-4a07-fab1-01de6fbc78cc"
   },
   "outputs": [],
   "source": [
    "mpaths = sorted(glob(f'/data/NATIVE/*/*/*01_processed_masked.nii.gz') )\n",
    "\n",
    "print(\"Number of samples:\", len(mpaths))\n",
    "for input_path in mpaths:\n",
    "    print(input_path[-35:])\n"
   ]
  },
  {
   "cell_type": "code",
   "execution_count": 6,
   "metadata": {
    "colab": {
     "base_uri": "https://localhost:8080/",
     "height": 36
    },
    "executionInfo": {
     "elapsed": 414,
     "status": "ok",
     "timestamp": 1684786341991,
     "user": {
      "displayName": "Roberto Alejandro Mena Ramirez",
      "userId": "17762559014980159599"
     },
     "user_tz": 300
    },
    "id": "OQUP3xN2F1D2",
    "outputId": "1d4fc869-9a99-4684-cde7-221fdcc51dc2"
   },
   "outputs": [],
   "source": [
    "# masked_path\n",
    "from helpers import *"
   ]
  },
  {
   "cell_type": "code",
   "execution_count": 16,
   "metadata": {
    "colab": {
     "base_uri": "https://localhost:8080/"
    },
    "executionInfo": {
     "elapsed": 8,
     "status": "ok",
     "timestamp": 1684786363018,
     "user": {
      "displayName": "Roberto Alejandro Mena Ramirez",
      "userId": "17762559014980159599"
     },
     "user_tz": 300
    },
    "id": "YKmH9WE7-sVq",
    "outputId": "f3898534-8b81-4edb-983f-69eb310b0d8a"
   },
   "outputs": [
    {
     "data": {
      "image/png": "[encoded data removed]",
      "text/plain": [
       "<Figure size 504x504 with 1 Axes>"
      ]
     },
     "metadata": {},
     "output_type": "display_data"
    }
   ],
   "source": [
    "mpaths = f\"{datasets_path}/native_processed_masked_best\"\n",
    "# Loop through the first 5 image files in the 'native_processed_masked_best' directory\n",
    "for i, input_path in enumerate(os.listdir(mpaths)):\n",
    "    path = f'{mpaths}/{input_path}'\n",
    "    # Read the image file using SimpleITK and convert it to a 3D SimpleITK image\n",
    "    img = sitk.ReadImage(path, sitk.sitkFloat32)\n",
    "    explore_3D_array(sitk.GetArrayFromImage(img))\n",
    "    # Stop the loop after processing the first 5 images\n",
    "    if i == 4: break\n",
    "    \n",
    "\n"
   ]
  },
  {
   "cell_type": "code",
   "execution_count": null,
   "metadata": {},
   "outputs": [],
   "source": []
  }
 ],
 "metadata": {
  "accelerator": "GPU",
  "colab": {
   "collapsed_sections": [
    "v8rt_QUUthFp",
    "4B0BhRTnxlxj",
    "72dpJ0IDGJ-U",
    "psqW34XgGv_c",
    "XTgql7bdMB9d",
    "VarkWYeOT5I9",
    "VYBCT1p9T83S"
   ],
   "gpuType": "T4",
   "provenance": []
  },
  "gpuClass": "standard",
  "kernelspec": {
   "display_name": "Python 3 (ipykernel)",
   "language": "python",
   "name": "python3"
  },
  "language_info": {
   "codemirror_mode": {
    "name": "ipython",
    "version": 3
   },
   "file_extension": ".py",
   "mimetype": "text/x-python",
   "name": "python",
   "nbconvert_exporter": "python",
   "pygments_lexer": "ipython3",
   "version": "3.8.10"
  },
  "widgets": {
   "application/vnd.jupyter.widget-state+json": {
    "0eb826db71d5441a9a65528f09ba2ce2": {
     "model_module": "@jupyter-widgets/output",
     "model_module_version": "1.0.0",
     "model_name": "OutputModel",
     "state": {
      "_dom_classes": [],
      "_model_module": "@jupyter-widgets/output",
      "_model_module_version": "1.0.0",
      "_model_name": "OutputModel",
      "_view_count": null,
      "_view_module": "@jupyter-widgets/output",
      "_view_module_version": "1.0.0",
      "_view_name": "OutputView",
      "layout": "IPY_MODEL_3ced8de1851f4f33ac7b472a8e012073",
      "msg_id": "",
      "outputs": []
     }
    },
    "0f3c00eb7805409890a41f3be82f5df3": {
     "model_module": "@jupyter-widgets/base",
     "model_module_version": "1.2.0",
     "model_name": "LayoutModel",
     "state": {
      "_model_module": "@jupyter-widgets/base",
      "_model_module_version": "1.2.0",
      "_model_name": "LayoutModel",
      "_view_count": null,
      "_view_module": "@jupyter-widgets/base",
      "_view_module_version": "1.2.0",
      "_view_name": "LayoutView",
      "align_content": null,
      "align_items": null,
      "align_self": null,
      "border": null,
      "bottom": null,
      "display": null,
      "flex": null,
      "flex_flow": null,
      "grid_area": null,
      "grid_auto_columns": null,
      "grid_auto_flow": null,
      "grid_auto_rows": null,
      "grid_column": null,
      "grid_gap": null,
      "grid_row": null,
      "grid_template_areas": null,
      "grid_template_columns": null,
      "grid_template_rows": null,
      "height": null,
      "justify_content": null,
      "justify_items": null,
      "left": null,
      "margin": null,
      "max_height": null,
      "max_width": null,
      "min_height": null,
      "min_width": null,
      "object_fit": null,
      "object_position": null,
      "order": null,
      "overflow": null,
      "overflow_x": null,
      "overflow_y": null,
      "padding": null,
      "right": null,
      "top": null,
      "visibility": null,
      "width": null
     }
    },
    "3ced8de1851f4f33ac7b472a8e012073": {
     "model_module": "@jupyter-widgets/base",
     "model_module_version": "1.2.0",
     "model_name": "LayoutModel",
     "state": {
      "_model_module": "@jupyter-widgets/base",
      "_model_module_version": "1.2.0",
      "_model_name": "LayoutModel",
      "_view_count": null,
      "_view_module": "@jupyter-widgets/base",
      "_view_module_version": "1.2.0",
      "_view_name": "LayoutView",
      "align_content": null,
      "align_items": null,
      "align_self": null,
      "border": null,
      "bottom": null,
      "display": null,
      "flex": null,
      "flex_flow": null,
      "grid_area": null,
      "grid_auto_columns": null,
      "grid_auto_flow": null,
      "grid_auto_rows": null,
      "grid_column": null,
      "grid_gap": null,
      "grid_row": null,
      "grid_template_areas": null,
      "grid_template_columns": null,
      "grid_template_rows": null,
      "height": null,
      "justify_content": null,
      "justify_items": null,
      "left": null,
      "margin": null,
      "max_height": null,
      "max_width": null,
      "min_height": null,
      "min_width": null,
      "object_fit": null,
      "object_position": null,
      "order": null,
      "overflow": null,
      "overflow_x": null,
      "overflow_y": null,
      "padding": null,
      "right": null,
      "top": null,
      "visibility": null,
      "width": null
     }
    },
    "4358f03f19dc4ce5a92529cc8dc336ed": {
     "model_module": "@jupyter-widgets/controls",
     "model_module_version": "1.5.0",
     "model_name": "VBoxModel",
     "state": {
      "_dom_classes": [
       "widget-interact"
      ],
      "_model_module": "@jupyter-widgets/controls",
      "_model_module_version": "1.5.0",
      "_model_name": "VBoxModel",
      "_view_count": null,
      "_view_module": "@jupyter-widgets/controls",
      "_view_module_version": "1.5.0",
      "_view_name": "VBoxView",
      "box_style": "",
      "children": [
       "IPY_MODEL_5d786dea14404f13817d1d629e9ec616",
       "IPY_MODEL_6e406df4b95a431ab2061d6a18ff8a7d"
      ],
      "layout": "IPY_MODEL_4804765c31aa46419a770ce0cdd780bb"
     }
    },
    "4804765c31aa46419a770ce0cdd780bb": {
     "model_module": "@jupyter-widgets/base",
     "model_module_version": "1.2.0",
     "model_name": "LayoutModel",
     "state": {
      "_model_module": "@jupyter-widgets/base",
      "_model_module_version": "1.2.0",
      "_model_name": "LayoutModel",
      "_view_count": null,
      "_view_module": "@jupyter-widgets/base",
      "_view_module_version": "1.2.0",
      "_view_name": "LayoutView",
      "align_content": null,
      "align_items": null,
      "align_self": null,
      "border": null,
      "bottom": null,
      "display": null,
      "flex": null,
      "flex_flow": null,
      "grid_area": null,
      "grid_auto_columns": null,
      "grid_auto_flow": null,
      "grid_auto_rows": null,
      "grid_column": null,
      "grid_gap": null,
      "grid_row": null,
      "grid_template_areas": null,
      "grid_template_columns": null,
      "grid_template_rows": null,
      "height": null,
      "justify_content": null,
      "justify_items": null,
      "left": null,
      "margin": null,
      "max_height": null,
      "max_width": null,
      "min_height": null,
      "min_width": null,
      "object_fit": null,
      "object_position": null,
      "order": null,
      "overflow": null,
      "overflow_x": null,
      "overflow_y": null,
      "padding": null,
      "right": null,
      "top": null,
      "visibility": null,
      "width": null
     }
    },
    "48b54205deda4804a18c7715db1d1873": {
     "model_module": "@jupyter-widgets/base",
     "model_module_version": "1.2.0",
     "model_name": "LayoutModel",
     "state": {
      "_model_module": "@jupyter-widgets/base",
      "_model_module_version": "1.2.0",
      "_model_name": "LayoutModel",
      "_view_count": null,
      "_view_module": "@jupyter-widgets/base",
      "_view_module_version": "1.2.0",
      "_view_name": "LayoutView",
      "align_content": null,
      "align_items": null,
      "align_self": null,
      "border": null,
      "bottom": null,
      "display": null,
      "flex": null,
      "flex_flow": null,
      "grid_area": null,
      "grid_auto_columns": null,
      "grid_auto_flow": null,
      "grid_auto_rows": null,
      "grid_column": null,
      "grid_gap": null,
      "grid_row": null,
      "grid_template_areas": null,
      "grid_template_columns": null,
      "grid_template_rows": null,
      "height": null,
      "justify_content": null,
      "justify_items": null,
      "left": null,
      "margin": null,
      "max_height": null,
      "max_width": null,
      "min_height": null,
      "min_width": null,
      "object_fit": null,
      "object_position": null,
      "order": null,
      "overflow": null,
      "overflow_x": null,
      "overflow_y": null,
      "padding": null,
      "right": null,
      "top": null,
      "visibility": null,
      "width": null
     }
    },
    "4ee0ad1e7c7f439294ff9e965cad711f": {
     "model_module": "@jupyter-widgets/controls",
     "model_module_version": "1.5.0",
     "model_name": "IntSliderModel",
     "state": {
      "_dom_classes": [],
      "_model_module": "@jupyter-widgets/controls",
      "_model_module_version": "1.5.0",
      "_model_name": "IntSliderModel",
      "_view_count": null,
      "_view_module": "@jupyter-widgets/controls",
      "_view_module_version": "1.5.0",
      "_view_name": "IntSliderView",
      "continuous_update": true,
      "description": "SLICE",
      "description_tooltip": null,
      "disabled": false,
      "layout": "IPY_MODEL_94b5a29c1ddb4b0a9e2d69589c796734",
      "max": 188,
      "min": 0,
      "orientation": "horizontal",
      "readout": true,
      "readout_format": "d",
      "step": 1,
      "style": "IPY_MODEL_d077395277724fe7a96d5acba1bb4285",
      "value": 94
     }
    },
    "5d786dea14404f13817d1d629e9ec616": {
     "model_module": "@jupyter-widgets/controls",
     "model_module_version": "1.5.0",
     "model_name": "IntSliderModel",
     "state": {
      "_dom_classes": [],
      "_model_module": "@jupyter-widgets/controls",
      "_model_module_version": "1.5.0",
      "_model_name": "IntSliderModel",
      "_view_count": null,
      "_view_module": "@jupyter-widgets/controls",
      "_view_module_version": "1.5.0",
      "_view_name": "IntSliderView",
      "continuous_update": true,
      "description": "SLICE",
      "description_tooltip": null,
      "disabled": false,
      "layout": "IPY_MODEL_48b54205deda4804a18c7715db1d1873",
      "max": 188,
      "min": 0,
      "orientation": "horizontal",
      "readout": true,
      "readout_format": "d",
      "step": 1,
      "style": "IPY_MODEL_ea8f35fd3bf342bba952de4d12401dca",
      "value": 41
     }
    },
    "6e406df4b95a431ab2061d6a18ff8a7d": {
     "model_module": "@jupyter-widgets/output",
     "model_module_version": "1.0.0",
     "model_name": "OutputModel",
     "state": {
      "_dom_classes": [],
      "_model_module": "@jupyter-widgets/output",
      "_model_module_version": "1.0.0",
      "_model_name": "OutputModel",
      "_view_count": null,
      "_view_module": "@jupyter-widgets/output",
      "_view_module_version": "1.0.0",
      "_view_name": "OutputView",
      "layout": "IPY_MODEL_a2ae2e9d27af468eb532aa4afd1dc231",
      "msg_id": "",
      "outputs": []
     }
    },
    "94b5a29c1ddb4b0a9e2d69589c796734": {
     "model_module": "@jupyter-widgets/base",
     "model_module_version": "1.2.0",
     "model_name": "LayoutModel",
     "state": {
      "_model_module": "@jupyter-widgets/base",
      "_model_module_version": "1.2.0",
      "_model_name": "LayoutModel",
      "_view_count": null,
      "_view_module": "@jupyter-widgets/base",
      "_view_module_version": "1.2.0",
      "_view_name": "LayoutView",
      "align_content": null,
      "align_items": null,
      "align_self": null,
      "border": null,
      "bottom": null,
      "display": null,
      "flex": null,
      "flex_flow": null,
      "grid_area": null,
      "grid_auto_columns": null,
      "grid_auto_flow": null,
      "grid_auto_rows": null,
      "grid_column": null,
      "grid_gap": null,
      "grid_row": null,
      "grid_template_areas": null,
      "grid_template_columns": null,
      "grid_template_rows": null,
      "height": null,
      "justify_content": null,
      "justify_items": null,
      "left": null,
      "margin": null,
      "max_height": null,
      "max_width": null,
      "min_height": null,
      "min_width": null,
      "object_fit": null,
      "object_position": null,
      "order": null,
      "overflow": null,
      "overflow_x": null,
      "overflow_y": null,
      "padding": null,
      "right": null,
      "top": null,
      "visibility": null,
      "width": null
     }
    },
    "a2ae2e9d27af468eb532aa4afd1dc231": {
     "model_module": "@jupyter-widgets/base",
     "model_module_version": "1.2.0",
     "model_name": "LayoutModel",
     "state": {
      "_model_module": "@jupyter-widgets/base",
      "_model_module_version": "1.2.0",
      "_model_name": "LayoutModel",
      "_view_count": null,
      "_view_module": "@jupyter-widgets/base",
      "_view_module_version": "1.2.0",
      "_view_name": "LayoutView",
      "align_content": null,
      "align_items": null,
      "align_self": null,
      "border": null,
      "bottom": null,
      "display": null,
      "flex": null,
      "flex_flow": null,
      "grid_area": null,
      "grid_auto_columns": null,
      "grid_auto_flow": null,
      "grid_auto_rows": null,
      "grid_column": null,
      "grid_gap": null,
      "grid_row": null,
      "grid_template_areas": null,
      "grid_template_columns": null,
      "grid_template_rows": null,
      "height": null,
      "justify_content": null,
      "justify_items": null,
      "left": null,
      "margin": null,
      "max_height": null,
      "max_width": null,
      "min_height": null,
      "min_width": null,
      "object_fit": null,
      "object_position": null,
      "order": null,
      "overflow": null,
      "overflow_x": null,
      "overflow_y": null,
      "padding": null,
      "right": null,
      "top": null,
      "visibility": null,
      "width": null
     }
    },
    "d077395277724fe7a96d5acba1bb4285": {
     "model_module": "@jupyter-widgets/controls",
     "model_module_version": "1.5.0",
     "model_name": "SliderStyleModel",
     "state": {
      "_model_module": "@jupyter-widgets/controls",
      "_model_module_version": "1.5.0",
      "_model_name": "SliderStyleModel",
      "_view_count": null,
      "_view_module": "@jupyter-widgets/base",
      "_view_module_version": "1.2.0",
      "_view_name": "StyleView",
      "description_width": "",
      "handle_color": null
     }
    },
    "ea8f35fd3bf342bba952de4d12401dca": {
     "model_module": "@jupyter-widgets/controls",
     "model_module_version": "1.5.0",
     "model_name": "SliderStyleModel",
     "state": {
      "_model_module": "@jupyter-widgets/controls",
      "_model_module_version": "1.5.0",
      "_model_name": "SliderStyleModel",
      "_view_count": null,
      "_view_module": "@jupyter-widgets/base",
      "_view_module_version": "1.2.0",
      "_view_name": "StyleView",
      "description_width": "",
      "handle_color": null
     }
    },
    "fac2d965ddfc482285acbec24083e266": {
     "model_module": "@jupyter-widgets/controls",
     "model_module_version": "1.5.0",
     "model_name": "VBoxModel",
     "state": {
      "_dom_classes": [
       "widget-interact"
      ],
      "_model_module": "@jupyter-widgets/controls",
      "_model_module_version": "1.5.0",
      "_model_name": "VBoxModel",
      "_view_count": null,
      "_view_module": "@jupyter-widgets/controls",
      "_view_module_version": "1.5.0",
      "_view_name": "VBoxView",
      "box_style": "",
      "children": [
       "IPY_MODEL_4ee0ad1e7c7f439294ff9e965cad711f",
       "IPY_MODEL_0eb826db71d5441a9a65528f09ba2ce2"
      ],
      "layout": "IPY_MODEL_0f3c00eb7805409890a41f3be82f5df3"
     }
    }
   }
  }
 },
 "nbformat": 4,
 "nbformat_minor": 4
}
