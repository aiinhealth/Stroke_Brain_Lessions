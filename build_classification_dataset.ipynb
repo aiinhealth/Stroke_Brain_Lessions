{
 "cells": [
  {
   "cell_type": "code",
   "execution_count": 1,
   "metadata": {},
   "outputs": [],
   "source": [
    "# !nvidia-smi\n",
    "import os\n",
    "os.environ[\"TF_CPP_MIN_LOG_LEVEL\"] = \"2\"  # this MUST come before any tf call."
   ]
  },
  {
   "cell_type": "code",
   "execution_count": 2,
   "metadata": {},
   "outputs": [],
   "source": [
    "# !nvidia-smi"
   ]
  },
  {
   "cell_type": "code",
   "execution_count": 3,
   "metadata": {},
   "outputs": [
    {
     "name": "stderr",
     "output_type": "stream",
     "text": [
      "2023-06-28 04:54:25.183593: E tensorflow/stream_executor/cuda/cuda_blas.cc:2981] Unable to register cuBLAS factory: Attempting to register factory for plugin cuBLAS when one has already been registered\n"
     ]
    }
   ],
   "source": [
    "import numpy as np\n",
    "import random\n",
    "import tensorflow as tf\n",
    "\n",
    "seed = 1337\n",
    "np.random.seed(seed)\n",
    "random.seed(seed)\n",
    "tf.random.set_seed(seed)\n",
    "os.environ['PYTHONHASHSEED'] = str(seed)"
   ]
  },
  {
   "cell_type": "code",
   "execution_count": 4,
   "metadata": {
    "colab": {
     "base_uri": "https://localhost:8080/"
    },
    "executionInfo": {
     "elapsed": 23683,
     "status": "ok",
     "timestamp": 1611332119076,
     "user": {
      "displayName": "Alex Dario Macas Alcocer",
      "photoUrl": "",
      "userId": "07567273049273138555"
     },
     "user_tz": 300
    },
    "id": "bnVqG921PacZ",
    "outputId": "e453e7b4-8b93-46f8-eebd-2014073dd3ff"
   },
   "outputs": [],
   "source": [
    "import difflib\n",
    "import os\n",
    "import shutil\n",
    "import ants\n",
    "import nibabel as nib\n",
    "import cv2\n",
    "import scipy.spatial\n",
    "from glob import glob\n",
    "from typing import  List\n",
    "from pprint import pprint  \n",
    "import json\n",
    "from skimage.transform import resize\n",
    "import matplotlib.pyplot as plt\n",
    "import warnings\n",
    "import scipy\n",
    "from datetime import datetime\n",
    "import SimpleITK as sitk"
   ]
  },
  {
   "cell_type": "markdown",
   "metadata": {
    "id": "i74w1rx6uWUA"
   },
   "source": [
    "### Functions to get features of images"
   ]
  },
  {
   "cell_type": "code",
   "execution_count": 5,
   "metadata": {
    "id": "T9GKX9-0rww2"
   },
   "outputs": [],
   "source": [
    "import SimpleITK as sitk\n",
    "import scipy\n",
    "def volume(img: sitk.Image):\n",
    "    \"\"\"\n",
    "    Compute the volume of a binary image.\n",
    "\n",
    "    Args:\n",
    "        img (sitk.Image): The input binary image.\n",
    "\n",
    "    Returns:\n",
    "        float: The computed volume of the binary image.\n",
    "    \"\"\"\n",
    "    array = sitk.GetArrayFromImage(img)\n",
    "    pixel_volume = img.GetSpacing()[0] * img.GetSpacing()[1] * img.GetSpacing()[2]\n",
    "    return (array > 0).sum() * pixel_volume\n",
    "\n",
    "def mean(img: sitk.Image):\n",
    "    \"\"\"\n",
    "    Compute the mean intensity value of an image.\n",
    "    Args:\n",
    "        img (sitk.Image): The input image for which the mean intensity value is to be computed.\n",
    "\n",
    "    Returns:\n",
    "        float: The mean intensity value of the input image.\n",
    "    \"\"\"\n",
    "    f = sitk.StatisticsImageFilter()\n",
    "    f.Execute(img)\n",
    "    return f.GetMean()\n",
    "\n",
    "def max(img: sitk.Image):\n",
    "    \"\"\"\n",
    "    Compute the maximum intensity value of an image.\n",
    "    Args:\n",
    "        img (sitk.Image): The input image for which the maximum intensity value is to be computed.\n",
    "\n",
    "    Returns:\n",
    "        float: The maximum intensity value of the input image.\n",
    "    \"\"\"\n",
    "    f = sitk.StatisticsImageFilter()\n",
    "    f.Execute(img)\n",
    "    return f.GetMaximum()\n",
    "\n",
    "def median(img: sitk.Image):\n",
    "    \"\"\"\n",
    "    Compute the median intensity value of an image.\n",
    "    Args:\n",
    "        img (sitk.Image): The input image for which the median intensity value is to be computed.\n",
    "\n",
    "    Returns:\n",
    "        float: The median intensity value of the input image.\n",
    "    \"\"\"\n",
    "    f = sitk.StatisticsImageFilter()\n",
    "    f.Execute(img)\n",
    "    return f.GetMean()\n",
    "\n",
    "def min(img: sitk.Image):\n",
    "    \"\"\"\n",
    "    Compute the minimum intensity value of an image.\n",
    "    Args:\n",
    "        img (sitk.Image): The input image for which the minimum intensity value is to be computed.\n",
    "\n",
    "    Returns:\n",
    "        float: The minimum intensity value of the input image.\n",
    "    \"\"\"\n",
    "    f = sitk.StatisticsImageFilter()\n",
    "    f.Execute(img)\n",
    "    return f.GetMinimum()\n",
    "\n",
    "def sum(img: sitk.Image):\n",
    "    \"\"\"\n",
    "    Compute the sum of intensity values in an image.\n",
    "    Args:\n",
    "        img (sitk.Image): The input image for which the sum of intensity values is to be computed.\n",
    "\n",
    "    Returns:\n",
    "        float: The sum of intensity values in the input image.\n",
    "    \"\"\"\n",
    "    f = sitk.StatisticsImageFilter()\n",
    "    f.Execute(img)\n",
    "    return f.GetSum()\n",
    "\n",
    "def variance(img: sitk.Image):\n",
    "    \"\"\"\n",
    "    Compute the variance of intensity values in an image.\n",
    "    Args:\n",
    "        img (sitk.Image): The input image for which the variance of intensity values is to be computed.\n",
    "\n",
    "    Returns:\n",
    "        float: The variance of intensity values in the input image.\n",
    "\n",
    "    \"\"\"\n",
    "    f = sitk.StatisticsImageFilter()\n",
    "    f.Execute(img)\n",
    "    return f.GetVariance()\n",
    "\n",
    "def RegionalMaxima_(img: sitk.Image):\n",
    "    \"\"\"\n",
    "    Compute the sum of regional maxima in an image.\n",
    "    Args:\n",
    "        img (sitk.Image): The input image on which regional maxima are to be detected.\n",
    "\n",
    "    Returns:\n",
    "        int: The sum of regional maxima in the input image.\n",
    "\n",
    "    \"\"\"\n",
    "    transformed = sitk.RegionalMaxima(img)\n",
    "\n",
    "    f = sitk.StatisticsImageFilter()\n",
    "    f.Execute(transformed)\n",
    "    return f.GetSum()\n",
    "\n",
    "def ZeroCrossing_(img: sitk.Image):\n",
    "    \"\"\"\n",
    "    Compute the sum of zero crossings in an image.\n",
    "    Args:\n",
    "        img (sitk.Image): The input image on which zero crossings are to be detected.\n",
    "\n",
    "    Returns:\n",
    "        int: The sum of zero crossings in the input image.\n",
    "\n",
    "    \"\"\"\n",
    "    transformed = sitk.ZeroCrossing(img)\n",
    "    f = sitk.StatisticsImageFilter()\n",
    "    f.Execute(transformed)\n",
    "    return f.GetSum()\n",
    "\n",
    "def Derivative_(img: sitk.Image):\n",
    "    \"\"\"\n",
    "    Compute the sum of image gradients using derivative filter.\n",
    "\n",
    "    Args:\n",
    "        img (sitk.Image): The input image on which gradients are to be computed.\n",
    "\n",
    "    Returns:\n",
    "        float: The sum of gradients of the input image.\n",
    "\n",
    "    \"\"\"\n",
    "    transformed = sitk.Derivative(img)\n",
    "    array = sitk.GetArrayFromImage(transformed)\n",
    "    f = sitk.StatisticsImageFilter()\n",
    "    f.Execute(transformed)\n",
    "    return f.GetSum()\n",
    "\n",
    "def GradientMagnitudeRecursiveGaussian_(img: sitk.Image):\n",
    "    \"\"\"\n",
    "    Compute the sum of the gradient magnitude of an image using the GradientMagnitudeRecursiveGaussian filter.\n",
    "\n",
    "    Args:\n",
    "        img (sitk.Image): The input image on which the gradient magnitude is to be computed.\n",
    "\n",
    "    Returns:\n",
    "        float: The sum of the gradient magnitude of the input image.\n",
    "\n",
    "    \"\"\"\n",
    "    transformed = sitk.GradientMagnitudeRecursiveGaussian(img)\n",
    "    array = sitk.GetArrayFromImage(transformed)\n",
    "\n",
    "    f = sitk.StatisticsImageFilter()\n",
    "    f.Execute(transformed)\n",
    "    return f.GetSum()\n",
    "\n",
    "def MorphologicalWatershed_(img: sitk.Image):\n",
    "    \"\"\"\n",
    "    Compute the sum of the morphological watershed transform of an image.\n",
    "    The morphological watershed transform segments the image based on the regional\n",
    "    minima, which are the lowest intensity points surrounded by higher intensity values.\n",
    "\n",
    "    Args:\n",
    "        img (sitk.Image): The input image on which the morphological watershed transform is to be computed.\n",
    "\n",
    "    Returns:\n",
    "        float: The sum of the morphological watershed transform.\n",
    "\n",
    "    \"\"\"\n",
    "    transformed = sitk.MorphologicalWatershed(img)\n",
    "    array = sitk.GetArrayFromImage(transformed)\n",
    "\n",
    "    f = sitk.StatisticsImageFilter()\n",
    "    f.Execute(transformed)\n",
    "    return f.GetSum()\n",
    "\n",
    "def ObjectnessMeasure_(img: sitk.Image):\n",
    "    \"\"\"\n",
    "    Compute the sum of the objectness measure of an image.\n",
    "    The objectness measure highlights structures of interest in the image and can be used for vessel enhancement and detection.\n",
    "\n",
    "    Args:\n",
    "        img (sitk.Image): The input image on which the objectness measure is to be computed.\n",
    "\n",
    "    Returns:\n",
    "        float: The sum of the objectness measure.\n",
    "\n",
    "    \"\"\"\n",
    "    transformed = sitk.ObjectnessMeasure(img)\n",
    "    array = sitk.GetArrayFromImage(transformed)\n",
    "\n",
    "    f = sitk.StatisticsImageFilter()\n",
    "    f.Execute(transformed)\n",
    "    return f.GetSum()\n",
    "\n",
    "def Toboggan_(img: sitk.Image):\n",
    "    \"\"\"\n",
    "    Compute the sum of the Toboggan filter applied to the input image.\n",
    "\n",
    "    The Toboggan filter enhances linear structures in an image. It is particularly useful for enhancing blood vessels in medical images.\n",
    "\n",
    "    Args:\n",
    "        img (sitk.Image): The input image to which the Toboggan filter is applied.\n",
    "\n",
    "    Returns:\n",
    "        float: The sum of the resulting image after applying the Toboggan filter.\n",
    "\n",
    "    \"\"\"\n",
    "    transformed = sitk.Toboggan(img)\n",
    "    array = sitk.GetArrayFromImage(transformed)\n",
    "\n",
    "    f = sitk.StatisticsImageFilter()\n",
    "    f.Execute(transformed)\n",
    "    return f.GetSum()\n",
    "\n",
    "def ZeroCrossingBasedEdgeDetection_(img: sitk.Image):\n",
    "    \"\"\"\n",
    "    Compute the sum of the ZeroCrossingBasedEdgeDetection filter applied to the input image.\n",
    "    The ZeroCrossingBasedEdgeDetection filter enhances edges and boundaries in an image.\n",
    "\n",
    "    Args:\n",
    "        img (sitk.Image): The input image to which the ZeroCrossingBasedEdgeDetection filter is applied.\n",
    "\n",
    "    Returns:\n",
    "        float: The sum of the resulting image after applying the ZeroCrossingBasedEdgeDetection filter.\n",
    "\n",
    "    \"\"\"\n",
    "    transformed = sitk.ZeroCrossingBasedEdgeDetection(img)\n",
    "    array = sitk.GetArrayFromImage(transformed)\n",
    "\n",
    "    f = sitk.StatisticsImageFilter()\n",
    "    f.Execute(transformed)\n",
    "    return f.GetSum()\n",
    "\n",
    "def Z_(img: sitk.Image):\n",
    "    \"\"\"\n",
    "    Calculate the Z-coordinate of the center of mass of the input image.\n",
    "\n",
    "    The center of mass (centroid) is the point at which the image's mass is equally balanced in all directions.\n",
    "\n",
    "    Args:\n",
    "        img (sitk.Image): The input image.\n",
    "\n",
    "    Returns:\n",
    "        float: The Z-coordinate of the center of mass.\n",
    "\n",
    "    \"\"\"\n",
    "    array = sitk.GetArrayFromImage(img)\n",
    "    coords = scipy.ndimage.measurements.center_of_mass(array)\n",
    "    return coords[0]\n",
    "\n",
    "def X_(img: sitk.Image):\n",
    "    \"\"\"\n",
    "    Calculate the X-coordinate of the center of mass of the input image.\n",
    "\n",
    "    Args:\n",
    "        img (sitk.Image): The input image.\n",
    "\n",
    "    Returns:\n",
    "        float: The X-coordinate of the center of mass.\n",
    "\n",
    "    \"\"\"\n",
    "    array = sitk.GetArrayFromImage(img)\n",
    "    coords = scipy.ndimage.measurements.center_of_mass(array)\n",
    "    return coords[1]\n",
    "\n",
    "def Y_(img: sitk.Image):\n",
    "    \"\"\"\n",
    "    Calculate the Y-coordinate of the center of mass of the input image.\n",
    "\n",
    "    Args:\n",
    "        img (sitk.Image): The input image.\n",
    "\n",
    "    Returns:\n",
    "        float: The Y-coordinate of the center of mass.\n",
    "\n",
    "    \"\"\"\n",
    "    array = sitk.GetArrayFromImage(img)\n",
    "    coords = scipy.ndimage.measurements.center_of_mass(array)\n",
    "    return coords[2]\n",
    "\n",
    "fn = [volume,\n",
    "      max,\n",
    "      median,  #HC\n",
    "      #min,  #por mascara minimo saldra 0 \n",
    "      sum, # HC \n",
    "      variance,\n",
    "      RegionalMaxima_, #HC\n",
    "      ZeroCrossing_,  #HC\n",
    "      mean, # HC\n",
    "      #Derivative_, # constant value\n",
    "      GradientMagnitudeRecursiveGaussian_,#HC\n",
    "      MorphologicalWatershed_,\n",
    "      ObjectnessMeasure_,  #HC\n",
    "      Toboggan_,  #HC\n",
    "      ZeroCrossingBasedEdgeDetection_ , #HC,\n",
    "      Z_,\n",
    "      X_,\n",
    "      Y_\n",
    "    ]\n",
    "\n",
    "\n",
    "def get_feature_header():\n",
    "    \"\"\"\n",
    "    Get the list of feature names.\n",
    "\n",
    "    Returns:\n",
    "        list: A list containing the names of the feature functions.\n",
    "\n",
    "    \"\"\"\n",
    "    return [f.__name__ for f in fn]\n",
    "\n",
    "def get_feature_vector(img : sitk.Image):\n",
    "    \"\"\"\n",
    "    Compute a vector of features for an input image.\n",
    "\n",
    "    This function takes a SimpleITK Image and calculates a vector of features by applying\n",
    "    each of the feature functions in the 'fn' list to the input image.\n",
    "\n",
    "    Args:\n",
    "        img (sitk.Image): The input image.\n",
    "\n",
    "    Returns:\n",
    "        list: A list containing the computed features.\n",
    "\n",
    "    \"\"\"\n",
    "    return [f(img) for f in fn]\n"
   ]
  },
  {
   "cell_type": "markdown",
   "metadata": {
    "id": "LCkABF9ifBvQ"
   },
   "source": [
    "## Feature extraction Lacunar and MCA examples"
   ]
  },
  {
   "cell_type": "markdown",
   "metadata": {
    "id": "HUl2-9ii0hDp"
   },
   "source": [
    "### lacunar and MCA Ids"
   ]
  },
  {
   "cell_type": "code",
   "execution_count": 1,
   "metadata": {
    "id": "hWaDNWLOv-xj",
    "jupyter": {
     "source_hidden": true
    }
   },
   "outputs": [],
   "source": [
    "LACUNAR_IDS = [\n",
    "  'c0001s0004t01',\n",
    "  'c0001s0005t01',\n",
    "  'c0002s0001t01',\n",
    "  'c0002s0002t01',\n",
    "  'c0002s0003t01',\n",
    "  'c0002s0004t01',\n",
    "  'c0002s0005t01',\n",
    "  'c0002s0008t01',\n",
    "  'c0002s0014t01',\n",
    "  'c0002s0022t01',\n",
    "  'c0002s0024t01',#\n",
    "  'c0003s0001t01',\n",
    "  'c0003s0002t01',\n",
    "  'c0003s0003t01',\n",
    "  'c0003s0004t01',\n",
    "  'c0003s0005t01',\n",
    "  'c0003s0006t01',\n",
    "  'c0003s0007t01',\n",
    "  'c0003s0008t01',\n",
    "  'c0003s0009t01',\n",
    "  'c0003s0010t01',\n",
    "  'c0003s0011t01',\n",
    "  'c0003s0012t01',\n",
    "  'c0003s0013t01',\n",
    "  'c0003s0014t01',\n",
    "  'c0003s0015t01',\n",
    "  'c0003s0016t01',\n",
    "  'c0003s0017t01',\n",
    "  'c0003s0018t01',\n",
    "  'c0003s0019t01',\n",
    "  'c0003s0020t01',\n",
    "  'c0003s0021t01',\n",
    "  'c0003s0022t01',\n",
    "  'c0003s0023t01',\n",
    "  'c0003s0024t01',\n",
    "  'c0003s0025t01',\n",
    "  'c0003s0026t01',\n",
    "  'c0003s0027t01',\n",
    "  'c0003s0028t01',\n",
    "  'c0003s0029t01',\n",
    "  'c0003s0031t01',\n",
    "  'c0003s0032t01',\n",
    "  'c0003s0033t01',\n",
    "  'c0003s0034t01',\n",
    "  'c0003s0035t01',\n",
    "  'c0003s0036t01',\n",
    "  'c0003s0037t01',\n",
    "  'c0003s0038t01',\n",
    "  'c0003s0039t01',\n",
    "  'c0003s0040t01',\n",
    "  'c0003s0041t01',\n",
    "  'c0003s0042t01',\n",
    "  'c0003s0043t01',\n",
    "  'c0003s0044t01',\n",
    "  'c0003s0045t01',\n",
    "  'c0003s0048t01',\n",
    "  'c0003s0049t01',\n",
    "  'c0003s0050t01',\n",
    "  'c0003s0051t01',\n",
    "  'c0003s0052t01',\n",
    "  'c0003s0053t01',\n",
    "  'c0003s0054t01',\n",
    "  'c0003s0055t01',\n",
    "  'c0003s0056t01',\n",
    "  'c0004s0003t01',\n",
    "  'c0004s0005t01',\n",
    "  'c0004s0007t01',\n",
    "  'c0004s0012t01',\n",
    "  'c0004s0014t01',\n",
    "  'c0004s0015t01',\n",
    "  'c0004s0016t01',\n",
    "  'c0004s0018t01',\n",
    "  'c0004s0021t01',\n",
    "  'c0004s0022t01',\n",
    "  'c0004s0024t01',\n",
    "  'c0004s0025t01',\n",
    "  'c0004s0026t01',\n",
    "  'c0004s0027t01',\n",
    "  'c0004s0029t01',\n",
    "  'c0004s0030t01',\n",
    "  'c0004s0032t01',\n",
    "  'c0004s0034t01',\n",
    "  'c0005s0006t01',\n",
    "  'c0005s0008t01',\n",
    "  'c0005s0010t01',\n",
    "  'c0005s0014t01',\n",
    "  'c0005s0018t01',\n",
    "  'c0005s0026t01',\n",
    "  'c0005s0027t01',\n",
    "  'c0005s0029t01',\n",
    "  'c0005s0035t01',\n",
    "  'c0005s0042t01',\n",
    "  'c0005s0043t01',\n",
    "  'c0005s0044t01',\n",
    "  'c0005s0049t01',\n",
    "  'c0006s0001t01',\n",
    "  'c0006s0004t01',\n",
    "  'c0006s0005t01',\n",
    "  'c0006s0010t01',\n",
    "  'c0006s0014t01',\n",
    "  'c0006s0019t01',\n",
    "  'c0006s0020t01',\n",
    "  'c0007s0004t01',\n",
    "  'c0007s0008t01',\n",
    "  'c0007s0010t01',\n",
    "  'c0007s0012t01',\n",
    "  'c0007s0013t01',\n",
    "  'c0007s0014t01',\n",
    "  'c0007s0015t01',\n",
    "  'c0007s0016t01',\n",
    "  'c0007s0017t01',\n",
    "  'c0007s0020t01',\n",
    "  'c0007s0024t01',\n",
    "  'c0007s0025t01',\n",
    "  'c0007s0026t01',\n",
    "  'c0007s0028t01',\n",
    "  'c0007s0030t01',\n",
    "  'c0007s0031t01',\n",
    "  'c0007s0035t01',\n",
    "  'c0007s0036t01',\n",
    "  'c0008s0002t01',\n",
    "  'c0008s0013t01',\n",
    "  'c0008s0032t01',\n",
    "  'c0009s0001t01',\n",
    "  'c0009s0003t01',\n",
    "  'c0009s0004t01',\n",
    "  'c0010s0002t01',\n",
    "  'c0010s0002t02',\n",
    "  'c0010s0003t01',\n",
    "  'c0010s0003t02',\n",
    "  'c0010s0006t01',\n",
    "  'c0010s0008t01',\n",
    "  'c0010s0013t01',\n",
    "  'c0010s0013t02',\n",
    "  'c0010s0014t01',\n",
    "  'c0010s0025t01',\n",
    "  'c0010s0025t02',\n",
    "  'c0010s0029t01',\n",
    "  'c0010s0031t01',\n",
    "  'c0010s0034t01',\n",
    "  'c0010s0044t01',\n",
    "  'c0010s0044t02',\n",
    "  'c0010s0046t01',\n",
    "  'c0011s0002t01',\n",
    "  'c0011s0006t01',\n",
    "  'c0011s0007t01',\n",
    "  'c0011s0011t01',\n",
    "  'c0011s0014t01',\n",
    "  'c0011s0015t01',\n",
    "]\n",
    "MCA_IDS = [\n",
    "  'c0001s0006t01',\n",
    "  'c0001s0007t01',\n",
    "  'c0001s0008t01',\n",
    "  'c0002s0007t01',\n",
    "  'c0002s0009t01',\n",
    "  'c0002s0011t01',  \n",
    "  'c0002s0012t01',\n",
    "  'c0002s0013t01',\n",
    "  'c0002s0015t01',\n",
    "  'c0002s0018t01',\n",
    "  'c0002s0019t01',\n",
    "  'c0002s0020t01',\n",
    "  'c0002s0021t01',\n",
    "  'c0002s0025t01',  \n",
    "  'c0003s0030t01',#\n",
    "  'c0004s0001t01',\n",
    "  'c0004s0002t01',\n",
    "  'c0004s0009t01',\n",
    "  'c0004s0010t01',\n",
    "  'c0004s0011t01',\n",
    "  'c0004s0013t01',\n",
    "  'c0004s0019t01',\n",
    "  'c0004s0020t01',\n",
    "  'c0004s0031t01',\n",
    "  'c0004s0033t01',\n",
    "  'c0005s0003t01',\n",
    "  'c0005s0007t01',\n",
    "  'c0005s0009t01',\n",
    "  'c0005s0013t01',\n",
    "  'c0005s0017t01',\n",
    "  'c0005s0021t01',\n",
    "  'c0005s0024t01',\n",
    "  'c0005s0030t01',\n",
    "  'c0005s0036t01',\n",
    "  'c0006s0007t01',\n",
    "  'c0006s0008t01',\n",
    "  'c0007s0001t01',\n",
    "  'c0007s0002t01',\n",
    "  'c0007s0003t01',\n",
    "  'c0007s0005t01',\n",
    "  'c0007s0006t01',\n",
    "  'c0007s0007t01',\n",
    "  'c0007s0018t01',\n",
    "  'c0007s0019t01',\n",
    "  'c0007s0021t01',\n",
    "  'c0007s0023t01',\n",
    "  'c0007s0027t01',\n",
    "  'c0007s0029t01',\n",
    "  'c0007s0032t01',\n",
    "  'c0007s0033t01',\n",
    "  'c0007s0034t01',\n",
    "  'c0008s0001t01',\n",
    "  'c0008s0003t01',\n",
    "  'c0008s0006t01',\n",
    "  'c0008s0007t01',\n",
    "  'c0008s0008t01',\n",
    "  'c0008s0009t01',\n",
    "  'c0008s0010t01',\n",
    "  'c0008s0011t01',\n",
    "  'c0008s0012t01',\n",
    "  'c0008s0014t01',\n",
    "  'c0008s0015t01',\n",
    "  'c0008s0016t01',\n",
    "  'c0008s0017t01',\n",
    "  'c0008s0018t01',\n",
    "  'c0008s0019t01',\n",
    "  'c0008s0020t01',\n",
    "  'c0008s0021t01',\n",
    "  'c0008s0022t01',\n",
    "  'c0008s0023t01',\n",
    "  'c0008s0024t01',\n",
    "  'c0008s0025t01',\n",
    "  'c0008s0026t01',\n",
    "  'c0008s0027t01',\n",
    "  'c0008s0028t01',\n",
    "  'c0008s0029t01',\n",
    "  'c0008s0030t01',\n",
    "  'c0008s0031t01',\n",
    "  'c0008s0033t01',\n",
    "  'c0009s0002t01',\n",
    "  'c0009s0005t01',\n",
    "  'c0009s0006t01',\n",
    "  'c0009s0007t01',\n",
    "  'c0009s0008t01',\n",
    "  'c0009s0009t01',\n",
    "  'c0009s0010t01',\n",
    "  'c0009s0011t01',\n",
    "  'c0009s0012t01',\n",
    "  'c0010s0001t01',\n",
    "  'c0010s0004t01',\n",
    "  'c0010s0005t01',\n",
    "  'c0010s0005t02',\n",
    "  'c0010s0007t01',\n",
    "  'c0010s0018t01',\n",
    "  'c0010s0020t01',\n",
    "  'c0010s0020t02',\n",
    "  'c0010s0021t01',\n",
    "  'c0010s0024t01',\n",
    "  'c0010s0032t01',\n",
    "  'c0010s0037t01',\n",
    "  'c0011s0001t01',\n",
    "  'c0011s0003t01',\n",
    "  'c0011s0004t01',\n",
    "  'c0011s0005t01',\n",
    "  'c0011s0008t01',\n",
    "  'c0011s0009t01',\n",
    "  'c0011s0012t01',\n",
    "  'c0011s0013t01'\n",
    "]"
   ]
  },
  {
   "cell_type": "code",
   "execution_count": 7,
   "metadata": {},
   "outputs": [],
   "source": [
    "def list_splitter(list_to_split, ratio):\n",
    "    \"\"\"\n",
    "    Splits a given list into two sublists based on the provided ratio.\n",
    "\n",
    "    Args:\n",
    "        list_to_split (list): The original list to be split.\n",
    "        ratio (float): The ratio to determine the size of the first sublist.\n",
    "\n",
    "    Returns:\n",
    "        list: A list containing two sublists. The first sublist contains elements\n",
    "              from the beginning of the original list up to the specified ratio,\n",
    "              and the second sublist contains the remaining elements.\n",
    "\n",
    "    \"\"\"\n",
    "    elements = len(list_to_split)\n",
    "    middle = int(elements * ratio)\n",
    "    return [list_to_split[:middle], list_to_split[middle:]]"
   ]
  },
  {
   "cell_type": "code",
   "execution_count": 8,
   "metadata": {},
   "outputs": [],
   "source": [
    "LACUNAR_TRAIN, LACUNAR_TEST = list_splitter(LACUNAR_IDS, 0.8)\n",
    "MCA_TRAIN, MCA_TEST = list_splitter(MCA_IDS, 0.8)"
   ]
  },
  {
   "cell_type": "code",
   "execution_count": 9,
   "metadata": {},
   "outputs": [
    {
     "data": {
      "text/plain": [
       "(119, 30)"
      ]
     },
     "execution_count": 9,
     "metadata": {},
     "output_type": "execute_result"
    }
   ],
   "source": [
    "len(LACUNAR_TRAIN), len(LACUNAR_TEST)"
   ]
  },
  {
   "cell_type": "code",
   "execution_count": 10,
   "metadata": {},
   "outputs": [
    {
     "data": {
      "text/plain": [
       "(86, 22)"
      ]
     },
     "execution_count": 10,
     "metadata": {},
     "output_type": "execute_result"
    }
   ],
   "source": [
    "len(MCA_TRAIN), len(MCA_TEST)"
   ]
  },
  {
   "cell_type": "code",
   "execution_count": 11,
   "metadata": {},
   "outputs": [],
   "source": [
    "# LACUNAR_TEST"
   ]
  },
  {
   "cell_type": "code",
   "execution_count": 12,
   "metadata": {},
   "outputs": [],
   "source": [
    "for id in LACUNAR_TRAIN:\n",
    "    if id not in LACUNAR_IDS:\n",
    "        print(id)"
   ]
  },
  {
   "cell_type": "code",
   "execution_count": 13,
   "metadata": {},
   "outputs": [],
   "source": [
    "for id in MCA_TRAIN:\n",
    "    if id not in MCA_IDS:\n",
    "        print(id)"
   ]
  },
  {
   "cell_type": "code",
   "execution_count": 14,
   "metadata": {},
   "outputs": [],
   "source": [
    "# MCA_TRAIN[:10]"
   ]
  },
  {
   "cell_type": "code",
   "execution_count": 15,
   "metadata": {},
   "outputs": [],
   "source": [
    "# MCA_TEST[:10]"
   ]
  },
  {
   "cell_type": "markdown",
   "metadata": {
    "id": "I6tayyrfumSI"
   },
   "source": [
    "### Build csv"
   ]
  },
  {
   "cell_type": "code",
   "execution_count": 16,
   "metadata": {
    "id": "t_BUkVnefwzC"
   },
   "outputs": [],
   "source": [
    "def id_from_path(path:str) -> str:\n",
    "  \"\"\"\n",
    "    Extracts the file ID from a given file path.\n",
    "\n",
    "    Args:\n",
    "        path (str): The file path from which the ID needs to be extracted.\n",
    "\n",
    "    Returns:\n",
    "        str: The extracted file ID.\n",
    "    \"\"\"\n",
    "  #may need to be updated if data location change\n",
    "  return path.split('/')[-1]"
   ]
  },
  {
   "cell_type": "code",
   "execution_count": 17,
   "metadata": {},
   "outputs": [],
   "source": [
    "base_path = '/home/carlos.jimenez/ai-in-health/Stroke-Brain-Lesions'\n",
    "datasets_path = f'{base_path}/datasets/paper lesions extended'\n",
    "models_path = f'{base_path}/modelos/paper lesions extended'\n",
    "mni_T1_path = TEMPLATE_PATH = f'{base_path}/datasets/templates/mni_icbm152_t1_tal_nlin_sym_09a.nii'"
   ]
  },
  {
   "cell_type": "code",
   "execution_count": 18,
   "metadata": {
    "colab": {
     "base_uri": "https://localhost:8080/"
    },
    "executionInfo": {
     "elapsed": 3731,
     "status": "ok",
     "timestamp": 1684872011810,
     "user": {
      "displayName": "Alejandro M",
      "userId": "11111187776730726759"
     },
     "user_tz": 300
    },
    "id": "ugIZOVU9fFaL",
    "outputId": "f2ce5904-f2c3-4565-a202-38b9d9e3cdc9"
   },
   "outputs": [
    {
     "name": "stdout",
     "output_type": "stream",
     "text": [
      "257\n"
     ]
    }
   ],
   "source": [
    "from glob import glob\n",
    "from pprint import pprint\n",
    "path_proccesed_masked=f\"{datasets_path}/native_processed_masked_best\"\n",
    "\n",
    "folders =  sorted(glob(f'{path_proccesed_masked}/*'))\n",
    "print(len(folders))\n",
    "# pprint(folders[:3])\n",
    "# print(folders)\n",
    "# folders"
   ]
  },
  {
   "cell_type": "code",
   "execution_count": 19,
   "metadata": {
    "id": "7BoHilH71WPq"
   },
   "outputs": [],
   "source": [
    "def id_from_path(path:str) -> str:\n",
    "  \"\"\"\n",
    "    Extracts the file ID from a given file path.\n",
    "\n",
    "    Args:\n",
    "        path (str): The file path from which the ID needs to be extracted.\n",
    "\n",
    "    Returns:\n",
    "        str: The extracted file ID.\n",
    "\n",
    "    \"\"\"\n",
    "  #may need to be updated if data location change\n",
    "  return path.split('/')[-1][:-24]"
   ]
  },
  {
   "cell_type": "code",
   "execution_count": 20,
   "metadata": {
    "colab": {
     "base_uri": "https://localhost:8080/"
    },
    "executionInfo": {
     "elapsed": 18,
     "status": "ok",
     "timestamp": 1684872011811,
     "user": {
      "displayName": "Alejandro M",
      "userId": "11111187776730726759"
     },
     "user_tz": 300
    },
    "id": "-29M11ks6y7H",
    "outputId": "be134d96-e496-434c-e437-896c1ea0cf56"
   },
   "outputs": [
    {
     "data": {
      "text/plain": [
       "257"
      ]
     },
     "execution_count": 20,
     "metadata": {},
     "output_type": "execute_result"
    }
   ],
   "source": [
    "#just MCA and lacunar\n",
    "whole = MCA_IDS + LACUNAR_IDS\n",
    "folders_filtered = [ f \n",
    "                    for f in folders \n",
    "                    if id_from_path(f) in whole]\n",
    "len(folders_filtered)"
   ]
  },
  {
   "cell_type": "code",
   "execution_count": 21,
   "metadata": {},
   "outputs": [
    {
     "data": {
      "text/plain": [
       "True"
      ]
     },
     "execution_count": 21,
     "metadata": {},
     "output_type": "execute_result"
    }
   ],
   "source": [
    "'c0001s0004t01' in whole"
   ]
  },
  {
   "cell_type": "code",
   "execution_count": 22,
   "metadata": {
    "id": "7tEwLaJR3ZS7"
   },
   "outputs": [
    {
     "data": {
      "text/plain": [
       "True"
      ]
     },
     "execution_count": 22,
     "metadata": {},
     "output_type": "execute_result"
    }
   ],
   "source": [
    "import warnings\n",
    "warnings.filterwarnings(\"ignore\", category=DeprecationWarning) \n",
    "'c0001s0004t01' in LACUNAR_IDS"
   ]
  },
  {
   "cell_type": "code",
   "execution_count": 23,
   "metadata": {},
   "outputs": [],
   "source": [
    "from helpers import *"
   ]
  },
  {
   "cell_type": "code",
   "execution_count": 24,
   "metadata": {},
   "outputs": [],
   "source": [
    "ximg = sitk.ReadImage(folders_filtered[-1], sitk.sitkFloat32)\n",
    "# explore_3D_array(sitk.GetArrayFromImage(ximg))"
   ]
  },
  {
   "cell_type": "code",
   "execution_count": 25,
   "metadata": {},
   "outputs": [
    {
     "data": {
      "text/plain": [
       "'c0001s0005t01'"
      ]
     },
     "execution_count": 25,
     "metadata": {},
     "output_type": "execute_result"
    }
   ],
   "source": [
    "id_from_path(folders_filtered[1])"
   ]
  },
  {
   "cell_type": "code",
   "execution_count": 26,
   "metadata": {},
   "outputs": [],
   "source": [
    "def save_slices(xpath, save_dir=None):\n",
    "    \"\"\"\n",
    "    Extracts and saves slices from the input 3D medical image in three planes (sagittal, coronal, and axial) as separate image files.\n",
    "\n",
    "    Args:\n",
    "        xpath (str): The path to the 3D medical image file.\n",
    "        save_dir (str, optional): The directory where the extracted slices will be saved. \n",
    "        If not provided, the slices will be saved in the same directory as the input image.\n",
    "\n",
    "    \"\"\"\n",
    "    # Load the 3D medical image\n",
    "    scan = nib.load(xpath)\n",
    "    scanArray = scan.get_fdata()\n",
    "    scanArrayShape = scanArray.shape\n",
    "    id = id_from_path(xpath)\n",
    "\n",
    "    \n",
    "    # Save slices in the sagittal plane\n",
    "    for i in range(scanArrayShape[0]):\n",
    "        array = scanArray[i,:,:]\n",
    "        if array.any():\n",
    "            outputArray = cv2.resize(array, (scanArrayShape[2],scanArrayShape[1]))\n",
    "            outputArray = cv2.rotate(outputArray, cv2.ROTATE_90_COUNTERCLOCKWISE)\n",
    "            cv2.imwrite(f'{save_dir}/{id}_sag_{str(i+1)}.png', outputArray)\n",
    "    \n",
    "    # Save slices in the coronal plane\n",
    "    for i in range(scanArrayShape[1]):\n",
    "        array = scanArray[:,i,:]\n",
    "        if array.any():\n",
    "            outputArray = cv2.resize(array, (scanArrayShape[2],scanArrayShape[0]))\n",
    "            outputArray = cv2.rotate(outputArray, cv2.ROTATE_90_COUNTERCLOCKWISE)\n",
    "            cv2.imwrite(f'{save_dir}/{id}_cor_{str(i+1)}.png', outputArray)\n",
    "\n",
    "    # Save slices in the axial plane\n",
    "    for i in range(scanArrayShape[2]):\n",
    "        array = scanArray[:,:,i]\n",
    "        if array.any():\n",
    "            outputArray = cv2.resize(array, (scanArrayShape[1],scanArrayShape[0]))\n",
    "            outputArray = cv2.rotate(outputArray, cv2.ROTATE_90_CLOCKWISE)\n",
    "            cv2.imwrite(f'{save_dir}/{id}_ax_{str(i+1)}.png', outputArray)"
   ]
  },
  {
   "cell_type": "code",
   "execution_count": null,
   "metadata": {
    "colab": {
     "base_uri": "https://localhost:8080/"
    },
    "executionInfo": {
     "elapsed": 3149231,
     "status": "ok",
     "timestamp": 1684877581221,
     "user": {
      "displayName": "Alejandro M",
      "userId": "11111187776730726759"
     },
     "user_tz": 300
    },
    "id": "OAnCnbh21xBg",
    "outputId": "abeb798f-cd8b-450c-d5b6-9a13a2fa27b4"
   },
   "outputs": [],
   "source": [
    "# Iterate through the filtered folders and process each image\n",
    "for i, xpath in enumerate(folders_filtered):\n",
    "    # Read the image using SimpleITK\n",
    "    ximg = sitk.ReadImage(xpath, sitk.sitkFloat32)\n",
    "    img_volume = volume(ximg)\n",
    "    # Define the paths for the classification dataset\n",
    "    clf_train_dataset = f'{datasets_path}/DL_CLASSIFICATION_SLICES_BEST_MODEL/train'\n",
    "    clf_test_dataset = f'{datasets_path}/DL_CLASSIFICATION_SLICES_BEST_MODEL/test'\n",
    "    \n",
    "    # Check if the image volume is greater than zero\n",
    "    if img_volume > 0:\n",
    "        id = id_from_path(xpath)\n",
    "\n",
    "        # Determine the appropriate save directory based on the image ID and class\n",
    "        if id in LACUNAR_TRAIN:\n",
    "            save_dir = f'{clf_train_dataset}/LACUNAR'\n",
    "        elif id in LACUNAR_TEST:\n",
    "            save_dir = f'{clf_test_dataset}/LACUNAR'\n",
    "        elif id in MCA_TRAIN:\n",
    "            save_dir = f'{clf_train_dataset}/MCA'\n",
    "        elif id in MCA_TEST:\n",
    "            save_dir = f'{clf_test_dataset}/MCA'\n",
    "        else:\n",
    "            print(i, xpath)\n",
    "            raise ValueError\n",
    "            \n",
    "        # Save the slices of the image to the appropriate directory\n",
    "        save_slices(xpath, save_dir)\n",
    "\n",
    "        print(f'{i} -> {save_dir}/{id}')\n",
    "    else:\n",
    "        print(f'volume {i} is zero: {xpath}')\n"
   ]
  },
  {
   "cell_type": "code",
   "execution_count": 42,
   "metadata": {},
   "outputs": [],
   "source": [
    "# sitk_img = sitk.ReadImage('/home/carlos.jimenez/ai-in-health/Stroke-Brain-Lesions/datasets/paper lesions extended/DL_CLASSIFICATION/LACUNAR/train/c0001s0004t01_processed_masked.nii.gz', sitk.sitkFloat32)"
   ]
  },
  {
   "cell_type": "code",
   "execution_count": 20,
   "metadata": {},
   "outputs": [],
   "source": [
    "# print(sitk_img)"
   ]
  },
  {
   "cell_type": "code",
   "execution_count": 42,
   "metadata": {},
   "outputs": [
    {
     "name": "stdout",
     "output_type": "stream",
     "text": [
      "The scan data array has the shape:  (197, 233, 189)\n",
      "##### 0th ####\n",
      "##### 1st ####\n",
      "##### 2nd ####\n"
     ]
    }
   ],
   "source": [
    "save_path = f'{base_path}/datasets/template_slices'\n",
    "# sitk_img = sitk.ReadImage(TEMPLATE_PATH, sitk.sitkFloat32)\n",
    "save_slices(TEMPLATE_PATH, save_path)"
   ]
  },
  {
   "cell_type": "code",
   "execution_count": 26,
   "metadata": {},
   "outputs": [
    {
     "name": "stdout",
     "output_type": "stream",
     "text": [
      "The scan data array has the shape:  (197, 233, 189)\n"
     ]
    },
    {
     "data": {
      "image/png": "[encoded data removed]",
      "text/plain": [
       "<Figure size 432x288 with 3 Axes>"
      ]
     },
     "metadata": {
      "needs_background": "light"
     },
     "output_type": "display_data"
    }
   ],
   "source": [
    "scanFilePath = TEMPLATE_PATH\n",
    " \n",
    "#Load the scan and extract data using nibabel \n",
    "scan = nib.load(scanFilePath)\n",
    "scanArray = scan.get_fdata()\n",
    " \n",
    "#Get and print the scan's shape \n",
    "scanArrayShape = scanArray.shape\n",
    "print('The scan data array has the shape: ', scanArrayShape)\n",
    " \n",
    "#Get and print the scan's header\n",
    "scanHeader = scan.header\n",
    "# print('The scan header is as follows: \\n', scanHeader)\n",
    " \n",
    "#Display scan array's middle slices\n",
    "fig, axs = plt.subplots(1,3)\n",
    "fig.suptitle('Scan Array (Middle Slices)')\n",
    "axs[0].imshow(scanArray[50,:,:], cmap='gray')\n",
    "axs[1].imshow(scanArray[:,50,:], cmap='gray')\n",
    "axs[2].imshow(scanArray[:,:,30], cmap='gray')\n",
    "fig.tight_layout()\n",
    "plt.show()"
   ]
  },
  {
   "cell_type": "code",
   "execution_count": null,
   "metadata": {},
   "outputs": [],
   "source": []
  },
  {
   "cell_type": "code",
   "execution_count": 45,
   "metadata": {},
   "outputs": [],
   "source": [
    "import os\n",
    "\n",
    "base_path = '/home/carlos.jimenez/ai-in-health/Stroke-Brain-Lesions'\n",
    "datasets_path = f'{base_path}/datasets/paper lesions extended'\n",
    "models_path = f'{base_path}/modelos/paper lesions extended'\n",
    "mni_T1_path = TEMPLATE_PATH = f'{base_path}/datasets/templates/mni_icbm152_t1_tal_nlin_sym_09a.nii'\n",
    "clf_dataset_path = f'{datasets_path}/DL_CLASSIFICATION_SLICES_BEST_MODEL/train'"
   ]
  },
  {
   "cell_type": "code",
   "execution_count": 46,
   "metadata": {},
   "outputs": [
    {
     "data": {
      "text/plain": [
       "17879"
      ]
     },
     "execution_count": 46,
     "metadata": {},
     "output_type": "execute_result"
    }
   ],
   "source": [
    "# Define the path to the 'LACUNAR' directory in the classification dataset\n",
    "lacunar_train = os.listdir(f'{clf_dataset_path}/LACUNAR')\n",
    "# Extract the image IDs from the filenames and store them in a list\n",
    "lacunar_train_ids = [p.split('_')[0] for p in lacunar_train]\n",
    "# Get the number of unique image IDs in the 'LACUNAR' directory\n",
    "len(lacunar_train_ids)\n",
    "# print(lacunar_train)"
   ]
  },
  {
   "cell_type": "code",
   "execution_count": 47,
   "metadata": {},
   "outputs": [
    {
     "data": {
      "text/plain": [
       "18568"
      ]
     },
     "execution_count": 47,
     "metadata": {},
     "output_type": "execute_result"
    }
   ],
   "source": [
    "mca_train = os.listdir(f'{clf_dataset_path}/MCA')\n",
    "mca_train_ids = [p.split('_')[0] for p in mca_train]\n",
    "len(mca_train_ids)"
   ]
  },
  {
   "cell_type": "code",
   "execution_count": 8,
   "metadata": {},
   "outputs": [],
   "source": [
    "for id in lacunar_train_ids:\n",
    "    if id in mca_train_ids:\n",
    "        print(id)"
   ]
  },
  {
   "cell_type": "code",
   "execution_count": 24,
   "metadata": {},
   "outputs": [],
   "source": [
    "# import matplotlib.image as img\n",
    "# import numpy as np\n",
    "\n",
    "# for path in lacunar_train:\n",
    "#     xpath = f'{clf_dataset_path}/Lacunar/{path}'\n",
    "# #     print(xpath)\n",
    "#     image = img.imread(xpath)\n",
    "    \n",
    "# #     print(img)\n",
    "#     print(np.array(image).shape)"
   ]
  },
  {
   "cell_type": "code",
   "execution_count": 15,
   "metadata": {},
   "outputs": [
    {
     "name": "stdout",
     "output_type": "stream",
     "text": [
      "23\n"
     ]
    }
   ],
   "source": [
    "# import os\n",
    "# import random\n",
    "# import shutil\n",
    "\n",
    "# source = f'{clf_dataset_path}/MCA'\n",
    "# dest = f'{datasets_path}/MCA_TEST_EXTRAS'\n",
    "# files = os.listdir(source)\n",
    "# no_of_files = int(len(files) * 0.008)\n",
    "\n",
    "# print(no_of_files)\n",
    "\n",
    "# for file_name in random.sample(files, no_of_files):\n",
    "#     shutil.move(os.path.join(source, file_name), dest)\n"
   ]
  },
  {
   "cell_type": "code",
   "execution_count": 61,
   "metadata": {},
   "outputs": [
    {
     "data": {
      "text/plain": [
       "9393"
      ]
     },
     "execution_count": 61,
     "metadata": {},
     "output_type": "execute_result"
    }
   ],
   "source": [
    "17077 - 7684"
   ]
  }
 ],
 "metadata": {
  "colab": {
   "collapsed_sections": [],
   "name": "preprocesing_01_classification_all_slices_mask.ipynb",
   "provenance": [],
   "toc_visible": true
  },
  "kernelspec": {
   "display_name": "Python 3 (ipykernel)",
   "language": "python",
   "name": "python3"
  },
  "language_info": {
   "codemirror_mode": {
    "name": "ipython",
    "version": 3
   },
   "file_extension": ".py",
   "mimetype": "text/x-python",
   "name": "python",
   "nbconvert_exporter": "python",
   "pygments_lexer": "ipython3",
   "version": "3.11.4"
  }
 },
 "nbformat": 4,
 "nbformat_minor": 4
}
