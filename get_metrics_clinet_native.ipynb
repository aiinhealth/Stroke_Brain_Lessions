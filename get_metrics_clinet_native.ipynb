{
 "cells": [
  {
   "cell_type": "markdown",
   "metadata": {
    "id": "v2XvrOWkyk9O"
   },
   "source": [
    "## First create a direct access to /datasets folder in your personal drive (If needed)"
   ]
  },
  {
   "cell_type": "code",
   "execution_count": null,
   "metadata": {
    "colab": {
     "base_uri": "https://localhost:8080/"
    },
    "executionInfo": {
     "elapsed": 7993,
     "status": "ok",
     "timestamp": 1685140222927,
     "user": {
      "displayName": "Alejandro M",
      "userId": "11111187776730726759"
     },
     "user_tz": 300
    },
    "id": "eMNWO08O81RZ",
    "outputId": "e7af3c01-9c0a-4f2e-bfd9-64c282697415"
   },
   "outputs": [
    {
     "name": "stdout",
     "output_type": "stream",
     "text": [
      "Mounted at /content/drive\n"
     ]
    }
   ],
   "source": [
    "# Mount drive if needed\n",
    "from google.colab import drive\n",
    "drive.mount('/content/drive', force_remount=True)"
   ]
  },
  {
   "cell_type": "markdown",
   "metadata": {
    "id": "v8rt_QUUthFp"
   },
   "source": [
    "\n",
    "## Install dependencies"
   ]
  },
  {
   "cell_type": "code",
   "execution_count": null,
   "metadata": {
    "colab": {
     "base_uri": "https://localhost:8080/"
    },
    "executionInfo": {
     "elapsed": 31722,
     "status": "ok",
     "timestamp": 1685135610837,
     "user": {
      "displayName": "Alejandro M",
      "userId": "11111187776730726759"
     },
     "user_tz": 300
    },
    "id": "Bdm-G9y_1Wrw",
    "outputId": "f9aaff7e-850e-45b2-cda7-1548704672c6"
   },
   "outputs": [],
   "source": [
    "! pip install SimpleITK\n",
    "! pip install antspyx"
   ]
  },
  {
   "cell_type": "markdown",
   "metadata": {
    "id": "4B0BhRTnxlxj"
   },
   "source": [
    "\n",
    "## Load images to current session"
   ]
  },
  {
   "cell_type": "code",
   "execution_count": null,
   "metadata": {
    "colab": {
     "base_uri": "https://localhost:8080/"
    },
    "executionInfo": {
     "elapsed": 9380,
     "status": "ok",
     "timestamp": 1685135620209,
     "user": {
      "displayName": "Alejandro M",
      "userId": "11111187776730726759"
     },
     "user_tz": 300
    },
    "id": "GhAcoJXWxqgK",
    "outputId": "6806bb91-aa52-46f9-c370-d6a7e9c1ca83"
   },
   "outputs": [],
   "source": [
    "! mkdir -v data\n",
    "! unzip \"/path/to/dataset.zip\" -d \"/data\""
   ]
  },
  {
   "cell_type": "markdown",
   "metadata": {
    "id": "XTgql7bdMB9d"
   },
   "source": [
    "## Define Train Model (CLCI net)"
   ]
  },
  {
   "cell_type": "code",
   "execution_count": null,
   "metadata": {
    "id": "uMARo5n2MB9r"
   },
   "outputs": [],
   "source": [
    "from keras import *\n",
    "from keras.layers import *\n",
    "import tensorflow as tf\n",
    "kernel_regularizer = regularizers.l2(1e-5)\n",
    "bias_regularizer = regularizers.l2(1e-5)\n",
    "kernel_regularizer = None\n",
    "bias_regularizer = None\n",
    "\n",
    "def conv_lstm(input1, input2, channel=256):\n",
    "    \"\"\"\n",
    "    Convolutional LSTM layer for processing two inputs.\n",
    "\n",
    "    Args:\n",
    "        input1 (tf.Tensor): The first input tensor.\n",
    "        input2 (tf.Tensor): The second input tensor.\n",
    "        channel (int, optional): Number of output channels in the ConvLSTM layer. Default is 256.\n",
    "\n",
    "    Returns:\n",
    "        tf.Tensor: The output tensor after passing through the ConvLSTM layer.\n",
    "\n",
    "    \"\"\"\n",
    "    lstm_input1 = Reshape((1, input1.shape.as_list()[1], input1.shape.as_list()[2], input1.shape.as_list()[3]))(input1)\n",
    "    lstm_input2 = Reshape((1, input2.shape.as_list()[1], input2.shape.as_list()[2], input1.shape.as_list()[3]))(input2)\n",
    "\n",
    "    lstm_input = custom_concat(axis=1)([lstm_input1, lstm_input2])\n",
    "    x = ConvLSTM2D(channel, (3, 3), strides=(1, 1), padding='same', kernel_initializer='he_normal', kernel_regularizer=kernel_regularizer)(lstm_input)\n",
    "    return x\n",
    "\n",
    "def conv_2(inputs, filter_num, kernel_size=(3,3), strides=(1,1), kernel_initializer='glorot_uniform', kernel_regularizer = kernel_regularizer):\n",
    "    \"\"\"\n",
    "    Double convolution block with BatchNormalization and ReLU activation.\n",
    "\n",
    "    Args:\n",
    "        inputs (tf.Tensor): The input tensor to the block.\n",
    "        filter_num (int): Number of filters in the convolutional layers.\n",
    "        kernel_size (tuple, optional): Size of the convolutional kernel. Default is (3, 3).\n",
    "        strides (tuple, optional): Strides for the convolution. Default is (1, 1).\n",
    "        kernel_initializer (str, optional): Initialization method for the convolutional kernel. Default is 'glorot_uniform'.\n",
    "        kernel_regularizer (tf.keras.regularizers.Regularizer, optional): Regularizer for the convolutional kernel. Default is kernel_regularizer.\n",
    "\n",
    "    Returns:\n",
    "        tf.Tensor: The output tensor after passing through the double convolution block.\n",
    "\n",
    "    \"\"\"\n",
    "    conv_ = Conv2D(filter_num, kernel_size=kernel_size, strides=strides, padding='same', kernel_initializer=kernel_initializer, kernel_regularizer = kernel_regularizer)(inputs)\n",
    "    conv_ = BatchNormalization()(conv_)\n",
    "    conv_ = Activation('relu')(conv_)\n",
    "    conv_ = Conv2D(filter_num, kernel_size=kernel_size, strides=strides, padding='same', kernel_initializer=kernel_initializer, kernel_regularizer = kernel_regularizer)(conv_)\n",
    "    conv_ = BatchNormalization()(conv_)\n",
    "    conv_ = Activation('relu')(conv_)   \n",
    "    return conv_\n",
    "\n",
    "def conv_2_init(inputs, filter_num, kernel_size=(3,3), strides=(1,1)):\n",
    "    \"\"\"\n",
    "    Double convolution block with specific initialization and default regularizer.\n",
    "\n",
    "    Args:\n",
    "        inputs (tf.Tensor): The input tensor to the block.\n",
    "        filter_num (int): Number of filters in the convolutional layers.\n",
    "        kernel_size (tuple, optional): Size of the convolutional kernel. Default is (3, 3).\n",
    "        strides (tuple, optional): Strides for the convolution. Default is (1, 1).\n",
    "\n",
    "    Returns:\n",
    "        tf.Tensor: The output tensor after passing through the double convolution block with specific initialization.\n",
    "\n",
    "    \"\"\"\n",
    "    return conv_2(inputs, filter_num, kernel_size=kernel_size, strides=strides, kernel_initializer='he_normal', kernel_regularizer = kernel_regularizer) \n",
    "\n",
    "def conv_2_init_regularization(inputs, filter_num, kernel_size=(3,3), strides=(1,1)):\n",
    "    \"\"\"\n",
    "    Double convolution block with specific initialization and L2 regularization.\n",
    "\n",
    "    Args:\n",
    "        inputs (tf.Tensor): The input tensor to the block.\n",
    "        filter_num (int): Number of filters in the convolutional layers.\n",
    "        kernel_size (tuple, optional): Size of the convolutional kernel. Default is (3, 3).\n",
    "        strides (tuple, optional): Strides for the convolution. Default is (1, 1).\n",
    "\n",
    "    Returns:\n",
    "        tf.Tensor: The output tensor after passing through the double convolution block with specific initialization and L2 regularization.\n",
    "\n",
    "    \"\"\"\n",
    "    return conv_2(inputs, filter_num, kernel_size=kernel_size, strides=strides, kernel_initializer='he_normal', kernel_regularizer = regularizers.l2(5e-4)) \n",
    "\n",
    "def conv_1(inputs, filter_num, kernel_size=(3,3), strides=(1,1), kernel_initializer='glorot_uniform', kernel_regularizer = kernel_regularizer):\n",
    "    \"\"\"\n",
    "    Single convolution block with optional initialization and regularization.\n",
    "\n",
    "    Args:\n",
    "        inputs (tf.Tensor): The input tensor to the block.\n",
    "        filter_num (int): Number of filters in the convolutional layer.\n",
    "        kernel_size (tuple, optional): Size of the convolutional kernel. Default is (3, 3).\n",
    "        strides (tuple, optional): Strides for the convolution. Default is (1, 1).\n",
    "        kernel_initializer (str, optional): Type of initializer for the convolutional kernel. Default is 'glorot_uniform'.\n",
    "        kernel_regularizer (tf.keras.regularizers.Regularizer, optional): Regularizer for the convolutional kernel. Default is None.\n",
    "\n",
    "    Returns:\n",
    "        tf.Tensor: The output tensor after passing through the single convolution block.\n",
    "\n",
    "    \"\"\"\n",
    "    conv_ = Conv2D(filter_num, kernel_size=kernel_size, strides=strides, padding='same', kernel_initializer=kernel_initializer, kernel_regularizer = kernel_regularizer)(inputs)\n",
    "    conv_ = BatchNormalization()(conv_)\n",
    "    conv_ = Activation('relu')(conv_)\n",
    "    return conv_\n",
    "\n",
    "def conv_1_init(inputs, filter_num, kernel_size=(3,3), strides=(1,1)):\n",
    "    \"\"\"\n",
    "    Single convolution block with He normal initialization and optional regularization.\n",
    "\n",
    "    Args:\n",
    "        inputs (tf.Tensor): The input tensor to the block.\n",
    "        filter_num (int): Number of filters in the convolutional layer.\n",
    "        kernel_size (tuple, optional): Size of the convolutional kernel. Default is (3, 3).\n",
    "        strides (tuple, optional): Strides for the convolution. Default is (1, 1).\n",
    "\n",
    "    Returns:\n",
    "        tf.Tensor: The output tensor after passing through the single convolution block with He normal initialization.\n",
    "\n",
    "    \"\"\"\n",
    "    return conv_1(inputs, filter_num, kernel_size=kernel_size, strides=strides, kernel_initializer='he_normal', kernel_regularizer = kernel_regularizer) \n",
    "\n",
    "def conv_1_init_regularization(inputs, filter_num, kernel_size=(3,3), strides=(1,1)):\n",
    "    \"\"\"\n",
    "    Single convolution block with He normal initialization and L2 regularization.\n",
    "\n",
    "    Args:\n",
    "        inputs (tf.Tensor): The input tensor to the block.\n",
    "        filter_num (int): Number of filters in the convolutional layer.\n",
    "        kernel_size (tuple, optional): Size of the convolutional kernel. Default is (3, 3).\n",
    "        strides (tuple, optional): Strides for the convolution. Default is (1, 1).\n",
    "\n",
    "    Returns:\n",
    "        tf.Tensor: The output tensor after passing through the single convolution block with He normal initialization and L2 regularization.\n",
    "\n",
    "    \"\"\"\n",
    "    return conv_1(inputs, filter_num, kernel_size=kernel_size, strides=strides, kernel_initializer='he_normal', kernel_regularizer = regularizers.l2(5e-4))\n",
    "\n",
    "def dilate_conv(inputs, filter_num, dilation_rate):\n",
    "    \"\"\"\n",
    "    Dilated convolution block with He normal initialization and L2 regularization.\n",
    "\n",
    "    Args:\n",
    "        inputs (tf.Tensor): The input tensor to the block.\n",
    "        filter_num (int): Number of filters in the convolutional layer.\n",
    "        dilation_rate (int or tuple): Dilation rate for the convolution. If an int is provided, the same dilation is used in both dimensions.\n",
    "\n",
    "    Returns:\n",
    "        tf.Tensor: The output tensor after passing through the dilated convolution block with He normal initialization and L2 regularization.\n",
    "\n",
    "    \"\"\"\n",
    "    conv_ = Conv2D(filter_num, kernel_size=(3,3), dilation_rate=dilation_rate, padding='same', kernel_initializer='he_normal', kernel_regularizer = kernel_regularizer)(inputs)\n",
    "    conv_ = BatchNormalization()(conv_)\n",
    "    conv_ = Activation('relu')(conv_)\n",
    "    return conv_\n",
    "\n",
    "class custom_concat(Layer):\n",
    "    \"\"\"\n",
    "    Custom Concatenation Layer.\n",
    "\n",
    "    Args:\n",
    "        axis (int, optional): The axis along which to concatenate the inputs. Default is -1, which corresponds to the last axis.\n",
    "\n",
    "    Attributes:\n",
    "        axis (int): The axis along which to concatenate the inputs.\n",
    "\n",
    "    Methods:\n",
    "        __init__(self, axis=-1, **kwargs): Initializes the custom_concat layer.\n",
    "        build(self, input_shape): Builds the custom_concat layer.\n",
    "        call(self, x): Executes the custom_concat layer on the input tensor.\n",
    "        compute_output_shape(self, input_shape): Computes the output shape of the custom_concat layer.\n",
    "\n",
    "    \"\"\"\n",
    "    def __init__(self, axis=-1, **kwargs):\n",
    "        \"\"\"\n",
    "        Initializes the custom_concat layer.\n",
    "\n",
    "        Args:\n",
    "            axis (int, optional): The axis along which to concatenate the inputs. Default is -1, which corresponds to the last axis.\n",
    "\n",
    "        \"\"\"\n",
    "        super(custom_concat, self).__init__(**kwargs)\n",
    "        self.axis = axis\n",
    "\n",
    "    def build(self, input_shape):\n",
    "        \"\"\"\n",
    "        Builds the custom_concat layer.\n",
    "\n",
    "        Args:\n",
    "            input_shape (tuple): The shape of the input tensor.\n",
    "\n",
    "        \"\"\"\n",
    "        # Create a trainable weight variable for this layer.\n",
    "        self.built = True\n",
    "        super(custom_concat, self).build(input_shape)  # Be sure to call this somewhere!\n",
    "\n",
    "    def call(self, x):\n",
    "        \"\"\"\n",
    "        Executes the custom_concat layer on the input tensor.\n",
    "\n",
    "        Args:\n",
    "            x (tf.Tensor or list of tf.Tensor): The input tensor or list of input tensors to concatenate.\n",
    "\n",
    "        Returns:\n",
    "            tf.Tensor: The concatenated tensor.\n",
    "\n",
    "        \"\"\"\n",
    "        self.res = tf.concat(x, self.axis)\n",
    "\n",
    "        return self.res\n",
    "\n",
    "    def compute_output_shape(self, input_shape):\n",
    "        \"\"\"\n",
    "        Computes the output shape of the custom_concat layer.\n",
    "\n",
    "        Args:\n",
    "            input_shape (tuple): The shape of the input tensor.\n",
    "\n",
    "        Returns:\n",
    "            tuple: The shape of the output tensor.\n",
    "\n",
    "        \"\"\"\n",
    "        \n",
    "        input_shapes = input_shape\n",
    "        output_shape = list(input_shapes[0])\n",
    "\n",
    "        for shape in input_shapes[1:]:\n",
    "            if output_shape[self.axis] is None or shape[self.axis] is None:\n",
    "                output_shape[self.axis] = None\n",
    "                break\n",
    "            output_shape[self.axis] += shape[self.axis]\n",
    "\n",
    "        return tuple(output_shape)\n",
    "\n",
    "class BilinearUpsampling(Layer):\n",
    "    \"\"\"\n",
    "    Bilinear Upsampling Layer.\n",
    "\n",
    "    Args:\n",
    "        upsampling (tuple, optional): The upsampling factor as a tuple (height_factor, width_factor). Default is (2, 2).\n",
    "\n",
    "    Attributes:\n",
    "        upsampling (tuple): The upsampling factor as a tuple (height_factor, width_factor).\n",
    "\n",
    "    Methods:\n",
    "        __init__(self, upsampling=(2, 2), **kwargs): Initializes the BilinearUpsampling layer.\n",
    "        compute_output_shape(self, input_shape): Computes the output shape of the BilinearUpsampling layer.\n",
    "        call(self, inputs): Executes the BilinearUpsampling layer on the input tensor.\n",
    "\n",
    "    \"\"\"\n",
    "    def __init__(self, upsampling=(2, 2), **kwargs):\n",
    "        \"\"\"\n",
    "        Initializes the BilinearUpsampling layer.\n",
    "\n",
    "        Args:\n",
    "            upsampling (tuple, optional): The upsampling factor as a tuple (height_factor, width_factor). Default is (2, 2).\n",
    "\n",
    "        \"\"\"\n",
    "        super(BilinearUpsampling, self).__init__(**kwargs)       \n",
    "        self.upsampling = upsampling\n",
    "        \n",
    "    def compute_output_shape(self, input_shape):\n",
    "        \"\"\"\n",
    "        Computes the output shape of the BilinearUpsampling layer.\n",
    "\n",
    "        Args:\n",
    "            input_shape (tuple): The shape of the input tensor.\n",
    "\n",
    "        Returns:\n",
    "            tuple: The shape of the output tensor.\n",
    "\n",
    "        \"\"\"\n",
    "        height = self.upsampling[0] * \\\n",
    "                 input_shape[1] if input_shape[1] is not None else None\n",
    "        width = self.upsampling[1] * \\\n",
    "                input_shape[2] if input_shape[2] is not None else None\n",
    "        return (input_shape[0],\n",
    "                height,\n",
    "                width,\n",
    "                input_shape[3])\n",
    "\n",
    "    def call(self, inputs):\n",
    "        \"\"\"\n",
    "        Executes the BilinearUpsampling layer on the input tensor.\n",
    "\n",
    "        Args:\n",
    "            inputs (tf.Tensor): The input tensor to upsample.\n",
    "\n",
    "        Returns:\n",
    "            tf.Tensor: The upsampled tensor.\n",
    "\n",
    "        \"\"\"\n",
    "        return tf.image.resize(inputs, (int(inputs.shape[1] * self.upsampling[0]),\n",
    "                                                   int(inputs.shape[2] * self.upsampling[1])))\n",
    "\n",
    "def concat_pool(conv, pool, filter_num, strides=(2, 2)):\n",
    "    \"\"\"\n",
    "    Concatenate and Pooling Layer.\n",
    "\n",
    "    This function performs concatenation and pooling on the input tensors.\n",
    "\n",
    "    Args:\n",
    "        conv (tf.Tensor): The convolutional tensor.\n",
    "        pool (tf.Tensor): The pooling tensor.\n",
    "        filter_num (int): The number of filters for the convolutional layer.\n",
    "        strides (tuple, optional): The strides for the convolutional layer. Default is (2, 2).\n",
    "\n",
    "    Returns:\n",
    "        tf.Tensor: The concatenated and pooled tensor.\n",
    "\n",
    "    \"\"\"\n",
    "    conv_downsample = Conv2D(filter_num, (3, 3), strides=strides, padding='same', kernel_initializer='he_normal', kernel_regularizer=kernel_regularizer)(conv)\n",
    "    conv_downsample = BatchNormalization()(conv_downsample)\n",
    "    conv_downsample = Activation('relu')(conv_downsample)\n",
    "    concat_pool_ = Concatenate()([conv_downsample, pool])\n",
    "    return concat_pool_\n",
    "\n",
    "######################################\n",
    "from keras.optimizers import Adam\n",
    "import keras.backend as K\n",
    "#from custom_layer import *\n",
    "\n",
    "\n",
    "def dice_coef(y_true, y_pred):\n",
    "    \"\"\"\n",
    "    This function calculates the Dice coefficient, which is a metric commonly used in image segmentation tasks\n",
    "    to evaluate the similarity between the predicted segmentation and the ground truth.\n",
    "\n",
    "    Args:\n",
    "        y_true (tf.Tensor): The ground truth segmentation mask.\n",
    "        y_pred (tf.Tensor): The predicted segmentation mask.\n",
    "\n",
    "    Returns:\n",
    "        tf.Tensor: The Dice coefficient.\n",
    "\n",
    "    \"\"\"\n",
    "    y_true_f = K.flatten(y_true)\n",
    "    y_pred_f = K.flatten(y_pred)\n",
    "    intersection = K.sum(y_true_f * y_pred_f)\n",
    "    return (2. * intersection + 1) / (K.sum(y_true_f * y_true_f) + K.sum(y_pred_f * y_pred_f) + 1)\n",
    "\n",
    "def dice_coef_loss(y_true, y_pred):\n",
    "    \"\"\"\n",
    "    Dice Coefficient Loss Function.\n",
    "\n",
    "    Args:\n",
    "        y_true (tf.Tensor): The ground truth segmentation mask.\n",
    "        y_pred (tf.Tensor): The predicted segmentation mask.\n",
    "\n",
    "    Returns:\n",
    "        tf.Tensor: The Dice coefficient loss.\n",
    "\n",
    "    \"\"\"\n",
    "    return 1. - dice_coef(y_true, y_pred)\n",
    "\n",
    "def CLCI_Net(input_shape=(224, 176, 1), num_class=1):\n",
    "    \"\"\"\n",
    "    Custom CLCI-Net Model.\n",
    "\n",
    "    This function defines the CLCI-Net architecture, a custom convolutional neural network for image segmentation tasks.\n",
    "\n",
    "    Args:\n",
    "        input_shape (tuple, optional): The shape of the input images. Defaults to (224, 176, 1).\n",
    "        num_class (int, optional): The number of output classes. For binary segmentation, set it to 1. For multi-class\n",
    "                                   segmentation, set it to the number of classes. Defaults to 1.\n",
    "\n",
    "    Returns:\n",
    "        tf.keras.Model: The CLCI-Net model.\n",
    "\n",
    "    \"\"\"\n",
    "    # The row and col of input should be resized or cropped to an integer multiple of 16.\n",
    "    inputs = Input(shape=input_shape)\n",
    "\n",
    "    conv1 = conv_2_init(inputs, 32)\n",
    "    pool1 = MaxPooling2D(pool_size=(2, 2))(conv1)\n",
    "    concat_pool11 = concat_pool(conv1, pool1, 32, strides=(2, 2))\n",
    "    fusion1 = conv_1_init(concat_pool11, 64 * 4, kernel_size=(1, 1))\n",
    "\n",
    "    conv2 = conv_2_init(fusion1, 64)\n",
    "    pool2 = MaxPooling2D(pool_size=(2, 2))(conv2)\n",
    "    concat_pool12 = concat_pool(conv1, pool2, 64, strides=(4, 4))\n",
    "    concat_pool22 = concat_pool(conv2, concat_pool12, 64, strides=(2, 2))\n",
    "    fusion2 = conv_1_init(concat_pool22, 128 * 4, kernel_size=(1, 1))\n",
    "\n",
    "    conv3 = conv_2_init(fusion2, 128)\n",
    "    pool3 = MaxPooling2D(pool_size=(2, 2))(conv3)\n",
    "    concat_pool13 = concat_pool(conv1, pool3, 128, strides=(8, 8))\n",
    "    concat_pool23 = concat_pool(conv2, concat_pool13, 128, strides=(4, 4))\n",
    "    concat_pool33 = concat_pool(conv3, concat_pool23, 128, strides=(2, 2))\n",
    "    fusion3 = conv_1_init(concat_pool33, 256 * 4, kernel_size=(1, 1))\n",
    "\n",
    "    conv4 = conv_2_init(fusion3, 256)\n",
    "    pool4 = MaxPooling2D(pool_size=(2, 2))(conv4)\n",
    "    concat_pool14 = concat_pool(conv1, pool4, 256, strides=(16, 16))\n",
    "    concat_pool24 = concat_pool(conv2, concat_pool14, 256, strides=(8, 8))\n",
    "    concat_pool34 = concat_pool(conv3, concat_pool24, 256, strides=(4, 4))\n",
    "    concat_pool44 = concat_pool(conv4, concat_pool34, 256, strides=(2, 2))\n",
    "    fusion4 = conv_1_init(concat_pool44, 512 * 4, kernel_size=(1, 1))\n",
    "\n",
    "    conv5 = conv_2_init(fusion4, 512)\n",
    "    conv5 = Dropout(0.5)(conv5)\n",
    "\n",
    "    clf_aspp = CLF_ASPP(conv5, conv1, conv2, conv3, conv4, input_shape)\n",
    "\n",
    "    up_conv1 = UpSampling2D(size=(2, 2))(clf_aspp)\n",
    "    up_conv1 = conv_1_init(up_conv1, 256, kernel_size=(2, 2))\n",
    "    skip_conv4 = conv_1_init(conv4, 256, kernel_size=(1, 1))\n",
    "    context_inference1 = conv_lstm(up_conv1, skip_conv4, channel=256)\n",
    "    conv6 = conv_2_init(context_inference1, 256)\n",
    "\n",
    "    up_conv2 = UpSampling2D(size=(2, 2))(conv6)\n",
    "    up_conv2 = conv_1_init(up_conv2, 128, kernel_size=(2, 2))\n",
    "    skip_conv3 = conv_1_init(conv3, 128, kernel_size=(1, 1))\n",
    "    context_inference2 = conv_lstm(up_conv2, skip_conv3, channel=128)\n",
    "    conv7 = conv_2_init(context_inference2, 128)\n",
    "\n",
    "    up_conv3 = UpSampling2D(size=(2, 2))(conv7)\n",
    "    up_conv3 = conv_1_init(up_conv3, 64, kernel_size=(2, 2))\n",
    "    skip_conv2 = conv_1_init(conv2, 64, kernel_size=(1, 1))\n",
    "    context_inference3 = conv_lstm(up_conv3, skip_conv2, channel=64)\n",
    "    conv8 = conv_2_init(context_inference3, 64)\n",
    "\n",
    "    up_conv4 = UpSampling2D(size=(2, 2))(conv8)\n",
    "    up_conv4 = conv_1_init(up_conv4, 32, kernel_size=(2, 2))\n",
    "    skip_conv1 = conv_1_init(conv1, 32, kernel_size=(1, 1))\n",
    "    context_inference4 = conv_lstm(up_conv4, skip_conv1, channel=32)\n",
    "    conv9 = conv_2_init(context_inference4, 32)\n",
    "\n",
    "\n",
    "    if num_class == 1:\n",
    "        conv10 = Conv2D(num_class, (1, 1), activation='sigmoid')(conv9)\n",
    "    else:\n",
    "        conv10 = Conv2D(num_class, (1, 1), activation='softmax')(conv9)\n",
    "\n",
    "    model = Model(inputs=inputs, outputs=conv10)\n",
    "\n",
    "    return model\n",
    "\n",
    "def CLF_ASPP(conv5, conv1, conv2, conv3, conv4, input_shape):\n",
    "    \"\"\"\n",
    "    Classifier Atrous Spatial Pyramid Pooling (ASPP) Module.\n",
    "\n",
    "    This function implements the Classifier ASPP module, which performs atrous spatial pyramid pooling and concatenates\n",
    "    the outputs from different dilated convolutions along with the intermediate convolutions from previous layers.\n",
    "\n",
    "    Args:\n",
    "        conv5 (tf.Tensor): The feature map from the fifth convolutional layer (conv5).\n",
    "        conv1 (tf.Tensor): The feature map from the first convolutional layer (conv1).\n",
    "        conv2 (tf.Tensor): The feature map from the second convolutional layer (conv2).\n",
    "        conv3 (tf.Tensor): The feature map from the third convolutional layer (conv3).\n",
    "        conv4 (tf.Tensor): The feature map from the fourth convolutional layer (conv4).\n",
    "        input_shape (tuple): The shape of the input images.\n",
    "\n",
    "    Returns:\n",
    "        tf.Tensor: The output tensor after performing Classifier ASPP.\n",
    "\n",
    "    \"\"\"\n",
    "    b0 = conv_1_init(conv5, 256, (1, 1))\n",
    "    b1 = dilate_conv(conv5, 256, dilation_rate=(2, 2))\n",
    "    b2 = dilate_conv(conv5, 256, dilation_rate=(4, 4))\n",
    "    b3 = dilate_conv(conv5, 256, dilation_rate=(6, 6))\n",
    "\n",
    "    out_shape0 = input_shape[0] // pow(2, 4)\n",
    "    out_shape1 = input_shape[1] // pow(2, 4)\n",
    "    b4 = AveragePooling2D(pool_size=(out_shape0, out_shape1))(conv5)\n",
    "    b4 = conv_1_init(b4, 256, (1, 1))\n",
    "    b4 = BilinearUpsampling((out_shape0, out_shape1))(b4)\n",
    "\n",
    "    clf1 = conv_1_init(conv1, 256, strides=(16, 16))\n",
    "    clf2 = conv_1_init(conv2, 256, strides=(8, 8))\n",
    "    clf3 = conv_1_init(conv3, 256, strides=(4, 4))\n",
    "    clf4 = conv_1_init(conv4, 256, strides=(2, 2))\n",
    "\n",
    "    outs = Concatenate()([clf1, clf2, clf3, clf4, b0, b1, b2, b3, b4])\n",
    "\n",
    "    outs = conv_1_init(outs, 256 * 4, (1, 1))\n",
    "    outs = Dropout(0.5)(outs)\n",
    "\n",
    "    return outs"
   ]
  },
  {
   "cell_type": "markdown",
   "metadata": {
    "id": "9nUkyINb3zCR"
   },
   "source": [
    "## Preprocessing steps functions"
   ]
  },
  {
   "cell_type": "code",
   "execution_count": null,
   "metadata": {
    "colab": {
     "base_uri": "https://localhost:8080/"
    },
    "executionInfo": {
     "elapsed": 8025,
     "status": "ok",
     "timestamp": 1685135636593,
     "user": {
      "displayName": "Alejandro M",
      "userId": "11111187776730726759"
     },
     "user_tz": 300
    },
    "id": "0rHZzByP5XeA",
    "outputId": "719007cc-d38d-4d61-b141-c6e95b5bcaae"
   },
   "outputs": [
    {
     "name": "stdout",
     "output_type": "stream",
     "text": [
      "AntsPy version = 0.3.8\n",
      "SimpleITK version = 2.2.1\n"
     ]
    }
   ],
   "source": [
    "import os\n",
    "import ants\n",
    "import SimpleITK as sitk\n",
    "\n",
    "print(f'AntsPy version = {ants.__version__}')\n",
    "print(f'SimpleITK version = {sitk.__version__}')"
   ]
  },
  {
   "cell_type": "code",
   "execution_count": null,
   "metadata": {
    "id": "id8_NUqU4iHV"
   },
   "outputs": [],
   "source": [
    "mni_T1_path = TEMPLATE_PATH = '/path/to/templates/mni_icbm152_t1_tal_nlin_sym_09a.nii'\n",
    "\n",
    "def load_template_ants() -> ants.ANTsImage:\n",
    "    \"\"\"\n",
    "    Load the template image using the ANTs library.\n",
    "\n",
    "    Returns:\n",
    "        ants.ANTsImage: The loaded template image as an ANTs image object.\n",
    "\n",
    "    \"\"\"\n",
    "    template_img_ants = ants.image_read(TEMPLATE_PATH)\n",
    "    return template_img_ants\n",
    "\n",
    "def load_img_ants(path: str) -> ants.ANTsImage:\n",
    "    \"\"\"\n",
    "    Load an image using ANTs library.\n",
    "\n",
    "    Args:\n",
    "        path (str): The path to the image file.\n",
    "\n",
    "    Returns:\n",
    "        ants.ANTsImage: The loaded image as an ANTsImage object.\n",
    "    \"\"\"\n",
    "    raw_img_ants = ants.image_read(path)\n",
    "    return raw_img_ants\n",
    "\n",
    "def register_to_mni(img: ants.ANTsImage, mask: ants.ANTsImage) -> ants.ANTsImage:\n",
    "    \"\"\"\n",
    "    Register an ANTs MRI image and its mask to the MNI space.\n",
    "\n",
    "    Args:\n",
    "        img (ants.ANTsImage): The input MRI image to be registered.\n",
    "        mask (ants.ANTsImage): The mask corresponding to the MRI image.\n",
    "\n",
    "    Returns:\n",
    "        Tuple[ants.ANTsImage, ants.ANTsImage]: A tuple containing the registered MRI image\n",
    "        and the registered mask, both in the MNI space.\n",
    "    \"\"\"\n",
    "    template_img = load_template_ants()\n",
    "    transformation = ants.registration(fixed=template_img, moving=img, type_of_transform='SyN')\n",
    "\n",
    "    img_registered = transformation['warpedmovout']\n",
    "  \n",
    "    mask_registered = ants.apply_transforms(fixed=template_img,moving=mask,transformlist=transformation['fwdtransforms'])\n",
    "    return img_registered, mask_registered\n",
    "\n",
    "def register_to_mni_single(img: ants.ANTsImage) -> ants.ANTsImage:\n",
    "    \"\"\"\n",
    "    Register an ANTs MRI image to the MNI space.\n",
    "\n",
    "    Args:\n",
    "        img (ants.ANTsImage): The input MRI image to be registered.\n",
    "\n",
    "    Returns:\n",
    "        ants.ANTsImage: The registered MRI image in the MNI space.\n",
    "    \"\"\"\n",
    "    template_img = load_template_ants()\n",
    "    transformation = ants.registration(fixed=template_img, moving=img, type_of_transform='SyN')\n",
    "\n",
    "    img_registered = transformation['warpedmovout']\n",
    "  \n",
    "    return img_registered"
   ]
  },
  {
   "cell_type": "code",
   "execution_count": null,
   "metadata": {
    "id": "PtHw7q8YHSeq"
   },
   "outputs": [],
   "source": [
    "def bias_field_correction(img: sitk.Image) -> sitk.Image:\n",
    "    \"\"\"\n",
    "    Perform bias field correction on a given SimpleITK Image.\n",
    "\n",
    "    Args:\n",
    "        img (sitk.Image): The input image to be corrected.\n",
    "\n",
    "    Returns:\n",
    "        sitk.Image: The bias-corrected image.\n",
    "    \"\"\"\n",
    "    head_mask = sitk.RescaleIntensity(img, 0, 255)\n",
    "    head_mask = sitk.LiThreshold(head_mask,0,1)\n",
    "    # Downsample the input image and the head mask by a factor of 4 using shrink\n",
    "    shrinkFactor = 4\n",
    "    inputImage = img\n",
    "    inputImage = sitk.Shrink( img, [ shrinkFactor ] * inputImage.GetDimension() )\n",
    "    maskImage = sitk.Shrink( head_mask, [ shrinkFactor ] * inputImage.GetDimension() )\n",
    "\n",
    "    bias_corrector = sitk.N4BiasFieldCorrectionImageFilter()\n",
    "    bias_corrector.Execute(inputImage, maskImage)\n",
    "\n",
    "    log_bias_field = bias_corrector.GetLogBiasFieldAsImage(img)\n",
    "    result = img / sitk.Exp( log_bias_field ) # corrected img at full resolution\n",
    "\n",
    "    # output of division has 64 pixel type, we cast it to float32 to keep compatibility\n",
    "    result = sitk.Cast(result, sitk.sitkFloat32)\n",
    "    \n",
    "    return result\n",
    "\n",
    "def load_img_sitk(path: str) -> sitk.Image:\n",
    "    \"\"\"\n",
    "    Load an image using SimpleITK library.\n",
    "\n",
    "    Args:\n",
    "        path (str): The path to the image file.\n",
    "\n",
    "    Returns:\n",
    "        sitk.Image: The loaded image as a SimpleITK Image object.\n",
    "    \"\"\"\n",
    "    raw_img_sitk = sitk.ReadImage(path, sitk.sitkFloat32)\n",
    "    return raw_img_sitk"
   ]
  },
  {
   "cell_type": "code",
   "execution_count": null,
   "metadata": {
    "id": "FrMuMK5SK0fd"
   },
   "outputs": [],
   "source": [
    "# load mni152 brain mask\n",
    "TEMPLATE_BRAIN_MASK_PATH = '/content/drive/MyDrive/integradora_fiec/datasets/templates/mni_icbm152_t1_tal_nlin_sym_09a_mask.nii'\n",
    "mni152_brain_mask = sitk.ReadImage(TEMPLATE_BRAIN_MASK_PATH, sitk.sitkFloat32)\n",
    "mni152_T1 = sitk.ReadImage(TEMPLATE_PATH, sitk.sitkFloat32)"
   ]
  },
  {
   "cell_type": "code",
   "execution_count": null,
   "metadata": {
    "id": "5GSJad70K35-"
   },
   "outputs": [],
   "source": [
    "import numpy as np\n",
    "from typing import Tuple\n",
    "def preprocess_ximg(ximg: sitk.Image, flipped = False) -> Tuple[np.ndarray, sitk.Image]:\n",
    "  \"\"\"\n",
    "    Preprocess a SimpleITK Image \n",
    "\n",
    "    Args:\n",
    "        ximg (sitk.Image): The input image to be preprocessed.\n",
    "        flipped (bool, optional): Flag to indicate whether to flip the image or not. Defaults to False.\n",
    "\n",
    "    Returns:\n",
    "        Tuple[np.ndarray, sitk.Image]: A tuple containing the preprocessed image as a NumPy array\n",
    "        and the corresponding preprocessed SimpleITK Image.\n",
    "    \"\"\"\n",
    "  x3d = sitk.HistogramMatching(ximg, mni152_T1)\n",
    "  x3d = sitk.Multiply(x3d, mni152_brain_mask) # mask brain\n",
    "  x3d = sitk.CurvatureAnisotropicDiffusion(x3d, conductanceParameter=1, numberOfIterations=1) # denoise a bit\n",
    "  x3d_sitk_preprocessed = x3d\n",
    "  \n",
    "  if flipped:\n",
    "    x3d = sitk.Flip(x3d,(True, False, False))\n",
    "  \n",
    "  x3d = sitk.GetArrayFromImage(x3d)\n",
    "  x3d = x3d[30:160,4:228,14:190] # crop to size -> (130, 224, 176)\n",
    "  x3d = x3d / 255.0\n",
    "  x3d = np.expand_dims(x3d,3) # add channel -> (130, 224, 176, 1)\n",
    "  assert x3d.shape == (130,224,176,1)\n",
    "  return x3d, x3d_sitk_preprocessed\n",
    "\n",
    "def preprocess_yimg(yimg: sitk.Image, flipped=False) -> np.ndarray:\n",
    "  \"\"\"\n",
    "    Preprocesses the input 3D image for the y-label (ground truth).\n",
    "\n",
    "    Args:\n",
    "        yimg (sitk.Image): The input 3D image to be preprocessed.\n",
    "        flipped (bool, optional): Whether to flip the image along the x-axis. Defaults to False.\n",
    "\n",
    "    Returns:\n",
    "        np.ndarray: The preprocessed 3D numpy array representing the y-label.\n",
    "\n",
    "    Raises:\n",
    "        AssertionError: If the resulting array shape doesn't match the expected shape.\n",
    "  \"\"\"\n",
    "  y3d = yimg\n",
    "\n",
    "  if flipped:\n",
    "    y3d = sitk.Flip(y3d,(True, False, False))\n",
    "  \n",
    "  y3d = sitk.GetArrayFromImage(y3d)\n",
    "  y3d = y3d[30:160,4:228,14:190] # crop to size -> (130, 224, 176)\n",
    "  y3d = y3d / 255.0\n",
    "  y3d = np.expand_dims(y3d,3) # add channel -> (130, 224, 176, 1)\n",
    "  assert x3d.shape == (130,224,176,1)\n",
    "  return y3d\n"
   ]
  },
  {
   "cell_type": "code",
   "execution_count": null,
   "metadata": {
    "id": "8WwyQUaaNvPn"
   },
   "outputs": [],
   "source": [
    "def postprocess_pred(\n",
    "    raw_pred: np.ndarray,\n",
    "    ximg_ref_path: str\n",
    "  ) -> sitk.Image:\n",
    "  \"\"\"\n",
    "  creates a mri image mask from the prediction, padding is used to fit the dimensions\n",
    "  of an image standardized with mni152 template\n",
    "  \n",
    "  ximg_ref_path: is the path of the mri image to get metadata as reference\n",
    "  \"\"\"\n",
    "  assert raw_pred.shape  == (130,224,176,1)\n",
    "  \n",
    "  pred = raw_pred.copy()\n",
    "  pred = pred > 0.5\n",
    "  pred = pred[:,:,:,0]*255.0\n",
    "  pred = np.pad(pred, ((29,30), (3,6), (13, 8)))\n",
    "  assert pred.shape == (189,233,197)\n",
    "\n",
    "  output = sitk.GetImageFromArray(pred)    \n",
    "  output.CopyInformation(sitk.ReadImage(ximg_ref_path, sitk.sitkFloat32))\n",
    "  return output"
   ]
  },
  {
   "cell_type": "markdown",
   "metadata": {
    "id": "JEDpzDGtMvgx"
   },
   "source": [
    "## Load model and weights"
   ]
  },
  {
   "cell_type": "code",
   "execution_count": null,
   "metadata": {
    "id": "J8Bw0kcyMzhs"
   },
   "outputs": [],
   "source": [
    "model = CLCI_Net()\n",
    "model.load_weights(\"/path/to/checkpoints/clcinet-native-filtered-v2-030-0.888012-0.842044.h5\")"
   ]
  },
  {
   "cell_type": "markdown",
   "metadata": {
    "id": "x3nnbYgj4qnZ"
   },
   "source": [
    "## !! Register + BF + preprocess + predict"
   ]
  },
  {
   "cell_type": "code",
   "execution_count": null,
   "metadata": {
    "id": "cjtPjq0UQ948"
   },
   "outputs": [],
   "source": [
    "from glob import glob\n",
    "xpaths = sorted(glob(f'/data/NATIVE_FILTERED_MANUALLY/test/*/*/*01.nii.gz') )\n",
    "ypaths = sorted(glob(f'/data/NATIVE_FILTERED_MANUALLY/test/*/*/*_LesionSmooth.nii.gz'))\n",
    "assert len(xpaths) == len(ypaths)"
   ]
  },
  {
   "cell_type": "code",
   "execution_count": null,
   "metadata": {
    "colab": {
     "base_uri": "https://localhost:8080/"
    },
    "executionInfo": {
     "elapsed": 31,
     "status": "ok",
     "timestamp": 1685135655085,
     "user": {
      "displayName": "Alejandro M",
      "userId": "11111187776730726759"
     },
     "user_tz": 300
    },
    "id": "w3iI6dZG_E_0",
    "outputId": "435a0677-08fb-4e48-8fd6-cb5e6153f9f4"
   },
   "outputs": [],
   "source": [
    "print(\"Number of samples:\", len(xpaths))\n",
    "for input_path, target_path in zip(xpaths, ypaths):\n",
    "    print(input_path[-35:], \"|\", target_path[-48:])"
   ]
  },
  {
   "cell_type": "code",
   "execution_count": null,
   "metadata": {
    "colab": {
     "base_uri": "https://localhost:8080/"
    },
    "executionInfo": {
     "elapsed": 2050614,
     "status": "ok",
     "timestamp": 1685137752146,
     "user": {
      "displayName": "Alejandro M",
      "userId": "11111187776730726759"
     },
     "user_tz": 300
    },
    "id": "sNqvFvz3GhCr",
    "outputId": "8c28861a-6fe6-457e-b292-c0a6424b2c92"
   },
   "outputs": [],
   "source": [
    "path_to_save=\"/path/to/preprocessed/masks\"\n",
    "\n",
    "for i,(xpath, ypath) in enumerate(zip(xpaths, ypaths)):\n",
    "  folder = xpath[:-20]\n",
    "  file_name = xpath[:-7][-13:]\n",
    "\n",
    "  # register\n",
    "  x_registered_path = folder + file_name + '_registered.nii.gz'\n",
    "  y_registered_path = folder + file_name + '_LesionSmooth_registered.nii.gz'\n",
    "\n",
    "  x3d = load_img_ants(xpath)\n",
    "  y3d = load_img_ants(ypath)\n",
    "\n",
    "  x3d_registered, y3d_registered = register_to_mni(img=x3d,mask=y3d)\n",
    "\n",
    "  x3d_registered.to_file(x_registered_path)\n",
    "  y3d_registered.to_file(y_registered_path)\n",
    "\n",
    "  # bias field correction\n",
    "  x_out_path = folder + file_name + '_registered_BF.nii.gz'\n",
    "  x3d = load_img_sitk(x_registered_path)\n",
    "  x3d_bf_corrected = bias_field_correction(x3d)\n",
    "  sitk.WriteImage(x3d_bf_corrected, x_out_path)\n",
    "\n",
    "  # preprocess\n",
    "  #ximg = sitk.ReadImage(x_out_path, sitk.sitkFloat32)\n",
    "  ximg = x3d_bf_corrected\n",
    "  x3d, x3d_sitk_preprocessed = preprocess_ximg(ximg)\n",
    "\n",
    "  # generate mask\n",
    "  mask_path = folder + file_name + '_maskGenerated.nii.gz'\n",
    "  raw_pred = model.predict(x3d,batch_size=8,verbose=1)\n",
    "  mask = postprocess_pred(raw_pred, x_registered_path)\n",
    "  sitk.WriteImage(mask, mask_path) \n",
    "\n",
    "  #mask\n",
    "  print(i,mask_path)\n",
    "  #if i == 0 : break"
   ]
  },
  {
   "cell_type": "markdown",
   "metadata": {
    "id": "wB6rSAI9Tyt3"
   },
   "source": [
    "## Inspect masks generated"
   ]
  },
  {
   "cell_type": "markdown",
   "metadata": {
    "id": "VarkWYeOT5I9"
   },
   "source": [
    "### Define helpers"
   ]
  },
  {
   "cell_type": "code",
   "execution_count": null,
   "metadata": {
    "id": "OXkUELPoSWO6"
   },
   "outputs": [],
   "source": [
    "import matplotlib.pyplot as plt\n",
    "\n",
    "from ipywidgets import interact\n",
    "import numpy as np\n",
    "import SimpleITK as sitk\n",
    "import cv2\n",
    "\n",
    "def explore_3D_array(arr: np.ndarray, cmap: str = 'gray'):\n",
    "  \"\"\"\n",
    "  Given a 3D array with shape (Z,X,Y) This function will create an interactive\n",
    "  widget to check out all the 2D arrays with shape (X,Y) inside the 3D array. \n",
    "  The purpose of this function to visual inspect the 2D arrays in the image. \n",
    "\n",
    "  Args:\n",
    "    arr : 3D array with shape (Z,X,Y) that represents the volume of a MRI image\n",
    "    cmap : Which color map use to plot the slices in matplotlib.pyplot\n",
    "  \"\"\"\n",
    "\n",
    "  def fn(SLICE):\n",
    "    plt.figure(figsize=(7,7))\n",
    "    plt.imshow(arr[SLICE, :, :], cmap=cmap)\n",
    "\n",
    "  interact(fn, SLICE=(0, arr.shape[0]-1))\n",
    "\n",
    "\n",
    "def explore_3D_array_comparison(arr_before: np.ndarray, arr_after: np.ndarray, cmap: str = 'gray'):\n",
    "  \"\"\"\n",
    "  Given two 3D arrays with shape (Z,X,Y) This function will create an interactive\n",
    "  widget to check out all the 2D arrays with shape (X,Y) inside the 3D arrays.\n",
    "  The purpose of this function to visual compare the 2D arrays after some transformation. \n",
    "\n",
    "  Args:\n",
    "    arr_before : 3D array with shape (Z,X,Y) that represents the volume of a MRI image, before any transform\n",
    "    arr_after : 3D array with shape (Z,X,Y) that represents the volume of a MRI image, after some transform    \n",
    "    cmap : Which color map use to plot the slices in matplotlib.pyplot\n",
    "  \"\"\"\n",
    "\n",
    "  assert arr_after.shape == arr_before.shape\n",
    "\n",
    "  def fn(SLICE):\n",
    "    \"\"\"\n",
    "    Visualizes two images side by side for a given slice.\n",
    "\n",
    "    Args:\n",
    "        SLICE (int): The slice index to visualize.\n",
    "\n",
    "    Returns:\n",
    "        None\n",
    "    \"\"\"\n",
    "    fig, (ax1, ax2) = plt.subplots(1, 2, sharex='col', sharey='row', figsize=(10,10))\n",
    "\n",
    "    ax1.set_title('Before', fontsize=15)\n",
    "    ax1.imshow(arr_before[SLICE, :, :], cmap=cmap)\n",
    "\n",
    "    ax2.set_title('After', fontsize=15)\n",
    "    ax2.imshow(arr_after[SLICE, :, :], cmap=cmap)\n",
    "\n",
    "    plt.tight_layout()\n",
    "  \n",
    "  interact(fn, SLICE=(0, arr_before.shape[0]-1))\n",
    "\n",
    "\n",
    "def show_sitk_img_info(img: sitk.Image):\n",
    "  \"\"\"\n",
    "  Given a sitk.Image instance prints the information about the MRI image contained.\n",
    "\n",
    "  Args:\n",
    "    img : instance of the sitk.Image to check out\n",
    "  \"\"\"\n",
    "  pixel_type = img.GetPixelIDTypeAsString()\n",
    "  origin = img.GetOrigin()\n",
    "  dimensions = img.GetSize()\n",
    "  spacing = img.GetSpacing()\n",
    "  direction = img.GetDirection()\n",
    "\n",
    "  info = {'Pixel Type' : pixel_type, 'Dimensions': dimensions, 'Spacing': spacing, 'Origin': origin,  'Direction' : direction}\n",
    "  for k,v in info.items():\n",
    "    print(f' {k} : {v}')\n",
    "\n",
    "\n",
    "def add_suffix_to_filename(filename: str, suffix:str) -> str:\n",
    "  \"\"\"\n",
    "  Takes a NIfTI filename and appends a suffix.\n",
    "\n",
    "  Args:\n",
    "      filename : NIfTI filename\n",
    "      suffix : suffix to append\n",
    "\n",
    "  Returns:\n",
    "      str : filename after append the suffix\n",
    "  \"\"\"\n",
    "  if filename.endswith('.nii'):\n",
    "      result = filename.replace('.nii', f'_{suffix}.nii')\n",
    "      return result\n",
    "  elif filename.endswith('.nii.gz'):\n",
    "      result = filename.replace('.nii.gz', f'_{suffix}.nii.gz')\n",
    "      return result\n",
    "  else:\n",
    "      raise RuntimeError('filename with unknown extension')\n",
    "\n",
    "\n",
    "def rescale_linear(array: np.ndarray, new_min: int, new_max: int):\n",
    "  \"\"\"\n",
    "    Rescale the values of an array linearly to a new range.\n",
    "\n",
    "    Args:\n",
    "        array (np.ndarray): The input NumPy array to be rescaled.\n",
    "        new_min (int): The minimum value of the new range.\n",
    "        new_max (int): The maximum value of the new range.\n",
    "\n",
    "    Returns:\n",
    "        np.ndarray: The rescaled array.\n",
    "    \"\"\"\n",
    "  \"\"\"Rescale an array linearly.\"\"\"\n",
    "  minimum, maximum = np.min(array), np.max(array)\n",
    "  m = (new_max - new_min) / (maximum - minimum)\n",
    "  b = new_min - m * minimum\n",
    "  return m * array + b\n",
    "\n",
    "\n",
    "def explore_3D_array_with_mask_contour(arr: np.ndarray, mask: np.ndarray, thickness: int = 1):\n",
    "  \"\"\"\n",
    "  Given a 3D array with shape (Z,X,Y) This function will create an interactive\n",
    "  widget to check out all the 2D arrays with shape (X,Y) inside the 3D array. The binary\n",
    "  mask provided will be used to overlay contours of the region of interest over the \n",
    "  array. The purpose of this function is to visual inspect the region delimited by the mask.\n",
    "\n",
    "  Args:\n",
    "    arr : 3D array with shape (Z,X,Y) that represents the volume of a MRI image\n",
    "    mask : binary mask to obtain the region of interest\n",
    "  \"\"\"\n",
    "  assert arr.shape == mask.shape\n",
    "  \n",
    "  _arr = rescale_linear(arr,0,1)\n",
    "  _mask = rescale_linear(mask,0,1)\n",
    "  _mask = _mask.astype(np.uint8)\n",
    "\n",
    "  def fn(SLICE):\n",
    "    \"\"\"\n",
    "    Display an image slice with detected contours overlaid.\n",
    "\n",
    "    Args:\n",
    "        SLICE (int): The index of the slice to display.\n",
    "\n",
    "    Returns:\n",
    "        None\n",
    "    \"\"\"\n",
    "    arr_rgb = cv2.cvtColor(_arr[SLICE, :, :], cv2.COLOR_GRAY2RGB)\n",
    "    contours, _ = cv2.findContours(_mask[SLICE, :, :], cv2.RETR_TREE, cv2.CHAIN_APPROX_SIMPLE)\n",
    "    \n",
    "    arr_with_contours = cv2.drawContours(arr_rgb, contours, -1, (0,1,0), thickness)\n",
    "\n",
    "    plt.figure(figsize=(7,7))\n",
    "    plt.imshow(arr_with_contours)\n",
    "\n",
    "  interact(fn, SLICE=(0, arr.shape[0]-1))\n"
   ]
  },
  {
   "cell_type": "markdown",
   "metadata": {
    "id": "VYBCT1p9T83S"
   },
   "source": [
    "### Load images\n"
   ]
  },
  {
   "cell_type": "code",
   "execution_count": null,
   "metadata": {
    "colab": {
     "base_uri": "https://localhost:8080/"
    },
    "executionInfo": {
     "elapsed": 5,
     "status": "ok",
     "timestamp": 1685122810222,
     "user": {
      "displayName": "Alejandro M",
      "userId": "11111187776730726759"
     },
     "user_tz": 300
    },
    "id": "YhFzmatgUHdi",
    "outputId": "9eabdd63-58f3-4ab5-8d00-7c956b4abefa"
   },
   "outputs": [
    {
     "name": "stdout",
     "output_type": "stream",
     "text": [
      "Number of samples: 1\n",
      "/data/NATIVE_FILTERED_MANUALLY/test/Lacunar/c0003s0005t01/c0003s0005t01_maskGenerated.nii.gz\n"
     ]
    }
   ],
   "source": [
    "mpaths = sorted(glob(f'/data/NATIVE_FILTERED_MANUALLY/*/*/*/*01_maskGenerated.nii.gz') )\n",
    "print(\"Number of samples:\", len(mpaths))\n",
    "for input_path in mpaths:\n",
    "    #print(input_path[-35:])\n",
    "    print(input_path)"
   ]
  },
  {
   "cell_type": "code",
   "execution_count": null,
   "metadata": {
    "colab": {
     "base_uri": "https://localhost:8080/",
     "height": 35
    },
    "executionInfo": {
     "elapsed": 224,
     "status": "ok",
     "timestamp": 1685122957850,
     "user": {
      "displayName": "Alejandro M",
      "userId": "11111187776730726759"
     },
     "user_tz": 300
    },
    "id": "A-14ac39JxQT",
    "outputId": "ae801c0f-06b5-42ab-8cfc-3a7e72679851"
   },
   "outputs": [
    {
     "data": {
      "application/vnd.google.colaboratory.intrinsic+json": {
       "type": "string"
      },
      "text/plain": [
       "'/data/NATIVE_FILTERED_MANUALLY/test/Lacunar/c0003s0005t01'"
      ]
     },
     "execution_count": 28,
     "metadata": {},
     "output_type": "execute_result"
    }
   ],
   "source": [
    "input_path[:-35]"
   ]
  },
  {
   "cell_type": "code",
   "execution_count": null,
   "metadata": {
    "id": "BC0mQMJnJhGa"
   },
   "outputs": [],
   "source": [
    "def id_from_path(path):\n",
    "  \"\"\"\n",
    "    Extracts a specific portion from the input path string.\n",
    "\n",
    "    The function splits the input 'path' string using the forward slash ('/')\n",
    "    as a delimiter and returns the element at the 5th index (0-based index).\n",
    "\n",
    "    Args:\n",
    "        path (str): The input path string.\n",
    "\n",
    "    Returns:\n",
    "        str: The portion of the input path obtained from the 5th index.\n",
    "    \"\"\"\n",
    "  return path.split(\"/\")[5]"
   ]
  },
  {
   "cell_type": "code",
   "execution_count": null,
   "metadata": {
    "colab": {
     "base_uri": "https://localhost:8080/",
     "height": 1000,
     "referenced_widgets": [
      "20e988fc9aa74a39bc964b9de36a3e57",
      "7744ff46dd2f41e1b83827f1cb26cecc",
      "dcd6eac887ba49f5aff75025aa1bf8ab",
      "cd439b1b211f42d4ba68c077559058aa",
      "f43934915b62433aa448090f4c8cae42",
      "f0a5826d6c6d43adb5f5882d699eb45c",
      "d559cbba0e7b4f809e94dc551dd6feaf"
     ]
    },
    "executionInfo": {
     "elapsed": 2021,
     "status": "ok",
     "timestamp": 1685123009235,
     "user": {
      "displayName": "Alejandro M",
      "userId": "11111187776730726759"
     },
     "user_tz": 300
    },
    "id": "ea_HQ6tlUS1E",
    "outputId": "ecad799d-3753-4ec9-9a5f-abe4917955af"
   },
   "outputs": [
    {
     "data": {
      "application/vnd.jupyter.widget-view+json": {
       "model_id": "20e988fc9aa74a39bc964b9de36a3e57",
       "version_major": 2,
       "version_minor": 0
      },
      "text/plain": [
       "interactive(children=(IntSlider(value=94, description='SLICE', max=188), Output()), _dom_classes=('widget-inte…"
      ]
     },
     "metadata": {},
     "output_type": "display_data"
    },
    {
     "data": {
      "image/png": "[encoded data removed]",
      "text/plain": [
       "<Figure size 1000x1000 with 2 Axes>"
      ]
     },
     "metadata": {},
     "output_type": "display_data"
    },
    {
     "data": {
      "image/png": "[encoded data removed]",
      "text/plain": [
       "<Figure size 1000x1000 with 2 Axes>"
      ]
     },
     "metadata": {},
     "output_type": "display_data"
    },
    {
     "data": {
      "image/png": "[encoded data removed]",
      "text/plain": [
       "<Figure size 1000x1000 with 2 Axes>"
      ]
     },
     "metadata": {},
     "output_type": "display_data"
    }
   ],
   "source": [
    "# compare mask\n",
    "i = 0\n",
    "example = mpaths[i][:-35]\n",
    "\n",
    "test_xpath = example+'/'+id_from_path(example)+'.nii.gz'\n",
    "test_ypath = example+'/'+id_from_path(example)+'_LesionSmooth_registered.nii.gz'\n",
    "\n",
    "test_mask =  example+'/'+id_from_path(example)+'_maskGenerated.nii.gz'\n",
    "\n",
    "test_img = sitk.ReadImage(test_ypath, sitk.sitkFloat32)\n",
    "test_mask = sitk.ReadImage(test_mask, sitk.sitkFloat32)\n",
    "\n",
    "explore_3D_array_comparison(\n",
    "    arr_before=sitk.GetArrayFromImage(test_img),\n",
    "    arr_after=sitk.GetArrayFromImage(test_mask),\n",
    "    #cmap='viridis'\n",
    ")"
   ]
  },
  {
   "cell_type": "markdown",
   "metadata": {
    "id": "eIiI_avgKgoA"
   },
   "source": [
    "## Compute metrics"
   ]
  },
  {
   "cell_type": "code",
   "execution_count": null,
   "metadata": {
    "colab": {
     "base_uri": "https://localhost:8080/"
    },
    "executionInfo": {
     "elapsed": 244,
     "status": "ok",
     "timestamp": 1685138905757,
     "user": {
      "displayName": "Alejandro M",
      "userId": "11111187776730726759"
     },
     "user_tz": 300
    },
    "id": "MlKH4e1TLc1W",
    "outputId": "f3de991f-9ef2-424f-fe77-80c459f885c2"
   },
   "outputs": [
    {
     "name": "stdout",
     "output_type": "stream",
     "text": [
      "Number of samples: 10\n",
      "/data/NATIVE_FILTERED_MANUALLY/test/Lacunar/c0003s0005t01/c0003s0005t01_maskGenerated.nii.gz\n",
      "/data/NATIVE_FILTERED_MANUALLY/test/Lacunar/c0003s0012t01/c0003s0012t01_maskGenerated.nii.gz\n",
      "/data/NATIVE_FILTERED_MANUALLY/test/Lacunar/c0004s0007t01/c0004s0007t01_maskGenerated.nii.gz\n",
      "/data/NATIVE_FILTERED_MANUALLY/test/Lacunar/c0004s0021t01/c0004s0021t01_maskGenerated.nii.gz\n",
      "/data/NATIVE_FILTERED_MANUALLY/test/Lacunar/c0004s0022t01/c0004s0022t01_maskGenerated.nii.gz\n",
      "/data/NATIVE_FILTERED_MANUALLY/test/MCA/c0004s0001t01/c0004s0001t01_maskGenerated.nii.gz\n",
      "/data/NATIVE_FILTERED_MANUALLY/test/MCA/c0004s0002t01/c0004s0002t01_maskGenerated.nii.gz\n",
      "/data/NATIVE_FILTERED_MANUALLY/test/MCA/c0004s0010t01/c0004s0010t01_maskGenerated.nii.gz\n",
      "/data/NATIVE_FILTERED_MANUALLY/test/MCA/c0004s0013t01/c0004s0013t01_maskGenerated.nii.gz\n",
      "/data/NATIVE_FILTERED_MANUALLY/test/MCA/c0004s0020t01/c0004s0020t01_maskGenerated.nii.gz\n"
     ]
    }
   ],
   "source": [
    "mpaths = sorted(glob(f'/data/NATIVE_FILTERED_MANUALLY/*/*/*/*01_maskGenerated.nii.gz') )\n",
    "print(\"Number of samples:\", len(mpaths))\n",
    "for input_path in mpaths:\n",
    "    #print(input_path[-35:])\n",
    "    print(input_path)"
   ]
  },
  {
   "cell_type": "code",
   "execution_count": null,
   "metadata": {
    "id": "bEPXXDHVL2nH"
   },
   "outputs": [],
   "source": [
    "def id_from_path(path):\n",
    "  return path.split(\"/\")[5]"
   ]
  },
  {
   "cell_type": "code",
   "execution_count": null,
   "metadata": {
    "colab": {
     "base_uri": "https://localhost:8080/"
    },
    "executionInfo": {
     "elapsed": 13402,
     "status": "ok",
     "timestamp": 1685138945842,
     "user": {
      "displayName": "Alejandro M",
      "userId": "11111187776730726759"
     },
     "user_tz": 300
    },
    "id": "sIqv2_uQLgwj",
    "outputId": "1eead960-ce79-45d6-a0d2-f69d3b80feea"
   },
   "outputs": [
    {
     "name": "stdout",
     "output_type": "stream",
     "text": [
      ".........."
     ]
    }
   ],
   "source": [
    "ROW_SIZE = 233 # shapes of images standardized\n",
    "COL_SIZE = 197\n",
    "\n",
    "Y     = np.empty((0,ROW_SIZE,COL_SIZE), dtype=np.float32)\n",
    "YPRED = np.empty((0,ROW_SIZE,COL_SIZE), dtype=np.float32)\n",
    "\n",
    "for i,e in enumerate(mpaths):\n",
    "\n",
    "    folder = mpaths[i][:-35]\n",
    "    yimg_path = folder+'/'+id_from_path(folder)+'_LesionSmooth_registered.nii.gz'\n",
    "    ypred_path =  folder+'/'+id_from_path(folder)+'_maskGenerated.nii.gz'\n",
    "\n",
    "\n",
    "    yimg = sitk.ReadImage(yimg_path, sitk.sitkFloat32)\n",
    "    yimg = sitk.GetArrayFromImage(yimg)\n",
    "    yimg = yimg > 0\n",
    "    yimg = yimg.astype(int)\n",
    "    \n",
    "    ypred = sitk.ReadImage(ypred_path, sitk.sitkFloat32)\n",
    "    ypred = sitk.GetArrayFromImage(ypred)\n",
    "    ypred = ypred / 255\n",
    "    ypred = ypred.astype(int)\n",
    "  \n",
    "\n",
    "    Y     = np.concatenate((Y, yimg), axis=0)\n",
    "    YPRED = np.concatenate((YPRED, ypred), axis=0)\n",
    "\n",
    "    print('.', end='')\n"
   ]
  },
  {
   "cell_type": "code",
   "execution_count": null,
   "metadata": {
    "colab": {
     "base_uri": "https://localhost:8080/"
    },
    "executionInfo": {
     "elapsed": 235,
     "status": "ok",
     "timestamp": 1685138980950,
     "user": {
      "displayName": "Alejandro M",
      "userId": "11111187776730726759"
     },
     "user_tz": 300
    },
    "id": "Ullo_sCo41TC",
    "outputId": "68bcd29d-e4b2-48a5-ee89-64862681f630"
   },
   "outputs": [
    {
     "data": {
      "text/plain": [
       "(1890, (1890, 233, 197), (1890, 233, 197))"
      ]
     },
     "execution_count": 20,
     "metadata": {},
     "output_type": "execute_result"
    }
   ],
   "source": [
    "len(mpaths)*189, Y.shape, YPRED.shape"
   ]
  },
  {
   "cell_type": "code",
   "execution_count": null,
   "metadata": {
    "id": "NFh3C9EYJJDb"
   },
   "outputs": [],
   "source": [
    "from numpy import save\n",
    "Y_output_path = '/content/drive/MyDrive/integradora_fiec/datasets/paper lesions extended/dataset_clinet_test_Y.npy'\n",
    "YPRED_output_path = '/content/drive/MyDrive/integradora_fiec/datasets/paper lesions extended/dataset_clinet_test_YPRED.npy'\n",
    "save(Y_output_path, Y)\n",
    "save(YPRED_output_path, YPRED)"
   ]
  },
  {
   "cell_type": "markdown",
   "metadata": {
    "id": "PGrbD2bdLmCp"
   },
   "source": [
    "### Load predictions and ground truths if environment restarted"
   ]
  },
  {
   "cell_type": "code",
   "execution_count": null,
   "metadata": {
    "id": "hhBlxazqJhv5"
   },
   "outputs": [],
   "source": [
    "from numpy import load\n",
    "Y_output_path = '/path/to/npy/dataset/dataset_clinet_test_Y.npy'\n",
    "YPRED_output_path = '/path/to/npy/dataset/dataset_clinet_test_YPRED.npy'\n",
    "\n",
    "Y = load(Y_output_path)\n",
    "YPRED = load(YPRED_output_path)"
   ]
  },
  {
   "cell_type": "code",
   "execution_count": null,
   "metadata": {
    "colab": {
     "base_uri": "https://localhost:8080/"
    },
    "executionInfo": {
     "elapsed": 198,
     "status": "ok",
     "timestamp": 1685140252397,
     "user": {
      "displayName": "Alejandro M",
      "userId": "11111187776730726759"
     },
     "user_tz": 300
    },
    "id": "_n-DkBERJ1mn",
    "outputId": "1402b3d3-4cf3-4019-ef33-094aa396c308"
   },
   "outputs": [
    {
     "data": {
      "text/plain": [
       "((1890, 233, 197), (1890, 233, 197))"
      ]
     },
     "execution_count": 4,
     "metadata": {},
     "output_type": "execute_result"
    }
   ],
   "source": [
    "# ((1890, 233, 197), (1890, 233, 197))\n",
    "Y.shape, YPRED.shape"
   ]
  },
  {
   "cell_type": "markdown",
   "metadata": {
    "id": "8NnJbmOwLsfs"
   },
   "source": [
    "### compute"
   ]
  },
  {
   "cell_type": "code",
   "execution_count": null,
   "metadata": {
    "colab": {
     "base_uri": "https://localhost:8080/"
    },
    "executionInfo": {
     "elapsed": 8865,
     "status": "ok",
     "timestamp": 1685138997074,
     "user": {
      "displayName": "Alejandro M",
      "userId": "11111187776730726759"
     },
     "user_tz": 300
    },
    "id": "3edPXiiXUzUP",
    "outputId": "f5da98b7-0806-493f-8b8e-27e773dd9616"
   },
   "outputs": [
    {
     "data": {
      "text/plain": [
       "(array([0., 1.]), array([0., 1.]))"
      ]
     },
     "execution_count": 21,
     "metadata": {},
     "output_type": "execute_result"
    }
   ],
   "source": [
    "np.unique(Y), np.unique(YPRED)"
   ]
  },
  {
   "cell_type": "code",
   "execution_count": null,
   "metadata": {
    "colab": {
     "base_uri": "https://localhost:8080/"
    },
    "executionInfo": {
     "elapsed": 85060,
     "status": "ok",
     "timestamp": 1685140343667,
     "user": {
      "displayName": "Alejandro M",
      "userId": "11111187776730726759"
     },
     "user_tz": 300
    },
    "id": "gtFoOvBOXdPA",
    "outputId": "826fe276-b454-423d-ee82-d9a0f736f8b8"
   },
   "outputs": [
    {
     "name": "stdout",
     "output_type": "stream",
     "text": [
      "conf matrix\n",
      "[[86099645    84622]\n",
      " [  261707   306916]]\n"
     ]
    }
   ],
   "source": [
    "from sklearn.metrics import classification_report\n",
    "from sklearn.metrics import confusion_matrix\n",
    "y_flat = Y.flatten()\n",
    "predictions_flat = YPRED.flatten()\n",
    "#print('classification report', classification_report(y_flat, predictions_flat))\n",
    "cmat = confusion_matrix(y_flat, predictions_flat)\n",
    "print('conf matrix')\n",
    "print(cmat)"
   ]
  },
  {
   "cell_type": "code",
   "execution_count": null,
   "metadata": {
    "colab": {
     "base_uri": "https://localhost:8080/"
    },
    "executionInfo": {
     "elapsed": 216,
     "status": "ok",
     "timestamp": 1685140371699,
     "user": {
      "displayName": "Alejandro M",
      "userId": "11111187776730726759"
     },
     "user_tz": 300
    },
    "id": "U9Xp3t70y-1B",
    "outputId": "93c05607-5624-43fc-ca76-02ac13eb459f"
   },
   "outputs": [
    {
     "data": {
      "text/plain": [
       "array([86099645,    84622,   261707,   306916])"
      ]
     },
     "execution_count": 6,
     "metadata": {},
     "output_type": "execute_result"
    }
   ],
   "source": [
    "tn, fp, fn, tp = cmat.ravel()\n",
    "cmat.ravel()"
   ]
  },
  {
   "cell_type": "code",
   "execution_count": null,
   "metadata": {
    "colab": {
     "base_uri": "https://localhost:8080/"
    },
    "executionInfo": {
     "elapsed": 211,
     "status": "ok",
     "timestamp": 1685140376608,
     "user": {
      "displayName": "Alejandro M",
      "userId": "11111187776730726759"
     },
     "user_tz": 300
    },
    "id": "wGR9drquKFlN",
    "outputId": "bd79ef21-9137-42ff-bfe9-168f8ffd2ef2"
   },
   "outputs": [
    {
     "data": {
      "text/plain": [
       "0.9960078678646902"
      ]
     },
     "execution_count": 7,
     "metadata": {},
     "output_type": "execute_result"
    }
   ],
   "source": [
    "acc = (tp + tn)/(tn+fp+fn+tp)\n",
    "acc"
   ]
  },
  {
   "cell_type": "code",
   "execution_count": null,
   "metadata": {
    "colab": {
     "base_uri": "https://localhost:8080/"
    },
    "executionInfo": {
     "elapsed": 194,
     "status": "ok",
     "timestamp": 1685140381158,
     "user": {
      "displayName": "Alejandro M",
      "userId": "11111187776730726759"
     },
     "user_tz": 300
    },
    "id": "xBeExSJsKVd0",
    "outputId": "53303342-82a6-498b-971e-61d49ab0b30b"
   },
   "outputs": [
    {
     "data": {
      "text/plain": [
       "0.5397530525497561"
      ]
     },
     "execution_count": 8,
     "metadata": {},
     "output_type": "execute_result"
    }
   ],
   "source": [
    "sensitivity = tp /(tp + fn)\n",
    "sensitivity"
   ]
  },
  {
   "cell_type": "code",
   "execution_count": null,
   "metadata": {
    "colab": {
     "base_uri": "https://localhost:8080/"
    },
    "executionInfo": {
     "elapsed": 231,
     "status": "ok",
     "timestamp": 1685140385173,
     "user": {
      "displayName": "Alejandro M",
      "userId": "11111187776730726759"
     },
     "user_tz": 300
    },
    "id": "ZGEofy7PKwhy",
    "outputId": "c88749cc-1b65-4008-9097-439d815bedac"
   },
   "outputs": [
    {
     "data": {
      "text/plain": [
       "0.9990181270556029"
      ]
     },
     "execution_count": 9,
     "metadata": {},
     "output_type": "execute_result"
    }
   ],
   "source": [
    "specificity = tn/(fp+tn)\n",
    "specificity"
   ]
  },
  {
   "cell_type": "code",
   "execution_count": null,
   "metadata": {
    "colab": {
     "base_uri": "https://localhost:8080/"
    },
    "executionInfo": {
     "elapsed": 198,
     "status": "ok",
     "timestamp": 1685140389981,
     "user": {
      "displayName": "Alejandro M",
      "userId": "11111187776730726759"
     },
     "user_tz": 300
    },
    "id": "5wLZOA_uK9Ym",
    "outputId": "95473479-a9b2-4d7c-9c37-953cc919e5d6"
   },
   "outputs": [
    {
     "data": {
      "text/plain": [
       "0.7838728297125694"
      ]
     },
     "execution_count": 10,
     "metadata": {},
     "output_type": "execute_result"
    }
   ],
   "source": [
    "ppv = tp/(tp+fp)\n",
    "ppv"
   ]
  },
  {
   "cell_type": "code",
   "execution_count": null,
   "metadata": {
    "colab": {
     "base_uri": "https://localhost:8080/"
    },
    "executionInfo": {
     "elapsed": 200,
     "status": "ok",
     "timestamp": 1685140393740,
     "user": {
      "displayName": "Alejandro M",
      "userId": "11111187776730726759"
     },
     "user_tz": 300
    },
    "id": "wRIOUDtILEiz",
    "outputId": "072ad4ff-5b58-4dd6-dc18-043611e5564f"
   },
   "outputs": [
    {
     "data": {
      "text/plain": [
       "0.9969696282661253"
      ]
     },
     "execution_count": 11,
     "metadata": {},
     "output_type": "execute_result"
    }
   ],
   "source": [
    "npv = tn/(fn+tn)\n",
    "npv"
   ]
  },
  {
   "cell_type": "code",
   "execution_count": null,
   "metadata": {
    "colab": {
     "base_uri": "https://localhost:8080/"
    },
    "executionInfo": {
     "elapsed": 6295,
     "status": "ok",
     "timestamp": 1685133339465,
     "user": {
      "displayName": "Alejandro M",
      "userId": "11111187776730726759"
     },
     "user_tz": 300
    },
    "id": "9J4dnMPHxZhR",
    "outputId": "9099089b-8dd7-44db-c9ad-36c52194f879"
   },
   "outputs": [
    {
     "name": "stdout",
     "output_type": "stream",
     "text": [
      "conf matrix [[1.00e+00 1.11e-05]\n",
      " [6.13e-01 3.87e-01]]\n"
     ]
    }
   ],
   "source": [
    "print('conf matrix', confusion_matrix(y_flat, predictions_flat, normalize='true'))"
   ]
  },
  {
   "cell_type": "code",
   "execution_count": null,
   "metadata": {
    "id": "Yk-gVYO8xiDh"
   },
   "outputs": [],
   "source": [
    "#print('conf matrix', confusion_matrix(y_flat, predictions_flat, normalize='pred'))"
   ]
  },
  {
   "cell_type": "code",
   "execution_count": null,
   "metadata": {
    "id": "ifCNKarWxmbI"
   },
   "outputs": [],
   "source": [
    "#print('conf matrix', confusion_matrix(y_flat, predictions_flat, normalize='all'))"
   ]
  },
  {
   "cell_type": "code",
   "execution_count": null,
   "metadata": {
    "id": "rguMaP8rQj_d"
   },
   "outputs": [],
   "source": [
    "class_names = [\"0\", \"1\"]"
   ]
  },
  {
   "cell_type": "code",
   "execution_count": null,
   "metadata": {
    "id": "ZE3-a5DLQ07I"
   },
   "outputs": [],
   "source": [
    "from sklearn.metrics import confusion_matrix\n",
    "import itertools\n",
    "import matplotlib.pyplot as plt\n",
    "import numpy as np\n",
    "from sklearn.model_selection import KFold\n",
    "\n",
    "\n",
    "def plot_confusion_matrix(predicted_labels_list, y_test_list):\n",
    "    \"\"\"\n",
    "    Plots the confusion matrix for evaluating the performance of a classifier.\n",
    "\n",
    "    Args:\n",
    "        predicted_labels_list (list or array-like): A list or array of predicted labels.\n",
    "        y_test_list (list or array-like): A list or array of true labels (ground truth).\n",
    "        class_names (list, optional): A list of class names. Defaults to None.\n",
    "\n",
    "    Returns:\n",
    "        None\n",
    "    \"\"\"\n",
    "    cnf_matrix = confusion_matrix(y_test_list, predicted_labels_list)\n",
    "    np.set_printoptions(precision=2)\n",
    "\n",
    "    # Plot non-normalized confusion matrix\n",
    "    plt.figure()\n",
    "    generate_confusion_matrix(cnf_matrix, classes=class_names, title='Confusion matrix')\n",
    "    plt.show()\n",
    "\n",
    "    # Plot normalized confusion matrix\n",
    "    plt.figure()\n",
    "    generate_confusion_matrix(cnf_matrix, classes=class_names, normalize=True, title='Normalized confusion matrix')\n",
    "    plt.show()\n",
    "  \n",
    "def generate_confusion_matrix(cnf_matrix, classes, normalize=False, title='Confusion matrix'):\n",
    "    \"\"\"\n",
    "    Generates the confusion matrix plot.\n",
    "\n",
    "    Args:\n",
    "        cm (array-like): The confusion matrix.\n",
    "        classes (list, optional): A list of class names. Defaults to None.\n",
    "        normalize (bool, optional): Whether to normalize the confusion matrix. Defaults to False.\n",
    "        title (str, optional): The title of the plot. Defaults to 'Confusion matrix'.\n",
    "        cmap (matplotlib colormap, optional): The color map to be used for the plot. Defaults to plt.cm.Blues.\n",
    "\n",
    "    Returns:\n",
    "        None\n",
    "    \"\"\"\n",
    "    if normalize:\n",
    "        # normalization done with count of true values\n",
    "        print(\"true vals to normalize\", cnf_matrix.sum(axis=1)[:, np.newaxis])\n",
    "        cnf_matrix = cnf_matrix.astype('float') / cnf_matrix.sum(axis=1)[:, np.newaxis]\n",
    "        print(\"Normalized confusion matrix\")\n",
    "    else:\n",
    "        print('Confusion matrix, without normalization')\n",
    "\n",
    "    plt.imshow(cnf_matrix, interpolation='nearest', cmap=plt.get_cmap('Blues'))\n",
    "    plt.title(title)\n",
    "    plt.colorbar()\n",
    "\n",
    "    tick_marks = np.arange(len(classes))\n",
    "    plt.xticks(tick_marks, classes, rotation=45)\n",
    "    plt.yticks(tick_marks, classes)\n",
    "\n",
    "    fmt = '.5f' if normalize else 'd'\n",
    "    thresh = cnf_matrix.max() / 2.\n",
    "\n",
    "    for i, j in itertools.product(range(cnf_matrix.shape[0]), range(cnf_matrix.shape[1])):\n",
    "        plt.text(j, i, format(cnf_matrix[i, j], fmt), horizontalalignment=\"center\",\n",
    "                 color=\"white\" if cnf_matrix[i, j] > thresh else \"black\")\n",
    "\n",
    "    plt.tight_layout()\n",
    "    plt.ylabel('True label')\n",
    "    plt.xlabel('Predicted label')\n",
    "\n",
    "    return cnf_matrix\n"
   ]
  }
 ],
 "metadata": {
  "accelerator": "GPU",
  "colab": {
   "collapsed_sections": [
    "v8rt_QUUthFp",
    "XTgql7bdMB9d",
    "VarkWYeOT5I9",
    "VYBCT1p9T83S"
   ],
   "gpuType": "T4",
   "provenance": []
  },
  "gpuClass": "standard",
  "kernelspec": {
   "display_name": "Python 3 (ipykernel)",
   "language": "python",
   "name": "python3"
  },
  "language_info": {
   "codemirror_mode": {
    "name": "ipython",
    "version": 3
   },
   "file_extension": ".py",
   "mimetype": "text/x-python",
   "name": "python",
   "nbconvert_exporter": "python",
   "pygments_lexer": "ipython3",
   "version": "3.10.6"
  },
  "widgets": {
   "application/vnd.jupyter.widget-state+json": {
    "20e988fc9aa74a39bc964b9de36a3e57": {
     "model_module": "@jupyter-widgets/controls",
     "model_module_version": "1.5.0",
     "model_name": "VBoxModel",
     "state": {
      "_dom_classes": [
       "widget-interact"
      ],
      "_model_module": "@jupyter-widgets/controls",
      "_model_module_version": "1.5.0",
      "_model_name": "VBoxModel",
      "_view_count": null,
      "_view_module": "@jupyter-widgets/controls",
      "_view_module_version": "1.5.0",
      "_view_name": "VBoxView",
      "box_style": "",
      "children": [
       "IPY_MODEL_7744ff46dd2f41e1b83827f1cb26cecc",
       "IPY_MODEL_dcd6eac887ba49f5aff75025aa1bf8ab"
      ],
      "layout": "IPY_MODEL_cd439b1b211f42d4ba68c077559058aa"
     }
    },
    "7744ff46dd2f41e1b83827f1cb26cecc": {
     "model_module": "@jupyter-widgets/controls",
     "model_module_version": "1.5.0",
     "model_name": "IntSliderModel",
     "state": {
      "_dom_classes": [],
      "_model_module": "@jupyter-widgets/controls",
      "_model_module_version": "1.5.0",
      "_model_name": "IntSliderModel",
      "_view_count": null,
      "_view_module": "@jupyter-widgets/controls",
      "_view_module_version": "1.5.0",
      "_view_name": "IntSliderView",
      "continuous_update": true,
      "description": "SLICE",
      "description_tooltip": null,
      "disabled": false,
      "layout": "IPY_MODEL_f43934915b62433aa448090f4c8cae42",
      "max": 188,
      "min": 0,
      "orientation": "horizontal",
      "readout": true,
      "readout_format": "d",
      "step": 1,
      "style": "IPY_MODEL_f0a5826d6c6d43adb5f5882d699eb45c",
      "value": 89
     }
    },
    "cd439b1b211f42d4ba68c077559058aa": {
     "model_module": "@jupyter-widgets/base",
     "model_module_version": "1.2.0",
     "model_name": "LayoutModel",
     "state": {
      "_model_module": "@jupyter-widgets/base",
      "_model_module_version": "1.2.0",
      "_model_name": "LayoutModel",
      "_view_count": null,
      "_view_module": "@jupyter-widgets/base",
      "_view_module_version": "1.2.0",
      "_view_name": "LayoutView",
      "align_content": null,
      "align_items": null,
      "align_self": null,
      "border": null,
      "bottom": null,
      "display": null,
      "flex": null,
      "flex_flow": null,
      "grid_area": null,
      "grid_auto_columns": null,
      "grid_auto_flow": null,
      "grid_auto_rows": null,
      "grid_column": null,
      "grid_gap": null,
      "grid_row": null,
      "grid_template_areas": null,
      "grid_template_columns": null,
      "grid_template_rows": null,
      "height": null,
      "justify_content": null,
      "justify_items": null,
      "left": null,
      "margin": null,
      "max_height": null,
      "max_width": null,
      "min_height": null,
      "min_width": null,
      "object_fit": null,
      "object_position": null,
      "order": null,
      "overflow": null,
      "overflow_x": null,
      "overflow_y": null,
      "padding": null,
      "right": null,
      "top": null,
      "visibility": null,
      "width": null
     }
    },
    "d559cbba0e7b4f809e94dc551dd6feaf": {
     "model_module": "@jupyter-widgets/base",
     "model_module_version": "1.2.0",
     "model_name": "LayoutModel",
     "state": {
      "_model_module": "@jupyter-widgets/base",
      "_model_module_version": "1.2.0",
      "_model_name": "LayoutModel",
      "_view_count": null,
      "_view_module": "@jupyter-widgets/base",
      "_view_module_version": "1.2.0",
      "_view_name": "LayoutView",
      "align_content": null,
      "align_items": null,
      "align_self": null,
      "border": null,
      "bottom": null,
      "display": null,
      "flex": null,
      "flex_flow": null,
      "grid_area": null,
      "grid_auto_columns": null,
      "grid_auto_flow": null,
      "grid_auto_rows": null,
      "grid_column": null,
      "grid_gap": null,
      "grid_row": null,
      "grid_template_areas": null,
      "grid_template_columns": null,
      "grid_template_rows": null,
      "height": null,
      "justify_content": null,
      "justify_items": null,
      "left": null,
      "margin": null,
      "max_height": null,
      "max_width": null,
      "min_height": null,
      "min_width": null,
      "object_fit": null,
      "object_position": null,
      "order": null,
      "overflow": null,
      "overflow_x": null,
      "overflow_y": null,
      "padding": null,
      "right": null,
      "top": null,
      "visibility": null,
      "width": null
     }
    },
    "dcd6eac887ba49f5aff75025aa1bf8ab": {
     "model_module": "@jupyter-widgets/output",
     "model_module_version": "1.0.0",
     "model_name": "OutputModel",
     "state": {
      "_dom_classes": [],
      "_model_module": "@jupyter-widgets/output",
      "_model_module_version": "1.0.0",
      "_model_name": "OutputModel",
      "_view_count": null,
      "_view_module": "@jupyter-widgets/output",
      "_view_module_version": "1.0.0",
      "_view_name": "OutputView",
      "layout": "IPY_MODEL_d559cbba0e7b4f809e94dc551dd6feaf",
      "msg_id": "",
      "outputs": []
     }
    },
    "f0a5826d6c6d43adb5f5882d699eb45c": {
     "model_module": "@jupyter-widgets/controls",
     "model_module_version": "1.5.0",
     "model_name": "SliderStyleModel",
     "state": {
      "_model_module": "@jupyter-widgets/controls",
      "_model_module_version": "1.5.0",
      "_model_name": "SliderStyleModel",
      "_view_count": null,
      "_view_module": "@jupyter-widgets/base",
      "_view_module_version": "1.2.0",
      "_view_name": "StyleView",
      "description_width": "",
      "handle_color": null
     }
    },
    "f43934915b62433aa448090f4c8cae42": {
     "model_module": "@jupyter-widgets/base",
     "model_module_version": "1.2.0",
     "model_name": "LayoutModel",
     "state": {
      "_model_module": "@jupyter-widgets/base",
      "_model_module_version": "1.2.0",
      "_model_name": "LayoutModel",
      "_view_count": null,
      "_view_module": "@jupyter-widgets/base",
      "_view_module_version": "1.2.0",
      "_view_name": "LayoutView",
      "align_content": null,
      "align_items": null,
      "align_self": null,
      "border": null,
      "bottom": null,
      "display": null,
      "flex": null,
      "flex_flow": null,
      "grid_area": null,
      "grid_auto_columns": null,
      "grid_auto_flow": null,
      "grid_auto_rows": null,
      "grid_column": null,
      "grid_gap": null,
      "grid_row": null,
      "grid_template_areas": null,
      "grid_template_columns": null,
      "grid_template_rows": null,
      "height": null,
      "justify_content": null,
      "justify_items": null,
      "left": null,
      "margin": null,
      "max_height": null,
      "max_width": null,
      "min_height": null,
      "min_width": null,
      "object_fit": null,
      "object_position": null,
      "order": null,
      "overflow": null,
      "overflow_x": null,
      "overflow_y": null,
      "padding": null,
      "right": null,
      "top": null,
      "visibility": null,
      "width": null
     }
    }
   }
  }
 },
 "nbformat": 4,
 "nbformat_minor": 4
}
